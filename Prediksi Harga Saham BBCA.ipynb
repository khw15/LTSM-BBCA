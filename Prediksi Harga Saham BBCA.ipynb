{
 "cells": [
  {
   "cell_type": "markdown",
   "id": "b3429897",
   "metadata": {
    "id": "b3429897"
   },
   "source": [
    "# Import Library"
   ]
  },
  {
   "cell_type": "markdown",
   "id": "7bf048e6",
   "metadata": {
    "id": "7bf048e6"
   },
   "source": [
    "Library yang digunakan pada proyek ini adalah sebagai berikut:"
   ]
  },
  {
   "cell_type": "code",
   "execution_count": 5,
   "id": "e6cc67a7",
   "metadata": {
    "id": "e6cc67a7",
    "outputId": "0d183141-49df-433e-deb3-b1b5cbf7fca8"
   },
   "outputs": [],
   "source": [
    "import pandas as pd\n",
    "import numpy as np\n",
    "import os\n",
    "import matplotlib.pyplot as plt\n",
    "import tensorflow as tf\n",
    "import datetime as dt\n",
    "from sklearn import preprocessing\n",
    "import math\n",
    "import time\n",
    "from pandas import to_datetime\n",
    "%matplotlib inline\n",
    "from sklearn.model_selection import train_test_split\n",
    "from sklearn.model_selection import train_test_split\n",
    "from sklearn.metrics import mean_squared_error\n",
    "from sklearn.preprocessing import StandardScaler\n",
    "from sklearn.preprocessing import MinMaxScaler\n",
    "from tensorflow.keras.models import Sequential\n",
    "from tensorflow.keras.layers import Dense, Dropout, LSTM, SimpleRNN\n",
    "from tensorflow import keras\n",
    "from tensorflow.keras import layers"
   ]
  },
  {
   "cell_type": "code",
   "execution_count": 6,
   "id": "53883666",
   "metadata": {},
   "outputs": [
    {
     "data": {
      "text/plain": [
       "'2.12.0'"
      ]
     },
     "execution_count": 6,
     "metadata": {},
     "output_type": "execute_result"
    }
   ],
   "source": [
    "tf.__version__"
   ]
  },
  {
   "cell_type": "markdown",
   "id": "8dc0bd59",
   "metadata": {
    "id": "8dc0bd59"
   },
   "source": [
    "# Masuk Pada Dataset"
   ]
  },
  {
   "cell_type": "markdown",
   "id": "4a2684a4",
   "metadata": {
    "id": "4a2684a4"
   },
   "source": [
    "Menggunakan dataset"
   ]
  },
  {
   "cell_type": "code",
   "execution_count": 7,
   "id": "a6609086",
   "metadata": {
    "id": "a6609086",
    "outputId": "8c60afb0-ac18-4d60-9f6a-b4c6130663b0"
   },
   "outputs": [
    {
     "name": "stdout",
     "output_type": "stream",
     "text": [
      "Apakah terdapat nilai null di dataframe? False\n",
      "Apakah terdapat nilai null di kolom High? False\n"
     ]
    }
   ],
   "source": [
    "# Membaca dataset BBCA.csv ke dalam variabel data_bbca\n",
    "data_bbca = pd.read_csv(\"dataset/BBCA.JK.csv\")\n",
    "\n",
    "# Mengecek apakah terdapat nilai null di dalam dataframe\n",
    "apakah_ada_nilai_null_df = data_bbca.isnull().values.any()\n",
    "\n",
    "# Mengecek apakah terdapat nilai null di kolom tertentu, contohnya kolom \"High\"\n",
    "apakah_ada_nilai_null_high = data_bbca[\"High\"].isnull().values.any()\n",
    "\n",
    "# Mencetak hasil pengecekan\n",
    "print(f\"Apakah terdapat nilai null di dataframe? {apakah_ada_nilai_null_df}\")\n",
    "print(f\"Apakah terdapat nilai null di kolom High? {apakah_ada_nilai_null_high}\")"
   ]
  },
  {
   "cell_type": "markdown",
   "id": "0be5b6ed",
   "metadata": {
    "id": "0be5b6ed"
   },
   "source": [
    "Menampilkan bagian atas dari dataset"
   ]
  },
  {
   "cell_type": "code",
   "execution_count": 8,
   "id": "bd1542d8",
   "metadata": {
    "id": "bd1542d8",
    "outputId": "8895c875-09ba-41fd-a423-a7a4fe1a848b"
   },
   "outputs": [
    {
     "data": {
      "text/html": [
       "<div>\n",
       "<style scoped>\n",
       "    .dataframe tbody tr th:only-of-type {\n",
       "        vertical-align: middle;\n",
       "    }\n",
       "\n",
       "    .dataframe tbody tr th {\n",
       "        vertical-align: top;\n",
       "    }\n",
       "\n",
       "    .dataframe thead th {\n",
       "        text-align: right;\n",
       "    }\n",
       "</style>\n",
       "<table border=\"1\" class=\"dataframe\">\n",
       "  <thead>\n",
       "    <tr style=\"text-align: right;\">\n",
       "      <th></th>\n",
       "      <th>Date</th>\n",
       "      <th>Open</th>\n",
       "      <th>High</th>\n",
       "      <th>Low</th>\n",
       "      <th>Close</th>\n",
       "      <th>Adj Close</th>\n",
       "      <th>Volume</th>\n",
       "    </tr>\n",
       "  </thead>\n",
       "  <tbody>\n",
       "    <tr>\n",
       "      <th>0</th>\n",
       "      <td>2004-06-08</td>\n",
       "      <td>175.0</td>\n",
       "      <td>180.0</td>\n",
       "      <td>175.0</td>\n",
       "      <td>177.5</td>\n",
       "      <td>103.276215</td>\n",
       "      <td>499150000</td>\n",
       "    </tr>\n",
       "    <tr>\n",
       "      <th>1</th>\n",
       "      <td>2004-06-09</td>\n",
       "      <td>177.5</td>\n",
       "      <td>182.5</td>\n",
       "      <td>175.0</td>\n",
       "      <td>180.0</td>\n",
       "      <td>104.730774</td>\n",
       "      <td>294290000</td>\n",
       "    </tr>\n",
       "    <tr>\n",
       "      <th>2</th>\n",
       "      <td>2004-06-10</td>\n",
       "      <td>180.0</td>\n",
       "      <td>180.0</td>\n",
       "      <td>177.5</td>\n",
       "      <td>180.0</td>\n",
       "      <td>104.730774</td>\n",
       "      <td>165590000</td>\n",
       "    </tr>\n",
       "    <tr>\n",
       "      <th>3</th>\n",
       "      <td>2004-06-11</td>\n",
       "      <td>177.5</td>\n",
       "      <td>180.0</td>\n",
       "      <td>177.5</td>\n",
       "      <td>180.0</td>\n",
       "      <td>104.730774</td>\n",
       "      <td>135830000</td>\n",
       "    </tr>\n",
       "    <tr>\n",
       "      <th>4</th>\n",
       "      <td>2004-06-14</td>\n",
       "      <td>180.0</td>\n",
       "      <td>180.0</td>\n",
       "      <td>175.0</td>\n",
       "      <td>177.5</td>\n",
       "      <td>103.276215</td>\n",
       "      <td>158540000</td>\n",
       "    </tr>\n",
       "  </tbody>\n",
       "</table>\n",
       "</div>"
      ],
      "text/plain": [
       "         Date   Open   High    Low  Close   Adj Close     Volume\n",
       "0  2004-06-08  175.0  180.0  175.0  177.5  103.276215  499150000\n",
       "1  2004-06-09  177.5  182.5  175.0  180.0  104.730774  294290000\n",
       "2  2004-06-10  180.0  180.0  177.5  180.0  104.730774  165590000\n",
       "3  2004-06-11  177.5  180.0  177.5  180.0  104.730774  135830000\n",
       "4  2004-06-14  180.0  180.0  175.0  177.5  103.276215  158540000"
      ]
     },
     "execution_count": 8,
     "metadata": {},
     "output_type": "execute_result"
    }
   ],
   "source": [
    "data_bbca.head()"
   ]
  },
  {
   "cell_type": "markdown",
   "id": "7d138d8f",
   "metadata": {
    "id": "7d138d8f"
   },
   "source": [
    "# Eksplorasi Data"
   ]
  },
  {
   "cell_type": "markdown",
   "id": "85de1ff2",
   "metadata": {
    "id": "85de1ff2"
   },
   "source": [
    "merujuk ke data_bbca, yang merupakan representasi dari objek pandas dataframe.\n"
   ]
  },
  {
   "cell_type": "code",
   "execution_count": 9,
   "id": "3136a508",
   "metadata": {
    "id": "3136a508",
    "outputId": "d8a1993c-094d-46d0-801e-f2bdb1dc19b2"
   },
   "outputs": [
    {
     "data": {
      "text/plain": [
       "pandas.core.frame.DataFrame"
      ]
     },
     "execution_count": 9,
     "metadata": {},
     "output_type": "execute_result"
    }
   ],
   "source": [
    "type(data_bbca)"
   ]
  },
  {
   "cell_type": "markdown",
   "id": "3d27b539",
   "metadata": {
    "id": "3d27b539"
   },
   "source": [
    "Mengecek dataset untuk data null.\n"
   ]
  },
  {
   "cell_type": "code",
   "execution_count": 10,
   "id": "f913ecbc",
   "metadata": {
    "id": "f913ecbc",
    "outputId": "6ee3ed87-8bd9-456f-af87-a461990941b8"
   },
   "outputs": [
    {
     "data": {
      "text/plain": [
       "Date         0\n",
       "Open         0\n",
       "High         0\n",
       "Low          0\n",
       "Close        0\n",
       "Adj Close    0\n",
       "Volume       0\n",
       "dtype: int64"
      ]
     },
     "execution_count": 10,
     "metadata": {},
     "output_type": "execute_result"
    }
   ],
   "source": [
    "data_bbca.isna().sum()"
   ]
  },
  {
   "cell_type": "markdown",
   "id": "b9bb3f03",
   "metadata": {
    "id": "b9bb3f03"
   },
   "source": [
    "Menghapus kolom yang tidak digunakan dengan menggunakan drop"
   ]
  },
  {
   "cell_type": "code",
   "execution_count": 11,
   "id": "f5d2255c",
   "metadata": {
    "id": "f5d2255c"
   },
   "outputs": [],
   "source": [
    "data_bbca = data_bbca.drop(['Adj Close', 'Volume'], axis='columns')"
   ]
  },
  {
   "cell_type": "code",
   "execution_count": 12,
   "id": "b28d0f77",
   "metadata": {
    "id": "b28d0f77",
    "outputId": "25d89e11-5886-4e2c-94db-9a8f62b66583"
   },
   "outputs": [
    {
     "data": {
      "text/html": [
       "<div>\n",
       "<style scoped>\n",
       "    .dataframe tbody tr th:only-of-type {\n",
       "        vertical-align: middle;\n",
       "    }\n",
       "\n",
       "    .dataframe tbody tr th {\n",
       "        vertical-align: top;\n",
       "    }\n",
       "\n",
       "    .dataframe thead th {\n",
       "        text-align: right;\n",
       "    }\n",
       "</style>\n",
       "<table border=\"1\" class=\"dataframe\">\n",
       "  <thead>\n",
       "    <tr style=\"text-align: right;\">\n",
       "      <th></th>\n",
       "      <th>Date</th>\n",
       "      <th>Open</th>\n",
       "      <th>High</th>\n",
       "      <th>Low</th>\n",
       "      <th>Close</th>\n",
       "    </tr>\n",
       "  </thead>\n",
       "  <tbody>\n",
       "    <tr>\n",
       "      <th>0</th>\n",
       "      <td>2004-06-08</td>\n",
       "      <td>175.0</td>\n",
       "      <td>180.0</td>\n",
       "      <td>175.0</td>\n",
       "      <td>177.5</td>\n",
       "    </tr>\n",
       "    <tr>\n",
       "      <th>1</th>\n",
       "      <td>2004-06-09</td>\n",
       "      <td>177.5</td>\n",
       "      <td>182.5</td>\n",
       "      <td>175.0</td>\n",
       "      <td>180.0</td>\n",
       "    </tr>\n",
       "    <tr>\n",
       "      <th>2</th>\n",
       "      <td>2004-06-10</td>\n",
       "      <td>180.0</td>\n",
       "      <td>180.0</td>\n",
       "      <td>177.5</td>\n",
       "      <td>180.0</td>\n",
       "    </tr>\n",
       "    <tr>\n",
       "      <th>3</th>\n",
       "      <td>2004-06-11</td>\n",
       "      <td>177.5</td>\n",
       "      <td>180.0</td>\n",
       "      <td>177.5</td>\n",
       "      <td>180.0</td>\n",
       "    </tr>\n",
       "    <tr>\n",
       "      <th>4</th>\n",
       "      <td>2004-06-14</td>\n",
       "      <td>180.0</td>\n",
       "      <td>180.0</td>\n",
       "      <td>175.0</td>\n",
       "      <td>177.5</td>\n",
       "    </tr>\n",
       "  </tbody>\n",
       "</table>\n",
       "</div>"
      ],
      "text/plain": [
       "         Date   Open   High    Low  Close\n",
       "0  2004-06-08  175.0  180.0  175.0  177.5\n",
       "1  2004-06-09  177.5  182.5  175.0  180.0\n",
       "2  2004-06-10  180.0  180.0  177.5  180.0\n",
       "3  2004-06-11  177.5  180.0  177.5  180.0\n",
       "4  2004-06-14  180.0  180.0  175.0  177.5"
      ]
     },
     "execution_count": 12,
     "metadata": {},
     "output_type": "execute_result"
    }
   ],
   "source": [
    "#Menampilkan head data setelah menghapus kolom 'Adj Close' dan 'Volume'\n",
    "data_bbca.head()"
   ]
  },
  {
   "cell_type": "markdown",
   "id": "5db9ca23",
   "metadata": {
    "id": "5db9ca23"
   },
   "source": [
    "Menampilkan tipe data dari sisa kolom dataset\n"
   ]
  },
  {
   "cell_type": "code",
   "execution_count": 13,
   "id": "117f18f7",
   "metadata": {
    "id": "117f18f7",
    "outputId": "7b9b6094-7d6d-4c78-9441-714e681a1f77"
   },
   "outputs": [
    {
     "name": "stdout",
     "output_type": "stream",
     "text": [
      "Date      object\n",
      "Open     float64\n",
      "High     float64\n",
      "Low      float64\n",
      "Close    float64\n",
      "dtype: object\n"
     ]
    }
   ],
   "source": [
    "print(data_bbca.dtypes)"
   ]
  },
  {
   "cell_type": "code",
   "execution_count": 14,
   "id": "40db4f93",
   "metadata": {
    "id": "40db4f93",
    "outputId": "0083a03c-66f9-4538-cd77-e9162975546d"
   },
   "outputs": [
    {
     "data": {
      "text/html": [
       "<div>\n",
       "<style scoped>\n",
       "    .dataframe tbody tr th:only-of-type {\n",
       "        vertical-align: middle;\n",
       "    }\n",
       "\n",
       "    .dataframe tbody tr th {\n",
       "        vertical-align: top;\n",
       "    }\n",
       "\n",
       "    .dataframe thead th {\n",
       "        text-align: right;\n",
       "    }\n",
       "</style>\n",
       "<table border=\"1\" class=\"dataframe\">\n",
       "  <thead>\n",
       "    <tr style=\"text-align: right;\">\n",
       "      <th></th>\n",
       "      <th>Date</th>\n",
       "      <th>Open</th>\n",
       "      <th>High</th>\n",
       "      <th>Low</th>\n",
       "      <th>Close</th>\n",
       "    </tr>\n",
       "  </thead>\n",
       "  <tbody>\n",
       "    <tr>\n",
       "      <th>0</th>\n",
       "      <td>2004-06-08</td>\n",
       "      <td>175.0</td>\n",
       "      <td>180.0</td>\n",
       "      <td>175.0</td>\n",
       "      <td>177.5</td>\n",
       "    </tr>\n",
       "    <tr>\n",
       "      <th>1</th>\n",
       "      <td>2004-06-09</td>\n",
       "      <td>177.5</td>\n",
       "      <td>182.5</td>\n",
       "      <td>175.0</td>\n",
       "      <td>180.0</td>\n",
       "    </tr>\n",
       "    <tr>\n",
       "      <th>2</th>\n",
       "      <td>2004-06-10</td>\n",
       "      <td>180.0</td>\n",
       "      <td>180.0</td>\n",
       "      <td>177.5</td>\n",
       "      <td>180.0</td>\n",
       "    </tr>\n",
       "    <tr>\n",
       "      <th>3</th>\n",
       "      <td>2004-06-11</td>\n",
       "      <td>177.5</td>\n",
       "      <td>180.0</td>\n",
       "      <td>177.5</td>\n",
       "      <td>180.0</td>\n",
       "    </tr>\n",
       "    <tr>\n",
       "      <th>4</th>\n",
       "      <td>2004-06-14</td>\n",
       "      <td>180.0</td>\n",
       "      <td>180.0</td>\n",
       "      <td>175.0</td>\n",
       "      <td>177.5</td>\n",
       "    </tr>\n",
       "    <tr>\n",
       "      <th>...</th>\n",
       "      <td>...</td>\n",
       "      <td>...</td>\n",
       "      <td>...</td>\n",
       "      <td>...</td>\n",
       "      <td>...</td>\n",
       "    </tr>\n",
       "    <tr>\n",
       "      <th>4916</th>\n",
       "      <td>2024-04-22</td>\n",
       "      <td>9400.0</td>\n",
       "      <td>9425.0</td>\n",
       "      <td>9350.0</td>\n",
       "      <td>9350.0</td>\n",
       "    </tr>\n",
       "    <tr>\n",
       "      <th>4917</th>\n",
       "      <td>2024-04-23</td>\n",
       "      <td>9400.0</td>\n",
       "      <td>9775.0</td>\n",
       "      <td>9400.0</td>\n",
       "      <td>9725.0</td>\n",
       "    </tr>\n",
       "    <tr>\n",
       "      <th>4918</th>\n",
       "      <td>2024-04-24</td>\n",
       "      <td>9825.0</td>\n",
       "      <td>9950.0</td>\n",
       "      <td>9750.0</td>\n",
       "      <td>9950.0</td>\n",
       "    </tr>\n",
       "    <tr>\n",
       "      <th>4919</th>\n",
       "      <td>2024-04-25</td>\n",
       "      <td>10000.0</td>\n",
       "      <td>10000.0</td>\n",
       "      <td>9700.0</td>\n",
       "      <td>9775.0</td>\n",
       "    </tr>\n",
       "    <tr>\n",
       "      <th>4920</th>\n",
       "      <td>2024-04-26</td>\n",
       "      <td>9700.0</td>\n",
       "      <td>9825.0</td>\n",
       "      <td>9625.0</td>\n",
       "      <td>9625.0</td>\n",
       "    </tr>\n",
       "  </tbody>\n",
       "</table>\n",
       "<p>4921 rows × 5 columns</p>\n",
       "</div>"
      ],
      "text/plain": [
       "            Date     Open     High     Low   Close\n",
       "0     2004-06-08    175.0    180.0   175.0   177.5\n",
       "1     2004-06-09    177.5    182.5   175.0   180.0\n",
       "2     2004-06-10    180.0    180.0   177.5   180.0\n",
       "3     2004-06-11    177.5    180.0   177.5   180.0\n",
       "4     2004-06-14    180.0    180.0   175.0   177.5\n",
       "...          ...      ...      ...     ...     ...\n",
       "4916  2024-04-22   9400.0   9425.0  9350.0  9350.0\n",
       "4917  2024-04-23   9400.0   9775.0  9400.0  9725.0\n",
       "4918  2024-04-24   9825.0   9950.0  9750.0  9950.0\n",
       "4919  2024-04-25  10000.0  10000.0  9700.0  9775.0\n",
       "4920  2024-04-26   9700.0   9825.0  9625.0  9625.0\n",
       "\n",
       "[4921 rows x 5 columns]"
      ]
     },
     "execution_count": 14,
     "metadata": {},
     "output_type": "execute_result"
    }
   ],
   "source": [
    "data_bbca"
   ]
  },
  {
   "cell_type": "markdown",
   "id": "989e95cd",
   "metadata": {
    "id": "989e95cd"
   },
   "source": [
    "Mengubah tanggal menjadi index"
   ]
  },
  {
   "cell_type": "code",
   "execution_count": 15,
   "id": "6580cdfb",
   "metadata": {
    "id": "6580cdfb",
    "outputId": "ccfbf539-a8cf-45ae-db93-bef009a0f706"
   },
   "outputs": [
    {
     "data": {
      "text/plain": [
       "DatetimeIndex(['2004-06-08', '2004-06-09', '2004-06-10', '2004-06-11',\n",
       "               '2004-06-14', '2004-06-15', '2004-06-16', '2004-06-17',\n",
       "               '2004-06-18', '2004-06-21',\n",
       "               ...\n",
       "               '2024-04-05', '2024-04-16', '2024-04-17', '2024-04-18',\n",
       "               '2024-04-19', '2024-04-22', '2024-04-23', '2024-04-24',\n",
       "               '2024-04-25', '2024-04-26'],\n",
       "              dtype='datetime64[ns]', name='Date', length=4921, freq=None)"
      ]
     },
     "execution_count": 15,
     "metadata": {},
     "output_type": "execute_result"
    }
   ],
   "source": [
    "con = data_bbca['Date']\n",
    "data_bbca['Date'] = pd.to_datetime(data_bbca['Date'])\n",
    "data_bbca.set_index('Date', inplace=True)\n",
    "\n",
    "#check datatype of index\n",
    "data_bbca.index"
   ]
  },
  {
   "cell_type": "code",
   "execution_count": 16,
   "id": "3c86b346",
   "metadata": {
    "id": "3c86b346",
    "outputId": "357a6219-00cf-47f4-aec4-b45d48ce8ee6"
   },
   "outputs": [
    {
     "data": {
      "text/html": [
       "<div>\n",
       "<style scoped>\n",
       "    .dataframe tbody tr th:only-of-type {\n",
       "        vertical-align: middle;\n",
       "    }\n",
       "\n",
       "    .dataframe tbody tr th {\n",
       "        vertical-align: top;\n",
       "    }\n",
       "\n",
       "    .dataframe thead th {\n",
       "        text-align: right;\n",
       "    }\n",
       "</style>\n",
       "<table border=\"1\" class=\"dataframe\">\n",
       "  <thead>\n",
       "    <tr style=\"text-align: right;\">\n",
       "      <th></th>\n",
       "      <th>Open</th>\n",
       "      <th>High</th>\n",
       "      <th>Low</th>\n",
       "      <th>Close</th>\n",
       "    </tr>\n",
       "    <tr>\n",
       "      <th>Date</th>\n",
       "      <th></th>\n",
       "      <th></th>\n",
       "      <th></th>\n",
       "      <th></th>\n",
       "    </tr>\n",
       "  </thead>\n",
       "  <tbody>\n",
       "    <tr>\n",
       "      <th>2004-06-08</th>\n",
       "      <td>175.0</td>\n",
       "      <td>180.0</td>\n",
       "      <td>175.0</td>\n",
       "      <td>177.5</td>\n",
       "    </tr>\n",
       "    <tr>\n",
       "      <th>2004-06-09</th>\n",
       "      <td>177.5</td>\n",
       "      <td>182.5</td>\n",
       "      <td>175.0</td>\n",
       "      <td>180.0</td>\n",
       "    </tr>\n",
       "    <tr>\n",
       "      <th>2004-06-10</th>\n",
       "      <td>180.0</td>\n",
       "      <td>180.0</td>\n",
       "      <td>177.5</td>\n",
       "      <td>180.0</td>\n",
       "    </tr>\n",
       "    <tr>\n",
       "      <th>2004-06-11</th>\n",
       "      <td>177.5</td>\n",
       "      <td>180.0</td>\n",
       "      <td>177.5</td>\n",
       "      <td>180.0</td>\n",
       "    </tr>\n",
       "    <tr>\n",
       "      <th>2004-06-14</th>\n",
       "      <td>180.0</td>\n",
       "      <td>180.0</td>\n",
       "      <td>175.0</td>\n",
       "      <td>177.5</td>\n",
       "    </tr>\n",
       "    <tr>\n",
       "      <th>...</th>\n",
       "      <td>...</td>\n",
       "      <td>...</td>\n",
       "      <td>...</td>\n",
       "      <td>...</td>\n",
       "    </tr>\n",
       "    <tr>\n",
       "      <th>2024-04-22</th>\n",
       "      <td>9400.0</td>\n",
       "      <td>9425.0</td>\n",
       "      <td>9350.0</td>\n",
       "      <td>9350.0</td>\n",
       "    </tr>\n",
       "    <tr>\n",
       "      <th>2024-04-23</th>\n",
       "      <td>9400.0</td>\n",
       "      <td>9775.0</td>\n",
       "      <td>9400.0</td>\n",
       "      <td>9725.0</td>\n",
       "    </tr>\n",
       "    <tr>\n",
       "      <th>2024-04-24</th>\n",
       "      <td>9825.0</td>\n",
       "      <td>9950.0</td>\n",
       "      <td>9750.0</td>\n",
       "      <td>9950.0</td>\n",
       "    </tr>\n",
       "    <tr>\n",
       "      <th>2024-04-25</th>\n",
       "      <td>10000.0</td>\n",
       "      <td>10000.0</td>\n",
       "      <td>9700.0</td>\n",
       "      <td>9775.0</td>\n",
       "    </tr>\n",
       "    <tr>\n",
       "      <th>2024-04-26</th>\n",
       "      <td>9700.0</td>\n",
       "      <td>9825.0</td>\n",
       "      <td>9625.0</td>\n",
       "      <td>9625.0</td>\n",
       "    </tr>\n",
       "  </tbody>\n",
       "</table>\n",
       "<p>4921 rows × 4 columns</p>\n",
       "</div>"
      ],
      "text/plain": [
       "               Open     High     Low   Close\n",
       "Date                                        \n",
       "2004-06-08    175.0    180.0   175.0   177.5\n",
       "2004-06-09    177.5    182.5   175.0   180.0\n",
       "2004-06-10    180.0    180.0   177.5   180.0\n",
       "2004-06-11    177.5    180.0   177.5   180.0\n",
       "2004-06-14    180.0    180.0   175.0   177.5\n",
       "...             ...      ...     ...     ...\n",
       "2024-04-22   9400.0   9425.0  9350.0  9350.0\n",
       "2024-04-23   9400.0   9775.0  9400.0  9725.0\n",
       "2024-04-24   9825.0   9950.0  9750.0  9950.0\n",
       "2024-04-25  10000.0  10000.0  9700.0  9775.0\n",
       "2024-04-26   9700.0   9825.0  9625.0  9625.0\n",
       "\n",
       "[4921 rows x 4 columns]"
      ]
     },
     "execution_count": 16,
     "metadata": {},
     "output_type": "execute_result"
    }
   ],
   "source": [
    "data_bbca"
   ]
  },
  {
   "cell_type": "markdown",
   "id": "d5c39492",
   "metadata": {
    "id": "d5c39492"
   },
   "source": [
    "Menginisialkan variable data time series"
   ]
  },
  {
   "cell_type": "code",
   "execution_count": 17,
   "id": "ec3ded99",
   "metadata": {
    "id": "ec3ded99"
   },
   "outputs": [],
   "source": [
    "high = pd.Series(data_bbca['High'])\n",
    "open = pd.Series(data_bbca['Open'])\n",
    "low = pd.Series(data_bbca['Low'])\n",
    "close = pd.Series(data_bbca['Close'])"
   ]
  },
  {
   "cell_type": "markdown",
   "id": "1b05c120",
   "metadata": {
    "id": "1b05c120"
   },
   "source": [
    "# Visualization Data"
   ]
  },
  {
   "cell_type": "markdown",
   "id": "36563e2c",
   "metadata": {
    "id": "36563e2c"
   },
   "source": [
    "Memvisualisasikan data dari kolom yang tidak didrop sebelumnya\n"
   ]
  },
  {
   "cell_type": "code",
   "execution_count": 18,
   "id": "080abe23",
   "metadata": {
    "id": "080abe23",
    "outputId": "df655c76-b715-4706-b7d5-0cd06a9f6eca"
   },
   "outputs": [
    {
     "data": {
      "image/png": "[encoded data removed]",
      "text/plain": [
       "<Figure size 1600x800 with 1 Axes>"
      ]
     },
     "metadata": {},
     "output_type": "display_data"
    }
   ],
   "source": [
    "#Visualisasi Dataset\n",
    "\n",
    "plt.figure(figsize=(16,8))\n",
    "plt.title('Pergerakan Harga')\n",
    "plt.plot(high, color = 'red', label = 'High')\n",
    "plt.plot(open, color = 'yellow', label = 'Open')\n",
    "plt.plot(low, color = 'green', label = 'Low')\n",
    "plt.plot(close, color = 'purple', label = 'Close')\n",
    "plt.xlabel('Tahun', fontsize=18)\n",
    "plt.ylabel('Harga dalam Rupiah', fontsize=18)\n",
    "plt.legend(loc='best')\n",
    "plt.show()"
   ]
  },
  {
   "cell_type": "markdown",
   "id": "8c7c2323",
   "metadata": {
    "id": "8c7c2323"
   },
   "source": [
    "Membuat data frame dari kolom 'High' dan membuat data train & test"
   ]
  },
  {
   "cell_type": "code",
   "execution_count": 19,
   "id": "757854d9",
   "metadata": {
    "id": "757854d9"
   },
   "outputs": [],
   "source": [
    "data = pd.DataFrame(data_bbca['High'])"
   ]
  },
  {
   "cell_type": "code",
   "execution_count": 20,
   "id": "7cb5828d",
   "metadata": {
    "id": "7cb5828d",
    "outputId": "24bd0a24-f96d-49ff-ace6-43e34ca3021b"
   },
   "outputs": [
    {
     "data": {
      "image/png": "[encoded data removed]",
      "text/plain": [
       "<Figure size 1600x800 with 1 Axes>"
      ]
     },
     "metadata": {},
     "output_type": "display_data"
    }
   ],
   "source": [
    "data_bbca_train = data[0:int(len(data)*0.8)]\n",
    "data_bbca_test = data[int(len(data)*0.8):]\n",
    "# plot the data\n",
    "# Visualisasi data\n",
    "plt.figure(figsize=(16,8))\n",
    "plt.title('Data Train dan Data Test')\n",
    "plt.ylabel('High Price', fontsize=18)\n",
    "plt.plot(data_bbca_train)\n",
    "plt.plot(data_bbca_test)\n",
    "plt.legend(['Data Train', 'Data Test'], loc='lower right')\n",
    "plt.show()"
   ]
  },
  {
   "cell_type": "markdown",
   "id": "9e95b825",
   "metadata": {
    "id": "9e95b825"
   },
   "source": [
    "# Preprocessing"
   ]
  },
  {
   "cell_type": "markdown",
   "id": "7e0955ce",
   "metadata": {
    "id": "7e0955ce"
   },
   "source": [
    "Melakukan scaling data dengan kolom High.\n"
   ]
  },
  {
   "cell_type": "code",
   "execution_count": 21,
   "id": "bfb077f8",
   "metadata": {
    "id": "bfb077f8"
   },
   "outputs": [],
   "source": [
    "min_max_scaler = preprocessing.MinMaxScaler(feature_range=(0, 1))\n",
    "dataset = min_max_scaler.fit_transform(data_bbca['High'].values.reshape(-1, 1))"
   ]
  },
  {
   "cell_type": "markdown",
   "id": "bc2aed11",
   "metadata": {
    "id": "bc2aed11"
   },
   "source": [
    "Memecah data menjadi data train dan data test"
   ]
  },
  {
   "cell_type": "code",
   "execution_count": 22,
   "id": "c1db88fc",
   "metadata": {
    "id": "c1db88fc",
    "outputId": "42053d70-6f4b-4941-c2e7-4b1c7adaaa44"
   },
   "outputs": [
    {
     "data": {
      "text/plain": [
       "array([[0.00024456],\n",
       "       [0.00048912],\n",
       "       [0.00024456],\n",
       "       [0.00024456],\n",
       "       [0.00024456],\n",
       "       [0.00048912],\n",
       "       [0.00048912],\n",
       "       [0.        ],\n",
       "       [0.        ],\n",
       "       [0.        ]])"
      ]
     },
     "execution_count": 22,
     "metadata": {},
     "output_type": "execute_result"
    }
   ],
   "source": [
    "dataset[0:10]"
   ]
  },
  {
   "cell_type": "code",
   "execution_count": 23,
   "id": "575e2588",
   "metadata": {
    "id": "575e2588",
    "outputId": "9816662c-ca06-4776-aeaf-ef622ac193d1"
   },
   "outputs": [
    {
     "name": "stdout",
     "output_type": "stream",
     "text": [
      "Ukuran training set: 3936\n",
      "Ukuran testing set: 985\n"
     ]
    }
   ],
   "source": [
    "train_size = int(len(dataset) * 0.8)\n",
    "test_size = len(dataset) - train_size\n",
    "train, test = dataset[0:train_size,:], dataset[train_size:len(dataset),:]\n",
    "print(\"Ukuran training set:\", len(train))\n",
    "print(\"Ukuran testing set:\", len(test))"
   ]
  },
  {
   "cell_type": "code",
   "execution_count": 24,
   "id": "378fe376",
   "metadata": {
    "id": "378fe376",
    "outputId": "c9148a6e-3ee9-4201-be39-cffed7c8f741"
   },
   "outputs": [
    {
     "name": "stdout",
     "output_type": "stream",
     "text": [
      "4921\n"
     ]
    }
   ],
   "source": [
    "#Menampilkan panjang/jumlah dataframe\n",
    "print(len(data_bbca))"
   ]
  },
  {
   "cell_type": "markdown",
   "id": "53a111a9",
   "metadata": {
    "id": "53a111a9"
   },
   "source": [
    "Konversi nilai array ke dalam kumpulan matriks\n"
   ]
  },
  {
   "cell_type": "code",
   "execution_count": 25,
   "id": "d2b04e3a",
   "metadata": {
    "id": "d2b04e3a"
   },
   "outputs": [],
   "source": [
    "def create_dataset(dataset, look_back=15):\n",
    "    x, y = [], []\n",
    "    for i in range(len(dataset)-look_back-1):\n",
    "        a = dataset[i:(i+look_back), 0]\n",
    "        x.append(a)\n",
    "        y.append(dataset[i + look_back, 0])\n",
    "    return np.array(x), np.array(y)"
   ]
  },
  {
   "cell_type": "code",
   "execution_count": 26,
   "id": "db646668",
   "metadata": {
    "id": "db646668"
   },
   "outputs": [],
   "source": [
    "look_back = 15\n",
    "x_train, y_train = create_dataset(train, look_back)\n",
    "x_test, y_test = create_dataset(test, look_back)"
   ]
  },
  {
   "cell_type": "code",
   "execution_count": 27,
   "id": "5952c643",
   "metadata": {
    "id": "5952c643",
    "outputId": "b165fa5e-0247-4719-b52b-790a50b0b1aa"
   },
   "outputs": [
    {
     "name": "stdout",
     "output_type": "stream",
     "text": [
      "(3920, 15)\n",
      "(3920,)\n",
      "(969, 15)\n",
      "(969,)\n"
     ]
    }
   ],
   "source": [
    "print(x_train.shape)\n",
    "print(y_train.shape)\n",
    "print(x_test.shape)\n",
    "print(y_test.shape)"
   ]
  },
  {
   "cell_type": "markdown",
   "id": "ef52d968",
   "metadata": {
    "id": "ef52d968"
   },
   "source": [
    "Reshape input menjadi 3D yaitu [samples, time step, dan feature]"
   ]
  },
  {
   "cell_type": "code",
   "execution_count": 28,
   "id": "7099cd73",
   "metadata": {
    "id": "7099cd73"
   },
   "outputs": [],
   "source": [
    "x_train = np.reshape(x_train, (x_train.shape[0], 1, x_train.shape[1]))\n",
    "x_test = np.reshape(x_test, (x_test.shape[0], 1, x_test.shape[1]))"
   ]
  },
  {
   "cell_type": "markdown",
   "id": "4a7c28a5",
   "metadata": {
    "id": "4a7c28a5"
   },
   "source": [
    "# Model\n",
    "\n",
    "Membuat model LSTM"
   ]
  },
  {
   "cell_type": "code",
   "execution_count": 29,
   "id": "043dfca2",
   "metadata": {
    "id": "043dfca2",
    "outputId": "1c232504-834c-41b1-fd55-48a87e06c09f"
   },
   "outputs": [
    {
     "name": "stdout",
     "output_type": "stream",
     "text": [
      "Epoch 1/100\n",
      "62/62 - 2s - loss: 0.4296 - accuracy: 0.0000e+00 - val_loss: 0.5668 - val_accuracy: 0.0010 - 2s/epoch - 29ms/step\n",
      "Epoch 2/100\n",
      "62/62 - 0s - loss: 0.4009 - accuracy: 0.0000e+00 - val_loss: 0.5593 - val_accuracy: 0.0010 - 127ms/epoch - 2ms/step\n",
      "Epoch 3/100\n",
      "62/62 - 0s - loss: 0.3990 - accuracy: 0.0000e+00 - val_loss: 0.5531 - val_accuracy: 0.0010 - 126ms/epoch - 2ms/step\n",
      "Epoch 4/100\n",
      "62/62 - 0s - loss: 0.3974 - accuracy: 0.0000e+00 - val_loss: 0.5492 - val_accuracy: 0.0010 - 129ms/epoch - 2ms/step\n",
      "Epoch 5/100\n",
      "62/62 - 0s - loss: 0.3971 - accuracy: 0.0000e+00 - val_loss: 0.5456 - val_accuracy: 0.0010 - 128ms/epoch - 2ms/step\n",
      "Epoch 6/100\n",
      "62/62 - 0s - loss: 0.3997 - accuracy: 0.0000e+00 - val_loss: 0.5409 - val_accuracy: 0.0010 - 125ms/epoch - 2ms/step\n",
      "Epoch 7/100\n",
      "62/62 - 0s - loss: 0.3978 - accuracy: 0.0000e+00 - val_loss: 0.5519 - val_accuracy: 0.0010 - 128ms/epoch - 2ms/step\n",
      "Epoch 8/100\n",
      "62/62 - 0s - loss: 0.3970 - accuracy: 0.0000e+00 - val_loss: 0.5421 - val_accuracy: 0.0010 - 151ms/epoch - 2ms/step\n",
      "Epoch 9/100\n",
      "62/62 - 0s - loss: 0.3965 - accuracy: 0.0000e+00 - val_loss: 0.5522 - val_accuracy: 0.0010 - 128ms/epoch - 2ms/step\n",
      "Epoch 10/100\n",
      "62/62 - 0s - loss: 0.3964 - accuracy: 0.0000e+00 - val_loss: 0.5446 - val_accuracy: 0.0010 - 126ms/epoch - 2ms/step\n",
      "Epoch 11/100\n",
      "62/62 - 0s - loss: 0.3972 - accuracy: 0.0000e+00 - val_loss: 0.5420 - val_accuracy: 0.0010 - 126ms/epoch - 2ms/step\n",
      "Epoch 12/100\n",
      "62/62 - 0s - loss: 0.3968 - accuracy: 0.0000e+00 - val_loss: 0.5428 - val_accuracy: 0.0010 - 126ms/epoch - 2ms/step\n",
      "Epoch 13/100\n",
      "62/62 - 0s - loss: 0.3962 - accuracy: 0.0000e+00 - val_loss: 0.5477 - val_accuracy: 0.0010 - 136ms/epoch - 2ms/step\n",
      "Epoch 14/100\n",
      "62/62 - 0s - loss: 0.3958 - accuracy: 0.0000e+00 - val_loss: 0.5470 - val_accuracy: 0.0010 - 126ms/epoch - 2ms/step\n",
      "Epoch 15/100\n",
      "62/62 - 0s - loss: 0.3957 - accuracy: 0.0000e+00 - val_loss: 0.5538 - val_accuracy: 0.0010 - 128ms/epoch - 2ms/step\n",
      "Epoch 16/100\n",
      "62/62 - 0s - loss: 0.3961 - accuracy: 0.0000e+00 - val_loss: 0.5396 - val_accuracy: 0.0010 - 132ms/epoch - 2ms/step\n",
      "Epoch 17/100\n",
      "62/62 - 0s - loss: 0.3956 - accuracy: 0.0000e+00 - val_loss: 0.5569 - val_accuracy: 0.0010 - 126ms/epoch - 2ms/step\n",
      "Epoch 18/100\n",
      "62/62 - 0s - loss: 0.3956 - accuracy: 0.0000e+00 - val_loss: 0.5466 - val_accuracy: 0.0010 - 122ms/epoch - 2ms/step\n",
      "Epoch 19/100\n",
      "62/62 - 0s - loss: 0.3956 - accuracy: 0.0000e+00 - val_loss: 0.5447 - val_accuracy: 0.0010 - 121ms/epoch - 2ms/step\n",
      "Epoch 20/100\n",
      "62/62 - 0s - loss: 0.3956 - accuracy: 0.0000e+00 - val_loss: 0.5440 - val_accuracy: 0.0010 - 125ms/epoch - 2ms/step\n",
      "Epoch 21/100\n",
      "62/62 - 0s - loss: 0.3963 - accuracy: 0.0000e+00 - val_loss: 0.5514 - val_accuracy: 0.0010 - 123ms/epoch - 2ms/step\n",
      "Epoch 22/100\n",
      "62/62 - 0s - loss: 0.3956 - accuracy: 0.0000e+00 - val_loss: 0.5436 - val_accuracy: 0.0010 - 124ms/epoch - 2ms/step\n",
      "Epoch 23/100\n",
      "62/62 - 0s - loss: 0.3954 - accuracy: 0.0000e+00 - val_loss: 0.5453 - val_accuracy: 0.0010 - 122ms/epoch - 2ms/step\n",
      "Epoch 24/100\n",
      "62/62 - 0s - loss: 0.3956 - accuracy: 0.0000e+00 - val_loss: 0.5525 - val_accuracy: 0.0010 - 128ms/epoch - 2ms/step\n",
      "Epoch 25/100\n",
      "62/62 - 0s - loss: 0.3954 - accuracy: 0.0000e+00 - val_loss: 0.5415 - val_accuracy: 0.0010 - 121ms/epoch - 2ms/step\n",
      "Epoch 26/100\n",
      "62/62 - 0s - loss: 0.3956 - accuracy: 0.0000e+00 - val_loss: 0.5454 - val_accuracy: 0.0010 - 122ms/epoch - 2ms/step\n",
      "Epoch 27/100\n",
      "62/62 - 0s - loss: 0.3955 - accuracy: 0.0000e+00 - val_loss: 0.5445 - val_accuracy: 0.0010 - 121ms/epoch - 2ms/step\n",
      "Epoch 28/100\n",
      "62/62 - 0s - loss: 0.3955 - accuracy: 0.0000e+00 - val_loss: 0.5425 - val_accuracy: 0.0010 - 124ms/epoch - 2ms/step\n",
      "Epoch 29/100\n",
      "62/62 - 0s - loss: 0.3955 - accuracy: 0.0000e+00 - val_loss: 0.5365 - val_accuracy: 0.0010 - 127ms/epoch - 2ms/step\n",
      "Epoch 30/100\n",
      "62/62 - 0s - loss: 0.3960 - accuracy: 0.0000e+00 - val_loss: 0.5379 - val_accuracy: 0.0010 - 134ms/epoch - 2ms/step\n",
      "Epoch 31/100\n",
      "62/62 - 0s - loss: 0.3957 - accuracy: 0.0000e+00 - val_loss: 0.5460 - val_accuracy: 0.0010 - 127ms/epoch - 2ms/step\n",
      "Epoch 32/100\n",
      "62/62 - 0s - loss: 0.3960 - accuracy: 0.0000e+00 - val_loss: 0.5449 - val_accuracy: 0.0010 - 133ms/epoch - 2ms/step\n",
      "Epoch 33/100\n",
      "62/62 - 0s - loss: 0.3960 - accuracy: 0.0000e+00 - val_loss: 0.5394 - val_accuracy: 0.0010 - 130ms/epoch - 2ms/step\n",
      "Epoch 34/100\n",
      "62/62 - 0s - loss: 0.3955 - accuracy: 0.0000e+00 - val_loss: 0.5505 - val_accuracy: 0.0010 - 122ms/epoch - 2ms/step\n",
      "Epoch 35/100\n",
      "62/62 - 0s - loss: 0.3954 - accuracy: 0.0000e+00 - val_loss: 0.5410 - val_accuracy: 0.0010 - 124ms/epoch - 2ms/step\n",
      "Epoch 36/100\n",
      "62/62 - 0s - loss: 0.3955 - accuracy: 0.0000e+00 - val_loss: 0.5452 - val_accuracy: 0.0010 - 122ms/epoch - 2ms/step\n",
      "Epoch 37/100\n",
      "62/62 - 0s - loss: 0.3953 - accuracy: 0.0000e+00 - val_loss: 0.5477 - val_accuracy: 0.0010 - 125ms/epoch - 2ms/step\n",
      "Epoch 38/100\n",
      "62/62 - 0s - loss: 0.3986 - accuracy: 0.0000e+00 - val_loss: 0.5528 - val_accuracy: 0.0010 - 136ms/epoch - 2ms/step\n",
      "Epoch 39/100\n",
      "62/62 - 0s - loss: 0.3984 - accuracy: 0.0000e+00 - val_loss: 0.5498 - val_accuracy: 0.0010 - 127ms/epoch - 2ms/step\n",
      "Epoch 40/100\n",
      "62/62 - 0s - loss: 0.3959 - accuracy: 0.0000e+00 - val_loss: 0.5381 - val_accuracy: 0.0010 - 129ms/epoch - 2ms/step\n",
      "Epoch 41/100\n",
      "62/62 - 0s - loss: 0.3955 - accuracy: 0.0000e+00 - val_loss: 0.5495 - val_accuracy: 0.0010 - 131ms/epoch - 2ms/step\n",
      "Epoch 42/100\n",
      "62/62 - 0s - loss: 0.3954 - accuracy: 0.0000e+00 - val_loss: 0.5450 - val_accuracy: 0.0010 - 123ms/epoch - 2ms/step\n",
      "Epoch 43/100\n",
      "62/62 - 0s - loss: 0.3953 - accuracy: 0.0000e+00 - val_loss: 0.5489 - val_accuracy: 0.0010 - 121ms/epoch - 2ms/step\n",
      "Epoch 44/100\n",
      "62/62 - 0s - loss: 0.3954 - accuracy: 0.0000e+00 - val_loss: 0.5467 - val_accuracy: 0.0010 - 125ms/epoch - 2ms/step\n",
      "Epoch 45/100\n",
      "62/62 - 0s - loss: 0.3957 - accuracy: 0.0000e+00 - val_loss: 0.5684 - val_accuracy: 0.0010 - 128ms/epoch - 2ms/step\n",
      "Epoch 46/100\n",
      "62/62 - 0s - loss: 0.3960 - accuracy: 0.0000e+00 - val_loss: 0.5371 - val_accuracy: 0.0010 - 123ms/epoch - 2ms/step\n",
      "Epoch 47/100\n",
      "62/62 - 0s - loss: 0.3958 - accuracy: 0.0000e+00 - val_loss: 0.5450 - val_accuracy: 0.0010 - 136ms/epoch - 2ms/step\n",
      "Epoch 48/100\n",
      "62/62 - 0s - loss: 0.3955 - accuracy: 0.0000e+00 - val_loss: 0.5414 - val_accuracy: 0.0010 - 130ms/epoch - 2ms/step\n",
      "Epoch 49/100\n",
      "62/62 - 0s - loss: 0.3954 - accuracy: 0.0000e+00 - val_loss: 0.5451 - val_accuracy: 0.0010 - 143ms/epoch - 2ms/step\n",
      "Epoch 50/100\n",
      "62/62 - 0s - loss: 0.3954 - accuracy: 0.0000e+00 - val_loss: 0.5561 - val_accuracy: 0.0010 - 131ms/epoch - 2ms/step\n",
      "Epoch 51/100\n",
      "62/62 - 0s - loss: 0.3954 - accuracy: 0.0000e+00 - val_loss: 0.5442 - val_accuracy: 0.0010 - 138ms/epoch - 2ms/step\n",
      "Epoch 52/100\n",
      "62/62 - 0s - loss: 0.3954 - accuracy: 0.0000e+00 - val_loss: 0.5458 - val_accuracy: 0.0010 - 130ms/epoch - 2ms/step\n",
      "Epoch 53/100\n",
      "62/62 - 0s - loss: 0.3953 - accuracy: 0.0000e+00 - val_loss: 0.5708 - val_accuracy: 0.0010 - 131ms/epoch - 2ms/step\n",
      "Epoch 54/100\n",
      "62/62 - 0s - loss: 0.3954 - accuracy: 0.0000e+00 - val_loss: 0.5444 - val_accuracy: 0.0010 - 123ms/epoch - 2ms/step\n",
      "Epoch 55/100\n",
      "62/62 - 0s - loss: 0.3962 - accuracy: 0.0000e+00 - val_loss: 0.5423 - val_accuracy: 0.0010 - 124ms/epoch - 2ms/step\n",
      "Epoch 56/100\n",
      "62/62 - 0s - loss: 0.3956 - accuracy: 0.0000e+00 - val_loss: 0.5399 - val_accuracy: 0.0010 - 140ms/epoch - 2ms/step\n",
      "Epoch 57/100\n",
      "62/62 - 0s - loss: 0.3952 - accuracy: 0.0000e+00 - val_loss: 0.5491 - val_accuracy: 0.0010 - 132ms/epoch - 2ms/step\n",
      "Epoch 58/100\n",
      "62/62 - 0s - loss: 0.3953 - accuracy: 0.0000e+00 - val_loss: 0.5539 - val_accuracy: 0.0010 - 123ms/epoch - 2ms/step\n",
      "Epoch 59/100\n",
      "62/62 - 0s - loss: 0.4062 - accuracy: 0.0000e+00 - val_loss: 0.5951 - val_accuracy: 0.0010 - 140ms/epoch - 2ms/step\n",
      "Epoch 60/100\n",
      "62/62 - 0s - loss: 0.4643 - accuracy: 0.0000e+00 - val_loss: 0.8026 - val_accuracy: 0.0000e+00 - 141ms/epoch - 2ms/step\n",
      "Epoch 61/100\n",
      "62/62 - 0s - loss: 0.4359 - accuracy: 0.0000e+00 - val_loss: 0.7438 - val_accuracy: 0.0000e+00 - 130ms/epoch - 2ms/step\n",
      "Epoch 62/100\n",
      "62/62 - 0s - loss: 0.4285 - accuracy: 0.0000e+00 - val_loss: 0.8071 - val_accuracy: 0.0000e+00 - 138ms/epoch - 2ms/step\n",
      "Epoch 63/100\n",
      "62/62 - 0s - loss: 0.4275 - accuracy: 0.0000e+00 - val_loss: 0.7581 - val_accuracy: 0.0000e+00 - 147ms/epoch - 2ms/step\n",
      "Epoch 64/100\n",
      "62/62 - 0s - loss: 0.4490 - accuracy: 0.0000e+00 - val_loss: 0.6993 - val_accuracy: 0.0010 - 137ms/epoch - 2ms/step\n",
      "Epoch 65/100\n",
      "62/62 - 0s - loss: 0.4453 - accuracy: 0.0000e+00 - val_loss: 0.9159 - val_accuracy: 0.0000e+00 - 124ms/epoch - 2ms/step\n",
      "Epoch 66/100\n",
      "62/62 - 0s - loss: 0.4306 - accuracy: 0.0000e+00 - val_loss: 0.7910 - val_accuracy: 0.0000e+00 - 132ms/epoch - 2ms/step\n",
      "Epoch 67/100\n",
      "62/62 - 0s - loss: 0.4267 - accuracy: 0.0000e+00 - val_loss: 0.7497 - val_accuracy: 0.0000e+00 - 120ms/epoch - 2ms/step\n",
      "Epoch 68/100\n",
      "62/62 - 0s - loss: 0.4273 - accuracy: 0.0000e+00 - val_loss: 0.7531 - val_accuracy: 0.0000e+00 - 124ms/epoch - 2ms/step\n",
      "Epoch 69/100\n",
      "62/62 - 0s - loss: 0.4233 - accuracy: 0.0000e+00 - val_loss: 0.7341 - val_accuracy: 0.0000e+00 - 120ms/epoch - 2ms/step\n",
      "Epoch 70/100\n",
      "62/62 - 0s - loss: 0.4224 - accuracy: 0.0000e+00 - val_loss: 0.7178 - val_accuracy: 0.0010 - 120ms/epoch - 2ms/step\n",
      "Epoch 71/100\n",
      "62/62 - 0s - loss: 0.4187 - accuracy: 0.0000e+00 - val_loss: 0.7084 - val_accuracy: 0.0010 - 119ms/epoch - 2ms/step\n",
      "Epoch 72/100\n",
      "62/62 - 0s - loss: 0.4196 - accuracy: 0.0000e+00 - val_loss: 0.7064 - val_accuracy: 0.0010 - 118ms/epoch - 2ms/step\n",
      "Epoch 73/100\n",
      "62/62 - 0s - loss: 0.4192 - accuracy: 0.0000e+00 - val_loss: 0.7016 - val_accuracy: 0.0010 - 120ms/epoch - 2ms/step\n",
      "Epoch 74/100\n",
      "62/62 - 0s - loss: 0.4196 - accuracy: 0.0000e+00 - val_loss: 0.6985 - val_accuracy: 0.0010 - 125ms/epoch - 2ms/step\n",
      "Epoch 75/100\n",
      "62/62 - 0s - loss: 0.4410 - accuracy: 0.0000e+00 - val_loss: 0.6554 - val_accuracy: 0.0010 - 136ms/epoch - 2ms/step\n",
      "Epoch 76/100\n",
      "62/62 - 0s - loss: 0.4366 - accuracy: 0.0000e+00 - val_loss: 0.6747 - val_accuracy: 0.0010 - 134ms/epoch - 2ms/step\n",
      "Epoch 77/100\n",
      "62/62 - 0s - loss: 0.4330 - accuracy: 0.0000e+00 - val_loss: 0.7001 - val_accuracy: 0.0010 - 143ms/epoch - 2ms/step\n",
      "Epoch 78/100\n",
      "62/62 - 0s - loss: 0.4298 - accuracy: 0.0000e+00 - val_loss: 0.6734 - val_accuracy: 0.0010 - 124ms/epoch - 2ms/step\n",
      "Epoch 79/100\n",
      "62/62 - 0s - loss: 0.4850 - accuracy: 0.0000e+00 - val_loss: 0.7485 - val_accuracy: 0.0000e+00 - 131ms/epoch - 2ms/step\n",
      "Epoch 80/100\n",
      "62/62 - 0s - loss: 0.4553 - accuracy: 0.0000e+00 - val_loss: 0.7458 - val_accuracy: 0.0000e+00 - 134ms/epoch - 2ms/step\n",
      "Epoch 81/100\n",
      "62/62 - 0s - loss: 0.4404 - accuracy: 0.0000e+00 - val_loss: 0.7355 - val_accuracy: 0.0000e+00 - 131ms/epoch - 2ms/step\n",
      "Epoch 82/100\n",
      "62/62 - 0s - loss: 0.4404 - accuracy: 0.0000e+00 - val_loss: 0.7359 - val_accuracy: 0.0000e+00 - 122ms/epoch - 2ms/step\n",
      "Epoch 83/100\n",
      "62/62 - 0s - loss: 0.4292 - accuracy: 0.0000e+00 - val_loss: 0.7327 - val_accuracy: 0.0000e+00 - 119ms/epoch - 2ms/step\n",
      "Epoch 84/100\n",
      "62/62 - 0s - loss: 0.4263 - accuracy: 0.0000e+00 - val_loss: 0.7253 - val_accuracy: 0.0000e+00 - 118ms/epoch - 2ms/step\n",
      "Epoch 85/100\n",
      "62/62 - 0s - loss: 0.4231 - accuracy: 0.0000e+00 - val_loss: 0.7219 - val_accuracy: 0.0010 - 118ms/epoch - 2ms/step\n",
      "Epoch 86/100\n",
      "62/62 - 0s - loss: 0.4224 - accuracy: 0.0000e+00 - val_loss: 0.7055 - val_accuracy: 0.0010 - 119ms/epoch - 2ms/step\n",
      "Epoch 87/100\n",
      "62/62 - 0s - loss: 0.4220 - accuracy: 0.0000e+00 - val_loss: 0.7041 - val_accuracy: 0.0010 - 120ms/epoch - 2ms/step\n",
      "Epoch 88/100\n",
      "62/62 - 0s - loss: 0.4212 - accuracy: 0.0000e+00 - val_loss: 0.7107 - val_accuracy: 0.0010 - 125ms/epoch - 2ms/step\n",
      "Epoch 89/100\n",
      "62/62 - 0s - loss: 0.4197 - accuracy: 0.0000e+00 - val_loss: 0.7023 - val_accuracy: 0.0010 - 139ms/epoch - 2ms/step\n",
      "Epoch 90/100\n",
      "62/62 - 0s - loss: 0.4242 - accuracy: 0.0000e+00 - val_loss: 0.7215 - val_accuracy: 0.0010 - 124ms/epoch - 2ms/step\n",
      "Epoch 91/100\n",
      "62/62 - 0s - loss: 0.4211 - accuracy: 0.0000e+00 - val_loss: 0.7231 - val_accuracy: 0.0010 - 119ms/epoch - 2ms/step\n",
      "Epoch 92/100\n",
      "62/62 - 0s - loss: 0.4220 - accuracy: 0.0000e+00 - val_loss: 0.6943 - val_accuracy: 0.0010 - 120ms/epoch - 2ms/step\n",
      "Epoch 93/100\n",
      "62/62 - 0s - loss: 0.4247 - accuracy: 0.0000e+00 - val_loss: 0.6972 - val_accuracy: 0.0010 - 118ms/epoch - 2ms/step\n",
      "Epoch 94/100\n",
      "62/62 - 0s - loss: 0.4222 - accuracy: 0.0000e+00 - val_loss: 0.7069 - val_accuracy: 0.0010 - 122ms/epoch - 2ms/step\n",
      "Epoch 95/100\n",
      "62/62 - 0s - loss: 0.4233 - accuracy: 0.0000e+00 - val_loss: 0.6958 - val_accuracy: 0.0010 - 119ms/epoch - 2ms/step\n",
      "Epoch 96/100\n",
      "62/62 - 0s - loss: 0.4218 - accuracy: 0.0000e+00 - val_loss: 0.6901 - val_accuracy: 0.0010 - 122ms/epoch - 2ms/step\n",
      "Epoch 97/100\n",
      "62/62 - 0s - loss: 0.4221 - accuracy: 0.0000e+00 - val_loss: 0.6876 - val_accuracy: 0.0010 - 120ms/epoch - 2ms/step\n",
      "Epoch 98/100\n",
      "62/62 - 0s - loss: 0.4256 - accuracy: 0.0000e+00 - val_loss: 0.6881 - val_accuracy: 0.0010 - 121ms/epoch - 2ms/step\n",
      "Epoch 99/100\n",
      "62/62 - 0s - loss: 0.4246 - accuracy: 0.0000e+00 - val_loss: 0.6934 - val_accuracy: 0.0010 - 122ms/epoch - 2ms/step\n",
      "Epoch 100/100\n",
      "62/62 - 0s - loss: 0.4240 - accuracy: 0.0000e+00 - val_loss: 0.7028 - val_accuracy: 0.0010 - 119ms/epoch - 2ms/step\n"
     ]
    }
   ],
   "source": [
    "look_back = 15\n",
    "\n",
    "model1 = Sequential()\n",
    "\n",
    "model1.add(LSTM(50, input_shape=(1, look_back), return_sequences=False))\n",
    "\n",
    "# Dropout to prevent overfitting\n",
    "model1.add(Dropout(0.5))\n",
    "\n",
    "# Dense layer for classification output\n",
    "model1.add(Dense(units=1, activation='tanh'))\n",
    "\n",
    "# Optimizing the neural network weights\n",
    "opt = tf.keras.optimizers.Adam(learning_rate=0.01)\n",
    "\n",
    "# Compiling the model with the optimizer\n",
    "model1.compile(loss='binary_crossentropy', optimizer=opt, metrics=['accuracy'])\n",
    "\n",
    "history = model1.fit(x_train, y_train, epochs=100, batch_size=64, verbose=2, validation_data=(x_test, y_test))"
   ]
  },
  {
   "cell_type": "code",
   "execution_count": 30,
   "id": "4224cfa3",
   "metadata": {
    "id": "4224cfa3",
    "outputId": "b1e4c3d6-fac4-4487-9cdb-8700dfacd08e"
   },
   "outputs": [
    {
     "name": "stdout",
     "output_type": "stream",
     "text": [
      "Epoch 1/100\n",
      "62/62 - 2s - loss: 0.0060 - mse: 0.0060 - val_loss: 0.0773 - val_mse: 0.0773 - 2s/epoch - 25ms/step\n",
      "Epoch 2/100\n",
      "62/62 - 0s - loss: 0.0057 - mse: 0.0057 - val_loss: 0.0735 - val_mse: 0.0735 - 133ms/epoch - 2ms/step\n",
      "Epoch 3/100\n",
      "62/62 - 0s - loss: 0.0055 - mse: 0.0055 - val_loss: 0.0722 - val_mse: 0.0722 - 132ms/epoch - 2ms/step\n",
      "Epoch 4/100\n",
      "62/62 - 0s - loss: 0.0054 - mse: 0.0054 - val_loss: 0.0689 - val_mse: 0.0689 - 132ms/epoch - 2ms/step\n",
      "Epoch 5/100\n",
      "62/62 - 0s - loss: 0.0052 - mse: 0.0052 - val_loss: 0.0671 - val_mse: 0.0671 - 120ms/epoch - 2ms/step\n",
      "Epoch 6/100\n",
      "62/62 - 0s - loss: 0.0049 - mse: 0.0049 - val_loss: 0.0646 - val_mse: 0.0646 - 120ms/epoch - 2ms/step\n",
      "Epoch 7/100\n",
      "62/62 - 0s - loss: 0.0048 - mse: 0.0048 - val_loss: 0.0628 - val_mse: 0.0628 - 120ms/epoch - 2ms/step\n",
      "Epoch 8/100\n",
      "62/62 - 0s - loss: 0.0049 - mse: 0.0049 - val_loss: 0.0622 - val_mse: 0.0622 - 119ms/epoch - 2ms/step\n",
      "Epoch 9/100\n",
      "62/62 - 0s - loss: 0.0046 - mse: 0.0046 - val_loss: 0.0609 - val_mse: 0.0609 - 132ms/epoch - 2ms/step\n",
      "Epoch 10/100\n",
      "62/62 - 0s - loss: 0.0045 - mse: 0.0045 - val_loss: 0.0598 - val_mse: 0.0598 - 122ms/epoch - 2ms/step\n",
      "Epoch 11/100\n",
      "62/62 - 0s - loss: 0.0046 - mse: 0.0046 - val_loss: 0.0604 - val_mse: 0.0604 - 123ms/epoch - 2ms/step\n",
      "Epoch 12/100\n",
      "62/62 - 0s - loss: 0.0044 - mse: 0.0044 - val_loss: 0.0574 - val_mse: 0.0574 - 120ms/epoch - 2ms/step\n",
      "Epoch 13/100\n",
      "62/62 - 0s - loss: 0.0046 - mse: 0.0046 - val_loss: 0.0588 - val_mse: 0.0588 - 117ms/epoch - 2ms/step\n",
      "Epoch 14/100\n",
      "62/62 - 0s - loss: 0.0042 - mse: 0.0042 - val_loss: 0.0572 - val_mse: 0.0572 - 120ms/epoch - 2ms/step\n",
      "Epoch 15/100\n",
      "62/62 - 0s - loss: 0.0043 - mse: 0.0043 - val_loss: 0.0537 - val_mse: 0.0537 - 121ms/epoch - 2ms/step\n",
      "Epoch 16/100\n",
      "62/62 - 0s - loss: 0.0044 - mse: 0.0044 - val_loss: 0.0571 - val_mse: 0.0571 - 129ms/epoch - 2ms/step\n",
      "Epoch 17/100\n",
      "62/62 - 0s - loss: 0.0042 - mse: 0.0042 - val_loss: 0.0538 - val_mse: 0.0538 - 124ms/epoch - 2ms/step\n",
      "Epoch 18/100\n",
      "62/62 - 0s - loss: 0.0041 - mse: 0.0041 - val_loss: 0.0512 - val_mse: 0.0512 - 131ms/epoch - 2ms/step\n",
      "Epoch 19/100\n",
      "62/62 - 0s - loss: 0.0041 - mse: 0.0041 - val_loss: 0.0512 - val_mse: 0.0512 - 127ms/epoch - 2ms/step\n",
      "Epoch 20/100\n",
      "62/62 - 0s - loss: 0.0040 - mse: 0.0040 - val_loss: 0.0537 - val_mse: 0.0537 - 117ms/epoch - 2ms/step\n",
      "Epoch 21/100\n",
      "62/62 - 0s - loss: 0.0038 - mse: 0.0038 - val_loss: 0.0512 - val_mse: 0.0512 - 116ms/epoch - 2ms/step\n",
      "Epoch 22/100\n",
      "62/62 - 0s - loss: 0.0039 - mse: 0.0039 - val_loss: 0.0507 - val_mse: 0.0507 - 117ms/epoch - 2ms/step\n",
      "Epoch 23/100\n",
      "62/62 - 0s - loss: 0.0042 - mse: 0.0042 - val_loss: 0.0502 - val_mse: 0.0502 - 114ms/epoch - 2ms/step\n",
      "Epoch 24/100\n",
      "62/62 - 0s - loss: 0.0038 - mse: 0.0038 - val_loss: 0.0486 - val_mse: 0.0486 - 116ms/epoch - 2ms/step\n",
      "Epoch 25/100\n",
      "62/62 - 0s - loss: 0.0037 - mse: 0.0037 - val_loss: 0.0496 - val_mse: 0.0496 - 118ms/epoch - 2ms/step\n",
      "Epoch 26/100\n",
      "62/62 - 0s - loss: 0.0040 - mse: 0.0040 - val_loss: 0.0488 - val_mse: 0.0488 - 116ms/epoch - 2ms/step\n",
      "Epoch 27/100\n",
      "62/62 - 0s - loss: 0.0039 - mse: 0.0039 - val_loss: 0.0483 - val_mse: 0.0483 - 116ms/epoch - 2ms/step\n",
      "Epoch 28/100\n",
      "62/62 - 0s - loss: 0.0037 - mse: 0.0037 - val_loss: 0.0475 - val_mse: 0.0475 - 119ms/epoch - 2ms/step\n",
      "Epoch 29/100\n",
      "62/62 - 0s - loss: 0.0037 - mse: 0.0037 - val_loss: 0.0480 - val_mse: 0.0480 - 118ms/epoch - 2ms/step\n",
      "Epoch 30/100\n",
      "62/62 - 0s - loss: 0.0038 - mse: 0.0038 - val_loss: 0.0486 - val_mse: 0.0486 - 116ms/epoch - 2ms/step\n",
      "Epoch 31/100\n",
      "62/62 - 0s - loss: 0.0037 - mse: 0.0037 - val_loss: 0.0489 - val_mse: 0.0489 - 118ms/epoch - 2ms/step\n",
      "Epoch 32/100\n",
      "62/62 - 0s - loss: 0.0038 - mse: 0.0038 - val_loss: 0.0425 - val_mse: 0.0425 - 115ms/epoch - 2ms/step\n",
      "Epoch 33/100\n",
      "62/62 - 0s - loss: 0.0037 - mse: 0.0037 - val_loss: 0.0442 - val_mse: 0.0442 - 123ms/epoch - 2ms/step\n",
      "Epoch 34/100\n",
      "62/62 - 0s - loss: 0.0036 - mse: 0.0036 - val_loss: 0.0474 - val_mse: 0.0474 - 116ms/epoch - 2ms/step\n",
      "Epoch 35/100\n",
      "62/62 - 0s - loss: 0.0035 - mse: 0.0035 - val_loss: 0.0475 - val_mse: 0.0475 - 119ms/epoch - 2ms/step\n",
      "Epoch 36/100\n",
      "62/62 - 0s - loss: 0.0036 - mse: 0.0036 - val_loss: 0.0456 - val_mse: 0.0456 - 115ms/epoch - 2ms/step\n",
      "Epoch 37/100\n",
      "62/62 - 0s - loss: 0.0036 - mse: 0.0036 - val_loss: 0.0429 - val_mse: 0.0429 - 118ms/epoch - 2ms/step\n",
      "Epoch 38/100\n",
      "62/62 - 0s - loss: 0.0035 - mse: 0.0035 - val_loss: 0.0450 - val_mse: 0.0450 - 121ms/epoch - 2ms/step\n",
      "Epoch 39/100\n",
      "62/62 - 0s - loss: 0.0035 - mse: 0.0035 - val_loss: 0.0471 - val_mse: 0.0471 - 120ms/epoch - 2ms/step\n",
      "Epoch 40/100\n",
      "62/62 - 0s - loss: 0.0036 - mse: 0.0036 - val_loss: 0.0427 - val_mse: 0.0427 - 116ms/epoch - 2ms/step\n",
      "Epoch 41/100\n",
      "62/62 - 0s - loss: 0.0037 - mse: 0.0037 - val_loss: 0.0418 - val_mse: 0.0418 - 116ms/epoch - 2ms/step\n",
      "Epoch 42/100\n",
      "62/62 - 0s - loss: 0.0036 - mse: 0.0036 - val_loss: 0.0434 - val_mse: 0.0434 - 116ms/epoch - 2ms/step\n",
      "Epoch 43/100\n",
      "62/62 - 0s - loss: 0.0034 - mse: 0.0034 - val_loss: 0.0427 - val_mse: 0.0427 - 116ms/epoch - 2ms/step\n",
      "Epoch 44/100\n",
      "62/62 - 0s - loss: 0.0035 - mse: 0.0035 - val_loss: 0.0411 - val_mse: 0.0411 - 119ms/epoch - 2ms/step\n",
      "Epoch 45/100\n",
      "62/62 - 0s - loss: 0.0034 - mse: 0.0034 - val_loss: 0.0420 - val_mse: 0.0420 - 117ms/epoch - 2ms/step\n",
      "Epoch 46/100\n",
      "62/62 - 0s - loss: 0.0034 - mse: 0.0034 - val_loss: 0.0417 - val_mse: 0.0417 - 115ms/epoch - 2ms/step\n",
      "Epoch 47/100\n",
      "62/62 - 0s - loss: 0.0033 - mse: 0.0033 - val_loss: 0.0418 - val_mse: 0.0418 - 137ms/epoch - 2ms/step\n",
      "Epoch 48/100\n",
      "62/62 - 0s - loss: 0.0035 - mse: 0.0035 - val_loss: 0.0443 - val_mse: 0.0443 - 117ms/epoch - 2ms/step\n",
      "Epoch 49/100\n",
      "62/62 - 0s - loss: 0.0033 - mse: 0.0033 - val_loss: 0.0421 - val_mse: 0.0421 - 116ms/epoch - 2ms/step\n",
      "Epoch 50/100\n",
      "62/62 - 0s - loss: 0.0035 - mse: 0.0035 - val_loss: 0.0396 - val_mse: 0.0396 - 118ms/epoch - 2ms/step\n",
      "Epoch 51/100\n",
      "62/62 - 0s - loss: 0.0033 - mse: 0.0033 - val_loss: 0.0388 - val_mse: 0.0388 - 116ms/epoch - 2ms/step\n",
      "Epoch 52/100\n",
      "62/62 - 0s - loss: 0.0034 - mse: 0.0034 - val_loss: 0.0410 - val_mse: 0.0410 - 117ms/epoch - 2ms/step\n",
      "Epoch 53/100\n",
      "62/62 - 0s - loss: 0.0033 - mse: 0.0033 - val_loss: 0.0404 - val_mse: 0.0404 - 116ms/epoch - 2ms/step\n",
      "Epoch 54/100\n",
      "62/62 - 0s - loss: 0.0034 - mse: 0.0034 - val_loss: 0.0396 - val_mse: 0.0396 - 118ms/epoch - 2ms/step\n",
      "Epoch 55/100\n",
      "62/62 - 0s - loss: 0.0033 - mse: 0.0033 - val_loss: 0.0428 - val_mse: 0.0428 - 126ms/epoch - 2ms/step\n",
      "Epoch 56/100\n",
      "62/62 - 0s - loss: 0.0033 - mse: 0.0033 - val_loss: 0.0399 - val_mse: 0.0399 - 131ms/epoch - 2ms/step\n",
      "Epoch 57/100\n",
      "62/62 - 0s - loss: 0.0033 - mse: 0.0033 - val_loss: 0.0376 - val_mse: 0.0376 - 133ms/epoch - 2ms/step\n",
      "Epoch 58/100\n",
      "62/62 - 0s - loss: 0.0033 - mse: 0.0033 - val_loss: 0.0394 - val_mse: 0.0394 - 123ms/epoch - 2ms/step\n",
      "Epoch 59/100\n",
      "62/62 - 0s - loss: 0.0033 - mse: 0.0033 - val_loss: 0.0415 - val_mse: 0.0415 - 138ms/epoch - 2ms/step\n",
      "Epoch 60/100\n",
      "62/62 - 0s - loss: 0.0033 - mse: 0.0033 - val_loss: 0.0373 - val_mse: 0.0373 - 165ms/epoch - 3ms/step\n",
      "Epoch 61/100\n",
      "62/62 - 0s - loss: 0.0033 - mse: 0.0033 - val_loss: 0.0394 - val_mse: 0.0394 - 176ms/epoch - 3ms/step\n",
      "Epoch 62/100\n",
      "62/62 - 0s - loss: 0.0034 - mse: 0.0034 - val_loss: 0.0394 - val_mse: 0.0394 - 156ms/epoch - 3ms/step\n",
      "Epoch 63/100\n",
      "62/62 - 0s - loss: 0.0033 - mse: 0.0033 - val_loss: 0.0406 - val_mse: 0.0406 - 124ms/epoch - 2ms/step\n",
      "Epoch 64/100\n",
      "62/62 - 0s - loss: 0.0033 - mse: 0.0033 - val_loss: 0.0412 - val_mse: 0.0412 - 119ms/epoch - 2ms/step\n",
      "Epoch 65/100\n",
      "62/62 - 0s - loss: 0.0033 - mse: 0.0033 - val_loss: 0.0418 - val_mse: 0.0418 - 124ms/epoch - 2ms/step\n",
      "Epoch 66/100\n",
      "62/62 - 0s - loss: 0.0035 - mse: 0.0035 - val_loss: 0.0395 - val_mse: 0.0395 - 121ms/epoch - 2ms/step\n",
      "Epoch 67/100\n",
      "62/62 - 0s - loss: 0.0034 - mse: 0.0034 - val_loss: 0.0438 - val_mse: 0.0438 - 120ms/epoch - 2ms/step\n",
      "Epoch 68/100\n",
      "62/62 - 0s - loss: 0.0032 - mse: 0.0032 - val_loss: 0.0407 - val_mse: 0.0407 - 118ms/epoch - 2ms/step\n",
      "Epoch 69/100\n",
      "62/62 - 0s - loss: 0.0033 - mse: 0.0033 - val_loss: 0.0405 - val_mse: 0.0405 - 137ms/epoch - 2ms/step\n",
      "Epoch 70/100\n",
      "62/62 - 0s - loss: 0.0033 - mse: 0.0033 - val_loss: 0.0358 - val_mse: 0.0358 - 120ms/epoch - 2ms/step\n",
      "Epoch 71/100\n",
      "62/62 - 0s - loss: 0.0031 - mse: 0.0031 - val_loss: 0.0417 - val_mse: 0.0417 - 118ms/epoch - 2ms/step\n",
      "Epoch 72/100\n",
      "62/62 - 0s - loss: 0.0032 - mse: 0.0032 - val_loss: 0.0388 - val_mse: 0.0388 - 118ms/epoch - 2ms/step\n",
      "Epoch 73/100\n",
      "62/62 - 0s - loss: 0.0032 - mse: 0.0032 - val_loss: 0.0394 - val_mse: 0.0394 - 119ms/epoch - 2ms/step\n",
      "Epoch 74/100\n",
      "62/62 - 0s - loss: 0.0034 - mse: 0.0034 - val_loss: 0.0413 - val_mse: 0.0413 - 128ms/epoch - 2ms/step\n",
      "Epoch 75/100\n",
      "62/62 - 0s - loss: 0.0033 - mse: 0.0033 - val_loss: 0.0395 - val_mse: 0.0395 - 124ms/epoch - 2ms/step\n",
      "Epoch 76/100\n",
      "62/62 - 0s - loss: 0.0032 - mse: 0.0032 - val_loss: 0.0360 - val_mse: 0.0360 - 124ms/epoch - 2ms/step\n",
      "Epoch 77/100\n",
      "62/62 - 0s - loss: 0.0032 - mse: 0.0032 - val_loss: 0.0376 - val_mse: 0.0376 - 125ms/epoch - 2ms/step\n",
      "Epoch 78/100\n",
      "62/62 - 0s - loss: 0.0035 - mse: 0.0035 - val_loss: 0.0380 - val_mse: 0.0380 - 123ms/epoch - 2ms/step\n",
      "Epoch 79/100\n",
      "62/62 - 0s - loss: 0.0034 - mse: 0.0034 - val_loss: 0.0368 - val_mse: 0.0368 - 119ms/epoch - 2ms/step\n",
      "Epoch 80/100\n",
      "62/62 - 0s - loss: 0.0031 - mse: 0.0031 - val_loss: 0.0359 - val_mse: 0.0359 - 129ms/epoch - 2ms/step\n",
      "Epoch 81/100\n",
      "62/62 - 0s - loss: 0.0033 - mse: 0.0033 - val_loss: 0.0388 - val_mse: 0.0388 - 145ms/epoch - 2ms/step\n",
      "Epoch 82/100\n",
      "62/62 - 0s - loss: 0.0033 - mse: 0.0033 - val_loss: 0.0393 - val_mse: 0.0393 - 124ms/epoch - 2ms/step\n",
      "Epoch 83/100\n",
      "62/62 - 0s - loss: 0.0033 - mse: 0.0033 - val_loss: 0.0348 - val_mse: 0.0348 - 122ms/epoch - 2ms/step\n",
      "Epoch 84/100\n",
      "62/62 - 0s - loss: 0.0033 - mse: 0.0033 - val_loss: 0.0385 - val_mse: 0.0385 - 121ms/epoch - 2ms/step\n",
      "Epoch 85/100\n",
      "62/62 - 0s - loss: 0.0032 - mse: 0.0032 - val_loss: 0.0358 - val_mse: 0.0358 - 119ms/epoch - 2ms/step\n",
      "Epoch 86/100\n",
      "62/62 - 0s - loss: 0.0034 - mse: 0.0034 - val_loss: 0.0376 - val_mse: 0.0376 - 122ms/epoch - 2ms/step\n",
      "Epoch 87/100\n",
      "62/62 - 0s - loss: 0.0032 - mse: 0.0032 - val_loss: 0.0394 - val_mse: 0.0394 - 150ms/epoch - 2ms/step\n",
      "Epoch 88/100\n",
      "62/62 - 0s - loss: 0.0032 - mse: 0.0032 - val_loss: 0.0386 - val_mse: 0.0386 - 121ms/epoch - 2ms/step\n",
      "Epoch 89/100\n",
      "62/62 - 0s - loss: 0.0033 - mse: 0.0033 - val_loss: 0.0368 - val_mse: 0.0368 - 125ms/epoch - 2ms/step\n",
      "Epoch 90/100\n",
      "62/62 - 0s - loss: 0.0032 - mse: 0.0032 - val_loss: 0.0350 - val_mse: 0.0350 - 123ms/epoch - 2ms/step\n",
      "Epoch 91/100\n",
      "62/62 - 0s - loss: 0.0032 - mse: 0.0032 - val_loss: 0.0359 - val_mse: 0.0359 - 120ms/epoch - 2ms/step\n",
      "Epoch 92/100\n",
      "62/62 - 0s - loss: 0.0033 - mse: 0.0033 - val_loss: 0.0403 - val_mse: 0.0403 - 119ms/epoch - 2ms/step\n",
      "Epoch 93/100\n",
      "62/62 - 0s - loss: 0.0031 - mse: 0.0031 - val_loss: 0.0369 - val_mse: 0.0369 - 130ms/epoch - 2ms/step\n",
      "Epoch 94/100\n",
      "62/62 - 0s - loss: 0.0034 - mse: 0.0034 - val_loss: 0.0364 - val_mse: 0.0364 - 139ms/epoch - 2ms/step\n",
      "Epoch 95/100\n",
      "62/62 - 0s - loss: 0.0035 - mse: 0.0035 - val_loss: 0.0388 - val_mse: 0.0388 - 126ms/epoch - 2ms/step\n",
      "Epoch 96/100\n",
      "62/62 - 0s - loss: 0.0034 - mse: 0.0034 - val_loss: 0.0349 - val_mse: 0.0349 - 125ms/epoch - 2ms/step\n",
      "Epoch 97/100\n",
      "62/62 - 0s - loss: 0.0034 - mse: 0.0034 - val_loss: 0.0360 - val_mse: 0.0360 - 123ms/epoch - 2ms/step\n",
      "Epoch 98/100\n",
      "62/62 - 0s - loss: 0.0032 - mse: 0.0032 - val_loss: 0.0355 - val_mse: 0.0355 - 119ms/epoch - 2ms/step\n",
      "Epoch 99/100\n",
      "62/62 - 0s - loss: 0.0034 - mse: 0.0034 - val_loss: 0.0387 - val_mse: 0.0387 - 162ms/epoch - 3ms/step\n",
      "Epoch 100/100\n",
      "62/62 - 0s - loss: 0.0033 - mse: 0.0033 - val_loss: 0.0358 - val_mse: 0.0358 - 176ms/epoch - 3ms/step\n"
     ]
    }
   ],
   "source": [
    "mseplot = model1.compile(loss='mean_squared_error', optimizer=opt, metrics=['mse'])\n",
    "\n",
    "mseplot = model1.fit(x_train, y_train, epochs = 100, batch_size=64, verbose=2, validation_data=(x_test, y_test))"
   ]
  },
  {
   "cell_type": "code",
   "execution_count": 31,
   "id": "05a4cb49",
   "metadata": {
    "id": "05a4cb49",
    "outputId": "d9271c8b-290c-4d77-fff1-0cb79b166ba8"
   },
   "outputs": [
    {
     "name": "stdout",
     "output_type": "stream",
     "text": [
      "Epoch 1/100\n",
      "62/62 - 2s - loss: 0.0033 - rmse: 0.0573 - val_loss: 0.0328 - val_rmse: 0.1811 - 2s/epoch - 25ms/step\n",
      "Epoch 2/100\n",
      "62/62 - 0s - loss: 0.0032 - rmse: 0.0569 - val_loss: 0.0337 - val_rmse: 0.1836 - 137ms/epoch - 2ms/step\n",
      "Epoch 3/100\n",
      "62/62 - 0s - loss: 0.0031 - rmse: 0.0554 - val_loss: 0.0391 - val_rmse: 0.1978 - 134ms/epoch - 2ms/step\n",
      "Epoch 4/100\n",
      "62/62 - 0s - loss: 0.0033 - rmse: 0.0571 - val_loss: 0.0376 - val_rmse: 0.1940 - 133ms/epoch - 2ms/step\n",
      "Epoch 5/100\n",
      "62/62 - 0s - loss: 0.0032 - rmse: 0.0568 - val_loss: 0.0394 - val_rmse: 0.1984 - 135ms/epoch - 2ms/step\n",
      "Epoch 6/100\n",
      "62/62 - 0s - loss: 0.0033 - rmse: 0.0571 - val_loss: 0.0399 - val_rmse: 0.1998 - 132ms/epoch - 2ms/step\n",
      "Epoch 7/100\n",
      "62/62 - 0s - loss: 0.0034 - rmse: 0.0585 - val_loss: 0.0365 - val_rmse: 0.1911 - 137ms/epoch - 2ms/step\n",
      "Epoch 8/100\n",
      "62/62 - 0s - loss: 0.0034 - rmse: 0.0585 - val_loss: 0.0332 - val_rmse: 0.1821 - 130ms/epoch - 2ms/step\n",
      "Epoch 9/100\n",
      "62/62 - 0s - loss: 0.0033 - rmse: 0.0577 - val_loss: 0.0341 - val_rmse: 0.1847 - 129ms/epoch - 2ms/step\n",
      "Epoch 10/100\n",
      "62/62 - 0s - loss: 0.0032 - rmse: 0.0567 - val_loss: 0.0343 - val_rmse: 0.1852 - 128ms/epoch - 2ms/step\n",
      "Epoch 11/100\n",
      "62/62 - 0s - loss: 0.0034 - rmse: 0.0584 - val_loss: 0.0390 - val_rmse: 0.1975 - 128ms/epoch - 2ms/step\n",
      "Epoch 12/100\n",
      "62/62 - 0s - loss: 0.0034 - rmse: 0.0579 - val_loss: 0.0343 - val_rmse: 0.1851 - 141ms/epoch - 2ms/step\n",
      "Epoch 13/100\n",
      "62/62 - 0s - loss: 0.0034 - rmse: 0.0585 - val_loss: 0.0404 - val_rmse: 0.2011 - 136ms/epoch - 2ms/step\n",
      "Epoch 14/100\n",
      "62/62 - 0s - loss: 0.0033 - rmse: 0.0572 - val_loss: 0.0344 - val_rmse: 0.1854 - 132ms/epoch - 2ms/step\n",
      "Epoch 15/100\n",
      "62/62 - 0s - loss: 0.0031 - rmse: 0.0561 - val_loss: 0.0390 - val_rmse: 0.1976 - 131ms/epoch - 2ms/step\n",
      "Epoch 16/100\n",
      "62/62 - 0s - loss: 0.0035 - rmse: 0.0596 - val_loss: 0.0310 - val_rmse: 0.1761 - 125ms/epoch - 2ms/step\n",
      "Epoch 17/100\n",
      "62/62 - 0s - loss: 0.0032 - rmse: 0.0564 - val_loss: 0.0344 - val_rmse: 0.1854 - 123ms/epoch - 2ms/step\n",
      "Epoch 18/100\n",
      "62/62 - 0s - loss: 0.0034 - rmse: 0.0579 - val_loss: 0.0372 - val_rmse: 0.1927 - 147ms/epoch - 2ms/step\n",
      "Epoch 19/100\n",
      "62/62 - 0s - loss: 0.0033 - rmse: 0.0576 - val_loss: 0.0359 - val_rmse: 0.1894 - 120ms/epoch - 2ms/step\n",
      "Epoch 20/100\n",
      "62/62 - 0s - loss: 0.0032 - rmse: 0.0564 - val_loss: 0.0366 - val_rmse: 0.1914 - 128ms/epoch - 2ms/step\n",
      "Epoch 21/100\n",
      "62/62 - 0s - loss: 0.0034 - rmse: 0.0579 - val_loss: 0.0362 - val_rmse: 0.1903 - 124ms/epoch - 2ms/step\n",
      "Epoch 22/100\n",
      "62/62 - 0s - loss: 0.0034 - rmse: 0.0581 - val_loss: 0.0372 - val_rmse: 0.1927 - 120ms/epoch - 2ms/step\n",
      "Epoch 23/100\n",
      "62/62 - 0s - loss: 0.0031 - rmse: 0.0559 - val_loss: 0.0405 - val_rmse: 0.2012 - 116ms/epoch - 2ms/step\n",
      "Epoch 24/100\n",
      "62/62 - 0s - loss: 0.0032 - rmse: 0.0567 - val_loss: 0.0363 - val_rmse: 0.1904 - 121ms/epoch - 2ms/step\n",
      "Epoch 25/100\n",
      "62/62 - 0s - loss: 0.0032 - rmse: 0.0567 - val_loss: 0.0407 - val_rmse: 0.2018 - 122ms/epoch - 2ms/step\n",
      "Epoch 26/100\n",
      "62/62 - 0s - loss: 0.0033 - rmse: 0.0577 - val_loss: 0.0368 - val_rmse: 0.1919 - 121ms/epoch - 2ms/step\n",
      "Epoch 27/100\n",
      "62/62 - 0s - loss: 0.0034 - rmse: 0.0581 - val_loss: 0.0396 - val_rmse: 0.1990 - 128ms/epoch - 2ms/step\n",
      "Epoch 28/100\n",
      "62/62 - 0s - loss: 0.0033 - rmse: 0.0577 - val_loss: 0.0389 - val_rmse: 0.1973 - 125ms/epoch - 2ms/step\n",
      "Epoch 29/100\n",
      "62/62 - 0s - loss: 0.0032 - rmse: 0.0562 - val_loss: 0.0400 - val_rmse: 0.2001 - 122ms/epoch - 2ms/step\n",
      "Epoch 30/100\n",
      "62/62 - 0s - loss: 0.0034 - rmse: 0.0579 - val_loss: 0.0394 - val_rmse: 0.1985 - 135ms/epoch - 2ms/step\n",
      "Epoch 31/100\n",
      "62/62 - 0s - loss: 0.0035 - rmse: 0.0588 - val_loss: 0.0411 - val_rmse: 0.2026 - 134ms/epoch - 2ms/step\n",
      "Epoch 32/100\n",
      "62/62 - 0s - loss: 0.0032 - rmse: 0.0568 - val_loss: 0.0385 - val_rmse: 0.1962 - 130ms/epoch - 2ms/step\n",
      "Epoch 33/100\n",
      "62/62 - 0s - loss: 0.0033 - rmse: 0.0574 - val_loss: 0.0421 - val_rmse: 0.2052 - 119ms/epoch - 2ms/step\n",
      "Epoch 34/100\n",
      "62/62 - 0s - loss: 0.0033 - rmse: 0.0572 - val_loss: 0.0371 - val_rmse: 0.1927 - 115ms/epoch - 2ms/step\n",
      "Epoch 35/100\n",
      "62/62 - 0s - loss: 0.0033 - rmse: 0.0570 - val_loss: 0.0384 - val_rmse: 0.1960 - 118ms/epoch - 2ms/step\n",
      "Epoch 36/100\n",
      "62/62 - 0s - loss: 0.0035 - rmse: 0.0589 - val_loss: 0.0385 - val_rmse: 0.1962 - 116ms/epoch - 2ms/step\n",
      "Epoch 37/100\n",
      "62/62 - 0s - loss: 0.0034 - rmse: 0.0586 - val_loss: 0.0422 - val_rmse: 0.2055 - 115ms/epoch - 2ms/step\n",
      "Epoch 38/100\n",
      "62/62 - 0s - loss: 0.0033 - rmse: 0.0578 - val_loss: 0.0408 - val_rmse: 0.2020 - 118ms/epoch - 2ms/step\n",
      "Epoch 39/100\n",
      "62/62 - 0s - loss: 0.0033 - rmse: 0.0575 - val_loss: 0.0420 - val_rmse: 0.2050 - 126ms/epoch - 2ms/step\n",
      "Epoch 40/100\n",
      "62/62 - 0s - loss: 0.0035 - rmse: 0.0590 - val_loss: 0.0401 - val_rmse: 0.2003 - 124ms/epoch - 2ms/step\n",
      "Epoch 41/100\n",
      "62/62 - 0s - loss: 0.0031 - rmse: 0.0556 - val_loss: 0.0465 - val_rmse: 0.2157 - 122ms/epoch - 2ms/step\n",
      "Epoch 42/100\n",
      "62/62 - 0s - loss: 0.0032 - rmse: 0.0567 - val_loss: 0.0416 - val_rmse: 0.2039 - 139ms/epoch - 2ms/step\n",
      "Epoch 43/100\n",
      "62/62 - 0s - loss: 0.0032 - rmse: 0.0565 - val_loss: 0.0425 - val_rmse: 0.2062 - 118ms/epoch - 2ms/step\n",
      "Epoch 44/100\n",
      "62/62 - 0s - loss: 0.0035 - rmse: 0.0593 - val_loss: 0.0387 - val_rmse: 0.1967 - 120ms/epoch - 2ms/step\n",
      "Epoch 45/100\n",
      "62/62 - 0s - loss: 0.0033 - rmse: 0.0573 - val_loss: 0.0405 - val_rmse: 0.2012 - 141ms/epoch - 2ms/step\n",
      "Epoch 46/100\n",
      "62/62 - 0s - loss: 0.0033 - rmse: 0.0577 - val_loss: 0.0402 - val_rmse: 0.2004 - 130ms/epoch - 2ms/step\n",
      "Epoch 47/100\n",
      "62/62 - 0s - loss: 0.0034 - rmse: 0.0582 - val_loss: 0.0381 - val_rmse: 0.1953 - 124ms/epoch - 2ms/step\n",
      "Epoch 48/100\n",
      "62/62 - 0s - loss: 0.0034 - rmse: 0.0581 - val_loss: 0.0407 - val_rmse: 0.2017 - 122ms/epoch - 2ms/step\n",
      "Epoch 49/100\n",
      "62/62 - 0s - loss: 0.0034 - rmse: 0.0580 - val_loss: 0.0400 - val_rmse: 0.2001 - 116ms/epoch - 2ms/step\n",
      "Epoch 50/100\n",
      "62/62 - 0s - loss: 0.0034 - rmse: 0.0584 - val_loss: 0.0447 - val_rmse: 0.2113 - 118ms/epoch - 2ms/step\n",
      "Epoch 51/100\n",
      "62/62 - 0s - loss: 0.0035 - rmse: 0.0587 - val_loss: 0.0380 - val_rmse: 0.1948 - 116ms/epoch - 2ms/step\n",
      "Epoch 52/100\n",
      "62/62 - 0s - loss: 0.0033 - rmse: 0.0578 - val_loss: 0.0391 - val_rmse: 0.1977 - 121ms/epoch - 2ms/step\n",
      "Epoch 53/100\n",
      "62/62 - 0s - loss: 0.0033 - rmse: 0.0578 - val_loss: 0.0403 - val_rmse: 0.2008 - 121ms/epoch - 2ms/step\n",
      "Epoch 54/100\n",
      "62/62 - 0s - loss: 0.0031 - rmse: 0.0556 - val_loss: 0.0407 - val_rmse: 0.2017 - 135ms/epoch - 2ms/step\n",
      "Epoch 55/100\n",
      "62/62 - 0s - loss: 0.0031 - rmse: 0.0558 - val_loss: 0.0424 - val_rmse: 0.2060 - 123ms/epoch - 2ms/step\n",
      "Epoch 56/100\n",
      "62/62 - 0s - loss: 0.0033 - rmse: 0.0571 - val_loss: 0.0395 - val_rmse: 0.1987 - 120ms/epoch - 2ms/step\n",
      "Epoch 57/100\n",
      "62/62 - 0s - loss: 0.0033 - rmse: 0.0577 - val_loss: 0.0409 - val_rmse: 0.2022 - 121ms/epoch - 2ms/step\n",
      "Epoch 58/100\n",
      "62/62 - 0s - loss: 0.0034 - rmse: 0.0583 - val_loss: 0.0390 - val_rmse: 0.1975 - 119ms/epoch - 2ms/step\n",
      "Epoch 59/100\n",
      "62/62 - 0s - loss: 0.0035 - rmse: 0.0592 - val_loss: 0.0468 - val_rmse: 0.2164 - 116ms/epoch - 2ms/step\n",
      "Epoch 60/100\n",
      "62/62 - 0s - loss: 0.0033 - rmse: 0.0576 - val_loss: 0.0397 - val_rmse: 0.1992 - 114ms/epoch - 2ms/step\n",
      "Epoch 61/100\n",
      "62/62 - 0s - loss: 0.0034 - rmse: 0.0581 - val_loss: 0.0442 - val_rmse: 0.2102 - 124ms/epoch - 2ms/step\n",
      "Epoch 62/100\n",
      "62/62 - 0s - loss: 0.0034 - rmse: 0.0586 - val_loss: 0.0411 - val_rmse: 0.2028 - 124ms/epoch - 2ms/step\n",
      "Epoch 63/100\n",
      "62/62 - 0s - loss: 0.0034 - rmse: 0.0582 - val_loss: 0.0423 - val_rmse: 0.2057 - 118ms/epoch - 2ms/step\n",
      "Epoch 64/100\n",
      "62/62 - 0s - loss: 0.0032 - rmse: 0.0567 - val_loss: 0.0423 - val_rmse: 0.2058 - 116ms/epoch - 2ms/step\n",
      "Epoch 65/100\n",
      "62/62 - 0s - loss: 0.0032 - rmse: 0.0568 - val_loss: 0.0455 - val_rmse: 0.2133 - 116ms/epoch - 2ms/step\n",
      "Epoch 66/100\n",
      "62/62 - 0s - loss: 0.0033 - rmse: 0.0577 - val_loss: 0.0423 - val_rmse: 0.2057 - 114ms/epoch - 2ms/step\n",
      "Epoch 67/100\n",
      "62/62 - 0s - loss: 0.0033 - rmse: 0.0571 - val_loss: 0.0367 - val_rmse: 0.1915 - 116ms/epoch - 2ms/step\n",
      "Epoch 68/100\n",
      "62/62 - 0s - loss: 0.0033 - rmse: 0.0578 - val_loss: 0.0408 - val_rmse: 0.2020 - 115ms/epoch - 2ms/step\n",
      "Epoch 69/100\n",
      "62/62 - 0s - loss: 0.0034 - rmse: 0.0585 - val_loss: 0.0437 - val_rmse: 0.2090 - 117ms/epoch - 2ms/step\n",
      "Epoch 70/100\n",
      "62/62 - 0s - loss: 0.0032 - rmse: 0.0569 - val_loss: 0.0458 - val_rmse: 0.2140 - 117ms/epoch - 2ms/step\n",
      "Epoch 71/100\n",
      "62/62 - 0s - loss: 0.0034 - rmse: 0.0587 - val_loss: 0.0458 - val_rmse: 0.2139 - 117ms/epoch - 2ms/step\n",
      "Epoch 72/100\n",
      "62/62 - 0s - loss: 0.0034 - rmse: 0.0580 - val_loss: 0.0395 - val_rmse: 0.1987 - 116ms/epoch - 2ms/step\n",
      "Epoch 73/100\n",
      "62/62 - 0s - loss: 0.0033 - rmse: 0.0572 - val_loss: 0.0389 - val_rmse: 0.1972 - 114ms/epoch - 2ms/step\n",
      "Epoch 74/100\n",
      "62/62 - 0s - loss: 0.0032 - rmse: 0.0564 - val_loss: 0.0366 - val_rmse: 0.1912 - 114ms/epoch - 2ms/step\n",
      "Epoch 75/100\n",
      "62/62 - 0s - loss: 0.0035 - rmse: 0.0593 - val_loss: 0.0420 - val_rmse: 0.2049 - 117ms/epoch - 2ms/step\n",
      "Epoch 76/100\n",
      "62/62 - 0s - loss: 0.0034 - rmse: 0.0582 - val_loss: 0.0392 - val_rmse: 0.1981 - 116ms/epoch - 2ms/step\n",
      "Epoch 77/100\n",
      "62/62 - 0s - loss: 0.0033 - rmse: 0.0572 - val_loss: 0.0389 - val_rmse: 0.1971 - 114ms/epoch - 2ms/step\n",
      "Epoch 78/100\n",
      "62/62 - 0s - loss: 0.0033 - rmse: 0.0573 - val_loss: 0.0419 - val_rmse: 0.2047 - 114ms/epoch - 2ms/step\n",
      "Epoch 79/100\n",
      "62/62 - 0s - loss: 0.0033 - rmse: 0.0576 - val_loss: 0.0391 - val_rmse: 0.1978 - 117ms/epoch - 2ms/step\n",
      "Epoch 80/100\n",
      "62/62 - 0s - loss: 0.0032 - rmse: 0.0564 - val_loss: 0.0446 - val_rmse: 0.2111 - 113ms/epoch - 2ms/step\n",
      "Epoch 81/100\n",
      "62/62 - 0s - loss: 0.0033 - rmse: 0.0577 - val_loss: 0.0444 - val_rmse: 0.2106 - 118ms/epoch - 2ms/step\n",
      "Epoch 82/100\n",
      "62/62 - 0s - loss: 0.0034 - rmse: 0.0581 - val_loss: 0.0419 - val_rmse: 0.2048 - 115ms/epoch - 2ms/step\n",
      "Epoch 83/100\n",
      "62/62 - 0s - loss: 0.0033 - rmse: 0.0578 - val_loss: 0.0455 - val_rmse: 0.2133 - 119ms/epoch - 2ms/step\n",
      "Epoch 84/100\n",
      "62/62 - 0s - loss: 0.0033 - rmse: 0.0571 - val_loss: 0.0399 - val_rmse: 0.1998 - 127ms/epoch - 2ms/step\n",
      "Epoch 85/100\n",
      "62/62 - 0s - loss: 0.0033 - rmse: 0.0576 - val_loss: 0.0394 - val_rmse: 0.1984 - 127ms/epoch - 2ms/step\n",
      "Epoch 86/100\n",
      "62/62 - 0s - loss: 0.0033 - rmse: 0.0575 - val_loss: 0.0446 - val_rmse: 0.2113 - 122ms/epoch - 2ms/step\n",
      "Epoch 87/100\n",
      "62/62 - 0s - loss: 0.0034 - rmse: 0.0582 - val_loss: 0.0405 - val_rmse: 0.2012 - 116ms/epoch - 2ms/step\n",
      "Epoch 88/100\n",
      "62/62 - 0s - loss: 0.0034 - rmse: 0.0581 - val_loss: 0.0447 - val_rmse: 0.2114 - 115ms/epoch - 2ms/step\n",
      "Epoch 89/100\n",
      "62/62 - 0s - loss: 0.0034 - rmse: 0.0581 - val_loss: 0.0410 - val_rmse: 0.2024 - 116ms/epoch - 2ms/step\n",
      "Epoch 90/100\n",
      "62/62 - 0s - loss: 0.0034 - rmse: 0.0585 - val_loss: 0.0394 - val_rmse: 0.1986 - 115ms/epoch - 2ms/step\n",
      "Epoch 91/100\n",
      "62/62 - 0s - loss: 0.0034 - rmse: 0.0580 - val_loss: 0.0410 - val_rmse: 0.2025 - 115ms/epoch - 2ms/step\n",
      "Epoch 92/100\n",
      "62/62 - 0s - loss: 0.0031 - rmse: 0.0561 - val_loss: 0.0430 - val_rmse: 0.2073 - 116ms/epoch - 2ms/step\n",
      "Epoch 93/100\n",
      "62/62 - 0s - loss: 0.0033 - rmse: 0.0578 - val_loss: 0.0396 - val_rmse: 0.1990 - 116ms/epoch - 2ms/step\n",
      "Epoch 94/100\n",
      "62/62 - 0s - loss: 0.0035 - rmse: 0.0591 - val_loss: 0.0441 - val_rmse: 0.2099 - 117ms/epoch - 2ms/step\n",
      "Epoch 95/100\n",
      "62/62 - 0s - loss: 0.0034 - rmse: 0.0583 - val_loss: 0.0438 - val_rmse: 0.2094 - 116ms/epoch - 2ms/step\n",
      "Epoch 96/100\n",
      "62/62 - 0s - loss: 0.0034 - rmse: 0.0586 - val_loss: 0.0429 - val_rmse: 0.2072 - 117ms/epoch - 2ms/step\n",
      "Epoch 97/100\n",
      "62/62 - 0s - loss: 0.0033 - rmse: 0.0571 - val_loss: 0.0383 - val_rmse: 0.1956 - 115ms/epoch - 2ms/step\n",
      "Epoch 98/100\n",
      "62/62 - 0s - loss: 0.0035 - rmse: 0.0595 - val_loss: 0.0458 - val_rmse: 0.2139 - 116ms/epoch - 2ms/step\n",
      "Epoch 99/100\n",
      "62/62 - 0s - loss: 0.0035 - rmse: 0.0589 - val_loss: 0.0432 - val_rmse: 0.2077 - 116ms/epoch - 2ms/step\n",
      "Epoch 100/100\n",
      "62/62 - 0s - loss: 0.0032 - rmse: 0.0570 - val_loss: 0.0445 - val_rmse: 0.2110 - 116ms/epoch - 2ms/step\n"
     ]
    }
   ],
   "source": [
    "model1.compile(loss='mse', optimizer=opt, metrics=[tf.keras.metrics.RootMeanSquaredError(name='rmse')])\n",
    "\n",
    "rmseplot = model1.fit(x_train, y_train, epochs = 100, batch_size=64, verbose=2, validation_data=(x_test, y_test))"
   ]
  },
  {
   "cell_type": "code",
   "execution_count": 32,
   "id": "891decaf",
   "metadata": {
    "id": "891decaf",
    "outputId": "48cd46f8-a332-4750-8197-e9097980a84e"
   },
   "outputs": [
    {
     "name": "stdout",
     "output_type": "stream",
     "text": [
      "123/123 - 0s - loss: 7.2081e-04 - rmse: 0.0268 - 120ms/epoch - 974us/step\n",
      "Akurasi Training: 0.02684788405895233\n"
     ]
    }
   ],
   "source": [
    "score = model1.evaluate(x_train, y_train, batch_size = 32, verbose = 2)\n",
    "print('Akurasi Training:', score[1])"
   ]
  },
  {
   "cell_type": "markdown",
   "id": "f56484d9",
   "metadata": {
    "id": "f56484d9"
   },
   "source": [
    "# Tuning Test"
   ]
  },
  {
   "cell_type": "markdown",
   "id": "ce261b15",
   "metadata": {
    "id": "ce261b15"
   },
   "source": [
    "Membuat tuning test dari hasil model yang telah dibuat dengan menggunakan perbandingan yang lainnya"
   ]
  },
  {
   "cell_type": "code",
   "execution_count": 33,
   "id": "5323a006",
   "metadata": {
    "id": "5323a006",
    "outputId": "c5c2f796-a524-462b-e35b-1e5864dcbaab"
   },
   "outputs": [
    {
     "name": "stdout",
     "output_type": "stream",
     "text": [
      "Shape x_train: (3920, 1, 15)\n",
      "Shape y_train: (3920,)\n",
      "Timesteps: 1\n",
      "Features: 15\n"
     ]
    }
   ],
   "source": [
    "print(\"Shape x_train:\", x_train.shape)\n",
    "# Output: (jumlah_sampel, timesteps, features)\n",
    "\n",
    "# Misalkan y_train adalah dataset target\n",
    "print(\"Shape y_train:\", y_train.shape)\n",
    "# Output: (jumlah_sampel,)\n",
    "\n",
    "# Ambil nilai timesteps dari x_train\n",
    "timesteps = x_train.shape[1]\n",
    "print(\"Timesteps:\", timesteps)\n",
    "\n",
    "# Ambil nilai features dari x_train\n",
    "features = x_train.shape[2]\n",
    "print(\"Features:\", features)"
   ]
  },
  {
   "cell_type": "code",
   "execution_count": 34,
   "id": "9d0c1641",
   "metadata": {
    "id": "9d0c1641",
    "outputId": "02b0da00-211c-4573-94d2-e732c2f52215"
   },
   "outputs": [
    {
     "name": "stderr",
     "output_type": "stream",
     "text": [
      "C:\\Users\\Alfaisal\\AppData\\Local\\Temp\\ipykernel_8256\\3761055048.py:20: DeprecationWarning: KerasClassifier is deprecated, use Sci-Keras (https://github.com/adriangb/scikeras) instead. See https://www.adriangb.com/scikeras/stable/migration.html for help migrating.\n",
      "  model = KerasClassifier(build_fn=create_model)\n"
     ]
    },
    {
     "name": "stdout",
     "output_type": "stream",
     "text": [
      "98/98 [==============================] - 1s 1ms/step - loss: -281.3851 - accuracy: 6.3776e-04\n",
      "25/25 [==============================] - 0s 931us/step - loss: 5.0481 - accuracy: 0.6786\n",
      "98/98 [==============================] - 1s 1ms/step - loss: 4769.6343 - accuracy: 0.0019\n",
      "25/25 [==============================] - 0s 970us/step - loss: 2184.1843 - accuracy: 0.0000e+00\n",
      "98/98 [==============================] - 1s 1ms/step - loss: 262.9886 - accuracy: 0.0019\n",
      "25/25 [==============================] - 0s 990us/step - loss: 61.0355 - accuracy: 0.0000e+00\n",
      "98/98 [==============================] - 1s 1ms/step - loss: 4077.2825 - accuracy: 0.0019\n",
      "25/25 [==============================] - 0s 946us/step - loss: 5117.2651 - accuracy: 0.0000e+00\n",
      "98/98 [==============================] - 1s 1ms/step - loss: 1506.3639 - accuracy: 0.0019\n",
      "25/25 [==============================] - 0s 919us/step - loss: -648.8089 - accuracy: 0.0000e+00\n",
      "98/98 [==============================] - 1s 2ms/step - loss: 4342.1821 - accuracy: 6.3776e-04\n",
      "25/25 [==============================] - 1s 1ms/step - loss: 56.8402 - accuracy: 0.6786\n",
      "98/98 [==============================] - 1s 2ms/step - loss: -213.7042 - accuracy: 0.0019\n",
      "25/25 [==============================] - 0s 1ms/step - loss: 144.1257 - accuracy: 0.0000e+00\n",
      "98/98 [==============================] - 1s 2ms/step - loss: -1979.2285 - accuracy: 0.0019\n",
      "25/25 [==============================] - 0s 1ms/step - loss: -1251.9155 - accuracy: 0.0000e+00\n",
      "98/98 [==============================] - 1s 2ms/step - loss: -1244.9580 - accuracy: 0.0019\n",
      "25/25 [==============================] - 0s 1ms/step - loss: -4961.0894 - accuracy: 0.0000e+00\n",
      "98/98 [==============================] - 1s 2ms/step - loss: 541.9228 - accuracy: 0.0019\n",
      "25/25 [==============================] - 0s 1ms/step - loss: -4523.7012 - accuracy: 0.0000e+00\n",
      "98/98 [==============================] - 1s 2ms/step - loss: -1633.7858 - accuracy: 6.3776e-04\n",
      "25/25 [==============================] - 0s 1ms/step - loss: 1.4340 - accuracy: 0.6786\n",
      "98/98 [==============================] - 1s 2ms/step - loss: 4769.6338 - accuracy: 0.0019\n",
      "25/25 [==============================] - 1s 2ms/step - loss: 2184.1843 - accuracy: 0.0000e+00\n",
      "98/98 [==============================] - 1s 4ms/step - loss: -1809.5807 - accuracy: 0.0019\n",
      "25/25 [==============================] - 0s 1ms/step - loss: -1759.7068 - accuracy: 0.0000e+00\n",
      "98/98 [==============================] - 1s 3ms/step - loss: 4077.2822 - accuracy: 0.0019\n",
      "25/25 [==============================] - 0s 1ms/step - loss: 5117.2651 - accuracy: 0.0000e+00\n",
      "98/98 [==============================] - 1s 3ms/step - loss: 3608.8479 - accuracy: 0.0019\n",
      "25/25 [==============================] - 0s 1ms/step - loss: 7881.1479 - accuracy: 0.0000e+00\n",
      "98/98 [==============================] - 1s 1ms/step - loss: -1849.9001 - accuracy: 6.3776e-04\n",
      "25/25 [==============================] - 0s 1ms/step - loss: 0.7981 - accuracy: 0.6786\n",
      "98/98 [==============================] - 1s 1ms/step - loss: -860.1862 - accuracy: 0.0019\n",
      "25/25 [==============================] - 0s 1ms/step - loss: 143.8406 - accuracy: 0.0000e+00\n",
      "98/98 [==============================] - 1s 1ms/step - loss: 185.9939 - accuracy: 0.0019 \n",
      "25/25 [==============================] - 0s 993us/step - loss: -254.2952 - accuracy: 0.0000e+00\n",
      "98/98 [==============================] - 1s 1ms/step - loss: -1230.4939 - accuracy: 0.0019\n",
      "25/25 [==============================] - 0s 1000us/step - loss: -5043.7256 - accuracy: 0.0000e+00\n",
      "98/98 [==============================] - 1s 2ms/step - loss: 522.5004 - accuracy: 0.0019\n",
      "25/25 [==============================] - 0s 939us/step - loss: -5266.7100 - accuracy: 0.0000e+00\n",
      "98/98 [==============================] - 1s 2ms/step - loss: 4342.1826 - accuracy: 6.3776e-04\n",
      "25/25 [==============================] - 0s 1ms/step - loss: 56.8402 - accuracy: 0.6786\n",
      "98/98 [==============================] - 1s 2ms/step - loss: -2220.7063 - accuracy: 0.0019\n",
      "25/25 [==============================] - 0s 1ms/step - loss: -136.1868 - accuracy: 0.0000e+00\n",
      "98/98 [==============================] - 1s 2ms/step - loss: -1971.2972 - accuracy: 0.0019\n",
      "25/25 [==============================] - 0s 1ms/step - loss: -1718.2006 - accuracy: 0.0000e+00\n",
      "98/98 [==============================] - 1s 2ms/step - loss: 3159.8293 - accuracy: 0.0019\n",
      "25/25 [==============================] - 0s 1ms/step - loss: 275.5459 - accuracy: 0.0000e+00\n",
      "98/98 [==============================] - 1s 2ms/step - loss: -1080.9689 - accuracy: 0.0019\n",
      "25/25 [==============================] - 0s 1ms/step - loss: -7776.1187 - accuracy: 0.0000e+00\n",
      "98/98 [==============================] - 2s 6ms/step - loss: -1506.7916 - accuracy: 6.3776e-04\n",
      "25/25 [==============================] - 0s 1ms/step - loss: 1.4264 - accuracy: 0.6786\n",
      "98/98 [==============================] - 1s 5ms/step - loss: -1783.3516 - accuracy: 0.0019\n",
      "25/25 [==============================] - 0s 2ms/step - loss: -80.2507 - accuracy: 0.0000e+00\n",
      "98/98 [==============================] - 1s 5ms/step - loss: 4824.0142 - accuracy: 0.0019\n",
      "25/25 [==============================] - 0s 1ms/step - loss: 3874.7507 - accuracy: 0.0000e+00\n",
      "98/98 [==============================] - 1s 5ms/step - loss: 4077.2834 - accuracy: 0.0019\n",
      "25/25 [==============================] - 0s 1ms/step - loss: 5117.2651 - accuracy: 0.0000e+00\n",
      "98/98 [==============================] - 1s 5ms/step - loss: -1145.9409 - accuracy: 0.0019\n",
      "25/25 [==============================] - 0s 1ms/step - loss: -7776.1187 - accuracy: 0.0000e+00\n",
      "98/98 [==============================] - 1s 1ms/step - loss: -3660.1606 - accuracy: 3.1888e-04\n",
      "25/25 [==============================] - 0s 967us/step - loss: -40.9434 - accuracy: 0.0332\n",
      "98/98 [==============================] - 1s 1ms/step - loss: -3582.0574 - accuracy: 0.0019\n",
      "25/25 [==============================] - 0s 901us/step - loss: -2144.0544 - accuracy: 0.0000e+00\n",
      "98/98 [==============================] - 1s 1ms/step - loss: 4824.0151 - accuracy: 0.0019\n",
      "25/25 [==============================] - 0s 999us/step - loss: 3874.7507 - accuracy: 0.0000e+00\n",
      "98/98 [==============================] - 1s 1ms/step - loss: 4077.2825 - accuracy: 0.0019\n",
      "25/25 [==============================] - 0s 998us/step - loss: 5117.2651 - accuracy: 0.0000e+00\n",
      "98/98 [==============================] - 1s 1ms/step - loss: 3608.8477 - accuracy: 0.0019\n",
      "25/25 [==============================] - 0s 1ms/step - loss: 7881.1479 - accuracy: 0.0000e+00\n",
      "98/98 [==============================] - 1s 2ms/step - loss: -3314.5149 - accuracy: 3.1888e-04\n",
      "25/25 [==============================] - 0s 1ms/step - loss: -40.9434 - accuracy: 0.0332\n",
      "98/98 [==============================] - 1s 2ms/step - loss: -4300.6826 - accuracy: 0.0019\n",
      "25/25 [==============================] - 0s 1ms/step - loss: -2144.0544 - accuracy: 0.0000e+00\n",
      "98/98 [==============================] - 1s 2ms/step - loss: 4824.0156 - accuracy: 0.0019\n",
      "25/25 [==============================] - 0s 1ms/step - loss: 3874.7507 - accuracy: 0.0000e+00\n",
      "98/98 [==============================] - 1s 2ms/step - loss: -3470.2986 - accuracy: 0.0019\n",
      "25/25 [==============================] - 0s 989us/step - loss: -5043.7256 - accuracy: 0.0000e+00\n",
      "98/98 [==============================] - 1s 2ms/step - loss: -3324.8228 - accuracy: 0.0019\n",
      "25/25 [==============================] - 0s 1ms/step - loss: -7776.1187 - accuracy: 0.0000e+00\n",
      "98/98 [==============================] - 1s 4ms/step - loss: -3779.3770 - accuracy: 3.1888e-04\n",
      "25/25 [==============================] - 0s 1ms/step - loss: -40.9434 - accuracy: 0.0332\n",
      "98/98 [==============================] - 1s 3ms/step - loss: -4129.7617 - accuracy: 0.0019\n",
      "25/25 [==============================] - 0s 1ms/step - loss: -2144.0544 - accuracy: 0.0000e+00\n",
      "98/98 [==============================] - 1s 4ms/step - loss: 4824.0151 - accuracy: 0.0019\n",
      "25/25 [==============================] - 0s 1ms/step - loss: 3874.7507 - accuracy: 0.0000e+00\n",
      "98/98 [==============================] - 1s 4ms/step - loss: 4077.2812 - accuracy: 0.0019\n",
      "25/25 [==============================] - 0s 1ms/step - loss: 5117.2651 - accuracy: 0.0000e+00\n",
      "98/98 [==============================] - 1s 4ms/step - loss: -3370.6003 - accuracy: 0.0019\n",
      "25/25 [==============================] - 0s 1ms/step - loss: -7776.1187 - accuracy: 0.0000e+00\n",
      "98/98 [==============================] - 1s 1ms/step - loss: -4013.6299 - accuracy: 3.1888e-04\n",
      "25/25 [==============================] - 0s 928us/step - loss: -40.9434 - accuracy: 0.0332\n",
      "98/98 [==============================] - 1s 1ms/step - loss: -4700.0513 - accuracy: 0.0019\n",
      "25/25 [==============================] - 0s 918us/step - loss: -2144.0544 - accuracy: 0.0000e+00\n",
      "98/98 [==============================] - 1s 1ms/step - loss: -4062.0273 - accuracy: 0.0019\n",
      "25/25 [==============================] - 0s 925us/step - loss: -3815.3633 - accuracy: 0.0000e+00\n",
      "98/98 [==============================] - 1s 1ms/step - loss: -2452.0671 - accuracy: 0.0019\n",
      "25/25 [==============================] - 0s 939us/step - loss: -5043.7256 - accuracy: 0.0000e+00\n",
      "98/98 [==============================] - 1s 1ms/step - loss: 3608.8472 - accuracy: 0.0019\n",
      "25/25 [==============================] - 0s 931us/step - loss: 7881.1479 - accuracy: 0.0000e+00\n",
      "98/98 [==============================] - 1s 2ms/step - loss: 4342.1826 - accuracy: 6.3776e-04\n",
      "25/25 [==============================] - 0s 1ms/step - loss: 56.8402 - accuracy: 0.6786\n",
      "98/98 [==============================] - 1s 2ms/step - loss: 4769.6328 - accuracy: 0.0019\n",
      "25/25 [==============================] - 0s 1ms/step - loss: 2184.1843 - accuracy: 0.0000e+00\n",
      "98/98 [==============================] - 1s 2ms/step - loss: -4296.2446 - accuracy: 0.0016\n",
      "25/25 [==============================] - 0s 1ms/step - loss: -3815.3633 - accuracy: 0.0000e+00\n",
      "98/98 [==============================] - 1s 2ms/step - loss: -2281.8752 - accuracy: 0.0016\n",
      "25/25 [==============================] - 0s 1ms/step - loss: -5043.7256 - accuracy: 0.0000e+00\n",
      "98/98 [==============================] - 1s 2ms/step - loss: 3608.8479 - accuracy: 0.0019\n",
      "25/25 [==============================] - 0s 1ms/step - loss: 7881.1479 - accuracy: 0.0000e+00\n",
      "98/98 [==============================] - 1s 4ms/step - loss: -4156.8174 - accuracy: 3.1888e-04\n",
      "25/25 [==============================] - 0s 1ms/step - loss: -44.3358 - accuracy: 0.0332\n",
      "98/98 [==============================] - 1s 4ms/step - loss: -4514.1978 - accuracy: 0.0019\n",
      "25/25 [==============================] - 0s 1ms/step - loss: -2144.0544 - accuracy: 0.0000e+00\n",
      "98/98 [==============================] - 1s 4ms/step - loss: 4824.0151 - accuracy: 0.0019\n",
      "25/25 [==============================] - 0s 1ms/step - loss: 3874.7507 - accuracy: 0.0000e+00\n",
      "98/98 [==============================] - 1s 4ms/step - loss: 4077.2815 - accuracy: 0.0019\n",
      "25/25 [==============================] - 0s 2ms/step - loss: 5117.2651 - accuracy: 0.0000e+00\n",
      "98/98 [==============================] - 1s 4ms/step - loss: -3278.7820 - accuracy: 0.0019\n",
      "25/25 [==============================] - 0s 1ms/step - loss: -7776.1187 - accuracy: 0.0000e+00\n",
      "123/123 [==============================] - 1s 2ms/step - loss: -1642.3574 - accuracy: 0.0015\n",
      "Parameter terbaik: {'activation': 'tanh', 'optimizer': 'adam', 'units': 50}\n",
      "Skor akurasi terbaik: 0.13571428060531615\n"
     ]
    }
   ],
   "source": [
    "import numpy as np\n",
    "from sklearn.model_selection import GridSearchCV\n",
    "from keras.models import Sequential\n",
    "from keras.layers import LSTM, Dense\n",
    "from keras.wrappers.scikit_learn import KerasClassifier\n",
    "\n",
    "# Placeholder values for timesteps and features\n",
    "timesteps = 1\n",
    "features = 15\n",
    "\n",
    "# Fungsi untuk membuat model LSTM\n",
    "def create_model(units=50, activation='tanh', optimizer='opt'):\n",
    "    model = Sequential()\n",
    "    model.add(LSTM(units=units, activation=activation, input_shape=(timesteps, features)))\n",
    "    model.add(Dense(1))\n",
    "    model.compile(loss='binary_crossentropy', optimizer=optimizer, metrics=['accuracy'])\n",
    "    return model\n",
    "\n",
    "# Membuat objek KerasClassifier\n",
    "model = KerasClassifier(build_fn=create_model)\n",
    "\n",
    "# Mendefinisikan hyperparameter yang ingin diuji\n",
    "param_grid = {\n",
    "    'units': [50, 100, 200],\n",
    "    'activation': ['tanh', 'sigmoid'],\n",
    "    'optimizer': ['adam', 'rmsprop']\n",
    "}\n",
    "\n",
    "# Membuat objek GridSearchCV\n",
    "grid_search = GridSearchCV(estimator=model, param_grid=param_grid, cv=5)\n",
    "\n",
    "# Melakukan proses tuning dengan fit\n",
    "grid_search.fit(x_train, y_train)\n",
    "\n",
    "# Menampilkan parameter terbaik\n",
    "print(\"Parameter terbaik:\", grid_search.best_params_)\n",
    "\n",
    "# Menampilkan skor akurasi terbaik\n",
    "print(\"Skor akurasi terbaik:\", grid_search.best_score_)"
   ]
  },
  {
   "cell_type": "markdown",
   "id": "a6852ce5",
   "metadata": {
    "id": "a6852ce5"
   },
   "source": [
    "# Visualisasi Model LSTM"
   ]
  },
  {
   "cell_type": "code",
   "execution_count": 35,
   "id": "4f8b19c5",
   "metadata": {
    "id": "4f8b19c5",
    "outputId": "0465e7ca-def2-46ce-fec2-58785ccaa5e5"
   },
   "outputs": [
    {
     "name": "stdout",
     "output_type": "stream",
     "text": [
      "123/123 [==============================] - 0s 935us/step\n",
      "31/31 [==============================] - 0s 822us/step\n",
      "Skor Training: 0.29 RMSE\n",
      "Skor Testing: 0.11 RMSE\n",
      "Skor Training: 0.08 MSE\n",
      "Skor Testing: 0.01 MSE\n"
     ]
    }
   ],
   "source": [
    "train_predict = model1.predict(x_train)\n",
    "test_predict = model1.predict(x_test)\n",
    "\n",
    "\n",
    "# #invert prediksi\n",
    "\n",
    "train_predict = min_max_scaler.fit_transform(train_predict)\n",
    "y_train = min_max_scaler.inverse_transform([y_train])\n",
    "\n",
    "test_predict = min_max_scaler.inverse_transform(test_predict)\n",
    "y_test = min_max_scaler.inverse_transform([y_test])\n",
    "\n",
    "#kalkulasi untuk root mean squared error\n",
    "\n",
    "train_score = math.sqrt(mean_squared_error(y_train[0], train_predict[:,0]))\n",
    "print('Skor Training: %.2f RMSE' % (train_score))\n",
    "\n",
    "test_score = math.sqrt(mean_squared_error(y_test[0], test_predict[:,0]))\n",
    "print('Skor Testing: %.2f RMSE' % (test_score))\n",
    "\n",
    "#hitung MSE\n",
    "train_score1 = mean_squared_error(y_train[0], train_predict[:,0])\n",
    "print('Skor Training: %.2f MSE' % (train_score1))\n",
    "\n",
    "test_score1 = mean_squared_error(y_test[0], test_predict[:,0])\n",
    "print('Skor Testing: %.2f MSE' % (test_score1))"
   ]
  },
  {
   "cell_type": "code",
   "execution_count": 36,
   "id": "6095c982",
   "metadata": {
    "id": "6095c982",
    "outputId": "8908b857-b086-444b-9556-a07d56fb2e06"
   },
   "outputs": [
    {
     "data": {
      "image/png": "[encoded data removed]",
      "text/plain": [
       "<Figure size 1500x800 with 1 Axes>"
      ]
     },
     "metadata": {},
     "output_type": "display_data"
    }
   ],
   "source": [
    "#plotting untuk train prediction\n",
    "train_predict_plot = np.empty_like(dataset)\n",
    "train_predict_plot[:, :] = np.nan\n",
    "train_predict_plot[look_back:len(train_predict)+look_back, :] = train_predict\n",
    "\n",
    "# plotting untuk test prediction\n",
    "test_predict_plot = np.empty_like(dataset)\n",
    "test_predict_plot[:, :] = np.nan\n",
    "test_predict_plot[len(train_predict)+(look_back*2)+1:len(dataset)-1, :] = test_predict\n",
    "\n",
    "#plot\n",
    "plt.figure(figsize=(15, 8))\n",
    "plt.plot(min_max_scaler.inverse_transform(dataset), color='r', label='Real data')\n",
    "plt.plot(train_predict_plot, color='b', label='Predicted Train')\n",
    "plt.plot(test_predict_plot, color='black', label = 'Predicted Test')\n",
    "plt.xticks(size=15)\n",
    "plt.yticks(size=15)\n",
    "plt.xlabel(\"Jumlah per hari\", size=15)\n",
    "plt.ylabel(\"Jumlah total konfirmasi\", size=15)\n",
    "plt.legend(loc='best')\n",
    "plt.show()"
   ]
  },
  {
   "cell_type": "markdown",
   "id": "8a80bd50",
   "metadata": {
    "id": "8a80bd50"
   },
   "source": [
    "# Kesimpulan"
   ]
  },
  {
   "cell_type": "markdown",
   "id": "c449671e",
   "metadata": {
    "id": "c449671e"
   },
   "source": [
    "- Untuk memprediksi saham, kami menggunakan data BBCA.\n",
    "\n",
    "- Kami menggunakan algoritma LSTM (Long Short-Term Memory) untuk melakukan prediksi.\n",
    "\n",
    "- Pada awalnya, kami membuat visualisasi data dengan beberapa kolom: High, Open, Low, dan Close. Namun, kami hanya menggunakan kolom High karena kami ingin menggunakan algoritma ini.\n",
    "\n",
    "- Kemudian membuat visualisasi antara data latihan dan tes dari kolom High\n",
    "\n",
    "- Meningkatkan ukuran data dan mengubahnya ke matriks\n",
    "\n",
    "- Membangun model LSTM menggunakan fungsi Squential(), aktivasi: \"tanh\" dengan optimizer Adam. Selain itu, kami menggunakan epochs:100 dan menggunakan tes x dan y untuk validasi data.\n",
    "\n",
    "- Model dievaluasi dan diperoleh Accuracy Train: 0.02684788405895233. Walaupun masih rendah, kami juga melakukan pengaturan tes untuk menentukan parameter mana yang terbaik. Selain itu, setelah tes pengaturan, tunh adalah parameter yang paling cocok untuk digunakan.\n",
    "\n",
    "- Melakukan kalkulasi root mean squared error untuk membuat visualisasi model LSTM. Outputnya secara keseluruhan tidak mencapai 0, tetapi setidaknya menurut kami itu cukup baik karena perbedaannya tidak terlalu jauh dari 0.\n",
    "\n",
    "- Membuat plot yang menunjukkan visualisasi dari data asli dan data model LSTM yang telah dibuat; visualisasi ini menunjukkan bahwa data yang dihasilkan tidak terlalu overfitting.\n",
    "\n",
    "- Menciptakan visualisasi MSE dan epochsuntuKami menyimpulkan bahwa, walaupun LSTM menghasilkan data yang baik, masih terdapat beberapa output yang belum sempurna. Namun, dengan melakukan uji tuning, kita dapat mengevaluasi lebih tepat apakah model yang diterapkan sudah siap untuk digunakan atau tidak."
   ]
  }
 ],
 "metadata": {
  "colab": {
   "provenance": []
  },
  "kernelspec": {
   "display_name": "Python 3 (ipykernel)",
   "language": "python",
   "name": "python3"
  },
  "language_info": {
   "codemirror_mode": {
    "name": "ipython",
    "version": 3
   },
   "file_extension": ".py",
   "mimetype": "text/x-python",
   "name": "python",
   "nbconvert_exporter": "python",
   "pygments_lexer": "ipython3",
   "version": "3.11.7"
  }
 },
 "nbformat": 4,
 "nbformat_minor": 5
}
