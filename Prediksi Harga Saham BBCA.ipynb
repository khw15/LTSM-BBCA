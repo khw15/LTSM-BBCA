{
 "cells": [
  {
   "cell_type": "markdown",
   "id": "b3429897",
   "metadata": {
    "id": "b3429897"
   },
   "source": [
    "# Import Library"
   ]
  },
  {
   "cell_type": "markdown",
   "id": "7bf048e6",
   "metadata": {
    "id": "7bf048e6"
   },
   "source": [
    "Library yang digunakan pada proyek ini adalah sebagai berikut:"
   ]
  },
  {
   "cell_type": "code",
   "execution_count": 3,
   "id": "e6cc67a7",
   "metadata": {
    "id": "e6cc67a7",
    "outputId": "0d183141-49df-433e-deb3-b1b5cbf7fca8"
   },
   "outputs": [],
   "source": [
    "import pandas as pd\n",
    "import numpy as np\n",
    "import os\n",
    "import matplotlib.pyplot as plt\n",
    "import tensorflow as tf\n",
    "import datetime as dt\n",
    "from sklearn import preprocessing\n",
    "import math\n",
    "import time\n",
    "from pandas import to_datetime\n",
    "%matplotlib inline\n",
    "from sklearn.model_selection import train_test_split\n",
    "from sklearn.model_selection import train_test_split\n",
    "from sklearn.metrics import mean_squared_error\n",
    "from sklearn.preprocessing import StandardScaler\n",
    "from sklearn.preprocessing import MinMaxScaler\n",
    "from tensorflow.keras.models import Sequential\n",
    "from tensorflow.keras.layers import Dense, Dropout, LSTM, SimpleRNN\n",
    "from tensorflow import keras\n",
    "from tensorflow.keras import layers"
   ]
  },
  {
   "cell_type": "code",
   "execution_count": 4,
   "id": "53883666",
   "metadata": {},
   "outputs": [
    {
     "data": {
      "text/plain": [
       "'2.12.0'"
      ]
     },
     "execution_count": 4,
     "metadata": {},
     "output_type": "execute_result"
    }
   ],
   "source": [
    "tf.__version__"
   ]
  },
  {
   "cell_type": "markdown",
   "id": "8dc0bd59",
   "metadata": {
    "id": "8dc0bd59"
   },
   "source": [
    "# Masuk Pada Dataset"
   ]
  },
  {
   "cell_type": "markdown",
   "id": "4a2684a4",
   "metadata": {
    "id": "4a2684a4"
   },
   "source": [
    "Menggunakan dataset"
   ]
  },
  {
   "cell_type": "code",
   "execution_count": 5,
   "id": "a6609086",
   "metadata": {
    "id": "a6609086",
    "outputId": "8c60afb0-ac18-4d60-9f6a-b4c6130663b0"
   },
   "outputs": [
    {
     "name": "stdout",
     "output_type": "stream",
     "text": [
      "Apakah terdapat nilai null di dataframe? False\n",
      "Apakah terdapat nilai null di kolom High? False\n"
     ]
    }
   ],
   "source": [
    "# Membaca dataset BBCA.csv ke dalam variabel data_bbca\n",
    "data_bbca = pd.read_csv(\"dataset/BBCA.csv\")\n",
    "\n",
    "# Mengecek apakah terdapat nilai null di dalam dataframe\n",
    "apakah_ada_nilai_null_df = data_bbca.isnull().values.any()\n",
    "\n",
    "# Mengecek apakah terdapat nilai null di kolom tertentu, contohnya kolom \"High\"\n",
    "apakah_ada_nilai_null_high = data_bbca[\"High\"].isnull().values.any()\n",
    "\n",
    "# Mencetak hasil pengecekan\n",
    "print(f\"Apakah terdapat nilai null di dataframe? {apakah_ada_nilai_null_df}\")\n",
    "print(f\"Apakah terdapat nilai null di kolom High? {apakah_ada_nilai_null_high}\")"
   ]
  },
  {
   "cell_type": "markdown",
   "id": "0be5b6ed",
   "metadata": {
    "id": "0be5b6ed"
   },
   "source": [
    "Menampilkan bagian atas dari dataset"
   ]
  },
  {
   "cell_type": "code",
   "execution_count": 6,
   "id": "bd1542d8",
   "metadata": {
    "id": "bd1542d8",
    "outputId": "8895c875-09ba-41fd-a423-a7a4fe1a848b"
   },
   "outputs": [
    {
     "data": {
      "text/html": [
       "<div>\n",
       "<style scoped>\n",
       "    .dataframe tbody tr th:only-of-type {\n",
       "        vertical-align: middle;\n",
       "    }\n",
       "\n",
       "    .dataframe tbody tr th {\n",
       "        vertical-align: top;\n",
       "    }\n",
       "\n",
       "    .dataframe thead th {\n",
       "        text-align: right;\n",
       "    }\n",
       "</style>\n",
       "<table border=\"1\" class=\"dataframe\">\n",
       "  <thead>\n",
       "    <tr style=\"text-align: right;\">\n",
       "      <th></th>\n",
       "      <th>Date</th>\n",
       "      <th>Open</th>\n",
       "      <th>High</th>\n",
       "      <th>Low</th>\n",
       "      <th>Close</th>\n",
       "      <th>Adj Close</th>\n",
       "      <th>Volume</th>\n",
       "    </tr>\n",
       "  </thead>\n",
       "  <tbody>\n",
       "    <tr>\n",
       "      <th>0</th>\n",
       "      <td>2004-06-08</td>\n",
       "      <td>175.0</td>\n",
       "      <td>180.0</td>\n",
       "      <td>175.0</td>\n",
       "      <td>177.5</td>\n",
       "      <td>105.656067</td>\n",
       "      <td>499150000</td>\n",
       "    </tr>\n",
       "    <tr>\n",
       "      <th>1</th>\n",
       "      <td>2004-06-09</td>\n",
       "      <td>177.5</td>\n",
       "      <td>182.5</td>\n",
       "      <td>175.0</td>\n",
       "      <td>180.0</td>\n",
       "      <td>107.144203</td>\n",
       "      <td>294290000</td>\n",
       "    </tr>\n",
       "    <tr>\n",
       "      <th>2</th>\n",
       "      <td>2004-06-10</td>\n",
       "      <td>180.0</td>\n",
       "      <td>180.0</td>\n",
       "      <td>177.5</td>\n",
       "      <td>180.0</td>\n",
       "      <td>107.144203</td>\n",
       "      <td>165590000</td>\n",
       "    </tr>\n",
       "    <tr>\n",
       "      <th>3</th>\n",
       "      <td>2004-06-11</td>\n",
       "      <td>177.5</td>\n",
       "      <td>180.0</td>\n",
       "      <td>177.5</td>\n",
       "      <td>180.0</td>\n",
       "      <td>107.144203</td>\n",
       "      <td>135830000</td>\n",
       "    </tr>\n",
       "    <tr>\n",
       "      <th>4</th>\n",
       "      <td>2004-06-14</td>\n",
       "      <td>180.0</td>\n",
       "      <td>180.0</td>\n",
       "      <td>175.0</td>\n",
       "      <td>177.5</td>\n",
       "      <td>105.656067</td>\n",
       "      <td>158540000</td>\n",
       "    </tr>\n",
       "  </tbody>\n",
       "</table>\n",
       "</div>"
      ],
      "text/plain": [
       "         Date   Open   High    Low  Close   Adj Close     Volume\n",
       "0  2004-06-08  175.0  180.0  175.0  177.5  105.656067  499150000\n",
       "1  2004-06-09  177.5  182.5  175.0  180.0  107.144203  294290000\n",
       "2  2004-06-10  180.0  180.0  177.5  180.0  107.144203  165590000\n",
       "3  2004-06-11  177.5  180.0  177.5  180.0  107.144203  135830000\n",
       "4  2004-06-14  180.0  180.0  175.0  177.5  105.656067  158540000"
      ]
     },
     "execution_count": 6,
     "metadata": {},
     "output_type": "execute_result"
    }
   ],
   "source": [
    "data_bbca.head()"
   ]
  },
  {
   "cell_type": "markdown",
   "id": "7d138d8f",
   "metadata": {
    "id": "7d138d8f"
   },
   "source": [
    "# Eksplorasi Data"
   ]
  },
  {
   "cell_type": "markdown",
   "id": "85de1ff2",
   "metadata": {
    "id": "85de1ff2"
   },
   "source": [
    "merujuk ke data_bbca, yang merupakan representasi dari objek pandas dataframe.\n"
   ]
  },
  {
   "cell_type": "code",
   "execution_count": 7,
   "id": "3136a508",
   "metadata": {
    "id": "3136a508",
    "outputId": "d8a1993c-094d-46d0-801e-f2bdb1dc19b2"
   },
   "outputs": [
    {
     "data": {
      "text/plain": [
       "pandas.core.frame.DataFrame"
      ]
     },
     "execution_count": 7,
     "metadata": {},
     "output_type": "execute_result"
    }
   ],
   "source": [
    "type(data_bbca)"
   ]
  },
  {
   "cell_type": "markdown",
   "id": "3d27b539",
   "metadata": {
    "id": "3d27b539"
   },
   "source": [
    "Mengecek dataset untuk data null.\n"
   ]
  },
  {
   "cell_type": "code",
   "execution_count": 8,
   "id": "f913ecbc",
   "metadata": {
    "id": "f913ecbc",
    "outputId": "6ee3ed87-8bd9-456f-af87-a461990941b8"
   },
   "outputs": [
    {
     "data": {
      "text/plain": [
       "Date         0\n",
       "Open         0\n",
       "High         0\n",
       "Low          0\n",
       "Close        0\n",
       "Adj Close    0\n",
       "Volume       0\n",
       "dtype: int64"
      ]
     },
     "execution_count": 8,
     "metadata": {},
     "output_type": "execute_result"
    }
   ],
   "source": [
    "data_bbca.isna().sum()"
   ]
  },
  {
   "cell_type": "markdown",
   "id": "b9bb3f03",
   "metadata": {
    "id": "b9bb3f03"
   },
   "source": [
    "Menghapus kolom yang tidak digunakan dengan menggunakan drop"
   ]
  },
  {
   "cell_type": "code",
   "execution_count": 9,
   "id": "f5d2255c",
   "metadata": {
    "id": "f5d2255c"
   },
   "outputs": [],
   "source": [
    "data_bbca = data_bbca.drop(['Adj Close', 'Volume'], axis='columns')"
   ]
  },
  {
   "cell_type": "code",
   "execution_count": 10,
   "id": "b28d0f77",
   "metadata": {
    "id": "b28d0f77",
    "outputId": "25d89e11-5886-4e2c-94db-9a8f62b66583"
   },
   "outputs": [
    {
     "data": {
      "text/html": [
       "<div>\n",
       "<style scoped>\n",
       "    .dataframe tbody tr th:only-of-type {\n",
       "        vertical-align: middle;\n",
       "    }\n",
       "\n",
       "    .dataframe tbody tr th {\n",
       "        vertical-align: top;\n",
       "    }\n",
       "\n",
       "    .dataframe thead th {\n",
       "        text-align: right;\n",
       "    }\n",
       "</style>\n",
       "<table border=\"1\" class=\"dataframe\">\n",
       "  <thead>\n",
       "    <tr style=\"text-align: right;\">\n",
       "      <th></th>\n",
       "      <th>Date</th>\n",
       "      <th>Open</th>\n",
       "      <th>High</th>\n",
       "      <th>Low</th>\n",
       "      <th>Close</th>\n",
       "    </tr>\n",
       "  </thead>\n",
       "  <tbody>\n",
       "    <tr>\n",
       "      <th>0</th>\n",
       "      <td>2004-06-08</td>\n",
       "      <td>175.0</td>\n",
       "      <td>180.0</td>\n",
       "      <td>175.0</td>\n",
       "      <td>177.5</td>\n",
       "    </tr>\n",
       "    <tr>\n",
       "      <th>1</th>\n",
       "      <td>2004-06-09</td>\n",
       "      <td>177.5</td>\n",
       "      <td>182.5</td>\n",
       "      <td>175.0</td>\n",
       "      <td>180.0</td>\n",
       "    </tr>\n",
       "    <tr>\n",
       "      <th>2</th>\n",
       "      <td>2004-06-10</td>\n",
       "      <td>180.0</td>\n",
       "      <td>180.0</td>\n",
       "      <td>177.5</td>\n",
       "      <td>180.0</td>\n",
       "    </tr>\n",
       "    <tr>\n",
       "      <th>3</th>\n",
       "      <td>2004-06-11</td>\n",
       "      <td>177.5</td>\n",
       "      <td>180.0</td>\n",
       "      <td>177.5</td>\n",
       "      <td>180.0</td>\n",
       "    </tr>\n",
       "    <tr>\n",
       "      <th>4</th>\n",
       "      <td>2004-06-14</td>\n",
       "      <td>180.0</td>\n",
       "      <td>180.0</td>\n",
       "      <td>175.0</td>\n",
       "      <td>177.5</td>\n",
       "    </tr>\n",
       "  </tbody>\n",
       "</table>\n",
       "</div>"
      ],
      "text/plain": [
       "         Date   Open   High    Low  Close\n",
       "0  2004-06-08  175.0  180.0  175.0  177.5\n",
       "1  2004-06-09  177.5  182.5  175.0  180.0\n",
       "2  2004-06-10  180.0  180.0  177.5  180.0\n",
       "3  2004-06-11  177.5  180.0  177.5  180.0\n",
       "4  2004-06-14  180.0  180.0  175.0  177.5"
      ]
     },
     "execution_count": 10,
     "metadata": {},
     "output_type": "execute_result"
    }
   ],
   "source": [
    "#Menampilkan head data setelah menghapus kolom 'Adj Close' dan 'Volume'\n",
    "data_bbca.head()"
   ]
  },
  {
   "cell_type": "markdown",
   "id": "5db9ca23",
   "metadata": {
    "id": "5db9ca23"
   },
   "source": [
    "Menampilkan tipe data dari sisa kolom dataset\n"
   ]
  },
  {
   "cell_type": "code",
   "execution_count": 11,
   "id": "117f18f7",
   "metadata": {
    "id": "117f18f7",
    "outputId": "7b9b6094-7d6d-4c78-9441-714e681a1f77"
   },
   "outputs": [
    {
     "name": "stdout",
     "output_type": "stream",
     "text": [
      "Date      object\n",
      "Open     float64\n",
      "High     float64\n",
      "Low      float64\n",
      "Close    float64\n",
      "dtype: object\n"
     ]
    }
   ],
   "source": [
    "print(data_bbca.dtypes)"
   ]
  },
  {
   "cell_type": "code",
   "execution_count": 12,
   "id": "40db4f93",
   "metadata": {
    "id": "40db4f93",
    "outputId": "0083a03c-66f9-4538-cd77-e9162975546d"
   },
   "outputs": [
    {
     "data": {
      "text/html": [
       "<div>\n",
       "<style scoped>\n",
       "    .dataframe tbody tr th:only-of-type {\n",
       "        vertical-align: middle;\n",
       "    }\n",
       "\n",
       "    .dataframe tbody tr th {\n",
       "        vertical-align: top;\n",
       "    }\n",
       "\n",
       "    .dataframe thead th {\n",
       "        text-align: right;\n",
       "    }\n",
       "</style>\n",
       "<table border=\"1\" class=\"dataframe\">\n",
       "  <thead>\n",
       "    <tr style=\"text-align: right;\">\n",
       "      <th></th>\n",
       "      <th>Date</th>\n",
       "      <th>Open</th>\n",
       "      <th>High</th>\n",
       "      <th>Low</th>\n",
       "      <th>Close</th>\n",
       "    </tr>\n",
       "  </thead>\n",
       "  <tbody>\n",
       "    <tr>\n",
       "      <th>0</th>\n",
       "      <td>2004-06-08</td>\n",
       "      <td>175.0</td>\n",
       "      <td>180.0</td>\n",
       "      <td>175.0</td>\n",
       "      <td>177.5</td>\n",
       "    </tr>\n",
       "    <tr>\n",
       "      <th>1</th>\n",
       "      <td>2004-06-09</td>\n",
       "      <td>177.5</td>\n",
       "      <td>182.5</td>\n",
       "      <td>175.0</td>\n",
       "      <td>180.0</td>\n",
       "    </tr>\n",
       "    <tr>\n",
       "      <th>2</th>\n",
       "      <td>2004-06-10</td>\n",
       "      <td>180.0</td>\n",
       "      <td>180.0</td>\n",
       "      <td>177.5</td>\n",
       "      <td>180.0</td>\n",
       "    </tr>\n",
       "    <tr>\n",
       "      <th>3</th>\n",
       "      <td>2004-06-11</td>\n",
       "      <td>177.5</td>\n",
       "      <td>180.0</td>\n",
       "      <td>177.5</td>\n",
       "      <td>180.0</td>\n",
       "    </tr>\n",
       "    <tr>\n",
       "      <th>4</th>\n",
       "      <td>2004-06-14</td>\n",
       "      <td>180.0</td>\n",
       "      <td>180.0</td>\n",
       "      <td>175.0</td>\n",
       "      <td>177.5</td>\n",
       "    </tr>\n",
       "    <tr>\n",
       "      <th>...</th>\n",
       "      <td>...</td>\n",
       "      <td>...</td>\n",
       "      <td>...</td>\n",
       "      <td>...</td>\n",
       "      <td>...</td>\n",
       "    </tr>\n",
       "    <tr>\n",
       "      <th>4868</th>\n",
       "      <td>2024-01-29</td>\n",
       "      <td>9400.0</td>\n",
       "      <td>9550.0</td>\n",
       "      <td>9375.0</td>\n",
       "      <td>9550.0</td>\n",
       "    </tr>\n",
       "    <tr>\n",
       "      <th>4869</th>\n",
       "      <td>2024-01-30</td>\n",
       "      <td>9500.0</td>\n",
       "      <td>9650.0</td>\n",
       "      <td>9475.0</td>\n",
       "      <td>9650.0</td>\n",
       "    </tr>\n",
       "    <tr>\n",
       "      <th>4870</th>\n",
       "      <td>2024-01-31</td>\n",
       "      <td>9700.0</td>\n",
       "      <td>9700.0</td>\n",
       "      <td>9550.0</td>\n",
       "      <td>9550.0</td>\n",
       "    </tr>\n",
       "    <tr>\n",
       "      <th>4871</th>\n",
       "      <td>2024-02-01</td>\n",
       "      <td>9650.0</td>\n",
       "      <td>9725.0</td>\n",
       "      <td>9575.0</td>\n",
       "      <td>9700.0</td>\n",
       "    </tr>\n",
       "    <tr>\n",
       "      <th>4872</th>\n",
       "      <td>2024-02-02</td>\n",
       "      <td>9775.0</td>\n",
       "      <td>9800.0</td>\n",
       "      <td>9625.0</td>\n",
       "      <td>9700.0</td>\n",
       "    </tr>\n",
       "  </tbody>\n",
       "</table>\n",
       "<p>4873 rows × 5 columns</p>\n",
       "</div>"
      ],
      "text/plain": [
       "            Date    Open    High     Low   Close\n",
       "0     2004-06-08   175.0   180.0   175.0   177.5\n",
       "1     2004-06-09   177.5   182.5   175.0   180.0\n",
       "2     2004-06-10   180.0   180.0   177.5   180.0\n",
       "3     2004-06-11   177.5   180.0   177.5   180.0\n",
       "4     2004-06-14   180.0   180.0   175.0   177.5\n",
       "...          ...     ...     ...     ...     ...\n",
       "4868  2024-01-29  9400.0  9550.0  9375.0  9550.0\n",
       "4869  2024-01-30  9500.0  9650.0  9475.0  9650.0\n",
       "4870  2024-01-31  9700.0  9700.0  9550.0  9550.0\n",
       "4871  2024-02-01  9650.0  9725.0  9575.0  9700.0\n",
       "4872  2024-02-02  9775.0  9800.0  9625.0  9700.0\n",
       "\n",
       "[4873 rows x 5 columns]"
      ]
     },
     "execution_count": 12,
     "metadata": {},
     "output_type": "execute_result"
    }
   ],
   "source": [
    "data_bbca"
   ]
  },
  {
   "cell_type": "markdown",
   "id": "989e95cd",
   "metadata": {
    "id": "989e95cd"
   },
   "source": [
    "Mengubah tanggal menjadi index"
   ]
  },
  {
   "cell_type": "code",
   "execution_count": 13,
   "id": "6580cdfb",
   "metadata": {
    "id": "6580cdfb",
    "outputId": "ccfbf539-a8cf-45ae-db93-bef009a0f706"
   },
   "outputs": [
    {
     "data": {
      "text/plain": [
       "DatetimeIndex(['2004-06-08', '2004-06-09', '2004-06-10', '2004-06-11',\n",
       "               '2004-06-14', '2004-06-15', '2004-06-16', '2004-06-17',\n",
       "               '2004-06-18', '2004-06-21',\n",
       "               ...\n",
       "               '2024-01-22', '2024-01-23', '2024-01-24', '2024-01-25',\n",
       "               '2024-01-26', '2024-01-29', '2024-01-30', '2024-01-31',\n",
       "               '2024-02-01', '2024-02-02'],\n",
       "              dtype='datetime64[ns]', name='Date', length=4873, freq=None)"
      ]
     },
     "execution_count": 13,
     "metadata": {},
     "output_type": "execute_result"
    }
   ],
   "source": [
    "con = data_bbca['Date']\n",
    "data_bbca['Date'] = pd.to_datetime(data_bbca['Date'])\n",
    "data_bbca.set_index('Date', inplace=True)\n",
    "\n",
    "#check datatype of index\n",
    "data_bbca.index"
   ]
  },
  {
   "cell_type": "code",
   "execution_count": 14,
   "id": "3c86b346",
   "metadata": {
    "id": "3c86b346",
    "outputId": "357a6219-00cf-47f4-aec4-b45d48ce8ee6"
   },
   "outputs": [
    {
     "data": {
      "text/html": [
       "<div>\n",
       "<style scoped>\n",
       "    .dataframe tbody tr th:only-of-type {\n",
       "        vertical-align: middle;\n",
       "    }\n",
       "\n",
       "    .dataframe tbody tr th {\n",
       "        vertical-align: top;\n",
       "    }\n",
       "\n",
       "    .dataframe thead th {\n",
       "        text-align: right;\n",
       "    }\n",
       "</style>\n",
       "<table border=\"1\" class=\"dataframe\">\n",
       "  <thead>\n",
       "    <tr style=\"text-align: right;\">\n",
       "      <th></th>\n",
       "      <th>Open</th>\n",
       "      <th>High</th>\n",
       "      <th>Low</th>\n",
       "      <th>Close</th>\n",
       "    </tr>\n",
       "    <tr>\n",
       "      <th>Date</th>\n",
       "      <th></th>\n",
       "      <th></th>\n",
       "      <th></th>\n",
       "      <th></th>\n",
       "    </tr>\n",
       "  </thead>\n",
       "  <tbody>\n",
       "    <tr>\n",
       "      <th>2004-06-08</th>\n",
       "      <td>175.0</td>\n",
       "      <td>180.0</td>\n",
       "      <td>175.0</td>\n",
       "      <td>177.5</td>\n",
       "    </tr>\n",
       "    <tr>\n",
       "      <th>2004-06-09</th>\n",
       "      <td>177.5</td>\n",
       "      <td>182.5</td>\n",
       "      <td>175.0</td>\n",
       "      <td>180.0</td>\n",
       "    </tr>\n",
       "    <tr>\n",
       "      <th>2004-06-10</th>\n",
       "      <td>180.0</td>\n",
       "      <td>180.0</td>\n",
       "      <td>177.5</td>\n",
       "      <td>180.0</td>\n",
       "    </tr>\n",
       "    <tr>\n",
       "      <th>2004-06-11</th>\n",
       "      <td>177.5</td>\n",
       "      <td>180.0</td>\n",
       "      <td>177.5</td>\n",
       "      <td>180.0</td>\n",
       "    </tr>\n",
       "    <tr>\n",
       "      <th>2004-06-14</th>\n",
       "      <td>180.0</td>\n",
       "      <td>180.0</td>\n",
       "      <td>175.0</td>\n",
       "      <td>177.5</td>\n",
       "    </tr>\n",
       "    <tr>\n",
       "      <th>...</th>\n",
       "      <td>...</td>\n",
       "      <td>...</td>\n",
       "      <td>...</td>\n",
       "      <td>...</td>\n",
       "    </tr>\n",
       "    <tr>\n",
       "      <th>2024-01-29</th>\n",
       "      <td>9400.0</td>\n",
       "      <td>9550.0</td>\n",
       "      <td>9375.0</td>\n",
       "      <td>9550.0</td>\n",
       "    </tr>\n",
       "    <tr>\n",
       "      <th>2024-01-30</th>\n",
       "      <td>9500.0</td>\n",
       "      <td>9650.0</td>\n",
       "      <td>9475.0</td>\n",
       "      <td>9650.0</td>\n",
       "    </tr>\n",
       "    <tr>\n",
       "      <th>2024-01-31</th>\n",
       "      <td>9700.0</td>\n",
       "      <td>9700.0</td>\n",
       "      <td>9550.0</td>\n",
       "      <td>9550.0</td>\n",
       "    </tr>\n",
       "    <tr>\n",
       "      <th>2024-02-01</th>\n",
       "      <td>9650.0</td>\n",
       "      <td>9725.0</td>\n",
       "      <td>9575.0</td>\n",
       "      <td>9700.0</td>\n",
       "    </tr>\n",
       "    <tr>\n",
       "      <th>2024-02-02</th>\n",
       "      <td>9775.0</td>\n",
       "      <td>9800.0</td>\n",
       "      <td>9625.0</td>\n",
       "      <td>9700.0</td>\n",
       "    </tr>\n",
       "  </tbody>\n",
       "</table>\n",
       "<p>4873 rows × 4 columns</p>\n",
       "</div>"
      ],
      "text/plain": [
       "              Open    High     Low   Close\n",
       "Date                                      \n",
       "2004-06-08   175.0   180.0   175.0   177.5\n",
       "2004-06-09   177.5   182.5   175.0   180.0\n",
       "2004-06-10   180.0   180.0   177.5   180.0\n",
       "2004-06-11   177.5   180.0   177.5   180.0\n",
       "2004-06-14   180.0   180.0   175.0   177.5\n",
       "...            ...     ...     ...     ...\n",
       "2024-01-29  9400.0  9550.0  9375.0  9550.0\n",
       "2024-01-30  9500.0  9650.0  9475.0  9650.0\n",
       "2024-01-31  9700.0  9700.0  9550.0  9550.0\n",
       "2024-02-01  9650.0  9725.0  9575.0  9700.0\n",
       "2024-02-02  9775.0  9800.0  9625.0  9700.0\n",
       "\n",
       "[4873 rows x 4 columns]"
      ]
     },
     "execution_count": 14,
     "metadata": {},
     "output_type": "execute_result"
    }
   ],
   "source": [
    "data_bbca"
   ]
  },
  {
   "cell_type": "markdown",
   "id": "d5c39492",
   "metadata": {
    "id": "d5c39492"
   },
   "source": [
    "Menginisialkan variable data time series"
   ]
  },
  {
   "cell_type": "code",
   "execution_count": 15,
   "id": "ec3ded99",
   "metadata": {
    "id": "ec3ded99"
   },
   "outputs": [],
   "source": [
    "high = pd.Series(data_bbca['High'])\n",
    "open = pd.Series(data_bbca['Open'])\n",
    "low = pd.Series(data_bbca['Low'])\n",
    "close = pd.Series(data_bbca['Close'])"
   ]
  },
  {
   "cell_type": "markdown",
   "id": "1b05c120",
   "metadata": {
    "id": "1b05c120"
   },
   "source": [
    "# Visualization Data"
   ]
  },
  {
   "cell_type": "markdown",
   "id": "36563e2c",
   "metadata": {
    "id": "36563e2c"
   },
   "source": [
    "Memvisualisasikan data dari kolom yang tidak didrop sebelumnya\n"
   ]
  },
  {
   "cell_type": "code",
   "execution_count": 16,
   "id": "080abe23",
   "metadata": {
    "id": "080abe23",
    "outputId": "df655c76-b715-4706-b7d5-0cd06a9f6eca"
   },
   "outputs": [
    {
     "data": {
      "image/png": "[encoded data removed]",
      "text/plain": [
       "<Figure size 1600x800 with 1 Axes>"
      ]
     },
     "metadata": {},
     "output_type": "display_data"
    }
   ],
   "source": [
    "#Visualisasi Dataset\n",
    "\n",
    "plt.figure(figsize=(16,8))\n",
    "plt.title('Pergerakan Harga')\n",
    "plt.plot(high, color = 'red', label = 'High')\n",
    "plt.plot(open, color = 'yellow', label = 'Open')\n",
    "plt.plot(low, color = 'green', label = 'Low')\n",
    "plt.plot(close, color = 'purple', label = 'Close')\n",
    "plt.xlabel('Tahun', fontsize=18)\n",
    "plt.ylabel('Harga dalam Rupiah', fontsize=18)\n",
    "plt.legend(loc='best')\n",
    "plt.show()"
   ]
  },
  {
   "cell_type": "markdown",
   "id": "8c7c2323",
   "metadata": {
    "id": "8c7c2323"
   },
   "source": [
    "Membuat data frame dari kolom 'High' dan membuat data train & test"
   ]
  },
  {
   "cell_type": "code",
   "execution_count": 17,
   "id": "757854d9",
   "metadata": {
    "id": "757854d9"
   },
   "outputs": [],
   "source": [
    "data = pd.DataFrame(data_bbca['High'])"
   ]
  },
  {
   "cell_type": "code",
   "execution_count": 18,
   "id": "7cb5828d",
   "metadata": {
    "id": "7cb5828d",
    "outputId": "24bd0a24-f96d-49ff-ace6-43e34ca3021b"
   },
   "outputs": [
    {
     "data": {
      "image/png": "[encoded data removed]",
      "text/plain": [
       "<Figure size 1600x800 with 1 Axes>"
      ]
     },
     "metadata": {},
     "output_type": "display_data"
    }
   ],
   "source": [
    "data_bbca_train = data[0:int(len(data)*0.8)]\n",
    "data_bbca_test = data[int(len(data)*0.8):]\n",
    "# plot the data\n",
    "# Visualisasi data\n",
    "plt.figure(figsize=(16,8))\n",
    "plt.title('Data Train dan Data Test')\n",
    "plt.ylabel('High Price', fontsize=18)\n",
    "plt.plot(data_bbca_train)\n",
    "plt.plot(data_bbca_test)\n",
    "plt.legend(['Data Train', 'Data Test'], loc='lower right')\n",
    "plt.show()"
   ]
  },
  {
   "cell_type": "markdown",
   "id": "9e95b825",
   "metadata": {
    "id": "9e95b825"
   },
   "source": [
    "# Preprocessing"
   ]
  },
  {
   "cell_type": "markdown",
   "id": "7e0955ce",
   "metadata": {
    "id": "7e0955ce"
   },
   "source": [
    "Melakukan scaling data dengan kolom High.\n"
   ]
  },
  {
   "cell_type": "code",
   "execution_count": 19,
   "id": "bfb077f8",
   "metadata": {
    "id": "bfb077f8"
   },
   "outputs": [],
   "source": [
    "min_max_scaler = preprocessing.MinMaxScaler(feature_range=(0, 1))\n",
    "dataset = min_max_scaler.fit_transform(data_bbca['High'].values.reshape(-1, 1))"
   ]
  },
  {
   "cell_type": "markdown",
   "id": "bc2aed11",
   "metadata": {
    "id": "bc2aed11"
   },
   "source": [
    "Memecah data menjadi data train dan data test"
   ]
  },
  {
   "cell_type": "code",
   "execution_count": 20,
   "id": "c1db88fc",
   "metadata": {
    "id": "c1db88fc",
    "outputId": "42053d70-6f4b-4941-c2e7-4b1c7adaaa44"
   },
   "outputs": [
    {
     "data": {
      "text/plain": [
       "array([[0.00025981],\n",
       "       [0.00051962],\n",
       "       [0.00025981],\n",
       "       [0.00025981],\n",
       "       [0.00025981],\n",
       "       [0.00051962],\n",
       "       [0.00051962],\n",
       "       [0.        ],\n",
       "       [0.        ],\n",
       "       [0.        ]])"
      ]
     },
     "execution_count": 20,
     "metadata": {},
     "output_type": "execute_result"
    }
   ],
   "source": [
    "dataset[0:10]"
   ]
  },
  {
   "cell_type": "code",
   "execution_count": 21,
   "id": "575e2588",
   "metadata": {
    "id": "575e2588",
    "outputId": "9816662c-ca06-4776-aeaf-ef622ac193d1"
   },
   "outputs": [
    {
     "name": "stdout",
     "output_type": "stream",
     "text": [
      "Ukuran training set: 3898\n",
      "Ukuran testing set: 975\n"
     ]
    }
   ],
   "source": [
    "train_size = int(len(dataset) * 0.8)\n",
    "test_size = len(dataset) - train_size\n",
    "train, test = dataset[0:train_size,:], dataset[train_size:len(dataset),:]\n",
    "print(\"Ukuran training set:\", len(train))\n",
    "print(\"Ukuran testing set:\", len(test))"
   ]
  },
  {
   "cell_type": "code",
   "execution_count": 22,
   "id": "378fe376",
   "metadata": {
    "id": "378fe376",
    "outputId": "c9148a6e-3ee9-4201-be39-cffed7c8f741"
   },
   "outputs": [
    {
     "name": "stdout",
     "output_type": "stream",
     "text": [
      "4873\n"
     ]
    }
   ],
   "source": [
    "#Menampilkan panjang/jumlah dataframe\n",
    "print(len(data_bbca))"
   ]
  },
  {
   "cell_type": "markdown",
   "id": "53a111a9",
   "metadata": {
    "id": "53a111a9"
   },
   "source": [
    "Konversi nilai array ke dalam kumpulan matriks\n"
   ]
  },
  {
   "cell_type": "code",
   "execution_count": 23,
   "id": "d2b04e3a",
   "metadata": {
    "id": "d2b04e3a"
   },
   "outputs": [],
   "source": [
    "def create_dataset(dataset, look_back=15):\n",
    "    x, y = [], []\n",
    "    for i in range(len(dataset)-look_back-1):\n",
    "        a = dataset[i:(i+look_back), 0]\n",
    "        x.append(a)\n",
    "        y.append(dataset[i + look_back, 0])\n",
    "    return np.array(x), np.array(y)"
   ]
  },
  {
   "cell_type": "code",
   "execution_count": 24,
   "id": "db646668",
   "metadata": {
    "id": "db646668"
   },
   "outputs": [],
   "source": [
    "look_back = 15\n",
    "x_train, y_train = create_dataset(train, look_back)\n",
    "x_test, y_test = create_dataset(test, look_back)"
   ]
  },
  {
   "cell_type": "code",
   "execution_count": 25,
   "id": "5952c643",
   "metadata": {
    "id": "5952c643",
    "outputId": "b165fa5e-0247-4719-b52b-790a50b0b1aa"
   },
   "outputs": [
    {
     "name": "stdout",
     "output_type": "stream",
     "text": [
      "(3882, 15)\n",
      "(3882,)\n",
      "(959, 15)\n",
      "(959,)\n"
     ]
    }
   ],
   "source": [
    "print(x_train.shape)\n",
    "print(y_train.shape)\n",
    "print(x_test.shape)\n",
    "print(y_test.shape)"
   ]
  },
  {
   "cell_type": "markdown",
   "id": "ef52d968",
   "metadata": {
    "id": "ef52d968"
   },
   "source": [
    "Reshape input menjadi 3D yaitu [samples, time step, dan feature]"
   ]
  },
  {
   "cell_type": "code",
   "execution_count": 26,
   "id": "7099cd73",
   "metadata": {
    "id": "7099cd73"
   },
   "outputs": [],
   "source": [
    "x_train = np.reshape(x_train, (x_train.shape[0], 1, x_train.shape[1]))\n",
    "x_test = np.reshape(x_test, (x_test.shape[0], 1, x_test.shape[1]))"
   ]
  },
  {
   "cell_type": "markdown",
   "id": "4a7c28a5",
   "metadata": {
    "id": "4a7c28a5"
   },
   "source": [
    "# Model\n",
    "\n",
    "Membuat model LSTM"
   ]
  },
  {
   "cell_type": "code",
   "execution_count": 27,
   "id": "043dfca2",
   "metadata": {
    "id": "043dfca2",
    "outputId": "1c232504-834c-41b1-fd55-48a87e06c09f"
   },
   "outputs": [
    {
     "name": "stdout",
     "output_type": "stream",
     "text": [
      "Epoch 1/100\n",
      "61/61 - 2s - loss: 0.4441 - accuracy: 0.0000e+00 - val_loss: 0.5337 - val_accuracy: 0.0000e+00 - 2s/epoch - 31ms/step\n",
      "Epoch 2/100\n",
      "61/61 - 0s - loss: 0.4073 - accuracy: 0.0000e+00 - val_loss: 0.5169 - val_accuracy: 0.0000e+00 - 122ms/epoch - 2ms/step\n",
      "Epoch 3/100\n",
      "61/61 - 0s - loss: 0.4052 - accuracy: 0.0000e+00 - val_loss: 0.5231 - val_accuracy: 0.0000e+00 - 117ms/epoch - 2ms/step\n",
      "Epoch 4/100\n",
      "61/61 - 0s - loss: 0.4045 - accuracy: 0.0000e+00 - val_loss: 0.5160 - val_accuracy: 0.0000e+00 - 118ms/epoch - 2ms/step\n",
      "Epoch 5/100\n",
      "61/61 - 0s - loss: 0.4040 - accuracy: 0.0000e+00 - val_loss: 0.5178 - val_accuracy: 0.0000e+00 - 114ms/epoch - 2ms/step\n",
      "Epoch 6/100\n",
      "61/61 - 0s - loss: 0.4034 - accuracy: 0.0000e+00 - val_loss: 0.5210 - val_accuracy: 0.0000e+00 - 115ms/epoch - 2ms/step\n",
      "Epoch 7/100\n",
      "61/61 - 0s - loss: 0.4033 - accuracy: 0.0000e+00 - val_loss: 0.5187 - val_accuracy: 0.0000e+00 - 114ms/epoch - 2ms/step\n",
      "Epoch 8/100\n",
      "61/61 - 0s - loss: 0.4027 - accuracy: 0.0000e+00 - val_loss: 0.5166 - val_accuracy: 0.0000e+00 - 117ms/epoch - 2ms/step\n",
      "Epoch 9/100\n",
      "61/61 - 0s - loss: 0.4159 - accuracy: 0.0000e+00 - val_loss: 0.5924 - val_accuracy: 0.0000e+00 - 115ms/epoch - 2ms/step\n",
      "Epoch 10/100\n",
      "61/61 - 0s - loss: 0.4269 - accuracy: 0.0000e+00 - val_loss: 0.5245 - val_accuracy: 0.0000e+00 - 118ms/epoch - 2ms/step\n",
      "Epoch 11/100\n",
      "61/61 - 0s - loss: 0.4260 - accuracy: 0.0000e+00 - val_loss: 0.5695 - val_accuracy: 0.0000e+00 - 114ms/epoch - 2ms/step\n",
      "Epoch 12/100\n",
      "61/61 - 0s - loss: 0.4604 - accuracy: 0.0000e+00 - val_loss: 0.6056 - val_accuracy: 0.0000e+00 - 134ms/epoch - 2ms/step\n",
      "Epoch 13/100\n",
      "61/61 - 0s - loss: 0.4486 - accuracy: 0.0000e+00 - val_loss: 0.5228 - val_accuracy: 0.0000e+00 - 134ms/epoch - 2ms/step\n",
      "Epoch 14/100\n",
      "61/61 - 0s - loss: 0.4278 - accuracy: 0.0000e+00 - val_loss: 0.5208 - val_accuracy: 0.0000e+00 - 116ms/epoch - 2ms/step\n",
      "Epoch 15/100\n",
      "61/61 - 0s - loss: 0.4166 - accuracy: 0.0000e+00 - val_loss: 0.5060 - val_accuracy: 0.0000e+00 - 112ms/epoch - 2ms/step\n",
      "Epoch 16/100\n",
      "61/61 - 0s - loss: 0.4128 - accuracy: 0.0000e+00 - val_loss: 0.5125 - val_accuracy: 0.0000e+00 - 143ms/epoch - 2ms/step\n",
      "Epoch 17/100\n",
      "61/61 - 0s - loss: 0.4120 - accuracy: 0.0000e+00 - val_loss: 0.5126 - val_accuracy: 0.0000e+00 - 129ms/epoch - 2ms/step\n",
      "Epoch 18/100\n",
      "61/61 - 0s - loss: 0.4107 - accuracy: 0.0000e+00 - val_loss: 0.5118 - val_accuracy: 0.0000e+00 - 129ms/epoch - 2ms/step\n",
      "Epoch 19/100\n",
      "61/61 - 0s - loss: 0.4200 - accuracy: 0.0000e+00 - val_loss: 0.5040 - val_accuracy: 0.0000e+00 - 121ms/epoch - 2ms/step\n",
      "Epoch 20/100\n",
      "61/61 - 0s - loss: 0.4127 - accuracy: 0.0000e+00 - val_loss: 0.5241 - val_accuracy: 0.0000e+00 - 113ms/epoch - 2ms/step\n",
      "Epoch 21/100\n",
      "61/61 - 0s - loss: 0.4094 - accuracy: 0.0000e+00 - val_loss: 0.5133 - val_accuracy: 0.0000e+00 - 116ms/epoch - 2ms/step\n",
      "Epoch 22/100\n",
      "61/61 - 0s - loss: 0.4087 - accuracy: 0.0000e+00 - val_loss: 0.5156 - val_accuracy: 0.0000e+00 - 144ms/epoch - 2ms/step\n",
      "Epoch 23/100\n",
      "61/61 - 0s - loss: 0.4099 - accuracy: 0.0000e+00 - val_loss: 0.5217 - val_accuracy: 0.0000e+00 - 148ms/epoch - 2ms/step\n",
      "Epoch 24/100\n",
      "61/61 - 0s - loss: 0.4064 - accuracy: 0.0000e+00 - val_loss: 0.5191 - val_accuracy: 0.0000e+00 - 137ms/epoch - 2ms/step\n",
      "Epoch 25/100\n",
      "61/61 - 0s - loss: 0.4063 - accuracy: 0.0000e+00 - val_loss: 0.5183 - val_accuracy: 0.0000e+00 - 129ms/epoch - 2ms/step\n",
      "Epoch 26/100\n",
      "61/61 - 0s - loss: 0.4060 - accuracy: 0.0000e+00 - val_loss: 0.5211 - val_accuracy: 0.0000e+00 - 119ms/epoch - 2ms/step\n",
      "Epoch 27/100\n",
      "61/61 - 0s - loss: 0.4060 - accuracy: 0.0000e+00 - val_loss: 0.5213 - val_accuracy: 0.0000e+00 - 115ms/epoch - 2ms/step\n",
      "Epoch 28/100\n",
      "61/61 - 0s - loss: 0.4053 - accuracy: 0.0000e+00 - val_loss: 0.5211 - val_accuracy: 0.0000e+00 - 116ms/epoch - 2ms/step\n",
      "Epoch 29/100\n",
      "61/61 - 0s - loss: 0.4052 - accuracy: 0.0000e+00 - val_loss: 0.5199 - val_accuracy: 0.0000e+00 - 121ms/epoch - 2ms/step\n",
      "Epoch 30/100\n",
      "61/61 - 0s - loss: 0.4066 - accuracy: 0.0000e+00 - val_loss: 0.5222 - val_accuracy: 0.0000e+00 - 121ms/epoch - 2ms/step\n",
      "Epoch 31/100\n",
      "61/61 - 0s - loss: 0.4055 - accuracy: 0.0000e+00 - val_loss: 0.5190 - val_accuracy: 0.0000e+00 - 128ms/epoch - 2ms/step\n",
      "Epoch 32/100\n",
      "61/61 - 0s - loss: 0.4061 - accuracy: 0.0000e+00 - val_loss: 0.5234 - val_accuracy: 0.0000e+00 - 140ms/epoch - 2ms/step\n",
      "Epoch 33/100\n",
      "61/61 - 0s - loss: 0.4054 - accuracy: 0.0000e+00 - val_loss: 0.5316 - val_accuracy: 0.0000e+00 - 132ms/epoch - 2ms/step\n",
      "Epoch 34/100\n",
      "61/61 - 0s - loss: 0.4051 - accuracy: 0.0000e+00 - val_loss: 0.5263 - val_accuracy: 0.0000e+00 - 121ms/epoch - 2ms/step\n",
      "Epoch 35/100\n",
      "61/61 - 0s - loss: 0.4049 - accuracy: 0.0000e+00 - val_loss: 0.5198 - val_accuracy: 0.0000e+00 - 121ms/epoch - 2ms/step\n",
      "Epoch 36/100\n",
      "61/61 - 0s - loss: 0.4046 - accuracy: 0.0000e+00 - val_loss: 0.5263 - val_accuracy: 0.0000e+00 - 124ms/epoch - 2ms/step\n",
      "Epoch 37/100\n",
      "61/61 - 0s - loss: 0.4059 - accuracy: 0.0000e+00 - val_loss: 0.5167 - val_accuracy: 0.0000e+00 - 116ms/epoch - 2ms/step\n",
      "Epoch 38/100\n",
      "61/61 - 0s - loss: 0.4045 - accuracy: 0.0000e+00 - val_loss: 0.5228 - val_accuracy: 0.0000e+00 - 124ms/epoch - 2ms/step\n",
      "Epoch 39/100\n",
      "61/61 - 0s - loss: 0.4042 - accuracy: 0.0000e+00 - val_loss: 0.5206 - val_accuracy: 0.0000e+00 - 124ms/epoch - 2ms/step\n",
      "Epoch 40/100\n",
      "61/61 - 0s - loss: 0.4041 - accuracy: 0.0000e+00 - val_loss: 0.5163 - val_accuracy: 0.0000e+00 - 158ms/epoch - 3ms/step\n",
      "Epoch 41/100\n",
      "61/61 - 0s - loss: 0.4069 - accuracy: 0.0000e+00 - val_loss: 0.5227 - val_accuracy: 0.0000e+00 - 138ms/epoch - 2ms/step\n",
      "Epoch 42/100\n",
      "61/61 - 0s - loss: 0.4047 - accuracy: 0.0000e+00 - val_loss: 0.5233 - val_accuracy: 0.0000e+00 - 129ms/epoch - 2ms/step\n",
      "Epoch 43/100\n",
      "61/61 - 0s - loss: 0.4040 - accuracy: 0.0000e+00 - val_loss: 0.5330 - val_accuracy: 0.0000e+00 - 123ms/epoch - 2ms/step\n",
      "Epoch 44/100\n",
      "61/61 - 0s - loss: 0.4037 - accuracy: 0.0000e+00 - val_loss: 0.5247 - val_accuracy: 0.0000e+00 - 124ms/epoch - 2ms/step\n",
      "Epoch 45/100\n",
      "61/61 - 0s - loss: 0.4041 - accuracy: 0.0000e+00 - val_loss: 0.5144 - val_accuracy: 0.0000e+00 - 143ms/epoch - 2ms/step\n",
      "Epoch 46/100\n",
      "61/61 - 0s - loss: 0.4037 - accuracy: 0.0000e+00 - val_loss: 0.5270 - val_accuracy: 0.0000e+00 - 134ms/epoch - 2ms/step\n",
      "Epoch 47/100\n",
      "61/61 - 0s - loss: 0.4037 - accuracy: 0.0000e+00 - val_loss: 0.5169 - val_accuracy: 0.0000e+00 - 130ms/epoch - 2ms/step\n",
      "Epoch 48/100\n",
      "61/61 - 0s - loss: 0.4036 - accuracy: 0.0000e+00 - val_loss: 0.5209 - val_accuracy: 0.0000e+00 - 134ms/epoch - 2ms/step\n",
      "Epoch 49/100\n",
      "61/61 - 0s - loss: 0.4034 - accuracy: 0.0000e+00 - val_loss: 0.5096 - val_accuracy: 0.0000e+00 - 132ms/epoch - 2ms/step\n",
      "Epoch 50/100\n",
      "61/61 - 0s - loss: 0.4034 - accuracy: 0.0000e+00 - val_loss: 0.5114 - val_accuracy: 0.0000e+00 - 132ms/epoch - 2ms/step\n",
      "Epoch 51/100\n",
      "61/61 - 0s - loss: 0.4034 - accuracy: 0.0000e+00 - val_loss: 0.5213 - val_accuracy: 0.0000e+00 - 133ms/epoch - 2ms/step\n",
      "Epoch 52/100\n",
      "61/61 - 0s - loss: 0.4036 - accuracy: 0.0000e+00 - val_loss: 0.5092 - val_accuracy: 0.0000e+00 - 126ms/epoch - 2ms/step\n",
      "Epoch 53/100\n",
      "61/61 - 0s - loss: 0.4034 - accuracy: 0.0000e+00 - val_loss: 0.5137 - val_accuracy: 0.0000e+00 - 123ms/epoch - 2ms/step\n",
      "Epoch 54/100\n",
      "61/61 - 0s - loss: 0.4030 - accuracy: 0.0000e+00 - val_loss: 0.5124 - val_accuracy: 0.0000e+00 - 121ms/epoch - 2ms/step\n",
      "Epoch 55/100\n",
      "61/61 - 0s - loss: 0.4034 - accuracy: 0.0000e+00 - val_loss: 0.5090 - val_accuracy: 0.0000e+00 - 140ms/epoch - 2ms/step\n",
      "Epoch 56/100\n",
      "61/61 - 0s - loss: 0.4033 - accuracy: 0.0000e+00 - val_loss: 0.5239 - val_accuracy: 0.0000e+00 - 126ms/epoch - 2ms/step\n",
      "Epoch 57/100\n",
      "61/61 - 0s - loss: 0.4035 - accuracy: 0.0000e+00 - val_loss: 0.5077 - val_accuracy: 0.0000e+00 - 120ms/epoch - 2ms/step\n",
      "Epoch 58/100\n",
      "61/61 - 0s - loss: 0.4034 - accuracy: 0.0000e+00 - val_loss: 0.5184 - val_accuracy: 0.0000e+00 - 137ms/epoch - 2ms/step\n",
      "Epoch 59/100\n",
      "61/61 - 0s - loss: 0.4038 - accuracy: 0.0000e+00 - val_loss: 0.5227 - val_accuracy: 0.0000e+00 - 144ms/epoch - 2ms/step\n",
      "Epoch 60/100\n",
      "61/61 - 0s - loss: 0.4040 - accuracy: 0.0000e+00 - val_loss: 0.5203 - val_accuracy: 0.0000e+00 - 129ms/epoch - 2ms/step\n",
      "Epoch 61/100\n",
      "61/61 - 0s - loss: 0.4031 - accuracy: 0.0000e+00 - val_loss: 0.5247 - val_accuracy: 0.0000e+00 - 185ms/epoch - 3ms/step\n",
      "Epoch 62/100\n",
      "61/61 - 0s - loss: 0.4030 - accuracy: 0.0000e+00 - val_loss: 0.5324 - val_accuracy: 0.0000e+00 - 221ms/epoch - 4ms/step\n",
      "Epoch 63/100\n",
      "61/61 - 0s - loss: 0.4033 - accuracy: 0.0000e+00 - val_loss: 0.5261 - val_accuracy: 0.0000e+00 - 210ms/epoch - 3ms/step\n",
      "Epoch 64/100\n",
      "61/61 - 0s - loss: 0.4031 - accuracy: 0.0000e+00 - val_loss: 0.5167 - val_accuracy: 0.0000e+00 - 209ms/epoch - 3ms/step\n",
      "Epoch 65/100\n",
      "61/61 - 0s - loss: 0.4028 - accuracy: 0.0000e+00 - val_loss: 0.5095 - val_accuracy: 0.0000e+00 - 185ms/epoch - 3ms/step\n",
      "Epoch 66/100\n",
      "61/61 - 0s - loss: 0.4032 - accuracy: 0.0000e+00 - val_loss: 0.5141 - val_accuracy: 0.0000e+00 - 211ms/epoch - 3ms/step\n",
      "Epoch 67/100\n",
      "61/61 - 0s - loss: 0.4030 - accuracy: 0.0000e+00 - val_loss: 0.5130 - val_accuracy: 0.0000e+00 - 176ms/epoch - 3ms/step\n",
      "Epoch 68/100\n",
      "61/61 - 0s - loss: 0.4030 - accuracy: 0.0000e+00 - val_loss: 0.5205 - val_accuracy: 0.0000e+00 - 290ms/epoch - 5ms/step\n",
      "Epoch 69/100\n",
      "61/61 - 0s - loss: 0.4033 - accuracy: 0.0000e+00 - val_loss: 0.5250 - val_accuracy: 0.0000e+00 - 246ms/epoch - 4ms/step\n",
      "Epoch 70/100\n",
      "61/61 - 0s - loss: 0.4030 - accuracy: 0.0000e+00 - val_loss: 0.5204 - val_accuracy: 0.0000e+00 - 199ms/epoch - 3ms/step\n",
      "Epoch 71/100\n",
      "61/61 - 0s - loss: 0.4029 - accuracy: 0.0000e+00 - val_loss: 0.5204 - val_accuracy: 0.0000e+00 - 190ms/epoch - 3ms/step\n",
      "Epoch 72/100\n",
      "61/61 - 0s - loss: 0.4031 - accuracy: 0.0000e+00 - val_loss: 0.5164 - val_accuracy: 0.0000e+00 - 228ms/epoch - 4ms/step\n",
      "Epoch 73/100\n",
      "61/61 - 0s - loss: 0.4112 - accuracy: 0.0000e+00 - val_loss: 0.5261 - val_accuracy: 0.0000e+00 - 230ms/epoch - 4ms/step\n",
      "Epoch 74/100\n",
      "61/61 - 0s - loss: 0.4038 - accuracy: 0.0000e+00 - val_loss: 0.5359 - val_accuracy: 0.0000e+00 - 310ms/epoch - 5ms/step\n",
      "Epoch 75/100\n",
      "61/61 - 0s - loss: 0.4033 - accuracy: 0.0000e+00 - val_loss: 0.5274 - val_accuracy: 0.0000e+00 - 206ms/epoch - 3ms/step\n",
      "Epoch 76/100\n",
      "61/61 - 0s - loss: 0.4035 - accuracy: 0.0000e+00 - val_loss: 0.5228 - val_accuracy: 0.0000e+00 - 184ms/epoch - 3ms/step\n",
      "Epoch 77/100\n",
      "61/61 - 0s - loss: 0.4033 - accuracy: 0.0000e+00 - val_loss: 0.5126 - val_accuracy: 0.0000e+00 - 272ms/epoch - 4ms/step\n",
      "Epoch 78/100\n",
      "61/61 - 0s - loss: 0.4033 - accuracy: 0.0000e+00 - val_loss: 0.5182 - val_accuracy: 0.0000e+00 - 219ms/epoch - 4ms/step\n",
      "Epoch 79/100\n",
      "61/61 - 0s - loss: 0.4032 - accuracy: 0.0000e+00 - val_loss: 0.5170 - val_accuracy: 0.0000e+00 - 231ms/epoch - 4ms/step\n",
      "Epoch 80/100\n",
      "61/61 - 0s - loss: 0.4032 - accuracy: 0.0000e+00 - val_loss: 0.5112 - val_accuracy: 0.0000e+00 - 290ms/epoch - 5ms/step\n",
      "Epoch 81/100\n",
      "61/61 - 0s - loss: 0.4033 - accuracy: 0.0000e+00 - val_loss: 0.5103 - val_accuracy: 0.0000e+00 - 370ms/epoch - 6ms/step\n",
      "Epoch 82/100\n",
      "61/61 - 0s - loss: 0.4028 - accuracy: 0.0000e+00 - val_loss: 0.5238 - val_accuracy: 0.0000e+00 - 248ms/epoch - 4ms/step\n",
      "Epoch 83/100\n",
      "61/61 - 0s - loss: 0.4031 - accuracy: 0.0000e+00 - val_loss: 0.5169 - val_accuracy: 0.0000e+00 - 227ms/epoch - 4ms/step\n",
      "Epoch 84/100\n",
      "61/61 - 0s - loss: 0.4032 - accuracy: 0.0000e+00 - val_loss: 0.5343 - val_accuracy: 0.0000e+00 - 307ms/epoch - 5ms/step\n",
      "Epoch 85/100\n",
      "61/61 - 0s - loss: 0.4033 - accuracy: 0.0000e+00 - val_loss: 0.5214 - val_accuracy: 0.0000e+00 - 207ms/epoch - 3ms/step\n",
      "Epoch 86/100\n",
      "61/61 - 0s - loss: 0.4029 - accuracy: 0.0000e+00 - val_loss: 0.5208 - val_accuracy: 0.0000e+00 - 295ms/epoch - 5ms/step\n",
      "Epoch 87/100\n",
      "61/61 - 0s - loss: 0.4030 - accuracy: 0.0000e+00 - val_loss: 0.5146 - val_accuracy: 0.0000e+00 - 199ms/epoch - 3ms/step\n",
      "Epoch 88/100\n",
      "61/61 - 0s - loss: 0.4027 - accuracy: 0.0000e+00 - val_loss: 0.5212 - val_accuracy: 0.0000e+00 - 207ms/epoch - 3ms/step\n",
      "Epoch 89/100\n",
      "61/61 - 0s - loss: 0.4026 - accuracy: 0.0000e+00 - val_loss: 0.5247 - val_accuracy: 0.0000e+00 - 250ms/epoch - 4ms/step\n",
      "Epoch 90/100\n",
      "61/61 - 0s - loss: 0.4036 - accuracy: 0.0000e+00 - val_loss: 0.5128 - val_accuracy: 0.0000e+00 - 253ms/epoch - 4ms/step\n",
      "Epoch 91/100\n",
      "61/61 - 0s - loss: 0.4031 - accuracy: 0.0000e+00 - val_loss: 0.5249 - val_accuracy: 0.0000e+00 - 258ms/epoch - 4ms/step\n",
      "Epoch 92/100\n",
      "61/61 - 0s - loss: 0.4029 - accuracy: 0.0000e+00 - val_loss: 0.5172 - val_accuracy: 0.0000e+00 - 228ms/epoch - 4ms/step\n",
      "Epoch 93/100\n",
      "61/61 - 0s - loss: 0.4027 - accuracy: 0.0000e+00 - val_loss: 0.5160 - val_accuracy: 0.0000e+00 - 204ms/epoch - 3ms/step\n",
      "Epoch 94/100\n",
      "61/61 - 0s - loss: 0.4027 - accuracy: 0.0000e+00 - val_loss: 0.5137 - val_accuracy: 0.0000e+00 - 192ms/epoch - 3ms/step\n",
      "Epoch 95/100\n",
      "61/61 - 0s - loss: 0.4030 - accuracy: 0.0000e+00 - val_loss: 0.5237 - val_accuracy: 0.0000e+00 - 229ms/epoch - 4ms/step\n",
      "Epoch 96/100\n",
      "61/61 - 0s - loss: 0.4030 - accuracy: 0.0000e+00 - val_loss: 0.5126 - val_accuracy: 0.0000e+00 - 222ms/epoch - 4ms/step\n",
      "Epoch 97/100\n",
      "61/61 - 0s - loss: 0.4025 - accuracy: 0.0000e+00 - val_loss: 0.5146 - val_accuracy: 0.0000e+00 - 194ms/epoch - 3ms/step\n",
      "Epoch 98/100\n",
      "61/61 - 0s - loss: 0.4026 - accuracy: 0.0000e+00 - val_loss: 0.5066 - val_accuracy: 0.0000e+00 - 237ms/epoch - 4ms/step\n",
      "Epoch 99/100\n",
      "61/61 - 0s - loss: 0.4027 - accuracy: 0.0000e+00 - val_loss: 0.5125 - val_accuracy: 0.0000e+00 - 178ms/epoch - 3ms/step\n",
      "Epoch 100/100\n",
      "61/61 - 0s - loss: 0.4036 - accuracy: 0.0000e+00 - val_loss: 0.5202 - val_accuracy: 0.0000e+00 - 200ms/epoch - 3ms/step\n"
     ]
    }
   ],
   "source": [
    "look_back = 15\n",
    "\n",
    "model1 = Sequential()\n",
    "\n",
    "model1.add(LSTM(50, input_shape=(1, look_back), return_sequences=False))\n",
    "\n",
    "# Dropout to prevent overfitting\n",
    "model1.add(Dropout(0.5))\n",
    "\n",
    "# Dense layer for classification output\n",
    "model1.add(Dense(units=1, activation='tanh'))\n",
    "\n",
    "# Optimizing the neural network weights\n",
    "opt = tf.keras.optimizers.Adam(learning_rate=0.01)\n",
    "\n",
    "# Compiling the model with the optimizer\n",
    "model1.compile(loss='binary_crossentropy', optimizer=opt, metrics=['accuracy'])\n",
    "\n",
    "history = model1.fit(x_train, y_train, epochs=100, batch_size=64, verbose=2, validation_data=(x_test, y_test))"
   ]
  },
  {
   "cell_type": "code",
   "execution_count": 28,
   "id": "4224cfa3",
   "metadata": {
    "id": "4224cfa3",
    "outputId": "b1e4c3d6-fac4-4487-9cdb-8700dfacd08e"
   },
   "outputs": [
    {
     "name": "stdout",
     "output_type": "stream",
     "text": [
      "Epoch 1/100\n"
     ]
    },
    {
     "name": "stdout",
     "output_type": "stream",
     "text": [
      "61/61 - 3s - loss: 0.0010 - mse: 0.0010 - val_loss: 0.0070 - val_mse: 0.0070 - 3s/epoch - 52ms/step\n",
      "Epoch 2/100\n",
      "61/61 - 0s - loss: 9.3190e-04 - mse: 9.3190e-04 - val_loss: 0.0058 - val_mse: 0.0058 - 320ms/epoch - 5ms/step\n",
      "Epoch 3/100\n",
      "61/61 - 0s - loss: 8.7301e-04 - mse: 8.7301e-04 - val_loss: 0.0047 - val_mse: 0.0047 - 272ms/epoch - 4ms/step\n",
      "Epoch 4/100\n",
      "61/61 - 0s - loss: 8.9123e-04 - mse: 8.9123e-04 - val_loss: 0.0046 - val_mse: 0.0046 - 212ms/epoch - 3ms/step\n",
      "Epoch 5/100\n",
      "61/61 - 0s - loss: 9.4632e-04 - mse: 9.4632e-04 - val_loss: 0.0051 - val_mse: 0.0051 - 298ms/epoch - 5ms/step\n",
      "Epoch 6/100\n",
      "61/61 - 0s - loss: 9.2442e-04 - mse: 9.2442e-04 - val_loss: 0.0044 - val_mse: 0.0044 - 214ms/epoch - 4ms/step\n",
      "Epoch 7/100\n",
      "61/61 - 0s - loss: 9.3630e-04 - mse: 9.3630e-04 - val_loss: 0.0042 - val_mse: 0.0042 - 322ms/epoch - 5ms/step\n",
      "Epoch 8/100\n",
      "61/61 - 0s - loss: 8.0829e-04 - mse: 8.0829e-04 - val_loss: 0.0050 - val_mse: 0.0050 - 194ms/epoch - 3ms/step\n",
      "Epoch 9/100\n",
      "61/61 - 0s - loss: 8.8712e-04 - mse: 8.8712e-04 - val_loss: 0.0082 - val_mse: 0.0082 - 201ms/epoch - 3ms/step\n",
      "Epoch 10/100\n",
      "61/61 - 0s - loss: 7.9554e-04 - mse: 7.9554e-04 - val_loss: 0.0026 - val_mse: 0.0026 - 196ms/epoch - 3ms/step\n",
      "Epoch 11/100\n",
      "61/61 - 0s - loss: 7.8660e-04 - mse: 7.8660e-04 - val_loss: 0.0037 - val_mse: 0.0037 - 297ms/epoch - 5ms/step\n",
      "Epoch 12/100\n",
      "61/61 - 0s - loss: 7.9670e-04 - mse: 7.9670e-04 - val_loss: 0.0052 - val_mse: 0.0052 - 273ms/epoch - 4ms/step\n",
      "Epoch 13/100\n",
      "61/61 - 0s - loss: 7.8757e-04 - mse: 7.8757e-04 - val_loss: 0.0029 - val_mse: 0.0029 - 260ms/epoch - 4ms/step\n",
      "Epoch 14/100\n",
      "61/61 - 0s - loss: 7.9518e-04 - mse: 7.9518e-04 - val_loss: 0.0037 - val_mse: 0.0037 - 218ms/epoch - 4ms/step\n",
      "Epoch 15/100\n",
      "61/61 - 0s - loss: 7.9082e-04 - mse: 7.9082e-04 - val_loss: 0.0044 - val_mse: 0.0044 - 220ms/epoch - 4ms/step\n",
      "Epoch 16/100\n",
      "61/61 - 0s - loss: 6.9573e-04 - mse: 6.9573e-04 - val_loss: 0.0049 - val_mse: 0.0049 - 185ms/epoch - 3ms/step\n",
      "Epoch 17/100\n",
      "61/61 - 0s - loss: 6.7867e-04 - mse: 6.7867e-04 - val_loss: 0.0044 - val_mse: 0.0044 - 374ms/epoch - 6ms/step\n",
      "Epoch 18/100\n",
      "61/61 - 0s - loss: 7.0615e-04 - mse: 7.0615e-04 - val_loss: 0.0032 - val_mse: 0.0032 - 230ms/epoch - 4ms/step\n",
      "Epoch 19/100\n",
      "61/61 - 0s - loss: 6.9178e-04 - mse: 6.9178e-04 - val_loss: 0.0048 - val_mse: 0.0048 - 233ms/epoch - 4ms/step\n",
      "Epoch 20/100\n",
      "61/61 - 0s - loss: 7.1252e-04 - mse: 7.1252e-04 - val_loss: 0.0040 - val_mse: 0.0040 - 193ms/epoch - 3ms/step\n",
      "Epoch 21/100\n",
      "61/61 - 0s - loss: 6.7876e-04 - mse: 6.7876e-04 - val_loss: 0.0042 - val_mse: 0.0042 - 283ms/epoch - 5ms/step\n",
      "Epoch 22/100\n",
      "61/61 - 0s - loss: 6.4693e-04 - mse: 6.4693e-04 - val_loss: 0.0032 - val_mse: 0.0032 - 275ms/epoch - 5ms/step\n",
      "Epoch 23/100\n",
      "61/61 - 0s - loss: 7.2267e-04 - mse: 7.2267e-04 - val_loss: 0.0048 - val_mse: 0.0048 - 264ms/epoch - 4ms/step\n",
      "Epoch 24/100\n",
      "61/61 - 0s - loss: 6.7796e-04 - mse: 6.7796e-04 - val_loss: 0.0022 - val_mse: 0.0022 - 204ms/epoch - 3ms/step\n",
      "Epoch 25/100\n",
      "61/61 - 0s - loss: 6.9871e-04 - mse: 6.9871e-04 - val_loss: 0.0025 - val_mse: 0.0025 - 264ms/epoch - 4ms/step\n",
      "Epoch 26/100\n",
      "61/61 - 0s - loss: 7.1550e-04 - mse: 7.1550e-04 - val_loss: 0.0035 - val_mse: 0.0035 - 314ms/epoch - 5ms/step\n",
      "Epoch 27/100\n",
      "61/61 - 0s - loss: 6.6376e-04 - mse: 6.6376e-04 - val_loss: 0.0025 - val_mse: 0.0025 - 257ms/epoch - 4ms/step\n",
      "Epoch 28/100\n",
      "61/61 - 0s - loss: 6.9657e-04 - mse: 6.9657e-04 - val_loss: 0.0042 - val_mse: 0.0042 - 232ms/epoch - 4ms/step\n",
      "Epoch 29/100\n",
      "61/61 - 0s - loss: 7.1701e-04 - mse: 7.1701e-04 - val_loss: 0.0060 - val_mse: 0.0060 - 369ms/epoch - 6ms/step\n",
      "Epoch 30/100\n",
      "61/61 - 0s - loss: 7.2896e-04 - mse: 7.2896e-04 - val_loss: 0.0034 - val_mse: 0.0034 - 281ms/epoch - 5ms/step\n",
      "Epoch 31/100\n",
      "61/61 - 0s - loss: 6.5995e-04 - mse: 6.5995e-04 - val_loss: 0.0038 - val_mse: 0.0038 - 275ms/epoch - 5ms/step\n",
      "Epoch 32/100\n",
      "61/61 - 0s - loss: 6.2363e-04 - mse: 6.2363e-04 - val_loss: 0.0037 - val_mse: 0.0037 - 217ms/epoch - 4ms/step\n",
      "Epoch 33/100\n",
      "61/61 - 0s - loss: 7.2513e-04 - mse: 7.2513e-04 - val_loss: 0.0035 - val_mse: 0.0035 - 307ms/epoch - 5ms/step\n",
      "Epoch 34/100\n",
      "61/61 - 0s - loss: 6.5886e-04 - mse: 6.5886e-04 - val_loss: 0.0057 - val_mse: 0.0057 - 338ms/epoch - 6ms/step\n",
      "Epoch 35/100\n",
      "61/61 - 0s - loss: 6.8578e-04 - mse: 6.8578e-04 - val_loss: 0.0036 - val_mse: 0.0036 - 227ms/epoch - 4ms/step\n",
      "Epoch 36/100\n",
      "61/61 - 0s - loss: 6.6439e-04 - mse: 6.6439e-04 - val_loss: 0.0053 - val_mse: 0.0053 - 317ms/epoch - 5ms/step\n",
      "Epoch 37/100\n",
      "61/61 - 0s - loss: 7.1708e-04 - mse: 7.1708e-04 - val_loss: 0.0052 - val_mse: 0.0052 - 255ms/epoch - 4ms/step\n",
      "Epoch 38/100\n",
      "61/61 - 0s - loss: 6.5207e-04 - mse: 6.5207e-04 - val_loss: 0.0060 - val_mse: 0.0060 - 246ms/epoch - 4ms/step\n",
      "Epoch 39/100\n",
      "61/61 - 0s - loss: 7.4380e-04 - mse: 7.4380e-04 - val_loss: 0.0051 - val_mse: 0.0051 - 229ms/epoch - 4ms/step\n",
      "Epoch 40/100\n",
      "61/61 - 0s - loss: 6.9536e-04 - mse: 6.9536e-04 - val_loss: 0.0044 - val_mse: 0.0044 - 351ms/epoch - 6ms/step\n",
      "Epoch 41/100\n",
      "61/61 - 0s - loss: 6.5234e-04 - mse: 6.5234e-04 - val_loss: 0.0072 - val_mse: 0.0072 - 311ms/epoch - 5ms/step\n",
      "Epoch 42/100\n",
      "61/61 - 0s - loss: 6.3994e-04 - mse: 6.3994e-04 - val_loss: 0.0031 - val_mse: 0.0031 - 203ms/epoch - 3ms/step\n",
      "Epoch 43/100\n",
      "61/61 - 0s - loss: 6.5404e-04 - mse: 6.5404e-04 - val_loss: 0.0035 - val_mse: 0.0035 - 307ms/epoch - 5ms/step\n",
      "Epoch 44/100\n",
      "61/61 - 0s - loss: 7.3542e-04 - mse: 7.3542e-04 - val_loss: 0.0053 - val_mse: 0.0053 - 258ms/epoch - 4ms/step\n",
      "Epoch 45/100\n",
      "61/61 - 0s - loss: 6.5266e-04 - mse: 6.5266e-04 - val_loss: 0.0057 - val_mse: 0.0057 - 305ms/epoch - 5ms/step\n",
      "Epoch 46/100\n",
      "61/61 - 0s - loss: 6.8369e-04 - mse: 6.8369e-04 - val_loss: 0.0028 - val_mse: 0.0028 - 208ms/epoch - 3ms/step\n",
      "Epoch 47/100\n",
      "61/61 - 0s - loss: 8.3225e-04 - mse: 8.3225e-04 - val_loss: 0.0027 - val_mse: 0.0027 - 159ms/epoch - 3ms/step\n",
      "Epoch 48/100\n",
      "61/61 - 0s - loss: 7.8550e-04 - mse: 7.8550e-04 - val_loss: 0.0038 - val_mse: 0.0038 - 236ms/epoch - 4ms/step\n",
      "Epoch 49/100\n",
      "61/61 - 0s - loss: 6.4008e-04 - mse: 6.4008e-04 - val_loss: 0.0044 - val_mse: 0.0044 - 322ms/epoch - 5ms/step\n",
      "Epoch 50/100\n",
      "61/61 - 0s - loss: 6.8989e-04 - mse: 6.8989e-04 - val_loss: 0.0030 - val_mse: 0.0030 - 204ms/epoch - 3ms/step\n",
      "Epoch 51/100\n",
      "61/61 - 0s - loss: 6.5941e-04 - mse: 6.5941e-04 - val_loss: 0.0032 - val_mse: 0.0032 - 202ms/epoch - 3ms/step\n",
      "Epoch 52/100\n",
      "61/61 - 0s - loss: 7.1230e-04 - mse: 7.1230e-04 - val_loss: 0.0058 - val_mse: 0.0058 - 253ms/epoch - 4ms/step\n",
      "Epoch 53/100\n",
      "61/61 - 0s - loss: 6.5992e-04 - mse: 6.5992e-04 - val_loss: 0.0061 - val_mse: 0.0061 - 286ms/epoch - 5ms/step\n",
      "Epoch 54/100\n",
      "61/61 - 0s - loss: 7.5838e-04 - mse: 7.5838e-04 - val_loss: 0.0041 - val_mse: 0.0041 - 167ms/epoch - 3ms/step\n",
      "Epoch 55/100\n",
      "61/61 - 0s - loss: 6.6794e-04 - mse: 6.6794e-04 - val_loss: 0.0030 - val_mse: 0.0030 - 233ms/epoch - 4ms/step\n",
      "Epoch 56/100\n",
      "61/61 - 0s - loss: 7.2696e-04 - mse: 7.2696e-04 - val_loss: 0.0034 - val_mse: 0.0034 - 265ms/epoch - 4ms/step\n",
      "Epoch 57/100\n",
      "61/61 - 0s - loss: 6.9060e-04 - mse: 6.9060e-04 - val_loss: 0.0042 - val_mse: 0.0042 - 237ms/epoch - 4ms/step\n",
      "Epoch 58/100\n",
      "61/61 - 0s - loss: 7.0842e-04 - mse: 7.0842e-04 - val_loss: 0.0064 - val_mse: 0.0064 - 200ms/epoch - 3ms/step\n",
      "Epoch 59/100\n",
      "61/61 - 0s - loss: 7.1144e-04 - mse: 7.1144e-04 - val_loss: 0.0028 - val_mse: 0.0028 - 204ms/epoch - 3ms/step\n",
      "Epoch 60/100\n",
      "61/61 - 0s - loss: 7.5316e-04 - mse: 7.5316e-04 - val_loss: 0.0032 - val_mse: 0.0032 - 214ms/epoch - 4ms/step\n",
      "Epoch 61/100\n",
      "61/61 - 0s - loss: 6.8840e-04 - mse: 6.8840e-04 - val_loss: 0.0093 - val_mse: 0.0093 - 317ms/epoch - 5ms/step\n",
      "Epoch 62/100\n",
      "61/61 - 0s - loss: 6.7372e-04 - mse: 6.7372e-04 - val_loss: 0.0101 - val_mse: 0.0101 - 280ms/epoch - 5ms/step\n",
      "Epoch 63/100\n",
      "61/61 - 0s - loss: 7.5547e-04 - mse: 7.5547e-04 - val_loss: 0.0038 - val_mse: 0.0038 - 201ms/epoch - 3ms/step\n",
      "Epoch 64/100\n",
      "61/61 - 0s - loss: 6.7964e-04 - mse: 6.7964e-04 - val_loss: 0.0056 - val_mse: 0.0056 - 285ms/epoch - 5ms/step\n",
      "Epoch 65/100\n",
      "61/61 - 0s - loss: 6.7669e-04 - mse: 6.7669e-04 - val_loss: 0.0051 - val_mse: 0.0051 - 225ms/epoch - 4ms/step\n",
      "Epoch 66/100\n",
      "61/61 - 0s - loss: 6.5353e-04 - mse: 6.5353e-04 - val_loss: 0.0067 - val_mse: 0.0067 - 226ms/epoch - 4ms/step\n",
      "Epoch 67/100\n",
      "61/61 - 0s - loss: 6.8946e-04 - mse: 6.8946e-04 - val_loss: 0.0029 - val_mse: 0.0029 - 179ms/epoch - 3ms/step\n",
      "Epoch 68/100\n",
      "61/61 - 0s - loss: 6.9119e-04 - mse: 6.9119e-04 - val_loss: 0.0065 - val_mse: 0.0065 - 179ms/epoch - 3ms/step\n",
      "Epoch 69/100\n",
      "61/61 - 0s - loss: 6.4468e-04 - mse: 6.4468e-04 - val_loss: 0.0054 - val_mse: 0.0054 - 173ms/epoch - 3ms/step\n",
      "Epoch 70/100\n",
      "61/61 - 0s - loss: 6.8739e-04 - mse: 6.8739e-04 - val_loss: 0.0028 - val_mse: 0.0028 - 286ms/epoch - 5ms/step\n",
      "Epoch 71/100\n",
      "61/61 - 0s - loss: 8.1785e-04 - mse: 8.1785e-04 - val_loss: 0.0052 - val_mse: 0.0052 - 196ms/epoch - 3ms/step\n",
      "Epoch 72/100\n",
      "61/61 - 0s - loss: 7.7533e-04 - mse: 7.7533e-04 - val_loss: 0.0062 - val_mse: 0.0062 - 192ms/epoch - 3ms/step\n",
      "Epoch 73/100\n",
      "61/61 - 0s - loss: 6.6776e-04 - mse: 6.6776e-04 - val_loss: 0.0053 - val_mse: 0.0053 - 219ms/epoch - 4ms/step\n",
      "Epoch 74/100\n",
      "61/61 - 0s - loss: 6.8320e-04 - mse: 6.8320e-04 - val_loss: 0.0048 - val_mse: 0.0048 - 178ms/epoch - 3ms/step\n",
      "Epoch 75/100\n",
      "61/61 - 0s - loss: 7.2003e-04 - mse: 7.2003e-04 - val_loss: 0.0044 - val_mse: 0.0044 - 232ms/epoch - 4ms/step\n",
      "Epoch 76/100\n",
      "61/61 - 0s - loss: 7.3162e-04 - mse: 7.3162e-04 - val_loss: 0.0065 - val_mse: 0.0065 - 214ms/epoch - 4ms/step\n",
      "Epoch 77/100\n",
      "61/61 - 0s - loss: 6.8166e-04 - mse: 6.8166e-04 - val_loss: 0.0056 - val_mse: 0.0056 - 186ms/epoch - 3ms/step\n",
      "Epoch 78/100\n",
      "61/61 - 0s - loss: 7.5017e-04 - mse: 7.5017e-04 - val_loss: 0.0049 - val_mse: 0.0049 - 278ms/epoch - 5ms/step\n",
      "Epoch 79/100\n",
      "61/61 - 0s - loss: 7.1453e-04 - mse: 7.1453e-04 - val_loss: 0.0038 - val_mse: 0.0038 - 230ms/epoch - 4ms/step\n",
      "Epoch 80/100\n",
      "61/61 - 0s - loss: 7.2423e-04 - mse: 7.2423e-04 - val_loss: 0.0064 - val_mse: 0.0064 - 193ms/epoch - 3ms/step\n",
      "Epoch 81/100\n",
      "61/61 - 0s - loss: 6.5613e-04 - mse: 6.5613e-04 - val_loss: 0.0040 - val_mse: 0.0040 - 182ms/epoch - 3ms/step\n",
      "Epoch 82/100\n",
      "61/61 - 0s - loss: 6.3539e-04 - mse: 6.3539e-04 - val_loss: 0.0061 - val_mse: 0.0061 - 176ms/epoch - 3ms/step\n",
      "Epoch 83/100\n",
      "61/61 - 0s - loss: 6.4003e-04 - mse: 6.4003e-04 - val_loss: 0.0061 - val_mse: 0.0061 - 195ms/epoch - 3ms/step\n",
      "Epoch 84/100\n",
      "61/61 - 0s - loss: 7.0027e-04 - mse: 7.0027e-04 - val_loss: 0.0053 - val_mse: 0.0053 - 194ms/epoch - 3ms/step\n",
      "Epoch 85/100\n",
      "61/61 - 0s - loss: 6.6355e-04 - mse: 6.6355e-04 - val_loss: 0.0036 - val_mse: 0.0036 - 189ms/epoch - 3ms/step\n",
      "Epoch 86/100\n",
      "61/61 - 0s - loss: 6.8947e-04 - mse: 6.8947e-04 - val_loss: 0.0088 - val_mse: 0.0088 - 201ms/epoch - 3ms/step\n",
      "Epoch 87/100\n",
      "61/61 - 0s - loss: 8.0746e-04 - mse: 8.0746e-04 - val_loss: 0.0044 - val_mse: 0.0044 - 172ms/epoch - 3ms/step\n",
      "Epoch 88/100\n",
      "61/61 - 0s - loss: 7.0090e-04 - mse: 7.0090e-04 - val_loss: 0.0076 - val_mse: 0.0076 - 180ms/epoch - 3ms/step\n",
      "Epoch 89/100\n",
      "61/61 - 0s - loss: 7.2923e-04 - mse: 7.2923e-04 - val_loss: 0.0069 - val_mse: 0.0069 - 135ms/epoch - 2ms/step\n",
      "Epoch 90/100\n",
      "61/61 - 0s - loss: 7.1030e-04 - mse: 7.1030e-04 - val_loss: 0.0054 - val_mse: 0.0054 - 202ms/epoch - 3ms/step\n",
      "Epoch 91/100\n",
      "61/61 - 0s - loss: 8.5237e-04 - mse: 8.5237e-04 - val_loss: 0.0150 - val_mse: 0.0150 - 193ms/epoch - 3ms/step\n",
      "Epoch 92/100\n",
      "61/61 - 0s - loss: 9.2010e-04 - mse: 9.2010e-04 - val_loss: 0.0062 - val_mse: 0.0062 - 186ms/epoch - 3ms/step\n",
      "Epoch 93/100\n",
      "61/61 - 0s - loss: 7.4171e-04 - mse: 7.4171e-04 - val_loss: 0.0051 - val_mse: 0.0051 - 178ms/epoch - 3ms/step\n",
      "Epoch 94/100\n",
      "61/61 - 0s - loss: 7.0645e-04 - mse: 7.0645e-04 - val_loss: 0.0044 - val_mse: 0.0044 - 178ms/epoch - 3ms/step\n",
      "Epoch 95/100\n",
      "61/61 - 0s - loss: 6.9642e-04 - mse: 6.9642e-04 - val_loss: 0.0052 - val_mse: 0.0052 - 308ms/epoch - 5ms/step\n",
      "Epoch 96/100\n",
      "61/61 - 0s - loss: 7.4660e-04 - mse: 7.4660e-04 - val_loss: 0.0053 - val_mse: 0.0053 - 203ms/epoch - 3ms/step\n",
      "Epoch 97/100\n",
      "61/61 - 0s - loss: 6.6225e-04 - mse: 6.6225e-04 - val_loss: 0.0045 - val_mse: 0.0045 - 274ms/epoch - 4ms/step\n",
      "Epoch 98/100\n",
      "61/61 - 0s - loss: 6.8674e-04 - mse: 6.8674e-04 - val_loss: 0.0079 - val_mse: 0.0079 - 198ms/epoch - 3ms/step\n",
      "Epoch 99/100\n",
      "61/61 - 0s - loss: 7.7023e-04 - mse: 7.7023e-04 - val_loss: 0.0075 - val_mse: 0.0075 - 192ms/epoch - 3ms/step\n",
      "Epoch 100/100\n",
      "61/61 - 0s - loss: 6.8026e-04 - mse: 6.8026e-04 - val_loss: 0.0046 - val_mse: 0.0046 - 198ms/epoch - 3ms/step\n"
     ]
    }
   ],
   "source": [
    "mseplot = model1.compile(loss='mean_squared_error', optimizer=opt, metrics=['mse'])\n",
    "\n",
    "mseplot = model1.fit(x_train, y_train, epochs = 100, batch_size=64, verbose=2, validation_data=(x_test, y_test))"
   ]
  },
  {
   "cell_type": "code",
   "execution_count": 29,
   "id": "05a4cb49",
   "metadata": {
    "id": "05a4cb49",
    "outputId": "d9271c8b-290c-4d77-fff1-0cb79b166ba8"
   },
   "outputs": [
    {
     "name": "stdout",
     "output_type": "stream",
     "text": [
      "Epoch 1/100\n",
      "61/61 - 2s - loss: 6.7513e-04 - rmse: 0.0260 - val_loss: 0.0038 - val_rmse: 0.0619 - 2s/epoch - 37ms/step\n",
      "Epoch 2/100\n",
      "61/61 - 0s - loss: 7.1543e-04 - rmse: 0.0267 - val_loss: 0.0119 - val_rmse: 0.1089 - 187ms/epoch - 3ms/step\n",
      "Epoch 3/100\n",
      "61/61 - 0s - loss: 6.7333e-04 - rmse: 0.0259 - val_loss: 0.0056 - val_rmse: 0.0747 - 211ms/epoch - 3ms/step\n",
      "Epoch 4/100\n",
      "61/61 - 0s - loss: 7.0726e-04 - rmse: 0.0266 - val_loss: 0.0050 - val_rmse: 0.0705 - 232ms/epoch - 4ms/step\n",
      "Epoch 5/100\n",
      "61/61 - 0s - loss: 7.0170e-04 - rmse: 0.0265 - val_loss: 0.0045 - val_rmse: 0.0668 - 212ms/epoch - 3ms/step\n",
      "Epoch 6/100\n",
      "61/61 - 0s - loss: 7.2146e-04 - rmse: 0.0269 - val_loss: 0.0068 - val_rmse: 0.0826 - 203ms/epoch - 3ms/step\n",
      "Epoch 7/100\n",
      "61/61 - 0s - loss: 6.9417e-04 - rmse: 0.0263 - val_loss: 0.0050 - val_rmse: 0.0709 - 223ms/epoch - 4ms/step\n",
      "Epoch 8/100\n",
      "61/61 - 0s - loss: 6.8235e-04 - rmse: 0.0261 - val_loss: 0.0082 - val_rmse: 0.0906 - 210ms/epoch - 3ms/step\n",
      "Epoch 9/100\n",
      "61/61 - 0s - loss: 6.6890e-04 - rmse: 0.0259 - val_loss: 0.0050 - val_rmse: 0.0710 - 202ms/epoch - 3ms/step\n",
      "Epoch 10/100\n",
      "61/61 - 0s - loss: 7.0916e-04 - rmse: 0.0266 - val_loss: 0.0033 - val_rmse: 0.0577 - 199ms/epoch - 3ms/step\n",
      "Epoch 11/100\n",
      "61/61 - 0s - loss: 6.5582e-04 - rmse: 0.0256 - val_loss: 0.0062 - val_rmse: 0.0785 - 201ms/epoch - 3ms/step\n",
      "Epoch 12/100\n",
      "61/61 - 0s - loss: 7.2270e-04 - rmse: 0.0269 - val_loss: 0.0091 - val_rmse: 0.0952 - 195ms/epoch - 3ms/step\n",
      "Epoch 13/100\n",
      "61/61 - 0s - loss: 8.1020e-04 - rmse: 0.0285 - val_loss: 0.0050 - val_rmse: 0.0709 - 204ms/epoch - 3ms/step\n",
      "Epoch 14/100\n",
      "61/61 - 0s - loss: 7.5702e-04 - rmse: 0.0275 - val_loss: 0.0039 - val_rmse: 0.0628 - 219ms/epoch - 4ms/step\n",
      "Epoch 15/100\n",
      "61/61 - 0s - loss: 7.3515e-04 - rmse: 0.0271 - val_loss: 0.0111 - val_rmse: 0.1054 - 251ms/epoch - 4ms/step\n",
      "Epoch 16/100\n",
      "61/61 - 0s - loss: 7.7555e-04 - rmse: 0.0278 - val_loss: 0.0049 - val_rmse: 0.0703 - 263ms/epoch - 4ms/step\n",
      "Epoch 17/100\n",
      "61/61 - 0s - loss: 7.0005e-04 - rmse: 0.0265 - val_loss: 0.0061 - val_rmse: 0.0780 - 228ms/epoch - 4ms/step\n",
      "Epoch 18/100\n",
      "61/61 - 0s - loss: 6.7723e-04 - rmse: 0.0260 - val_loss: 0.0057 - val_rmse: 0.0756 - 197ms/epoch - 3ms/step\n",
      "Epoch 19/100\n",
      "61/61 - 0s - loss: 7.5581e-04 - rmse: 0.0275 - val_loss: 0.0041 - val_rmse: 0.0642 - 243ms/epoch - 4ms/step\n",
      "Epoch 20/100\n",
      "61/61 - 0s - loss: 7.2257e-04 - rmse: 0.0269 - val_loss: 0.0072 - val_rmse: 0.0851 - 197ms/epoch - 3ms/step\n",
      "Epoch 21/100\n",
      "61/61 - 0s - loss: 6.8610e-04 - rmse: 0.0262 - val_loss: 0.0043 - val_rmse: 0.0656 - 204ms/epoch - 3ms/step\n",
      "Epoch 22/100\n",
      "61/61 - 0s - loss: 7.6043e-04 - rmse: 0.0276 - val_loss: 0.0078 - val_rmse: 0.0886 - 213ms/epoch - 3ms/step\n",
      "Epoch 23/100\n",
      "61/61 - 0s - loss: 7.2699e-04 - rmse: 0.0270 - val_loss: 0.0048 - val_rmse: 0.0696 - 237ms/epoch - 4ms/step\n",
      "Epoch 24/100\n",
      "61/61 - 0s - loss: 7.4517e-04 - rmse: 0.0273 - val_loss: 0.0068 - val_rmse: 0.0822 - 199ms/epoch - 3ms/step\n",
      "Epoch 25/100\n",
      "61/61 - 0s - loss: 7.5158e-04 - rmse: 0.0274 - val_loss: 0.0074 - val_rmse: 0.0859 - 214ms/epoch - 4ms/step\n",
      "Epoch 26/100\n",
      "61/61 - 0s - loss: 7.0176e-04 - rmse: 0.0265 - val_loss: 0.0110 - val_rmse: 0.1049 - 166ms/epoch - 3ms/step\n",
      "Epoch 27/100\n",
      "61/61 - 0s - loss: 7.6659e-04 - rmse: 0.0277 - val_loss: 0.0066 - val_rmse: 0.0810 - 133ms/epoch - 2ms/step\n",
      "Epoch 28/100\n",
      "61/61 - 0s - loss: 6.5750e-04 - rmse: 0.0256 - val_loss: 0.0055 - val_rmse: 0.0739 - 120ms/epoch - 2ms/step\n",
      "Epoch 29/100\n",
      "61/61 - 0s - loss: 7.1894e-04 - rmse: 0.0268 - val_loss: 0.0078 - val_rmse: 0.0880 - 121ms/epoch - 2ms/step\n",
      "Epoch 30/100\n",
      "61/61 - 0s - loss: 7.3942e-04 - rmse: 0.0272 - val_loss: 0.0095 - val_rmse: 0.0973 - 121ms/epoch - 2ms/step\n",
      "Epoch 31/100\n",
      "61/61 - 0s - loss: 7.2969e-04 - rmse: 0.0270 - val_loss: 0.0061 - val_rmse: 0.0779 - 128ms/epoch - 2ms/step\n",
      "Epoch 32/100\n",
      "61/61 - 0s - loss: 6.9970e-04 - rmse: 0.0265 - val_loss: 0.0084 - val_rmse: 0.0917 - 183ms/epoch - 3ms/step\n",
      "Epoch 33/100\n",
      "61/61 - 0s - loss: 7.0830e-04 - rmse: 0.0266 - val_loss: 0.0061 - val_rmse: 0.0781 - 206ms/epoch - 3ms/step\n",
      "Epoch 34/100\n",
      "61/61 - 0s - loss: 7.4568e-04 - rmse: 0.0273 - val_loss: 0.0070 - val_rmse: 0.0836 - 163ms/epoch - 3ms/step\n",
      "Epoch 35/100\n",
      "61/61 - 0s - loss: 6.4832e-04 - rmse: 0.0255 - val_loss: 0.0077 - val_rmse: 0.0877 - 147ms/epoch - 2ms/step\n",
      "Epoch 36/100\n",
      "61/61 - 0s - loss: 7.4082e-04 - rmse: 0.0272 - val_loss: 0.0086 - val_rmse: 0.0929 - 164ms/epoch - 3ms/step\n",
      "Epoch 37/100\n",
      "61/61 - 0s - loss: 7.4536e-04 - rmse: 0.0273 - val_loss: 0.0041 - val_rmse: 0.0638 - 155ms/epoch - 3ms/step\n",
      "Epoch 38/100\n",
      "61/61 - 0s - loss: 7.6826e-04 - rmse: 0.0277 - val_loss: 0.0059 - val_rmse: 0.0766 - 140ms/epoch - 2ms/step\n",
      "Epoch 39/100\n",
      "61/61 - 0s - loss: 7.6312e-04 - rmse: 0.0276 - val_loss: 0.0070 - val_rmse: 0.0837 - 136ms/epoch - 2ms/step\n",
      "Epoch 40/100\n",
      "61/61 - 0s - loss: 6.7732e-04 - rmse: 0.0260 - val_loss: 0.0061 - val_rmse: 0.0782 - 174ms/epoch - 3ms/step\n",
      "Epoch 41/100\n",
      "61/61 - 0s - loss: 7.8513e-04 - rmse: 0.0280 - val_loss: 0.0062 - val_rmse: 0.0788 - 134ms/epoch - 2ms/step\n",
      "Epoch 42/100\n",
      "61/61 - 0s - loss: 6.2732e-04 - rmse: 0.0250 - val_loss: 0.0055 - val_rmse: 0.0741 - 138ms/epoch - 2ms/step\n",
      "Epoch 43/100\n",
      "61/61 - 0s - loss: 6.4605e-04 - rmse: 0.0254 - val_loss: 0.0085 - val_rmse: 0.0925 - 131ms/epoch - 2ms/step\n",
      "Epoch 44/100\n",
      "61/61 - 0s - loss: 7.1655e-04 - rmse: 0.0268 - val_loss: 0.0050 - val_rmse: 0.0705 - 125ms/epoch - 2ms/step\n",
      "Epoch 45/100\n",
      "61/61 - 0s - loss: 7.2501e-04 - rmse: 0.0269 - val_loss: 0.0034 - val_rmse: 0.0587 - 122ms/epoch - 2ms/step\n",
      "Epoch 46/100\n",
      "61/61 - 0s - loss: 6.4698e-04 - rmse: 0.0254 - val_loss: 0.0074 - val_rmse: 0.0863 - 125ms/epoch - 2ms/step\n",
      "Epoch 47/100\n",
      "61/61 - 0s - loss: 7.0676e-04 - rmse: 0.0266 - val_loss: 0.0058 - val_rmse: 0.0760 - 129ms/epoch - 2ms/step\n",
      "Epoch 48/100\n",
      "61/61 - 0s - loss: 7.4842e-04 - rmse: 0.0274 - val_loss: 0.0046 - val_rmse: 0.0681 - 125ms/epoch - 2ms/step\n",
      "Epoch 49/100\n",
      "61/61 - 0s - loss: 7.7824e-04 - rmse: 0.0279 - val_loss: 0.0039 - val_rmse: 0.0624 - 120ms/epoch - 2ms/step\n",
      "Epoch 50/100\n",
      "61/61 - 0s - loss: 7.7507e-04 - rmse: 0.0278 - val_loss: 0.0063 - val_rmse: 0.0792 - 122ms/epoch - 2ms/step\n",
      "Epoch 51/100\n",
      "61/61 - 0s - loss: 7.3353e-04 - rmse: 0.0271 - val_loss: 0.0064 - val_rmse: 0.0801 - 140ms/epoch - 2ms/step\n",
      "Epoch 52/100\n",
      "61/61 - 0s - loss: 7.2887e-04 - rmse: 0.0270 - val_loss: 0.0091 - val_rmse: 0.0953 - 153ms/epoch - 3ms/step\n",
      "Epoch 53/100\n",
      "61/61 - 0s - loss: 6.8090e-04 - rmse: 0.0261 - val_loss: 0.0047 - val_rmse: 0.0684 - 146ms/epoch - 2ms/step\n",
      "Epoch 54/100\n",
      "61/61 - 0s - loss: 7.8475e-04 - rmse: 0.0280 - val_loss: 0.0065 - val_rmse: 0.0809 - 189ms/epoch - 3ms/step\n",
      "Epoch 55/100\n",
      "61/61 - 0s - loss: 7.2901e-04 - rmse: 0.0270 - val_loss: 0.0037 - val_rmse: 0.0608 - 165ms/epoch - 3ms/step\n",
      "Epoch 56/100\n",
      "61/61 - 0s - loss: 7.3537e-04 - rmse: 0.0271 - val_loss: 0.0099 - val_rmse: 0.0993 - 144ms/epoch - 2ms/step\n",
      "Epoch 57/100\n",
      "61/61 - 0s - loss: 7.5661e-04 - rmse: 0.0275 - val_loss: 0.0038 - val_rmse: 0.0619 - 141ms/epoch - 2ms/step\n",
      "Epoch 58/100\n",
      "61/61 - 0s - loss: 7.0201e-04 - rmse: 0.0265 - val_loss: 0.0101 - val_rmse: 0.1004 - 130ms/epoch - 2ms/step\n",
      "Epoch 59/100\n",
      "61/61 - 0s - loss: 7.2328e-04 - rmse: 0.0269 - val_loss: 0.0037 - val_rmse: 0.0607 - 152ms/epoch - 2ms/step\n",
      "Epoch 60/100\n",
      "61/61 - 0s - loss: 8.2707e-04 - rmse: 0.0288 - val_loss: 0.0109 - val_rmse: 0.1044 - 140ms/epoch - 2ms/step\n",
      "Epoch 61/100\n",
      "61/61 - 0s - loss: 7.2963e-04 - rmse: 0.0270 - val_loss: 0.0057 - val_rmse: 0.0753 - 117ms/epoch - 2ms/step\n",
      "Epoch 62/100\n",
      "61/61 - 0s - loss: 7.4140e-04 - rmse: 0.0272 - val_loss: 0.0040 - val_rmse: 0.0632 - 116ms/epoch - 2ms/step\n",
      "Epoch 63/100\n",
      "61/61 - 0s - loss: 7.2418e-04 - rmse: 0.0269 - val_loss: 0.0064 - val_rmse: 0.0801 - 139ms/epoch - 2ms/step\n",
      "Epoch 64/100\n",
      "61/61 - 0s - loss: 8.3471e-04 - rmse: 0.0289 - val_loss: 0.0088 - val_rmse: 0.0939 - 134ms/epoch - 2ms/step\n",
      "Epoch 65/100\n",
      "61/61 - 0s - loss: 7.8508e-04 - rmse: 0.0280 - val_loss: 0.0062 - val_rmse: 0.0788 - 126ms/epoch - 2ms/step\n",
      "Epoch 66/100\n",
      "61/61 - 0s - loss: 6.8379e-04 - rmse: 0.0261 - val_loss: 0.0101 - val_rmse: 0.1007 - 117ms/epoch - 2ms/step\n",
      "Epoch 67/100\n",
      "61/61 - 0s - loss: 7.2248e-04 - rmse: 0.0269 - val_loss: 0.0059 - val_rmse: 0.0768 - 117ms/epoch - 2ms/step\n",
      "Epoch 68/100\n",
      "61/61 - 0s - loss: 6.8094e-04 - rmse: 0.0261 - val_loss: 0.0027 - val_rmse: 0.0517 - 127ms/epoch - 2ms/step\n",
      "Epoch 69/100\n",
      "61/61 - 0s - loss: 8.4931e-04 - rmse: 0.0291 - val_loss: 0.0074 - val_rmse: 0.0857 - 147ms/epoch - 2ms/step\n",
      "Epoch 70/100\n",
      "61/61 - 0s - loss: 7.0013e-04 - rmse: 0.0265 - val_loss: 0.0073 - val_rmse: 0.0857 - 156ms/epoch - 3ms/step\n",
      "Epoch 71/100\n",
      "61/61 - 0s - loss: 7.1875e-04 - rmse: 0.0268 - val_loss: 0.0061 - val_rmse: 0.0782 - 125ms/epoch - 2ms/step\n",
      "Epoch 72/100\n",
      "61/61 - 0s - loss: 7.7925e-04 - rmse: 0.0279 - val_loss: 0.0071 - val_rmse: 0.0842 - 119ms/epoch - 2ms/step\n",
      "Epoch 73/100\n",
      "61/61 - 0s - loss: 7.3951e-04 - rmse: 0.0272 - val_loss: 0.0055 - val_rmse: 0.0745 - 120ms/epoch - 2ms/step\n",
      "Epoch 74/100\n",
      "61/61 - 0s - loss: 6.9596e-04 - rmse: 0.0264 - val_loss: 0.0077 - val_rmse: 0.0876 - 123ms/epoch - 2ms/step\n",
      "Epoch 75/100\n",
      "61/61 - 0s - loss: 6.6799e-04 - rmse: 0.0258 - val_loss: 0.0063 - val_rmse: 0.0794 - 121ms/epoch - 2ms/step\n",
      "Epoch 76/100\n",
      "61/61 - 0s - loss: 7.8665e-04 - rmse: 0.0280 - val_loss: 0.0055 - val_rmse: 0.0745 - 117ms/epoch - 2ms/step\n",
      "Epoch 77/100\n",
      "61/61 - 0s - loss: 7.6541e-04 - rmse: 0.0277 - val_loss: 0.0068 - val_rmse: 0.0822 - 109ms/epoch - 2ms/step\n",
      "Epoch 78/100\n",
      "61/61 - 0s - loss: 7.4089e-04 - rmse: 0.0272 - val_loss: 0.0041 - val_rmse: 0.0642 - 109ms/epoch - 2ms/step\n",
      "Epoch 79/100\n",
      "61/61 - 0s - loss: 7.8149e-04 - rmse: 0.0280 - val_loss: 0.0115 - val_rmse: 0.1071 - 115ms/epoch - 2ms/step\n",
      "Epoch 80/100\n",
      "61/61 - 0s - loss: 7.3698e-04 - rmse: 0.0271 - val_loss: 0.0111 - val_rmse: 0.1051 - 118ms/epoch - 2ms/step\n",
      "Epoch 81/100\n",
      "61/61 - 0s - loss: 7.3556e-04 - rmse: 0.0271 - val_loss: 0.0041 - val_rmse: 0.0638 - 128ms/epoch - 2ms/step\n",
      "Epoch 82/100\n",
      "61/61 - 0s - loss: 7.3852e-04 - rmse: 0.0272 - val_loss: 0.0064 - val_rmse: 0.0802 - 113ms/epoch - 2ms/step\n",
      "Epoch 83/100\n",
      "61/61 - 0s - loss: 6.7576e-04 - rmse: 0.0260 - val_loss: 0.0070 - val_rmse: 0.0835 - 110ms/epoch - 2ms/step\n",
      "Epoch 84/100\n",
      "61/61 - 0s - loss: 6.6424e-04 - rmse: 0.0258 - val_loss: 0.0088 - val_rmse: 0.0938 - 117ms/epoch - 2ms/step\n",
      "Epoch 85/100\n",
      "61/61 - 0s - loss: 6.4798e-04 - rmse: 0.0255 - val_loss: 0.0039 - val_rmse: 0.0626 - 113ms/epoch - 2ms/step\n",
      "Epoch 86/100\n",
      "61/61 - 0s - loss: 7.0827e-04 - rmse: 0.0266 - val_loss: 0.0076 - val_rmse: 0.0870 - 110ms/epoch - 2ms/step\n",
      "Epoch 87/100\n",
      "61/61 - 0s - loss: 7.0817e-04 - rmse: 0.0266 - val_loss: 0.0060 - val_rmse: 0.0773 - 125ms/epoch - 2ms/step\n",
      "Epoch 88/100\n",
      "61/61 - 0s - loss: 6.8779e-04 - rmse: 0.0262 - val_loss: 0.0061 - val_rmse: 0.0783 - 121ms/epoch - 2ms/step\n",
      "Epoch 89/100\n",
      "61/61 - 0s - loss: 7.1344e-04 - rmse: 0.0267 - val_loss: 0.0037 - val_rmse: 0.0605 - 111ms/epoch - 2ms/step\n",
      "Epoch 90/100\n",
      "61/61 - 0s - loss: 7.0657e-04 - rmse: 0.0266 - val_loss: 0.0049 - val_rmse: 0.0697 - 108ms/epoch - 2ms/step\n",
      "Epoch 91/100\n",
      "61/61 - 0s - loss: 7.0853e-04 - rmse: 0.0266 - val_loss: 0.0056 - val_rmse: 0.0749 - 114ms/epoch - 2ms/step\n",
      "Epoch 92/100\n",
      "61/61 - 0s - loss: 6.9142e-04 - rmse: 0.0263 - val_loss: 0.0061 - val_rmse: 0.0783 - 112ms/epoch - 2ms/step\n",
      "Epoch 93/100\n",
      "61/61 - 0s - loss: 6.9107e-04 - rmse: 0.0263 - val_loss: 0.0040 - val_rmse: 0.0635 - 110ms/epoch - 2ms/step\n",
      "Epoch 94/100\n",
      "61/61 - 0s - loss: 7.4976e-04 - rmse: 0.0274 - val_loss: 0.0047 - val_rmse: 0.0683 - 118ms/epoch - 2ms/step\n",
      "Epoch 95/100\n",
      "61/61 - 0s - loss: 8.2103e-04 - rmse: 0.0287 - val_loss: 0.0053 - val_rmse: 0.0729 - 113ms/epoch - 2ms/step\n",
      "Epoch 96/100\n",
      "61/61 - 0s - loss: 7.3047e-04 - rmse: 0.0270 - val_loss: 0.0034 - val_rmse: 0.0583 - 126ms/epoch - 2ms/step\n",
      "Epoch 97/100\n",
      "61/61 - 0s - loss: 8.5334e-04 - rmse: 0.0292 - val_loss: 0.0067 - val_rmse: 0.0816 - 114ms/epoch - 2ms/step\n",
      "Epoch 98/100\n",
      "61/61 - 0s - loss: 7.3328e-04 - rmse: 0.0271 - val_loss: 0.0039 - val_rmse: 0.0626 - 156ms/epoch - 3ms/step\n",
      "Epoch 99/100\n",
      "61/61 - 0s - loss: 7.5151e-04 - rmse: 0.0274 - val_loss: 0.0112 - val_rmse: 0.1059 - 181ms/epoch - 3ms/step\n",
      "Epoch 100/100\n",
      "61/61 - 0s - loss: 7.7979e-04 - rmse: 0.0279 - val_loss: 0.0054 - val_rmse: 0.0737 - 194ms/epoch - 3ms/step\n"
     ]
    }
   ],
   "source": [
    "model1.compile(loss='mse', optimizer=opt, metrics=[tf.keras.metrics.RootMeanSquaredError(name='rmse')])\n",
    "\n",
    "rmseplot = model1.fit(x_train, y_train, epochs = 100, batch_size=64, verbose=2, validation_data=(x_test, y_test))"
   ]
  },
  {
   "cell_type": "code",
   "execution_count": 30,
   "id": "891decaf",
   "metadata": {
    "id": "891decaf",
    "outputId": "48cd46f8-a332-4750-8197-e9097980a84e"
   },
   "outputs": [
    {
     "name": "stdout",
     "output_type": "stream",
     "text": [
      "122/122 - 0s - loss: 7.5487e-05 - rmse: 0.0087 - 124ms/epoch - 1ms/step\n",
      "Akurasi Training: 0.008688329719007015\n"
     ]
    }
   ],
   "source": [
    "score = model1.evaluate(x_train, y_train, batch_size = 32, verbose = 2)\n",
    "print('Akurasi Training:', score[1])"
   ]
  },
  {
   "cell_type": "markdown",
   "id": "f56484d9",
   "metadata": {
    "id": "f56484d9"
   },
   "source": [
    "# Tuning Test"
   ]
  },
  {
   "cell_type": "markdown",
   "id": "ce261b15",
   "metadata": {
    "id": "ce261b15"
   },
   "source": [
    "Membuat tuning test dari hasil model yang telah dibuat dengan menggunakan perbandingan yang lainnya"
   ]
  },
  {
   "cell_type": "code",
   "execution_count": 31,
   "id": "5323a006",
   "metadata": {
    "id": "5323a006",
    "outputId": "c5c2f796-a524-462b-e35b-1e5864dcbaab"
   },
   "outputs": [
    {
     "name": "stdout",
     "output_type": "stream",
     "text": [
      "Shape x_train: (3882, 1, 15)\n",
      "Shape y_train: (3882,)\n",
      "Timesteps: 1\n",
      "Features: 15\n"
     ]
    }
   ],
   "source": [
    "print(\"Shape x_train:\", x_train.shape)\n",
    "# Output: (jumlah_sampel, timesteps, features)\n",
    "\n",
    "# Misalkan y_train adalah dataset target\n",
    "print(\"Shape y_train:\", y_train.shape)\n",
    "# Output: (jumlah_sampel,)\n",
    "\n",
    "# Ambil nilai timesteps dari x_train\n",
    "timesteps = x_train.shape[1]\n",
    "print(\"Timesteps:\", timesteps)\n",
    "\n",
    "# Ambil nilai features dari x_train\n",
    "features = x_train.shape[2]\n",
    "print(\"Features:\", features)"
   ]
  },
  {
   "cell_type": "code",
   "execution_count": 32,
   "id": "9d0c1641",
   "metadata": {
    "id": "9d0c1641",
    "outputId": "02b0da00-211c-4573-94d2-e732c2f52215"
   },
   "outputs": [
    {
     "name": "stderr",
     "output_type": "stream",
     "text": [
      "C:\\Users\\Alfaisal\\AppData\\Local\\Temp\\ipykernel_392\\3761055048.py:20: DeprecationWarning: KerasClassifier is deprecated, use Sci-Keras (https://github.com/adriangb/scikeras) instead. See https://www.adriangb.com/scikeras/stable/migration.html for help migrating.\n",
      "  model = KerasClassifier(build_fn=create_model)\n"
     ]
    },
    {
     "name": "stdout",
     "output_type": "stream",
     "text": [
      "98/98 [==============================] - 3s 2ms/step - loss: -1077.5800 - accuracy: 6.4412e-04\n",
      "25/25 [==============================] - 1s 2ms/step - loss: 3.6171 - accuracy: 0.6847\n",
      "98/98 [==============================] - 4s 4ms/step - loss: 4590.5640 - accuracy: 0.0019\n",
      "25/25 [==============================] - 0s 2ms/step - loss: 2102.1804 - accuracy: 0.0000e+00\n",
      "98/98 [==============================] - 2s 2ms/step - loss: 4739.7148 - accuracy: 0.0019\n",
      "25/25 [==============================] - 0s 999us/step - loss: 3859.7759 - accuracy: 0.0000e+00\n",
      "98/98 [==============================] - 2s 2ms/step - loss: -1080.3062 - accuracy: 0.0019\n",
      "25/25 [==============================] - 0s 851us/step - loss: -3938.7483 - accuracy: 0.0000e+00\n",
      "98/98 [==============================] - 2s 2ms/step - loss: 415.0413 - accuracy: 0.0019\n",
      "25/25 [==============================] - 0s 919us/step - loss: -3481.2876 - accuracy: 0.0000e+00\n",
      "98/98 [==============================] - 2s 2ms/step - loss: 4240.4487 - accuracy: 6.4412e-04\n",
      "25/25 [==============================] - 0s 973us/step - loss: 52.6275 - accuracy: 0.6847\n",
      "98/98 [==============================] - 2s 2ms/step - loss: 4590.5635 - accuracy: 0.0019\n",
      "25/25 [==============================] - 0s 1ms/step - loss: 2102.1804 - accuracy: 0.0000e+00\n",
      "98/98 [==============================] - 1s 2ms/step - loss: -786.8725 - accuracy: 0.0019\n",
      "25/25 [==============================] - 0s 1ms/step - loss: -374.7109 - accuracy: 0.0000e+00\n",
      "98/98 [==============================] - 2s 2ms/step - loss: 461.8094 - accuracy: 0.0019\n",
      "25/25 [==============================] - 0s 920us/step - loss: 330.0678 - accuracy: 0.0000e+00\n",
      "98/98 [==============================] - 1s 1ms/step - loss: 395.3079 - accuracy: 0.0019\n",
      "25/25 [==============================] - 0s 853us/step - loss: -3946.5574 - accuracy: 0.0000e+00\n",
      "98/98 [==============================] - 2s 3ms/step - loss: 4240.4492 - accuracy: 6.4412e-04\n",
      "25/25 [==============================] - 1s 3ms/step - loss: 52.6275 - accuracy: 0.6847\n",
      "98/98 [==============================] - 3s 6ms/step - loss: -1356.0087 - accuracy: 0.0019\n",
      "25/25 [==============================] - 1s 3ms/step - loss: 84.2930 - accuracy: 0.0000e+00\n",
      "98/98 [==============================] - 2s 4ms/step - loss: -2263.3657 - accuracy: 0.0019\n",
      "25/25 [==============================] - 0s 2ms/step - loss: -1826.8540 - accuracy: 0.0000e+00\n",
      "98/98 [==============================] - 2s 4ms/step - loss: -581.7935 - accuracy: 0.0019\n",
      "25/25 [==============================] - 0s 1ms/step - loss: -2039.8295 - accuracy: 0.0000e+00\n",
      "98/98 [==============================] - 2s 3ms/step - loss: -807.1497 - accuracy: 0.0019\n",
      "25/25 [==============================] - 0s 1ms/step - loss: -7751.2695 - accuracy: 0.0000e+00\n",
      "98/98 [==============================] - 1s 2ms/step - loss: 4240.4492 - accuracy: 6.4412e-04\n",
      "25/25 [==============================] - 0s 847us/step - loss: 52.6275 - accuracy: 0.6847\n",
      "98/98 [==============================] - 2s 2ms/step - loss: -736.0726 - accuracy: 0.0019\n",
      "25/25 [==============================] - 0s 877us/step - loss: 152.5345 - accuracy: 0.0000e+00\n",
      "98/98 [==============================] - 1s 2ms/step - loss: -1728.0890 - accuracy: 0.0019\n",
      "25/25 [==============================] - 0s 950us/step - loss: -1149.4011 - accuracy: 0.0000e+00\n",
      "98/98 [==============================] - 1s 1ms/step - loss: -548.8846 - accuracy: 0.0019\n",
      "25/25 [==============================] - 0s 870us/step - loss: -419.5760 - accuracy: 0.0000e+00\n",
      "98/98 [==============================] - 1s 1ms/step - loss: -498.9944 - accuracy: 0.0019\n",
      "25/25 [==============================] - 0s 828us/step - loss: -7751.2695 - accuracy: 0.0000e+00\n",
      "98/98 [==============================] - 1s 2ms/step - loss: 4240.4497 - accuracy: 6.4412e-04\n",
      "25/25 [==============================] - 0s 1ms/step - loss: 52.6275 - accuracy: 0.6847\n",
      "98/98 [==============================] - 2s 2ms/step - loss: -2306.3872 - accuracy: 0.0019\n",
      "25/25 [==============================] - 0s 1ms/step - loss: -110.0476 - accuracy: 0.0000e+00\n",
      "98/98 [==============================] - 2s 3ms/step - loss: 4739.7158 - accuracy: 0.0019\n",
      "25/25 [==============================] - 1s 2ms/step - loss: 3859.7759 - accuracy: 0.0000e+00\n",
      "98/98 [==============================] - 3s 3ms/step - loss: -989.5640 - accuracy: 0.0019\n",
      "25/25 [==============================] - 1s 2ms/step - loss: -1813.2208 - accuracy: 0.0000e+00\n",
      "98/98 [==============================] - 3s 3ms/step - loss: 698.4600 - accuracy: 0.0019\n",
      "25/25 [==============================] - 1s 2ms/step - loss: -7751.2695 - accuracy: 0.0000e+00\n",
      "98/98 [==============================] - 3s 4ms/step - loss: -1659.0950 - accuracy: 6.4412e-04\n",
      "25/25 [==============================] - 1s 2ms/step - loss: -0.4286 - accuracy: 0.5959\n",
      "98/98 [==============================] - 3s 4ms/step - loss: -1014.1978 - accuracy: 0.0019\n",
      "25/25 [==============================] - 1s 3ms/step - loss: -8.5541 - accuracy: 0.0000e+00\n",
      "98/98 [==============================] - 3s 5ms/step - loss: 4739.7153 - accuracy: 0.0019\n",
      "25/25 [==============================] - 1s 2ms/step - loss: 3859.7759 - accuracy: 0.0000e+00\n",
      "98/98 [==============================] - 3s 5ms/step - loss: -1282.5409 - accuracy: 0.0019\n",
      "25/25 [==============================] - 1s 2ms/step - loss: -5018.5327 - accuracy: 0.0000e+00\n",
      "98/98 [==============================] - 3s 5ms/step - loss: -1165.8009 - accuracy: 0.0019\n",
      "25/25 [==============================] - 1s 2ms/step - loss: -7751.2695 - accuracy: 0.0000e+00\n",
      "98/98 [==============================] - 2s 2ms/step - loss: -2825.3196 - accuracy: 3.2206e-04\n",
      "25/25 [==============================] - 0s 2ms/step - loss: -36.7787 - accuracy: 0.0335\n",
      "98/98 [==============================] - 2s 2ms/step - loss: 271.2845 - accuracy: 0.0019\n",
      "25/25 [==============================] - 0s 2ms/step - loss: 30.3657 - accuracy: 0.0000e+00\n",
      "98/98 [==============================] - 2s 2ms/step - loss: -3332.9697 - accuracy: 0.0023\n",
      "25/25 [==============================] - 0s 2ms/step - loss: -3800.5583 - accuracy: 0.0000e+00\n",
      "98/98 [==============================] - 2s 2ms/step - loss: -2259.1062 - accuracy: 0.0019\n",
      "25/25 [==============================] - 0s 2ms/step - loss: -5018.5327 - accuracy: 0.0000e+00\n",
      "98/98 [==============================] - 2s 2ms/step - loss: 3569.9709 - accuracy: 0.0019\n",
      "25/25 [==============================] - 0s 2ms/step - loss: 7856.0088 - accuracy: 0.0000e+00\n",
      "98/98 [==============================] - 2s 3ms/step - loss: 4240.4497 - accuracy: 6.4412e-04\n",
      "25/25 [==============================] - 0s 2ms/step - loss: 52.6275 - accuracy: 0.6847\n",
      "98/98 [==============================] - 2s 3ms/step - loss: 4590.5640 - accuracy: 0.0019\n",
      "25/25 [==============================] - 0s 2ms/step - loss: 2102.1804 - accuracy: 0.0000e+00\n",
      "98/98 [==============================] - 2s 3ms/step - loss: 4739.7158 - accuracy: 0.0019\n",
      "25/25 [==============================] - 0s 2ms/step - loss: 3859.7759 - accuracy: 0.0000e+00\n",
      "98/98 [==============================] - 2s 3ms/step - loss: 4024.3635 - accuracy: 0.0019\n",
      "25/25 [==============================] - 0s 2ms/step - loss: 5091.7832 - accuracy: 0.0000e+00\n",
      "98/98 [==============================] - 2s 3ms/step - loss: 3569.9719 - accuracy: 0.0019\n",
      "25/25 [==============================] - 0s 2ms/step - loss: 7856.0088 - accuracy: 0.0000e+00\n",
      "98/98 [==============================] - 2s 4ms/step - loss: -3638.9563 - accuracy: 3.2206e-04\n",
      "25/25 [==============================] - 0s 2ms/step - loss: -36.7787 - accuracy: 0.0335\n",
      "98/98 [==============================] - 2s 4ms/step - loss: -4193.7939 - accuracy: 0.0019\n",
      "25/25 [==============================] - 0s 2ms/step - loss: -2062.9846 - accuracy: 0.0000e+00\n",
      "98/98 [==============================] - 2s 4ms/step - loss: 4739.7153 - accuracy: 0.0019\n",
      "25/25 [==============================] - 0s 2ms/step - loss: 3859.7759 - accuracy: 0.0000e+00\n",
      "98/98 [==============================] - 3s 5ms/step - loss: -2954.2527 - accuracy: 0.0019\n",
      "25/25 [==============================] - 0s 4ms/step - loss: -5018.5327 - accuracy: 0.0000e+00\n",
      "98/98 [==============================] - 2s 5ms/step - loss: -3078.7644 - accuracy: 0.0019\n",
      "25/25 [==============================] - 0s 2ms/step - loss: -7751.2695 - accuracy: 0.0000e+00\n",
      "98/98 [==============================] - 2s 2ms/step - loss: 4240.4497 - accuracy: 6.4412e-04\n",
      "25/25 [==============================] - 0s 2ms/step - loss: 52.6275 - accuracy: 0.6847\n",
      "98/98 [==============================] - 2s 2ms/step - loss: 4590.5640 - accuracy: 0.0019\n",
      "25/25 [==============================] - 0s 2ms/step - loss: 2102.1804 - accuracy: 0.0000e+00\n",
      "98/98 [==============================] - 2s 2ms/step - loss: -4153.5269 - accuracy: 0.0019\n",
      "25/25 [==============================] - 0s 2ms/step - loss: -3800.5583 - accuracy: 0.0000e+00\n"
     ]
    }
   ],
   "source": [
    "import numpy as np\n",
    "from sklearn.model_selection import GridSearchCV\n",
    "from keras.models import Sequential\n",
    "from keras.layers import LSTM, Dense\n",
    "from keras.wrappers.scikit_learn import KerasClassifier\n",
    "\n",
    "# Placeholder values for timesteps and features\n",
    "timesteps = 1\n",
    "features = 15\n",
    "\n",
    "# Fungsi untuk membuat model LSTM\n",
    "def create_model(units=50, activation='tanh', optimizer='opt'):\n",
    "    model = Sequential()\n",
    "    model.add(LSTM(units=units, activation=activation, input_shape=(timesteps, features)))\n",
    "    model.add(Dense(1))\n",
    "    model.compile(loss='binary_crossentropy', optimizer=optimizer, metrics=['accuracy'])\n",
    "    return model\n",
    "\n",
    "# Membuat objek KerasClassifier\n",
    "model = KerasClassifier(build_fn=create_model)\n",
    "\n",
    "# Mendefinisikan hyperparameter yang ingin diuji\n",
    "param_grid = {\n",
    "    'units': [50, 100, 200],\n",
    "    'activation': ['tanh', 'sigmoid'],\n",
    "    'optimizer': ['adam', 'rmsprop']\n",
    "}\n",
    "\n",
    "# Membuat objek GridSearchCV\n",
    "grid_search = GridSearchCV(estimator=model, param_grid=param_grid, cv=5)\n",
    "\n",
    "# Melakukan proses tuning dengan fit\n",
    "grid_search.fit(x_train, y_train)\n",
    "\n",
    "# Menampilkan parameter terbaik\n",
    "print(\"Parameter terbaik:\", grid_search.best_params_)\n",
    "\n",
    "# Menampilkan skor akurasi terbaik\n",
    "print(\"Skor akurasi terbaik:\", grid_search.best_score_)"
   ]
  },
  {
   "cell_type": "markdown",
   "id": "a6852ce5",
   "metadata": {
    "id": "a6852ce5"
   },
   "source": [
    "# Visualisasi Model LSTM"
   ]
  },
  {
   "cell_type": "code",
   "execution_count": null,
   "id": "4f8b19c5",
   "metadata": {
    "id": "4f8b19c5",
    "outputId": "0465e7ca-def2-46ce-fec2-58785ccaa5e5"
   },
   "outputs": [
    {
     "name": "stdout",
     "output_type": "stream",
     "text": [
      "122/122 [==============================] - 0s 774us/step\n",
      "30/30 [==============================] - 0s 835us/step\n",
      "Skor Training: 0.26 RMSE\n",
      "Skor Testing: 0.10 RMSE\n",
      "Skor Training: 0.07 MSE\n",
      "Skor Training: 0.01 MSE\n"
     ]
    }
   ],
   "source": [
    "train_predict = model1.predict(x_train)\n",
    "test_predict = model1.predict(x_test)\n",
    "\n",
    "\n",
    "# #invert prediksi\n",
    "\n",
    "train_predict = min_max_scaler.fit_transform(train_predict)\n",
    "y_train = min_max_scaler.inverse_transform([y_train])\n",
    "\n",
    "test_predict = min_max_scaler.inverse_transform(test_predict)\n",
    "y_test = min_max_scaler.inverse_transform([y_test])\n",
    "\n",
    "#kalkulasi untuk root mean squared error\n",
    "\n",
    "train_score = math.sqrt(mean_squared_error(y_train[0], train_predict[:,0]))\n",
    "print('Skor Training: %.2f RMSE' % (train_score))\n",
    "\n",
    "test_score = math.sqrt(mean_squared_error(y_test[0], test_predict[:,0]))\n",
    "print('Skor Testing: %.2f RMSE' % (test_score))\n",
    "\n",
    "#hitung MSE\n",
    "train_score1 = mean_squared_error(y_train[0], train_predict[:,0])\n",
    "print('Skor Training: %.2f MSE' % (train_score1))\n",
    "\n",
    "test_score1 = mean_squared_error(y_test[0], test_predict[:,0])\n",
    "print('Skor Training: %.2f MSE' % (test_score1))"
   ]
  },
  {
   "cell_type": "code",
   "execution_count": null,
   "id": "6095c982",
   "metadata": {
    "id": "6095c982",
    "outputId": "8908b857-b086-444b-9556-a07d56fb2e06"
   },
   "outputs": [
    {
     "data": {
      "image/png": "[encoded data removed]",
      "text/plain": [
       "<Figure size 1500x800 with 1 Axes>"
      ]
     },
     "metadata": {},
     "output_type": "display_data"
    }
   ],
   "source": [
    "#plotting untuk train prediction\n",
    "train_predict_plot = np.empty_like(dataset)\n",
    "train_predict_plot[:, :] = np.nan\n",
    "train_predict_plot[look_back:len(train_predict)+look_back, :] = train_predict\n",
    "\n",
    "# plotting untuk test prediction\n",
    "test_predict_plot = np.empty_like(dataset)\n",
    "test_predict_plot[:, :] = np.nan\n",
    "test_predict_plot[len(train_predict)+(look_back*2)+1:len(dataset)-1, :] = test_predict\n",
    "\n",
    "#plot\n",
    "plt.figure(figsize=(15, 8))\n",
    "plt.plot(min_max_scaler.inverse_transform(dataset), color='r', label='Real data')\n",
    "plt.plot(train_predict_plot, color='b', label='Predicted Train')\n",
    "plt.plot(test_predict_plot, color='black', label = 'Predicted Test')\n",
    "plt.xticks(size=15)\n",
    "plt.yticks(size=15)\n",
    "plt.xlabel(\"Jumlah per hari\", size=15)\n",
    "plt.ylabel(\"Jumlah total konfirmasi\", size=15)\n",
    "plt.legend(loc='best')\n",
    "plt.show()"
   ]
  },
  {
   "cell_type": "markdown",
   "id": "8a80bd50",
   "metadata": {
    "id": "8a80bd50"
   },
   "source": [
    "# Kesimpulan"
   ]
  },
  {
   "cell_type": "markdown",
   "id": "c449671e",
   "metadata": {
    "id": "c449671e"
   },
   "source": [
    "- Untuk memprediksi saham, kami menggunakan data BBCA.\n",
    "\n",
    "- Kami menggunakan algoritma LSTM (Long Short-Term Memory) untuk melakukan prediksi.\n",
    "\n",
    "- Pada awalnya, kami membuat visualisasi data dengan beberapa kolom: High, Open, Low, dan Close. Namun, kami hanya menggunakan kolom High karena kami ingin menggunakan algoritma ini.\n",
    "\n",
    "- Kemudian membuat visualisasi antara data latihan dan tes dari kolom High\n",
    "\n",
    "- Meningkatkan ukuran data dan mengubahnya ke matriks\n",
    "\n",
    "- Membangun model LSTM menggunakan fungsi Squential(), aktivasi: \"tanh\" dengan optimizer Adam. Selain itu, kami menggunakan epochs:100 dan menggunakan tes x dan y untuk validasi data.\n",
    "\n",
    "- Model dievaluasi dan diperoleh Accuracy Train: 0.007017217110842466. Walaupun masih rendah, kami juga melakukan pengaturan tes untuk menentukan parameter mana yang terbaik. Selain itu, setelah tes pengaturan, tunh adalah parameter yang paling cocok untuk digunakan.\n",
    "\n",
    "- Melakukan kalkulasi root mean squared error untuk membuat visualisasi model LSTM. Outputnya secara keseluruhan tidak mencapai 0, tetapi setidaknya menurut kami itu cukup baik karena perbedaannya tidak terlalu jauh dari 0.\n",
    "\n",
    "- Membuat plot yang menunjukkan visualisasi dari data asli dan data model LSTM yang telah dibuat; visualisasi ini menunjukkan bahwa data yang dihasilkan tidak terlalu overfitting.\n",
    "\n",
    "- Menciptakan visualisasi MSE dan epochsuntuKami menyimpulkan bahwa, walaupun LSTM menghasilkan data yang baik, masih terdapat beberapa output yang belum sempurna. Namun, dengan melakukan uji tuning, kita dapat mengevaluasi lebih tepat apakah model yang diterapkan sudah siap untuk digunakan atau tidak."
   ]
  }
 ],
 "metadata": {
  "colab": {
   "provenance": []
  },
  "kernelspec": {
   "display_name": "Python 3 (ipykernel)",
   "language": "python",
   "name": "python3"
  },
  "language_info": {
   "codemirror_mode": {
    "name": "ipython",
    "version": 3
   },
   "file_extension": ".py",
   "mimetype": "text/x-python",
   "name": "python",
   "nbconvert_exporter": "python",
   "pygments_lexer": "ipython3",
   "version": "3.11.7"
  }
 },
 "nbformat": 4,
 "nbformat_minor": 5
}
