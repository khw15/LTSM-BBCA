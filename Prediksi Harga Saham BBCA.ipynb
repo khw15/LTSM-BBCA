{
 "cells": [
  {
   "cell_type": "markdown",
   "id": "b3429897",
   "metadata": {
    "id": "b3429897"
   },
   "source": [
    "# Import Library"
   ]
  },
  {
   "cell_type": "markdown",
   "id": "7bf048e6",
   "metadata": {
    "id": "7bf048e6"
   },
   "source": [
    "Library yang digunakan pada proyek ini adalah sebagai berikut:"
   ]
  },
  {
   "cell_type": "code",
   "execution_count": 1,
   "id": "e6cc67a7",
   "metadata": {
    "id": "e6cc67a7",
    "outputId": "0d183141-49df-433e-deb3-b1b5cbf7fca8"
   },
   "outputs": [],
   "source": [
    "import pandas as pd\n",
    "import numpy as np\n",
    "import os\n",
    "import matplotlib.pyplot as plt\n",
    "import tensorflow as tf\n",
    "import datetime as dt\n",
    "from sklearn import preprocessing\n",
    "import math\n",
    "import time\n",
    "from pandas import to_datetime\n",
    "%matplotlib inline\n",
    "from sklearn.model_selection import train_test_split\n",
    "from sklearn.model_selection import train_test_split\n",
    "from sklearn.metrics import mean_squared_error\n",
    "from sklearn.preprocessing import StandardScaler\n",
    "from sklearn.preprocessing import MinMaxScaler\n",
    "from tensorflow.keras.models import Sequential\n",
    "from tensorflow.keras.layers import Dense, Dropout, LSTM, SimpleRNN\n",
    "from tensorflow import keras\n",
    "from tensorflow.keras import layers"
   ]
  },
  {
   "cell_type": "code",
   "execution_count": 2,
   "id": "53883666",
   "metadata": {},
   "outputs": [
    {
     "data": {
      "text/plain": [
       "'2.12.0'"
      ]
     },
     "execution_count": 2,
     "metadata": {},
     "output_type": "execute_result"
    }
   ],
   "source": [
    "tf.__version__"
   ]
  },
  {
   "cell_type": "markdown",
   "id": "8dc0bd59",
   "metadata": {
    "id": "8dc0bd59"
   },
   "source": [
    "# Masuk Pada Dataset"
   ]
  },
  {
   "cell_type": "markdown",
   "id": "4a2684a4",
   "metadata": {
    "id": "4a2684a4"
   },
   "source": [
    "Menggunakan dataset"
   ]
  },
  {
   "cell_type": "code",
   "execution_count": 3,
   "id": "a6609086",
   "metadata": {
    "id": "a6609086",
    "outputId": "8c60afb0-ac18-4d60-9f6a-b4c6130663b0"
   },
   "outputs": [
    {
     "name": "stdout",
     "output_type": "stream",
     "text": [
      "Apakah terdapat nilai null di dataframe? False\n",
      "Apakah terdapat nilai null di kolom High? False\n"
     ]
    }
   ],
   "source": [
    "# Membaca dataset BBCA.csv ke dalam variabel data_bbca\n",
    "data_bbca = pd.read_csv(\"dataset/BBCA.csv\")\n",
    "\n",
    "# Mengecek apakah terdapat nilai null di dalam dataframe\n",
    "apakah_ada_nilai_null_df = data_bbca.isnull().values.any()\n",
    "\n",
    "# Mengecek apakah terdapat nilai null di kolom tertentu, contohnya kolom \"High\"\n",
    "apakah_ada_nilai_null_high = data_bbca[\"High\"].isnull().values.any()\n",
    "\n",
    "# Mencetak hasil pengecekan\n",
    "print(f\"Apakah terdapat nilai null di dataframe? {apakah_ada_nilai_null_df}\")\n",
    "print(f\"Apakah terdapat nilai null di kolom High? {apakah_ada_nilai_null_high}\")"
   ]
  },
  {
   "cell_type": "markdown",
   "id": "0be5b6ed",
   "metadata": {
    "id": "0be5b6ed"
   },
   "source": [
    "Menampilkan bagian atas dari dataset"
   ]
  },
  {
   "cell_type": "code",
   "execution_count": 4,
   "id": "bd1542d8",
   "metadata": {
    "id": "bd1542d8",
    "outputId": "8895c875-09ba-41fd-a423-a7a4fe1a848b"
   },
   "outputs": [
    {
     "data": {
      "text/html": [
       "<div>\n",
       "<style scoped>\n",
       "    .dataframe tbody tr th:only-of-type {\n",
       "        vertical-align: middle;\n",
       "    }\n",
       "\n",
       "    .dataframe tbody tr th {\n",
       "        vertical-align: top;\n",
       "    }\n",
       "\n",
       "    .dataframe thead th {\n",
       "        text-align: right;\n",
       "    }\n",
       "</style>\n",
       "<table border=\"1\" class=\"dataframe\">\n",
       "  <thead>\n",
       "    <tr style=\"text-align: right;\">\n",
       "      <th></th>\n",
       "      <th>Date</th>\n",
       "      <th>Open</th>\n",
       "      <th>High</th>\n",
       "      <th>Low</th>\n",
       "      <th>Close</th>\n",
       "      <th>Adj Close</th>\n",
       "      <th>Volume</th>\n",
       "    </tr>\n",
       "  </thead>\n",
       "  <tbody>\n",
       "    <tr>\n",
       "      <th>0</th>\n",
       "      <td>2004-06-08</td>\n",
       "      <td>175.0</td>\n",
       "      <td>180.0</td>\n",
       "      <td>175.0</td>\n",
       "      <td>177.5</td>\n",
       "      <td>105.656067</td>\n",
       "      <td>499150000</td>\n",
       "    </tr>\n",
       "    <tr>\n",
       "      <th>1</th>\n",
       "      <td>2004-06-09</td>\n",
       "      <td>177.5</td>\n",
       "      <td>182.5</td>\n",
       "      <td>175.0</td>\n",
       "      <td>180.0</td>\n",
       "      <td>107.144203</td>\n",
       "      <td>294290000</td>\n",
       "    </tr>\n",
       "    <tr>\n",
       "      <th>2</th>\n",
       "      <td>2004-06-10</td>\n",
       "      <td>180.0</td>\n",
       "      <td>180.0</td>\n",
       "      <td>177.5</td>\n",
       "      <td>180.0</td>\n",
       "      <td>107.144203</td>\n",
       "      <td>165590000</td>\n",
       "    </tr>\n",
       "    <tr>\n",
       "      <th>3</th>\n",
       "      <td>2004-06-11</td>\n",
       "      <td>177.5</td>\n",
       "      <td>180.0</td>\n",
       "      <td>177.5</td>\n",
       "      <td>180.0</td>\n",
       "      <td>107.144203</td>\n",
       "      <td>135830000</td>\n",
       "    </tr>\n",
       "    <tr>\n",
       "      <th>4</th>\n",
       "      <td>2004-06-14</td>\n",
       "      <td>180.0</td>\n",
       "      <td>180.0</td>\n",
       "      <td>175.0</td>\n",
       "      <td>177.5</td>\n",
       "      <td>105.656067</td>\n",
       "      <td>158540000</td>\n",
       "    </tr>\n",
       "  </tbody>\n",
       "</table>\n",
       "</div>"
      ],
      "text/plain": [
       "         Date   Open   High    Low  Close   Adj Close     Volume\n",
       "0  2004-06-08  175.0  180.0  175.0  177.5  105.656067  499150000\n",
       "1  2004-06-09  177.5  182.5  175.0  180.0  107.144203  294290000\n",
       "2  2004-06-10  180.0  180.0  177.5  180.0  107.144203  165590000\n",
       "3  2004-06-11  177.5  180.0  177.5  180.0  107.144203  135830000\n",
       "4  2004-06-14  180.0  180.0  175.0  177.5  105.656067  158540000"
      ]
     },
     "execution_count": 4,
     "metadata": {},
     "output_type": "execute_result"
    }
   ],
   "source": [
    "data_bbca.head()"
   ]
  },
  {
   "cell_type": "markdown",
   "id": "7d138d8f",
   "metadata": {
    "id": "7d138d8f"
   },
   "source": [
    "# Eksplorasi Data"
   ]
  },
  {
   "cell_type": "markdown",
   "id": "85de1ff2",
   "metadata": {
    "id": "85de1ff2"
   },
   "source": [
    "merujuk ke data_bbca, yang merupakan representasi dari objek pandas dataframe.\n"
   ]
  },
  {
   "cell_type": "code",
   "execution_count": 5,
   "id": "3136a508",
   "metadata": {
    "id": "3136a508",
    "outputId": "d8a1993c-094d-46d0-801e-f2bdb1dc19b2"
   },
   "outputs": [
    {
     "data": {
      "text/plain": [
       "pandas.core.frame.DataFrame"
      ]
     },
     "execution_count": 5,
     "metadata": {},
     "output_type": "execute_result"
    }
   ],
   "source": [
    "type(data_bbca)"
   ]
  },
  {
   "cell_type": "markdown",
   "id": "3d27b539",
   "metadata": {
    "id": "3d27b539"
   },
   "source": [
    "Mengecek dataset untuk data null.\n"
   ]
  },
  {
   "cell_type": "code",
   "execution_count": 6,
   "id": "f913ecbc",
   "metadata": {
    "id": "f913ecbc",
    "outputId": "6ee3ed87-8bd9-456f-af87-a461990941b8"
   },
   "outputs": [
    {
     "data": {
      "text/plain": [
       "Date         0\n",
       "Open         0\n",
       "High         0\n",
       "Low          0\n",
       "Close        0\n",
       "Adj Close    0\n",
       "Volume       0\n",
       "dtype: int64"
      ]
     },
     "execution_count": 6,
     "metadata": {},
     "output_type": "execute_result"
    }
   ],
   "source": [
    "data_bbca.isna().sum()"
   ]
  },
  {
   "cell_type": "markdown",
   "id": "b9bb3f03",
   "metadata": {
    "id": "b9bb3f03"
   },
   "source": [
    "Menghapus kolom yang tidak digunakan dengan menggunakan drop"
   ]
  },
  {
   "cell_type": "code",
   "execution_count": 7,
   "id": "f5d2255c",
   "metadata": {
    "id": "f5d2255c"
   },
   "outputs": [],
   "source": [
    "data_bbca = data_bbca.drop(['Adj Close', 'Volume'], axis='columns')"
   ]
  },
  {
   "cell_type": "code",
   "execution_count": 8,
   "id": "b28d0f77",
   "metadata": {
    "id": "b28d0f77",
    "outputId": "25d89e11-5886-4e2c-94db-9a8f62b66583"
   },
   "outputs": [
    {
     "data": {
      "text/html": [
       "<div>\n",
       "<style scoped>\n",
       "    .dataframe tbody tr th:only-of-type {\n",
       "        vertical-align: middle;\n",
       "    }\n",
       "\n",
       "    .dataframe tbody tr th {\n",
       "        vertical-align: top;\n",
       "    }\n",
       "\n",
       "    .dataframe thead th {\n",
       "        text-align: right;\n",
       "    }\n",
       "</style>\n",
       "<table border=\"1\" class=\"dataframe\">\n",
       "  <thead>\n",
       "    <tr style=\"text-align: right;\">\n",
       "      <th></th>\n",
       "      <th>Date</th>\n",
       "      <th>Open</th>\n",
       "      <th>High</th>\n",
       "      <th>Low</th>\n",
       "      <th>Close</th>\n",
       "    </tr>\n",
       "  </thead>\n",
       "  <tbody>\n",
       "    <tr>\n",
       "      <th>0</th>\n",
       "      <td>2004-06-08</td>\n",
       "      <td>175.0</td>\n",
       "      <td>180.0</td>\n",
       "      <td>175.0</td>\n",
       "      <td>177.5</td>\n",
       "    </tr>\n",
       "    <tr>\n",
       "      <th>1</th>\n",
       "      <td>2004-06-09</td>\n",
       "      <td>177.5</td>\n",
       "      <td>182.5</td>\n",
       "      <td>175.0</td>\n",
       "      <td>180.0</td>\n",
       "    </tr>\n",
       "    <tr>\n",
       "      <th>2</th>\n",
       "      <td>2004-06-10</td>\n",
       "      <td>180.0</td>\n",
       "      <td>180.0</td>\n",
       "      <td>177.5</td>\n",
       "      <td>180.0</td>\n",
       "    </tr>\n",
       "    <tr>\n",
       "      <th>3</th>\n",
       "      <td>2004-06-11</td>\n",
       "      <td>177.5</td>\n",
       "      <td>180.0</td>\n",
       "      <td>177.5</td>\n",
       "      <td>180.0</td>\n",
       "    </tr>\n",
       "    <tr>\n",
       "      <th>4</th>\n",
       "      <td>2004-06-14</td>\n",
       "      <td>180.0</td>\n",
       "      <td>180.0</td>\n",
       "      <td>175.0</td>\n",
       "      <td>177.5</td>\n",
       "    </tr>\n",
       "  </tbody>\n",
       "</table>\n",
       "</div>"
      ],
      "text/plain": [
       "         Date   Open   High    Low  Close\n",
       "0  2004-06-08  175.0  180.0  175.0  177.5\n",
       "1  2004-06-09  177.5  182.5  175.0  180.0\n",
       "2  2004-06-10  180.0  180.0  177.5  180.0\n",
       "3  2004-06-11  177.5  180.0  177.5  180.0\n",
       "4  2004-06-14  180.0  180.0  175.0  177.5"
      ]
     },
     "execution_count": 8,
     "metadata": {},
     "output_type": "execute_result"
    }
   ],
   "source": [
    "#Menampilkan head data setelah menghapus kolom 'Adj Close' dan 'Volume'\n",
    "data_bbca.head()"
   ]
  },
  {
   "cell_type": "markdown",
   "id": "5db9ca23",
   "metadata": {
    "id": "5db9ca23"
   },
   "source": [
    "Menampilkan tipe data dari sisa kolom dataset\n"
   ]
  },
  {
   "cell_type": "code",
   "execution_count": 9,
   "id": "117f18f7",
   "metadata": {
    "id": "117f18f7",
    "outputId": "7b9b6094-7d6d-4c78-9441-714e681a1f77"
   },
   "outputs": [
    {
     "name": "stdout",
     "output_type": "stream",
     "text": [
      "Date      object\n",
      "Open     float64\n",
      "High     float64\n",
      "Low      float64\n",
      "Close    float64\n",
      "dtype: object\n"
     ]
    }
   ],
   "source": [
    "print(data_bbca.dtypes)"
   ]
  },
  {
   "cell_type": "code",
   "execution_count": 10,
   "id": "40db4f93",
   "metadata": {
    "id": "40db4f93",
    "outputId": "0083a03c-66f9-4538-cd77-e9162975546d"
   },
   "outputs": [
    {
     "data": {
      "text/html": [
       "<div>\n",
       "<style scoped>\n",
       "    .dataframe tbody tr th:only-of-type {\n",
       "        vertical-align: middle;\n",
       "    }\n",
       "\n",
       "    .dataframe tbody tr th {\n",
       "        vertical-align: top;\n",
       "    }\n",
       "\n",
       "    .dataframe thead th {\n",
       "        text-align: right;\n",
       "    }\n",
       "</style>\n",
       "<table border=\"1\" class=\"dataframe\">\n",
       "  <thead>\n",
       "    <tr style=\"text-align: right;\">\n",
       "      <th></th>\n",
       "      <th>Date</th>\n",
       "      <th>Open</th>\n",
       "      <th>High</th>\n",
       "      <th>Low</th>\n",
       "      <th>Close</th>\n",
       "    </tr>\n",
       "  </thead>\n",
       "  <tbody>\n",
       "    <tr>\n",
       "      <th>0</th>\n",
       "      <td>2004-06-08</td>\n",
       "      <td>175.0</td>\n",
       "      <td>180.0</td>\n",
       "      <td>175.0</td>\n",
       "      <td>177.5</td>\n",
       "    </tr>\n",
       "    <tr>\n",
       "      <th>1</th>\n",
       "      <td>2004-06-09</td>\n",
       "      <td>177.5</td>\n",
       "      <td>182.5</td>\n",
       "      <td>175.0</td>\n",
       "      <td>180.0</td>\n",
       "    </tr>\n",
       "    <tr>\n",
       "      <th>2</th>\n",
       "      <td>2004-06-10</td>\n",
       "      <td>180.0</td>\n",
       "      <td>180.0</td>\n",
       "      <td>177.5</td>\n",
       "      <td>180.0</td>\n",
       "    </tr>\n",
       "    <tr>\n",
       "      <th>3</th>\n",
       "      <td>2004-06-11</td>\n",
       "      <td>177.5</td>\n",
       "      <td>180.0</td>\n",
       "      <td>177.5</td>\n",
       "      <td>180.0</td>\n",
       "    </tr>\n",
       "    <tr>\n",
       "      <th>4</th>\n",
       "      <td>2004-06-14</td>\n",
       "      <td>180.0</td>\n",
       "      <td>180.0</td>\n",
       "      <td>175.0</td>\n",
       "      <td>177.5</td>\n",
       "    </tr>\n",
       "    <tr>\n",
       "      <th>...</th>\n",
       "      <td>...</td>\n",
       "      <td>...</td>\n",
       "      <td>...</td>\n",
       "      <td>...</td>\n",
       "      <td>...</td>\n",
       "    </tr>\n",
       "    <tr>\n",
       "      <th>4868</th>\n",
       "      <td>2024-01-29</td>\n",
       "      <td>9400.0</td>\n",
       "      <td>9550.0</td>\n",
       "      <td>9375.0</td>\n",
       "      <td>9550.0</td>\n",
       "    </tr>\n",
       "    <tr>\n",
       "      <th>4869</th>\n",
       "      <td>2024-01-30</td>\n",
       "      <td>9500.0</td>\n",
       "      <td>9650.0</td>\n",
       "      <td>9475.0</td>\n",
       "      <td>9650.0</td>\n",
       "    </tr>\n",
       "    <tr>\n",
       "      <th>4870</th>\n",
       "      <td>2024-01-31</td>\n",
       "      <td>9700.0</td>\n",
       "      <td>9700.0</td>\n",
       "      <td>9550.0</td>\n",
       "      <td>9550.0</td>\n",
       "    </tr>\n",
       "    <tr>\n",
       "      <th>4871</th>\n",
       "      <td>2024-02-01</td>\n",
       "      <td>9650.0</td>\n",
       "      <td>9725.0</td>\n",
       "      <td>9575.0</td>\n",
       "      <td>9700.0</td>\n",
       "    </tr>\n",
       "    <tr>\n",
       "      <th>4872</th>\n",
       "      <td>2024-02-02</td>\n",
       "      <td>9775.0</td>\n",
       "      <td>9800.0</td>\n",
       "      <td>9625.0</td>\n",
       "      <td>9700.0</td>\n",
       "    </tr>\n",
       "  </tbody>\n",
       "</table>\n",
       "<p>4873 rows × 5 columns</p>\n",
       "</div>"
      ],
      "text/plain": [
       "            Date    Open    High     Low   Close\n",
       "0     2004-06-08   175.0   180.0   175.0   177.5\n",
       "1     2004-06-09   177.5   182.5   175.0   180.0\n",
       "2     2004-06-10   180.0   180.0   177.5   180.0\n",
       "3     2004-06-11   177.5   180.0   177.5   180.0\n",
       "4     2004-06-14   180.0   180.0   175.0   177.5\n",
       "...          ...     ...     ...     ...     ...\n",
       "4868  2024-01-29  9400.0  9550.0  9375.0  9550.0\n",
       "4869  2024-01-30  9500.0  9650.0  9475.0  9650.0\n",
       "4870  2024-01-31  9700.0  9700.0  9550.0  9550.0\n",
       "4871  2024-02-01  9650.0  9725.0  9575.0  9700.0\n",
       "4872  2024-02-02  9775.0  9800.0  9625.0  9700.0\n",
       "\n",
       "[4873 rows x 5 columns]"
      ]
     },
     "execution_count": 10,
     "metadata": {},
     "output_type": "execute_result"
    }
   ],
   "source": [
    "data_bbca"
   ]
  },
  {
   "cell_type": "markdown",
   "id": "989e95cd",
   "metadata": {
    "id": "989e95cd"
   },
   "source": [
    "Mengubah tanggal menjadi index"
   ]
  },
  {
   "cell_type": "code",
   "execution_count": 11,
   "id": "6580cdfb",
   "metadata": {
    "id": "6580cdfb",
    "outputId": "ccfbf539-a8cf-45ae-db93-bef009a0f706"
   },
   "outputs": [
    {
     "data": {
      "text/plain": [
       "DatetimeIndex(['2004-06-08', '2004-06-09', '2004-06-10', '2004-06-11',\n",
       "               '2004-06-14', '2004-06-15', '2004-06-16', '2004-06-17',\n",
       "               '2004-06-18', '2004-06-21',\n",
       "               ...\n",
       "               '2024-01-22', '2024-01-23', '2024-01-24', '2024-01-25',\n",
       "               '2024-01-26', '2024-01-29', '2024-01-30', '2024-01-31',\n",
       "               '2024-02-01', '2024-02-02'],\n",
       "              dtype='datetime64[ns]', name='Date', length=4873, freq=None)"
      ]
     },
     "execution_count": 11,
     "metadata": {},
     "output_type": "execute_result"
    }
   ],
   "source": [
    "con = data_bbca['Date']\n",
    "data_bbca['Date'] = pd.to_datetime(data_bbca['Date'])\n",
    "data_bbca.set_index('Date', inplace=True)\n",
    "\n",
    "#check datatype of index\n",
    "data_bbca.index"
   ]
  },
  {
   "cell_type": "code",
   "execution_count": 12,
   "id": "3c86b346",
   "metadata": {
    "id": "3c86b346",
    "outputId": "357a6219-00cf-47f4-aec4-b45d48ce8ee6"
   },
   "outputs": [
    {
     "data": {
      "text/html": [
       "<div>\n",
       "<style scoped>\n",
       "    .dataframe tbody tr th:only-of-type {\n",
       "        vertical-align: middle;\n",
       "    }\n",
       "\n",
       "    .dataframe tbody tr th {\n",
       "        vertical-align: top;\n",
       "    }\n",
       "\n",
       "    .dataframe thead th {\n",
       "        text-align: right;\n",
       "    }\n",
       "</style>\n",
       "<table border=\"1\" class=\"dataframe\">\n",
       "  <thead>\n",
       "    <tr style=\"text-align: right;\">\n",
       "      <th></th>\n",
       "      <th>Open</th>\n",
       "      <th>High</th>\n",
       "      <th>Low</th>\n",
       "      <th>Close</th>\n",
       "    </tr>\n",
       "    <tr>\n",
       "      <th>Date</th>\n",
       "      <th></th>\n",
       "      <th></th>\n",
       "      <th></th>\n",
       "      <th></th>\n",
       "    </tr>\n",
       "  </thead>\n",
       "  <tbody>\n",
       "    <tr>\n",
       "      <th>2004-06-08</th>\n",
       "      <td>175.0</td>\n",
       "      <td>180.0</td>\n",
       "      <td>175.0</td>\n",
       "      <td>177.5</td>\n",
       "    </tr>\n",
       "    <tr>\n",
       "      <th>2004-06-09</th>\n",
       "      <td>177.5</td>\n",
       "      <td>182.5</td>\n",
       "      <td>175.0</td>\n",
       "      <td>180.0</td>\n",
       "    </tr>\n",
       "    <tr>\n",
       "      <th>2004-06-10</th>\n",
       "      <td>180.0</td>\n",
       "      <td>180.0</td>\n",
       "      <td>177.5</td>\n",
       "      <td>180.0</td>\n",
       "    </tr>\n",
       "    <tr>\n",
       "      <th>2004-06-11</th>\n",
       "      <td>177.5</td>\n",
       "      <td>180.0</td>\n",
       "      <td>177.5</td>\n",
       "      <td>180.0</td>\n",
       "    </tr>\n",
       "    <tr>\n",
       "      <th>2004-06-14</th>\n",
       "      <td>180.0</td>\n",
       "      <td>180.0</td>\n",
       "      <td>175.0</td>\n",
       "      <td>177.5</td>\n",
       "    </tr>\n",
       "    <tr>\n",
       "      <th>...</th>\n",
       "      <td>...</td>\n",
       "      <td>...</td>\n",
       "      <td>...</td>\n",
       "      <td>...</td>\n",
       "    </tr>\n",
       "    <tr>\n",
       "      <th>2024-01-29</th>\n",
       "      <td>9400.0</td>\n",
       "      <td>9550.0</td>\n",
       "      <td>9375.0</td>\n",
       "      <td>9550.0</td>\n",
       "    </tr>\n",
       "    <tr>\n",
       "      <th>2024-01-30</th>\n",
       "      <td>9500.0</td>\n",
       "      <td>9650.0</td>\n",
       "      <td>9475.0</td>\n",
       "      <td>9650.0</td>\n",
       "    </tr>\n",
       "    <tr>\n",
       "      <th>2024-01-31</th>\n",
       "      <td>9700.0</td>\n",
       "      <td>9700.0</td>\n",
       "      <td>9550.0</td>\n",
       "      <td>9550.0</td>\n",
       "    </tr>\n",
       "    <tr>\n",
       "      <th>2024-02-01</th>\n",
       "      <td>9650.0</td>\n",
       "      <td>9725.0</td>\n",
       "      <td>9575.0</td>\n",
       "      <td>9700.0</td>\n",
       "    </tr>\n",
       "    <tr>\n",
       "      <th>2024-02-02</th>\n",
       "      <td>9775.0</td>\n",
       "      <td>9800.0</td>\n",
       "      <td>9625.0</td>\n",
       "      <td>9700.0</td>\n",
       "    </tr>\n",
       "  </tbody>\n",
       "</table>\n",
       "<p>4873 rows × 4 columns</p>\n",
       "</div>"
      ],
      "text/plain": [
       "              Open    High     Low   Close\n",
       "Date                                      \n",
       "2004-06-08   175.0   180.0   175.0   177.5\n",
       "2004-06-09   177.5   182.5   175.0   180.0\n",
       "2004-06-10   180.0   180.0   177.5   180.0\n",
       "2004-06-11   177.5   180.0   177.5   180.0\n",
       "2004-06-14   180.0   180.0   175.0   177.5\n",
       "...            ...     ...     ...     ...\n",
       "2024-01-29  9400.0  9550.0  9375.0  9550.0\n",
       "2024-01-30  9500.0  9650.0  9475.0  9650.0\n",
       "2024-01-31  9700.0  9700.0  9550.0  9550.0\n",
       "2024-02-01  9650.0  9725.0  9575.0  9700.0\n",
       "2024-02-02  9775.0  9800.0  9625.0  9700.0\n",
       "\n",
       "[4873 rows x 4 columns]"
      ]
     },
     "execution_count": 12,
     "metadata": {},
     "output_type": "execute_result"
    }
   ],
   "source": [
    "data_bbca"
   ]
  },
  {
   "cell_type": "markdown",
   "id": "d5c39492",
   "metadata": {
    "id": "d5c39492"
   },
   "source": [
    "Menginisialkan variable data time series"
   ]
  },
  {
   "cell_type": "code",
   "execution_count": 13,
   "id": "ec3ded99",
   "metadata": {
    "id": "ec3ded99"
   },
   "outputs": [],
   "source": [
    "high = pd.Series(data_bbca['High'])\n",
    "open = pd.Series(data_bbca['Open'])\n",
    "low = pd.Series(data_bbca['Low'])\n",
    "close = pd.Series(data_bbca['Close'])"
   ]
  },
  {
   "cell_type": "markdown",
   "id": "1b05c120",
   "metadata": {
    "id": "1b05c120"
   },
   "source": [
    "# Visualization Data"
   ]
  },
  {
   "cell_type": "markdown",
   "id": "36563e2c",
   "metadata": {
    "id": "36563e2c"
   },
   "source": [
    "Memvisualisasikan data dari kolom yang tidak didrop sebelumnya\n"
   ]
  },
  {
   "cell_type": "code",
   "execution_count": 14,
   "id": "080abe23",
   "metadata": {
    "id": "080abe23",
    "outputId": "df655c76-b715-4706-b7d5-0cd06a9f6eca"
   },
   "outputs": [
    {
     "data": {
      "image/png": "[encoded data removed]",
      "text/plain": [
       "<Figure size 1600x800 with 1 Axes>"
      ]
     },
     "metadata": {},
     "output_type": "display_data"
    }
   ],
   "source": [
    "#Visualisasi Dataset\n",
    "\n",
    "plt.figure(figsize=(16,8))\n",
    "plt.title('Pergerakan Harga')\n",
    "plt.plot(high, color = 'red', label = 'High')\n",
    "plt.plot(open, color = 'yellow', label = 'Open')\n",
    "plt.plot(low, color = 'green', label = 'Low')\n",
    "plt.plot(close, color = 'purple', label = 'Close')\n",
    "plt.xlabel('Tahun', fontsize=18)\n",
    "plt.ylabel('Harga dalam Rupiah', fontsize=18)\n",
    "plt.legend(loc='best')\n",
    "plt.show()"
   ]
  },
  {
   "cell_type": "markdown",
   "id": "8c7c2323",
   "metadata": {
    "id": "8c7c2323"
   },
   "source": [
    "Membuat data frame dari kolom 'High' dan membuat data train & test"
   ]
  },
  {
   "cell_type": "code",
   "execution_count": 15,
   "id": "757854d9",
   "metadata": {
    "id": "757854d9"
   },
   "outputs": [],
   "source": [
    "data = pd.DataFrame(data_bbca['High'])"
   ]
  },
  {
   "cell_type": "code",
   "execution_count": 16,
   "id": "7cb5828d",
   "metadata": {
    "id": "7cb5828d",
    "outputId": "24bd0a24-f96d-49ff-ace6-43e34ca3021b"
   },
   "outputs": [
    {
     "data": {
      "image/png": "[encoded data removed]",
      "text/plain": [
       "<Figure size 1600x800 with 1 Axes>"
      ]
     },
     "metadata": {},
     "output_type": "display_data"
    }
   ],
   "source": [
    "data_bbca_train = data[0:int(len(data)*0.8)]\n",
    "data_bbca_test = data[int(len(data)*0.8):]\n",
    "# plot the data\n",
    "# Visualisasi data\n",
    "plt.figure(figsize=(16,8))\n",
    "plt.title('Data Train dan Data Test')\n",
    "plt.ylabel('High Price', fontsize=18)\n",
    "plt.plot(data_bbca_train)\n",
    "plt.plot(data_bbca_test)\n",
    "plt.legend(['Data Train', 'Data Test'], loc='lower right')\n",
    "plt.show()"
   ]
  },
  {
   "cell_type": "markdown",
   "id": "9e95b825",
   "metadata": {
    "id": "9e95b825"
   },
   "source": [
    "# Preprocessing"
   ]
  },
  {
   "cell_type": "markdown",
   "id": "7e0955ce",
   "metadata": {
    "id": "7e0955ce"
   },
   "source": [
    "Melakukan scaling data dengan kolom High.\n"
   ]
  },
  {
   "cell_type": "code",
   "execution_count": 17,
   "id": "bfb077f8",
   "metadata": {
    "id": "bfb077f8"
   },
   "outputs": [],
   "source": [
    "min_max_scaler = preprocessing.MinMaxScaler(feature_range=(0, 1))\n",
    "dataset = min_max_scaler.fit_transform(data_bbca['High'].values.reshape(-1, 1))"
   ]
  },
  {
   "cell_type": "markdown",
   "id": "bc2aed11",
   "metadata": {
    "id": "bc2aed11"
   },
   "source": [
    "Memecah data menjadi data train dan data test"
   ]
  },
  {
   "cell_type": "code",
   "execution_count": 18,
   "id": "c1db88fc",
   "metadata": {
    "id": "c1db88fc",
    "outputId": "42053d70-6f4b-4941-c2e7-4b1c7adaaa44"
   },
   "outputs": [
    {
     "data": {
      "text/plain": [
       "array([[0.00025981],\n",
       "       [0.00051962],\n",
       "       [0.00025981],\n",
       "       [0.00025981],\n",
       "       [0.00025981],\n",
       "       [0.00051962],\n",
       "       [0.00051962],\n",
       "       [0.        ],\n",
       "       [0.        ],\n",
       "       [0.        ]])"
      ]
     },
     "execution_count": 18,
     "metadata": {},
     "output_type": "execute_result"
    }
   ],
   "source": [
    "dataset[0:10]"
   ]
  },
  {
   "cell_type": "code",
   "execution_count": 19,
   "id": "575e2588",
   "metadata": {
    "id": "575e2588",
    "outputId": "9816662c-ca06-4776-aeaf-ef622ac193d1"
   },
   "outputs": [
    {
     "name": "stdout",
     "output_type": "stream",
     "text": [
      "Ukuran training set: 3898\n",
      "Ukuran testing set: 975\n"
     ]
    }
   ],
   "source": [
    "train_size = int(len(dataset) * 0.8)\n",
    "test_size = len(dataset) - train_size\n",
    "train, test = dataset[0:train_size,:], dataset[train_size:len(dataset),:]\n",
    "print(\"Ukuran training set:\", len(train))\n",
    "print(\"Ukuran testing set:\", len(test))"
   ]
  },
  {
   "cell_type": "code",
   "execution_count": 20,
   "id": "378fe376",
   "metadata": {
    "id": "378fe376",
    "outputId": "c9148a6e-3ee9-4201-be39-cffed7c8f741"
   },
   "outputs": [
    {
     "name": "stdout",
     "output_type": "stream",
     "text": [
      "4873\n"
     ]
    }
   ],
   "source": [
    "#Menampilkan panjang/jumlah dataframe\n",
    "print(len(data_bbca))"
   ]
  },
  {
   "cell_type": "markdown",
   "id": "53a111a9",
   "metadata": {
    "id": "53a111a9"
   },
   "source": [
    "Konversi nilai array ke dalam kumpulan matriks\n"
   ]
  },
  {
   "cell_type": "code",
   "execution_count": 21,
   "id": "d2b04e3a",
   "metadata": {
    "id": "d2b04e3a"
   },
   "outputs": [],
   "source": [
    "def create_dataset(dataset, look_back=15):\n",
    "    x, y = [], []\n",
    "    for i in range(len(dataset)-look_back-1):\n",
    "        a = dataset[i:(i+look_back), 0]\n",
    "        x.append(a)\n",
    "        y.append(dataset[i + look_back, 0])\n",
    "    return np.array(x), np.array(y)"
   ]
  },
  {
   "cell_type": "code",
   "execution_count": 22,
   "id": "db646668",
   "metadata": {
    "id": "db646668"
   },
   "outputs": [],
   "source": [
    "look_back = 15\n",
    "x_train, y_train = create_dataset(train, look_back)\n",
    "x_test, y_test = create_dataset(test, look_back)"
   ]
  },
  {
   "cell_type": "code",
   "execution_count": 23,
   "id": "5952c643",
   "metadata": {
    "id": "5952c643",
    "outputId": "b165fa5e-0247-4719-b52b-790a50b0b1aa"
   },
   "outputs": [
    {
     "name": "stdout",
     "output_type": "stream",
     "text": [
      "(3882, 15)\n",
      "(3882,)\n",
      "(959, 15)\n",
      "(959,)\n"
     ]
    }
   ],
   "source": [
    "print(x_train.shape)\n",
    "print(y_train.shape)\n",
    "print(x_test.shape)\n",
    "print(y_test.shape)"
   ]
  },
  {
   "cell_type": "markdown",
   "id": "ef52d968",
   "metadata": {
    "id": "ef52d968"
   },
   "source": [
    "Reshape input menjadi 3D yaitu [samples, time step, dan feature]"
   ]
  },
  {
   "cell_type": "code",
   "execution_count": 24,
   "id": "7099cd73",
   "metadata": {
    "id": "7099cd73"
   },
   "outputs": [],
   "source": [
    "x_train = np.reshape(x_train, (x_train.shape[0], 1, x_train.shape[1]))\n",
    "x_test = np.reshape(x_test, (x_test.shape[0], 1, x_test.shape[1]))"
   ]
  },
  {
   "cell_type": "markdown",
   "id": "4a7c28a5",
   "metadata": {
    "id": "4a7c28a5"
   },
   "source": [
    "# Model\n",
    "\n",
    "Membuat model LSTM"
   ]
  },
  {
   "cell_type": "code",
   "execution_count": 25,
   "id": "043dfca2",
   "metadata": {
    "id": "043dfca2",
    "outputId": "1c232504-834c-41b1-fd55-48a87e06c09f"
   },
   "outputs": [
    {
     "name": "stdout",
     "output_type": "stream",
     "text": [
      "Epoch 1/100\n",
      "61/61 - 3s - loss: 0.4470 - accuracy: 0.0000e+00 - val_loss: 0.5432 - val_accuracy: 0.0000e+00 - 3s/epoch - 56ms/step\n",
      "Epoch 2/100\n",
      "61/61 - 0s - loss: 0.4036 - accuracy: 0.0000e+00 - val_loss: 0.5145 - val_accuracy: 0.0000e+00 - 188ms/epoch - 3ms/step\n",
      "Epoch 3/100\n",
      "61/61 - 0s - loss: 0.4050 - accuracy: 0.0000e+00 - val_loss: 0.5072 - val_accuracy: 0.0000e+00 - 197ms/epoch - 3ms/step\n",
      "Epoch 4/100\n",
      "61/61 - 0s - loss: 0.4032 - accuracy: 0.0000e+00 - val_loss: 0.5066 - val_accuracy: 0.0000e+00 - 215ms/epoch - 4ms/step\n",
      "Epoch 5/100\n",
      "61/61 - 0s - loss: 0.4024 - accuracy: 0.0000e+00 - val_loss: 0.5114 - val_accuracy: 0.0000e+00 - 191ms/epoch - 3ms/step\n",
      "Epoch 6/100\n",
      "61/61 - 0s - loss: 0.4028 - accuracy: 0.0000e+00 - val_loss: 0.5093 - val_accuracy: 0.0000e+00 - 245ms/epoch - 4ms/step\n",
      "Epoch 7/100\n",
      "61/61 - 0s - loss: 0.4022 - accuracy: 0.0000e+00 - val_loss: 0.5108 - val_accuracy: 0.0000e+00 - 219ms/epoch - 4ms/step\n",
      "Epoch 8/100\n",
      "61/61 - 0s - loss: 0.4025 - accuracy: 0.0000e+00 - val_loss: 0.5055 - val_accuracy: 0.0000e+00 - 234ms/epoch - 4ms/step\n",
      "Epoch 9/100\n",
      "61/61 - 0s - loss: 0.4021 - accuracy: 0.0000e+00 - val_loss: 0.5061 - val_accuracy: 0.0000e+00 - 214ms/epoch - 4ms/step\n",
      "Epoch 10/100\n",
      "61/61 - 0s - loss: 0.4021 - accuracy: 0.0000e+00 - val_loss: 0.5093 - val_accuracy: 0.0000e+00 - 195ms/epoch - 3ms/step\n",
      "Epoch 11/100\n",
      "61/61 - 0s - loss: 0.4021 - accuracy: 0.0000e+00 - val_loss: 0.5121 - val_accuracy: 0.0000e+00 - 233ms/epoch - 4ms/step\n",
      "Epoch 12/100\n",
      "61/61 - 0s - loss: 0.4035 - accuracy: 0.0000e+00 - val_loss: 0.6372 - val_accuracy: 0.0000e+00 - 206ms/epoch - 3ms/step\n",
      "Epoch 13/100\n",
      "61/61 - 0s - loss: 0.4181 - accuracy: 0.0000e+00 - val_loss: 0.5077 - val_accuracy: 0.0000e+00 - 270ms/epoch - 4ms/step\n",
      "Epoch 14/100\n",
      "61/61 - 0s - loss: 0.4070 - accuracy: 0.0000e+00 - val_loss: 0.5142 - val_accuracy: 0.0000e+00 - 180ms/epoch - 3ms/step\n",
      "Epoch 15/100\n",
      "61/61 - 0s - loss: 0.4056 - accuracy: 0.0000e+00 - val_loss: 0.5182 - val_accuracy: 0.0000e+00 - 197ms/epoch - 3ms/step\n",
      "Epoch 16/100\n",
      "61/61 - 0s - loss: 0.4084 - accuracy: 0.0000e+00 - val_loss: 0.5201 - val_accuracy: 0.0000e+00 - 223ms/epoch - 4ms/step\n",
      "Epoch 17/100\n",
      "61/61 - 0s - loss: 0.4033 - accuracy: 0.0000e+00 - val_loss: 0.5104 - val_accuracy: 0.0000e+00 - 252ms/epoch - 4ms/step\n",
      "Epoch 18/100\n",
      "61/61 - 0s - loss: 0.4033 - accuracy: 0.0000e+00 - val_loss: 0.5183 - val_accuracy: 0.0000e+00 - 253ms/epoch - 4ms/step\n",
      "Epoch 19/100\n",
      "61/61 - 0s - loss: 0.4028 - accuracy: 0.0000e+00 - val_loss: 0.5147 - val_accuracy: 0.0000e+00 - 217ms/epoch - 4ms/step\n",
      "Epoch 20/100\n",
      "61/61 - 0s - loss: 0.4027 - accuracy: 0.0000e+00 - val_loss: 0.5184 - val_accuracy: 0.0000e+00 - 241ms/epoch - 4ms/step\n",
      "Epoch 21/100\n",
      "61/61 - 0s - loss: 0.4025 - accuracy: 0.0000e+00 - val_loss: 0.5141 - val_accuracy: 0.0000e+00 - 204ms/epoch - 3ms/step\n",
      "Epoch 22/100\n",
      "61/61 - 0s - loss: 0.4027 - accuracy: 0.0000e+00 - val_loss: 0.5402 - val_accuracy: 0.0000e+00 - 220ms/epoch - 4ms/step\n",
      "Epoch 23/100\n",
      "61/61 - 0s - loss: 0.4036 - accuracy: 0.0000e+00 - val_loss: 0.5201 - val_accuracy: 0.0000e+00 - 225ms/epoch - 4ms/step\n",
      "Epoch 24/100\n",
      "61/61 - 0s - loss: 0.4026 - accuracy: 0.0000e+00 - val_loss: 0.5147 - val_accuracy: 0.0000e+00 - 285ms/epoch - 5ms/step\n",
      "Epoch 25/100\n",
      "61/61 - 0s - loss: 0.4024 - accuracy: 0.0000e+00 - val_loss: 0.5215 - val_accuracy: 0.0000e+00 - 288ms/epoch - 5ms/step\n",
      "Epoch 26/100\n",
      "61/61 - 0s - loss: 0.4212 - accuracy: 0.0000e+00 - val_loss: 0.6584 - val_accuracy: 0.0000e+00 - 192ms/epoch - 3ms/step\n",
      "Epoch 27/100\n",
      "61/61 - 0s - loss: 0.4182 - accuracy: 0.0000e+00 - val_loss: 0.5236 - val_accuracy: 0.0000e+00 - 108ms/epoch - 2ms/step\n",
      "Epoch 28/100\n",
      "61/61 - 0s - loss: 0.4065 - accuracy: 0.0000e+00 - val_loss: 0.5261 - val_accuracy: 0.0000e+00 - 107ms/epoch - 2ms/step\n",
      "Epoch 29/100\n",
      "61/61 - 0s - loss: 0.4046 - accuracy: 0.0000e+00 - val_loss: 0.5335 - val_accuracy: 0.0000e+00 - 141ms/epoch - 2ms/step\n",
      "Epoch 30/100\n",
      "61/61 - 0s - loss: 0.4045 - accuracy: 0.0000e+00 - val_loss: 0.5293 - val_accuracy: 0.0000e+00 - 108ms/epoch - 2ms/step\n",
      "Epoch 31/100\n",
      "61/61 - 0s - loss: 0.4050 - accuracy: 0.0000e+00 - val_loss: 0.5288 - val_accuracy: 0.0000e+00 - 133ms/epoch - 2ms/step\n",
      "Epoch 32/100\n",
      "61/61 - 0s - loss: 0.4045 - accuracy: 0.0000e+00 - val_loss: 0.5297 - val_accuracy: 0.0000e+00 - 138ms/epoch - 2ms/step\n",
      "Epoch 33/100\n",
      "61/61 - 0s - loss: 0.4040 - accuracy: 0.0000e+00 - val_loss: 0.5274 - val_accuracy: 0.0000e+00 - 125ms/epoch - 2ms/step\n",
      "Epoch 34/100\n",
      "61/61 - 0s - loss: 0.4039 - accuracy: 0.0000e+00 - val_loss: 0.5294 - val_accuracy: 0.0000e+00 - 135ms/epoch - 2ms/step\n",
      "Epoch 35/100\n",
      "61/61 - 0s - loss: 0.4040 - accuracy: 0.0000e+00 - val_loss: 0.5245 - val_accuracy: 0.0000e+00 - 115ms/epoch - 2ms/step\n",
      "Epoch 36/100\n",
      "61/61 - 0s - loss: 0.4058 - accuracy: 0.0000e+00 - val_loss: 0.5196 - val_accuracy: 0.0000e+00 - 141ms/epoch - 2ms/step\n",
      "Epoch 37/100\n",
      "61/61 - 0s - loss: 0.4042 - accuracy: 0.0000e+00 - val_loss: 0.5172 - val_accuracy: 0.0000e+00 - 109ms/epoch - 2ms/step\n",
      "Epoch 38/100\n",
      "61/61 - 0s - loss: 0.4042 - accuracy: 0.0000e+00 - val_loss: 0.5223 - val_accuracy: 0.0000e+00 - 107ms/epoch - 2ms/step\n",
      "Epoch 39/100\n",
      "61/61 - 0s - loss: 0.4037 - accuracy: 0.0000e+00 - val_loss: 0.5219 - val_accuracy: 0.0000e+00 - 107ms/epoch - 2ms/step\n",
      "Epoch 40/100\n",
      "61/61 - 0s - loss: 0.4038 - accuracy: 0.0000e+00 - val_loss: 0.5210 - val_accuracy: 0.0000e+00 - 159ms/epoch - 3ms/step\n",
      "Epoch 41/100\n",
      "61/61 - 0s - loss: 0.4040 - accuracy: 0.0000e+00 - val_loss: 0.5106 - val_accuracy: 0.0000e+00 - 126ms/epoch - 2ms/step\n",
      "Epoch 42/100\n",
      "61/61 - 0s - loss: 0.4137 - accuracy: 0.0000e+00 - val_loss: 0.5053 - val_accuracy: 0.0000e+00 - 124ms/epoch - 2ms/step\n",
      "Epoch 43/100\n",
      "61/61 - 0s - loss: 0.4079 - accuracy: 0.0000e+00 - val_loss: 0.5305 - val_accuracy: 0.0000e+00 - 133ms/epoch - 2ms/step\n",
      "Epoch 44/100\n",
      "61/61 - 0s - loss: 0.4056 - accuracy: 0.0000e+00 - val_loss: 0.5309 - val_accuracy: 0.0000e+00 - 152ms/epoch - 2ms/step\n",
      "Epoch 45/100\n",
      "61/61 - 0s - loss: 0.4072 - accuracy: 0.0000e+00 - val_loss: 0.5211 - val_accuracy: 0.0000e+00 - 127ms/epoch - 2ms/step\n",
      "Epoch 46/100\n",
      "61/61 - 0s - loss: 0.4051 - accuracy: 0.0000e+00 - val_loss: 0.5312 - val_accuracy: 0.0000e+00 - 118ms/epoch - 2ms/step\n",
      "Epoch 47/100\n",
      "61/61 - 0s - loss: 0.4048 - accuracy: 0.0000e+00 - val_loss: 0.5168 - val_accuracy: 0.0000e+00 - 111ms/epoch - 2ms/step\n",
      "Epoch 48/100\n",
      "61/61 - 0s - loss: 0.4040 - accuracy: 0.0000e+00 - val_loss: 0.5105 - val_accuracy: 0.0000e+00 - 121ms/epoch - 2ms/step\n",
      "Epoch 49/100\n",
      "61/61 - 0s - loss: 0.4066 - accuracy: 0.0000e+00 - val_loss: 0.5115 - val_accuracy: 0.0000e+00 - 127ms/epoch - 2ms/step\n",
      "Epoch 50/100\n",
      "61/61 - 0s - loss: 0.4042 - accuracy: 0.0000e+00 - val_loss: 0.5179 - val_accuracy: 0.0000e+00 - 120ms/epoch - 2ms/step\n",
      "Epoch 51/100\n",
      "61/61 - 0s - loss: 0.4039 - accuracy: 0.0000e+00 - val_loss: 0.5231 - val_accuracy: 0.0000e+00 - 118ms/epoch - 2ms/step\n",
      "Epoch 52/100\n",
      "61/61 - 0s - loss: 0.4035 - accuracy: 0.0000e+00 - val_loss: 0.5117 - val_accuracy: 0.0000e+00 - 115ms/epoch - 2ms/step\n",
      "Epoch 53/100\n",
      "61/61 - 0s - loss: 0.4039 - accuracy: 0.0000e+00 - val_loss: 0.5170 - val_accuracy: 0.0000e+00 - 111ms/epoch - 2ms/step\n",
      "Epoch 54/100\n",
      "61/61 - 0s - loss: 0.4037 - accuracy: 0.0000e+00 - val_loss: 0.5078 - val_accuracy: 0.0000e+00 - 110ms/epoch - 2ms/step\n",
      "Epoch 55/100\n",
      "61/61 - 0s - loss: 0.4038 - accuracy: 0.0000e+00 - val_loss: 0.5082 - val_accuracy: 0.0000e+00 - 112ms/epoch - 2ms/step\n",
      "Epoch 56/100\n",
      "61/61 - 0s - loss: 0.4032 - accuracy: 0.0000e+00 - val_loss: 0.5182 - val_accuracy: 0.0000e+00 - 111ms/epoch - 2ms/step\n",
      "Epoch 57/100\n",
      "61/61 - 0s - loss: 0.4041 - accuracy: 0.0000e+00 - val_loss: 0.5246 - val_accuracy: 0.0000e+00 - 123ms/epoch - 2ms/step\n",
      "Epoch 58/100\n",
      "61/61 - 0s - loss: 0.4036 - accuracy: 0.0000e+00 - val_loss: 0.5140 - val_accuracy: 0.0000e+00 - 134ms/epoch - 2ms/step\n",
      "Epoch 59/100\n",
      "61/61 - 0s - loss: 0.4045 - accuracy: 0.0000e+00 - val_loss: 0.5080 - val_accuracy: 0.0000e+00 - 114ms/epoch - 2ms/step\n",
      "Epoch 60/100\n",
      "61/61 - 0s - loss: 0.4042 - accuracy: 0.0000e+00 - val_loss: 0.5126 - val_accuracy: 0.0000e+00 - 113ms/epoch - 2ms/step\n",
      "Epoch 61/100\n",
      "61/61 - 0s - loss: 0.4039 - accuracy: 0.0000e+00 - val_loss: 0.5252 - val_accuracy: 0.0000e+00 - 126ms/epoch - 2ms/step\n",
      "Epoch 62/100\n",
      "61/61 - 0s - loss: 0.4033 - accuracy: 0.0000e+00 - val_loss: 0.5153 - val_accuracy: 0.0000e+00 - 121ms/epoch - 2ms/step\n",
      "Epoch 63/100\n",
      "61/61 - 0s - loss: 0.4053 - accuracy: 0.0000e+00 - val_loss: 0.5347 - val_accuracy: 0.0000e+00 - 112ms/epoch - 2ms/step\n",
      "Epoch 64/100\n",
      "61/61 - 0s - loss: 0.4080 - accuracy: 0.0000e+00 - val_loss: 0.5106 - val_accuracy: 0.0000e+00 - 117ms/epoch - 2ms/step\n",
      "Epoch 65/100\n",
      "61/61 - 0s - loss: 0.4042 - accuracy: 0.0000e+00 - val_loss: 0.5210 - val_accuracy: 0.0000e+00 - 139ms/epoch - 2ms/step\n",
      "Epoch 66/100\n",
      "61/61 - 0s - loss: 0.4190 - accuracy: 0.0000e+00 - val_loss: 0.5094 - val_accuracy: 0.0000e+00 - 137ms/epoch - 2ms/step\n",
      "Epoch 67/100\n",
      "61/61 - 0s - loss: 0.4229 - accuracy: 0.0000e+00 - val_loss: 0.5235 - val_accuracy: 0.0000e+00 - 121ms/epoch - 2ms/step\n",
      "Epoch 68/100\n",
      "61/61 - 0s - loss: 0.4166 - accuracy: 0.0000e+00 - val_loss: 0.5797 - val_accuracy: 0.0000e+00 - 123ms/epoch - 2ms/step\n",
      "Epoch 69/100\n",
      "61/61 - 0s - loss: 0.4091 - accuracy: 0.0000e+00 - val_loss: 0.5199 - val_accuracy: 0.0000e+00 - 112ms/epoch - 2ms/step\n",
      "Epoch 70/100\n",
      "61/61 - 0s - loss: 0.4068 - accuracy: 0.0000e+00 - val_loss: 0.5177 - val_accuracy: 0.0000e+00 - 110ms/epoch - 2ms/step\n",
      "Epoch 71/100\n",
      "61/61 - 0s - loss: 0.4067 - accuracy: 0.0000e+00 - val_loss: 0.5312 - val_accuracy: 0.0000e+00 - 119ms/epoch - 2ms/step\n",
      "Epoch 72/100\n",
      "61/61 - 0s - loss: 0.4070 - accuracy: 0.0000e+00 - val_loss: 0.5177 - val_accuracy: 0.0000e+00 - 127ms/epoch - 2ms/step\n",
      "Epoch 73/100\n",
      "61/61 - 0s - loss: 0.4058 - accuracy: 0.0000e+00 - val_loss: 0.5206 - val_accuracy: 0.0000e+00 - 114ms/epoch - 2ms/step\n",
      "Epoch 74/100\n",
      "61/61 - 0s - loss: 0.4056 - accuracy: 0.0000e+00 - val_loss: 0.5123 - val_accuracy: 0.0000e+00 - 112ms/epoch - 2ms/step\n",
      "Epoch 75/100\n",
      "61/61 - 0s - loss: 0.4054 - accuracy: 0.0000e+00 - val_loss: 0.5298 - val_accuracy: 0.0000e+00 - 124ms/epoch - 2ms/step\n",
      "Epoch 76/100\n",
      "61/61 - 0s - loss: 0.4053 - accuracy: 0.0000e+00 - val_loss: 0.5231 - val_accuracy: 0.0000e+00 - 113ms/epoch - 2ms/step\n",
      "Epoch 77/100\n",
      "61/61 - 0s - loss: 0.4053 - accuracy: 0.0000e+00 - val_loss: 0.5209 - val_accuracy: 0.0000e+00 - 122ms/epoch - 2ms/step\n",
      "Epoch 78/100\n",
      "61/61 - 0s - loss: 0.4160 - accuracy: 0.0000e+00 - val_loss: 0.5311 - val_accuracy: 0.0000e+00 - 117ms/epoch - 2ms/step\n",
      "Epoch 79/100\n",
      "61/61 - 0s - loss: 0.4115 - accuracy: 0.0000e+00 - val_loss: 0.5268 - val_accuracy: 0.0000e+00 - 131ms/epoch - 2ms/step\n",
      "Epoch 80/100\n",
      "61/61 - 0s - loss: 0.4086 - accuracy: 0.0000e+00 - val_loss: 0.5264 - val_accuracy: 0.0000e+00 - 116ms/epoch - 2ms/step\n",
      "Epoch 81/100\n",
      "61/61 - 0s - loss: 0.4072 - accuracy: 0.0000e+00 - val_loss: 0.5180 - val_accuracy: 0.0000e+00 - 119ms/epoch - 2ms/step\n",
      "Epoch 82/100\n",
      "61/61 - 0s - loss: 0.4092 - accuracy: 0.0000e+00 - val_loss: 0.5303 - val_accuracy: 0.0000e+00 - 134ms/epoch - 2ms/step\n",
      "Epoch 83/100\n",
      "61/61 - 0s - loss: 0.4076 - accuracy: 0.0000e+00 - val_loss: 0.5236 - val_accuracy: 0.0000e+00 - 112ms/epoch - 2ms/step\n",
      "Epoch 84/100\n",
      "61/61 - 0s - loss: 0.4072 - accuracy: 0.0000e+00 - val_loss: 0.5325 - val_accuracy: 0.0000e+00 - 117ms/epoch - 2ms/step\n",
      "Epoch 85/100\n",
      "61/61 - 0s - loss: 0.4065 - accuracy: 0.0000e+00 - val_loss: 0.5353 - val_accuracy: 0.0000e+00 - 108ms/epoch - 2ms/step\n",
      "Epoch 86/100\n",
      "61/61 - 0s - loss: 0.4085 - accuracy: 0.0000e+00 - val_loss: 0.5217 - val_accuracy: 0.0000e+00 - 106ms/epoch - 2ms/step\n",
      "Epoch 87/100\n",
      "61/61 - 0s - loss: 0.4065 - accuracy: 0.0000e+00 - val_loss: 0.5211 - val_accuracy: 0.0000e+00 - 108ms/epoch - 2ms/step\n",
      "Epoch 88/100\n",
      "61/61 - 0s - loss: 0.4067 - accuracy: 0.0000e+00 - val_loss: 0.5117 - val_accuracy: 0.0000e+00 - 108ms/epoch - 2ms/step\n",
      "Epoch 89/100\n",
      "61/61 - 0s - loss: 0.4087 - accuracy: 0.0000e+00 - val_loss: 0.5171 - val_accuracy: 0.0000e+00 - 130ms/epoch - 2ms/step\n",
      "Epoch 90/100\n",
      "61/61 - 0s - loss: 0.4092 - accuracy: 0.0000e+00 - val_loss: 0.5299 - val_accuracy: 0.0000e+00 - 138ms/epoch - 2ms/step\n",
      "Epoch 91/100\n",
      "61/61 - 0s - loss: 0.4056 - accuracy: 0.0000e+00 - val_loss: 0.5225 - val_accuracy: 0.0000e+00 - 133ms/epoch - 2ms/step\n",
      "Epoch 92/100\n",
      "61/61 - 0s - loss: 0.4056 - accuracy: 0.0000e+00 - val_loss: 0.5145 - val_accuracy: 0.0000e+00 - 135ms/epoch - 2ms/step\n",
      "Epoch 93/100\n",
      "61/61 - 0s - loss: 0.4061 - accuracy: 0.0000e+00 - val_loss: 0.5131 - val_accuracy: 0.0000e+00 - 124ms/epoch - 2ms/step\n",
      "Epoch 94/100\n",
      "61/61 - 0s - loss: 0.4053 - accuracy: 0.0000e+00 - val_loss: 0.5108 - val_accuracy: 0.0000e+00 - 122ms/epoch - 2ms/step\n",
      "Epoch 95/100\n",
      "61/61 - 0s - loss: 0.4058 - accuracy: 0.0000e+00 - val_loss: 0.5170 - val_accuracy: 0.0000e+00 - 120ms/epoch - 2ms/step\n",
      "Epoch 96/100\n",
      "61/61 - 0s - loss: 0.4055 - accuracy: 0.0000e+00 - val_loss: 0.5299 - val_accuracy: 0.0000e+00 - 135ms/epoch - 2ms/step\n",
      "Epoch 97/100\n",
      "61/61 - 0s - loss: 0.4064 - accuracy: 0.0000e+00 - val_loss: 0.5118 - val_accuracy: 0.0000e+00 - 109ms/epoch - 2ms/step\n",
      "Epoch 98/100\n",
      "61/61 - 0s - loss: 0.4060 - accuracy: 0.0000e+00 - val_loss: 0.5080 - val_accuracy: 0.0000e+00 - 111ms/epoch - 2ms/step\n",
      "Epoch 99/100\n",
      "61/61 - 0s - loss: 0.4054 - accuracy: 0.0000e+00 - val_loss: 0.5155 - val_accuracy: 0.0000e+00 - 110ms/epoch - 2ms/step\n",
      "Epoch 100/100\n",
      "61/61 - 0s - loss: 0.4060 - accuracy: 0.0000e+00 - val_loss: 0.5155 - val_accuracy: 0.0000e+00 - 110ms/epoch - 2ms/step\n"
     ]
    }
   ],
   "source": [
    "look_back = 15\n",
    "\n",
    "model1 = Sequential()\n",
    "\n",
    "model1.add(LSTM(50, input_shape=(1, look_back), return_sequences=False))\n",
    "\n",
    "# Dropout to prevent overfitting\n",
    "model1.add(Dropout(0.5))\n",
    "\n",
    "# Dense layer for classification output\n",
    "model1.add(Dense(units=1, activation='tanh'))\n",
    "\n",
    "# Optimizing the neural network weights\n",
    "opt = tf.keras.optimizers.Adam(learning_rate=0.01)\n",
    "\n",
    "# Compiling the model with the optimizer\n",
    "model1.compile(loss='binary_crossentropy', optimizer=opt, metrics=['accuracy'])\n",
    "\n",
    "history = model1.fit(x_train, y_train, epochs=100, batch_size=64, verbose=2, validation_data=(x_test, y_test))"
   ]
  },
  {
   "cell_type": "code",
   "execution_count": 26,
   "id": "4224cfa3",
   "metadata": {
    "id": "4224cfa3",
    "outputId": "b1e4c3d6-fac4-4487-9cdb-8700dfacd08e"
   },
   "outputs": [
    {
     "name": "stdout",
     "output_type": "stream",
     "text": [
      "Epoch 1/100\n",
      "61/61 - 2s - loss: 0.0017 - mse: 0.0017 - val_loss: 0.0080 - val_mse: 0.0080 - 2s/epoch - 27ms/step\n",
      "Epoch 2/100\n",
      "61/61 - 0s - loss: 0.0016 - mse: 0.0016 - val_loss: 0.0078 - val_mse: 0.0078 - 130ms/epoch - 2ms/step\n",
      "Epoch 3/100\n",
      "61/61 - 0s - loss: 0.0017 - mse: 0.0017 - val_loss: 0.0047 - val_mse: 0.0047 - 135ms/epoch - 2ms/step\n",
      "Epoch 4/100\n",
      "61/61 - 0s - loss: 0.0016 - mse: 0.0016 - val_loss: 0.0039 - val_mse: 0.0039 - 108ms/epoch - 2ms/step\n",
      "Epoch 5/100\n",
      "61/61 - 0s - loss: 0.0015 - mse: 0.0015 - val_loss: 0.0061 - val_mse: 0.0061 - 142ms/epoch - 2ms/step\n",
      "Epoch 6/100\n",
      "61/61 - 0s - loss: 0.0016 - mse: 0.0016 - val_loss: 0.0057 - val_mse: 0.0057 - 136ms/epoch - 2ms/step\n",
      "Epoch 7/100\n",
      "61/61 - 0s - loss: 0.0014 - mse: 0.0014 - val_loss: 0.0061 - val_mse: 0.0061 - 131ms/epoch - 2ms/step\n",
      "Epoch 8/100\n",
      "61/61 - 0s - loss: 0.0014 - mse: 0.0014 - val_loss: 0.0047 - val_mse: 0.0047 - 126ms/epoch - 2ms/step\n",
      "Epoch 9/100\n",
      "61/61 - 0s - loss: 0.0014 - mse: 0.0014 - val_loss: 0.0042 - val_mse: 0.0042 - 131ms/epoch - 2ms/step\n",
      "Epoch 10/100\n",
      "61/61 - 0s - loss: 0.0013 - mse: 0.0013 - val_loss: 0.0051 - val_mse: 0.0051 - 128ms/epoch - 2ms/step\n",
      "Epoch 11/100\n",
      "61/61 - 0s - loss: 0.0014 - mse: 0.0014 - val_loss: 0.0047 - val_mse: 0.0047 - 108ms/epoch - 2ms/step\n",
      "Epoch 12/100\n",
      "61/61 - 0s - loss: 0.0014 - mse: 0.0014 - val_loss: 0.0045 - val_mse: 0.0045 - 107ms/epoch - 2ms/step\n",
      "Epoch 13/100\n",
      "61/61 - 0s - loss: 0.0013 - mse: 0.0013 - val_loss: 0.0044 - val_mse: 0.0044 - 106ms/epoch - 2ms/step\n",
      "Epoch 14/100\n",
      "61/61 - 0s - loss: 0.0013 - mse: 0.0013 - val_loss: 0.0031 - val_mse: 0.0031 - 134ms/epoch - 2ms/step\n",
      "Epoch 15/100\n",
      "61/61 - 0s - loss: 0.0014 - mse: 0.0014 - val_loss: 0.0029 - val_mse: 0.0029 - 111ms/epoch - 2ms/step\n",
      "Epoch 16/100\n",
      "61/61 - 0s - loss: 0.0012 - mse: 0.0012 - val_loss: 0.0025 - val_mse: 0.0025 - 106ms/epoch - 2ms/step\n",
      "Epoch 17/100\n",
      "61/61 - 0s - loss: 0.0014 - mse: 0.0014 - val_loss: 0.0026 - val_mse: 0.0026 - 106ms/epoch - 2ms/step\n",
      "Epoch 18/100\n",
      "61/61 - 0s - loss: 0.0013 - mse: 0.0013 - val_loss: 0.0043 - val_mse: 0.0043 - 107ms/epoch - 2ms/step\n",
      "Epoch 19/100\n",
      "61/61 - 0s - loss: 0.0013 - mse: 0.0013 - val_loss: 0.0029 - val_mse: 0.0029 - 104ms/epoch - 2ms/step\n",
      "Epoch 20/100\n",
      "61/61 - 0s - loss: 0.0012 - mse: 0.0012 - val_loss: 0.0029 - val_mse: 0.0029 - 105ms/epoch - 2ms/step\n",
      "Epoch 21/100\n",
      "61/61 - 0s - loss: 0.0012 - mse: 0.0012 - val_loss: 0.0053 - val_mse: 0.0053 - 103ms/epoch - 2ms/step\n",
      "Epoch 22/100\n",
      "61/61 - 0s - loss: 0.0011 - mse: 0.0011 - val_loss: 0.0026 - val_mse: 0.0026 - 105ms/epoch - 2ms/step\n",
      "Epoch 23/100\n",
      "61/61 - 0s - loss: 0.0012 - mse: 0.0012 - val_loss: 0.0038 - val_mse: 0.0038 - 105ms/epoch - 2ms/step\n",
      "Epoch 24/100\n",
      "61/61 - 0s - loss: 0.0011 - mse: 0.0011 - val_loss: 0.0027 - val_mse: 0.0027 - 102ms/epoch - 2ms/step\n",
      "Epoch 25/100\n",
      "61/61 - 0s - loss: 0.0012 - mse: 0.0012 - val_loss: 0.0032 - val_mse: 0.0032 - 104ms/epoch - 2ms/step\n",
      "Epoch 26/100\n",
      "61/61 - 0s - loss: 0.0012 - mse: 0.0012 - val_loss: 0.0041 - val_mse: 0.0041 - 104ms/epoch - 2ms/step\n",
      "Epoch 27/100\n",
      "61/61 - 0s - loss: 0.0011 - mse: 0.0011 - val_loss: 0.0048 - val_mse: 0.0048 - 105ms/epoch - 2ms/step\n",
      "Epoch 28/100\n",
      "61/61 - 0s - loss: 0.0011 - mse: 0.0011 - val_loss: 0.0033 - val_mse: 0.0033 - 109ms/epoch - 2ms/step\n",
      "Epoch 29/100\n",
      "61/61 - 0s - loss: 0.0012 - mse: 0.0012 - val_loss: 0.0039 - val_mse: 0.0039 - 106ms/epoch - 2ms/step\n",
      "Epoch 30/100\n",
      "61/61 - 0s - loss: 0.0010 - mse: 0.0010 - val_loss: 0.0053 - val_mse: 0.0053 - 106ms/epoch - 2ms/step\n",
      "Epoch 31/100\n",
      "61/61 - 0s - loss: 0.0011 - mse: 0.0011 - val_loss: 0.0033 - val_mse: 0.0033 - 128ms/epoch - 2ms/step\n",
      "Epoch 32/100\n",
      "61/61 - 0s - loss: 0.0012 - mse: 0.0012 - val_loss: 0.0037 - val_mse: 0.0037 - 118ms/epoch - 2ms/step\n",
      "Epoch 33/100\n",
      "61/61 - 0s - loss: 0.0012 - mse: 0.0012 - val_loss: 0.0033 - val_mse: 0.0033 - 120ms/epoch - 2ms/step\n",
      "Epoch 34/100\n",
      "61/61 - 0s - loss: 0.0012 - mse: 0.0012 - val_loss: 0.0038 - val_mse: 0.0038 - 117ms/epoch - 2ms/step\n",
      "Epoch 35/100\n",
      "61/61 - 0s - loss: 0.0011 - mse: 0.0011 - val_loss: 0.0037 - val_mse: 0.0037 - 120ms/epoch - 2ms/step\n",
      "Epoch 36/100\n",
      "61/61 - 0s - loss: 0.0012 - mse: 0.0012 - val_loss: 0.0042 - val_mse: 0.0042 - 128ms/epoch - 2ms/step\n",
      "Epoch 37/100\n",
      "61/61 - 0s - loss: 0.0011 - mse: 0.0011 - val_loss: 0.0038 - val_mse: 0.0038 - 117ms/epoch - 2ms/step\n",
      "Epoch 38/100\n",
      "61/61 - 0s - loss: 0.0011 - mse: 0.0011 - val_loss: 0.0035 - val_mse: 0.0035 - 115ms/epoch - 2ms/step\n",
      "Epoch 39/100\n",
      "61/61 - 0s - loss: 0.0011 - mse: 0.0011 - val_loss: 0.0025 - val_mse: 0.0025 - 115ms/epoch - 2ms/step\n",
      "Epoch 40/100\n",
      "61/61 - 0s - loss: 0.0011 - mse: 0.0011 - val_loss: 0.0028 - val_mse: 0.0028 - 111ms/epoch - 2ms/step\n",
      "Epoch 41/100\n",
      "61/61 - 0s - loss: 0.0012 - mse: 0.0012 - val_loss: 0.0048 - val_mse: 0.0048 - 107ms/epoch - 2ms/step\n",
      "Epoch 42/100\n",
      "61/61 - 0s - loss: 0.0012 - mse: 0.0012 - val_loss: 0.0040 - val_mse: 0.0040 - 104ms/epoch - 2ms/step\n",
      "Epoch 43/100\n",
      "61/61 - 0s - loss: 0.0012 - mse: 0.0012 - val_loss: 0.0063 - val_mse: 0.0063 - 107ms/epoch - 2ms/step\n",
      "Epoch 44/100\n",
      "61/61 - 0s - loss: 0.0012 - mse: 0.0012 - val_loss: 0.0040 - val_mse: 0.0040 - 106ms/epoch - 2ms/step\n",
      "Epoch 45/100\n",
      "61/61 - 0s - loss: 0.0011 - mse: 0.0011 - val_loss: 0.0036 - val_mse: 0.0036 - 110ms/epoch - 2ms/step\n",
      "Epoch 46/100\n",
      "61/61 - 0s - loss: 0.0011 - mse: 0.0011 - val_loss: 0.0039 - val_mse: 0.0039 - 105ms/epoch - 2ms/step\n",
      "Epoch 47/100\n",
      "61/61 - 0s - loss: 0.0012 - mse: 0.0012 - val_loss: 0.0044 - val_mse: 0.0044 - 107ms/epoch - 2ms/step\n",
      "Epoch 48/100\n",
      "61/61 - 0s - loss: 0.0011 - mse: 0.0011 - val_loss: 0.0038 - val_mse: 0.0038 - 112ms/epoch - 2ms/step\n",
      "Epoch 49/100\n",
      "61/61 - 0s - loss: 0.0011 - mse: 0.0011 - val_loss: 0.0033 - val_mse: 0.0033 - 119ms/epoch - 2ms/step\n",
      "Epoch 50/100\n",
      "61/61 - 0s - loss: 0.0012 - mse: 0.0012 - val_loss: 0.0034 - val_mse: 0.0034 - 112ms/epoch - 2ms/step\n",
      "Epoch 51/100\n",
      "61/61 - 0s - loss: 0.0011 - mse: 0.0011 - val_loss: 0.0070 - val_mse: 0.0070 - 106ms/epoch - 2ms/step\n",
      "Epoch 52/100\n",
      "61/61 - 0s - loss: 0.0012 - mse: 0.0012 - val_loss: 0.0038 - val_mse: 0.0038 - 104ms/epoch - 2ms/step\n",
      "Epoch 53/100\n",
      "61/61 - 0s - loss: 0.0012 - mse: 0.0012 - val_loss: 0.0045 - val_mse: 0.0045 - 107ms/epoch - 2ms/step\n",
      "Epoch 54/100\n",
      "61/61 - 0s - loss: 9.8659e-04 - mse: 9.8659e-04 - val_loss: 0.0048 - val_mse: 0.0048 - 109ms/epoch - 2ms/step\n",
      "Epoch 55/100\n",
      "61/61 - 0s - loss: 0.0012 - mse: 0.0012 - val_loss: 0.0026 - val_mse: 0.0026 - 106ms/epoch - 2ms/step\n",
      "Epoch 56/100\n",
      "61/61 - 0s - loss: 0.0011 - mse: 0.0011 - val_loss: 0.0045 - val_mse: 0.0045 - 104ms/epoch - 2ms/step\n",
      "Epoch 57/100\n",
      "61/61 - 0s - loss: 0.0012 - mse: 0.0012 - val_loss: 0.0034 - val_mse: 0.0034 - 104ms/epoch - 2ms/step\n",
      "Epoch 58/100\n",
      "61/61 - 0s - loss: 0.0012 - mse: 0.0012 - val_loss: 0.0067 - val_mse: 0.0067 - 105ms/epoch - 2ms/step\n",
      "Epoch 59/100\n",
      "61/61 - 0s - loss: 0.0011 - mse: 0.0011 - val_loss: 0.0061 - val_mse: 0.0061 - 105ms/epoch - 2ms/step\n",
      "Epoch 60/100\n",
      "61/61 - 0s - loss: 0.0011 - mse: 0.0011 - val_loss: 0.0031 - val_mse: 0.0031 - 105ms/epoch - 2ms/step\n",
      "Epoch 61/100\n",
      "61/61 - 0s - loss: 0.0012 - mse: 0.0012 - val_loss: 0.0056 - val_mse: 0.0056 - 103ms/epoch - 2ms/step\n",
      "Epoch 62/100\n",
      "61/61 - 0s - loss: 0.0011 - mse: 0.0011 - val_loss: 0.0051 - val_mse: 0.0051 - 105ms/epoch - 2ms/step\n",
      "Epoch 63/100\n",
      "61/61 - 0s - loss: 0.0011 - mse: 0.0011 - val_loss: 0.0051 - val_mse: 0.0051 - 106ms/epoch - 2ms/step\n",
      "Epoch 64/100\n",
      "61/61 - 0s - loss: 0.0012 - mse: 0.0012 - val_loss: 0.0060 - val_mse: 0.0060 - 105ms/epoch - 2ms/step\n",
      "Epoch 65/100\n",
      "61/61 - 0s - loss: 0.0011 - mse: 0.0011 - val_loss: 0.0032 - val_mse: 0.0032 - 104ms/epoch - 2ms/step\n",
      "Epoch 66/100\n",
      "61/61 - 0s - loss: 0.0012 - mse: 0.0012 - val_loss: 0.0049 - val_mse: 0.0049 - 105ms/epoch - 2ms/step\n",
      "Epoch 67/100\n",
      "61/61 - 0s - loss: 0.0012 - mse: 0.0012 - val_loss: 0.0073 - val_mse: 0.0073 - 106ms/epoch - 2ms/step\n",
      "Epoch 68/100\n",
      "61/61 - 0s - loss: 0.0012 - mse: 0.0012 - val_loss: 0.0059 - val_mse: 0.0059 - 127ms/epoch - 2ms/step\n",
      "Epoch 69/100\n",
      "61/61 - 0s - loss: 0.0012 - mse: 0.0012 - val_loss: 0.0063 - val_mse: 0.0063 - 104ms/epoch - 2ms/step\n",
      "Epoch 70/100\n",
      "61/61 - 0s - loss: 0.0012 - mse: 0.0012 - val_loss: 0.0023 - val_mse: 0.0023 - 104ms/epoch - 2ms/step\n",
      "Epoch 71/100\n",
      "61/61 - 0s - loss: 0.0011 - mse: 0.0011 - val_loss: 0.0041 - val_mse: 0.0041 - 106ms/epoch - 2ms/step\n",
      "Epoch 72/100\n",
      "61/61 - 0s - loss: 0.0012 - mse: 0.0012 - val_loss: 0.0047 - val_mse: 0.0047 - 107ms/epoch - 2ms/step\n",
      "Epoch 73/100\n",
      "61/61 - 0s - loss: 0.0011 - mse: 0.0011 - val_loss: 0.0034 - val_mse: 0.0034 - 108ms/epoch - 2ms/step\n",
      "Epoch 74/100\n",
      "61/61 - 0s - loss: 0.0010 - mse: 0.0010 - val_loss: 0.0044 - val_mse: 0.0044 - 123ms/epoch - 2ms/step\n",
      "Epoch 75/100\n",
      "61/61 - 0s - loss: 0.0011 - mse: 0.0011 - val_loss: 0.0082 - val_mse: 0.0082 - 106ms/epoch - 2ms/step\n",
      "Epoch 76/100\n",
      "61/61 - 0s - loss: 0.0012 - mse: 0.0012 - val_loss: 0.0034 - val_mse: 0.0034 - 107ms/epoch - 2ms/step\n",
      "Epoch 77/100\n",
      "61/61 - 0s - loss: 0.0012 - mse: 0.0012 - val_loss: 0.0038 - val_mse: 0.0038 - 105ms/epoch - 2ms/step\n",
      "Epoch 78/100\n",
      "61/61 - 0s - loss: 0.0011 - mse: 0.0011 - val_loss: 0.0053 - val_mse: 0.0053 - 107ms/epoch - 2ms/step\n",
      "Epoch 79/100\n",
      "61/61 - 0s - loss: 0.0010 - mse: 0.0010 - val_loss: 0.0048 - val_mse: 0.0048 - 116ms/epoch - 2ms/step\n",
      "Epoch 80/100\n",
      "61/61 - 0s - loss: 0.0011 - mse: 0.0011 - val_loss: 0.0078 - val_mse: 0.0078 - 110ms/epoch - 2ms/step\n",
      "Epoch 81/100\n",
      "61/61 - 0s - loss: 0.0012 - mse: 0.0012 - val_loss: 0.0049 - val_mse: 0.0049 - 110ms/epoch - 2ms/step\n",
      "Epoch 82/100\n",
      "61/61 - 0s - loss: 0.0011 - mse: 0.0011 - val_loss: 0.0035 - val_mse: 0.0035 - 109ms/epoch - 2ms/step\n",
      "Epoch 83/100\n",
      "61/61 - 0s - loss: 0.0012 - mse: 0.0012 - val_loss: 0.0029 - val_mse: 0.0029 - 104ms/epoch - 2ms/step\n",
      "Epoch 84/100\n",
      "61/61 - 0s - loss: 0.0012 - mse: 0.0012 - val_loss: 0.0048 - val_mse: 0.0048 - 107ms/epoch - 2ms/step\n",
      "Epoch 85/100\n",
      "61/61 - 0s - loss: 0.0012 - mse: 0.0012 - val_loss: 0.0041 - val_mse: 0.0041 - 109ms/epoch - 2ms/step\n",
      "Epoch 86/100\n",
      "61/61 - 0s - loss: 0.0012 - mse: 0.0012 - val_loss: 0.0055 - val_mse: 0.0055 - 108ms/epoch - 2ms/step\n",
      "Epoch 87/100\n",
      "61/61 - 0s - loss: 0.0012 - mse: 0.0012 - val_loss: 0.0048 - val_mse: 0.0048 - 104ms/epoch - 2ms/step\n",
      "Epoch 88/100\n",
      "61/61 - 0s - loss: 0.0011 - mse: 0.0011 - val_loss: 0.0049 - val_mse: 0.0049 - 105ms/epoch - 2ms/step\n",
      "Epoch 89/100\n",
      "61/61 - 0s - loss: 0.0011 - mse: 0.0011 - val_loss: 0.0046 - val_mse: 0.0046 - 106ms/epoch - 2ms/step\n",
      "Epoch 90/100\n",
      "61/61 - 0s - loss: 0.0010 - mse: 0.0010 - val_loss: 0.0031 - val_mse: 0.0031 - 113ms/epoch - 2ms/step\n",
      "Epoch 91/100\n",
      "61/61 - 0s - loss: 0.0011 - mse: 0.0011 - val_loss: 0.0053 - val_mse: 0.0053 - 134ms/epoch - 2ms/step\n",
      "Epoch 92/100\n",
      "61/61 - 0s - loss: 0.0012 - mse: 0.0012 - val_loss: 0.0058 - val_mse: 0.0058 - 124ms/epoch - 2ms/step\n",
      "Epoch 93/100\n",
      "61/61 - 0s - loss: 0.0012 - mse: 0.0012 - val_loss: 0.0082 - val_mse: 0.0082 - 133ms/epoch - 2ms/step\n",
      "Epoch 94/100\n",
      "61/61 - 0s - loss: 0.0011 - mse: 0.0011 - val_loss: 0.0047 - val_mse: 0.0047 - 112ms/epoch - 2ms/step\n",
      "Epoch 95/100\n",
      "61/61 - 0s - loss: 0.0012 - mse: 0.0012 - val_loss: 0.0042 - val_mse: 0.0042 - 121ms/epoch - 2ms/step\n",
      "Epoch 96/100\n",
      "61/61 - 0s - loss: 0.0011 - mse: 0.0011 - val_loss: 0.0037 - val_mse: 0.0037 - 111ms/epoch - 2ms/step\n",
      "Epoch 97/100\n",
      "61/61 - 0s - loss: 0.0012 - mse: 0.0012 - val_loss: 0.0055 - val_mse: 0.0055 - 112ms/epoch - 2ms/step\n",
      "Epoch 98/100\n",
      "61/61 - 0s - loss: 0.0012 - mse: 0.0012 - val_loss: 0.0068 - val_mse: 0.0068 - 114ms/epoch - 2ms/step\n",
      "Epoch 99/100\n",
      "61/61 - 0s - loss: 0.0012 - mse: 0.0012 - val_loss: 0.0034 - val_mse: 0.0034 - 144ms/epoch - 2ms/step\n",
      "Epoch 100/100\n",
      "61/61 - 0s - loss: 0.0012 - mse: 0.0012 - val_loss: 0.0044 - val_mse: 0.0044 - 109ms/epoch - 2ms/step\n"
     ]
    }
   ],
   "source": [
    "mseplot = model1.compile(loss='mean_squared_error', optimizer=opt, metrics=['mse'])\n",
    "\n",
    "mseplot = model1.fit(x_train, y_train, epochs = 100, batch_size=64, verbose=2, validation_data=(x_test, y_test))"
   ]
  },
  {
   "cell_type": "code",
   "execution_count": 27,
   "id": "05a4cb49",
   "metadata": {
    "id": "05a4cb49",
    "outputId": "d9271c8b-290c-4d77-fff1-0cb79b166ba8"
   },
   "outputs": [
    {
     "name": "stdout",
     "output_type": "stream",
     "text": [
      "Epoch 1/100\n",
      "61/61 - 1s - loss: 0.0011 - rmse: 0.0336 - val_loss: 0.0057 - val_rmse: 0.0753 - 1s/epoch - 21ms/step\n",
      "Epoch 2/100\n",
      "61/61 - 0s - loss: 0.0012 - rmse: 0.0346 - val_loss: 0.0035 - val_rmse: 0.0588 - 129ms/epoch - 2ms/step\n",
      "Epoch 3/100\n",
      "61/61 - 0s - loss: 0.0011 - rmse: 0.0332 - val_loss: 0.0052 - val_rmse: 0.0723 - 113ms/epoch - 2ms/step\n",
      "Epoch 4/100\n",
      "61/61 - 0s - loss: 0.0012 - rmse: 0.0343 - val_loss: 0.0062 - val_rmse: 0.0785 - 114ms/epoch - 2ms/step\n",
      "Epoch 5/100\n",
      "61/61 - 0s - loss: 0.0011 - rmse: 0.0333 - val_loss: 0.0081 - val_rmse: 0.0902 - 120ms/epoch - 2ms/step\n",
      "Epoch 6/100\n",
      "61/61 - 0s - loss: 0.0012 - rmse: 0.0342 - val_loss: 0.0042 - val_rmse: 0.0649 - 123ms/epoch - 2ms/step\n",
      "Epoch 7/100\n",
      "61/61 - 0s - loss: 0.0010 - rmse: 0.0321 - val_loss: 0.0061 - val_rmse: 0.0778 - 113ms/epoch - 2ms/step\n",
      "Epoch 8/100\n",
      "61/61 - 0s - loss: 0.0011 - rmse: 0.0325 - val_loss: 0.0038 - val_rmse: 0.0619 - 138ms/epoch - 2ms/step\n",
      "Epoch 9/100\n",
      "61/61 - 0s - loss: 0.0011 - rmse: 0.0337 - val_loss: 0.0050 - val_rmse: 0.0708 - 132ms/epoch - 2ms/step\n",
      "Epoch 10/100\n",
      "61/61 - 0s - loss: 0.0011 - rmse: 0.0330 - val_loss: 0.0027 - val_rmse: 0.0523 - 123ms/epoch - 2ms/step\n",
      "Epoch 11/100\n",
      "61/61 - 0s - loss: 0.0013 - rmse: 0.0362 - val_loss: 0.0037 - val_rmse: 0.0609 - 144ms/epoch - 2ms/step\n",
      "Epoch 12/100\n",
      "61/61 - 0s - loss: 0.0011 - rmse: 0.0331 - val_loss: 0.0042 - val_rmse: 0.0650 - 119ms/epoch - 2ms/step\n",
      "Epoch 13/100\n",
      "61/61 - 0s - loss: 0.0011 - rmse: 0.0337 - val_loss: 0.0043 - val_rmse: 0.0655 - 127ms/epoch - 2ms/step\n",
      "Epoch 14/100\n",
      "61/61 - 0s - loss: 0.0011 - rmse: 0.0337 - val_loss: 0.0069 - val_rmse: 0.0830 - 131ms/epoch - 2ms/step\n",
      "Epoch 15/100\n",
      "61/61 - 0s - loss: 0.0011 - rmse: 0.0326 - val_loss: 0.0071 - val_rmse: 0.0842 - 116ms/epoch - 2ms/step\n",
      "Epoch 16/100\n",
      "61/61 - 0s - loss: 0.0011 - rmse: 0.0337 - val_loss: 0.0055 - val_rmse: 0.0745 - 124ms/epoch - 2ms/step\n",
      "Epoch 17/100\n",
      "61/61 - 0s - loss: 0.0012 - rmse: 0.0351 - val_loss: 0.0038 - val_rmse: 0.0618 - 121ms/epoch - 2ms/step\n",
      "Epoch 18/100\n",
      "61/61 - 0s - loss: 0.0012 - rmse: 0.0346 - val_loss: 0.0048 - val_rmse: 0.0689 - 107ms/epoch - 2ms/step\n",
      "Epoch 19/100\n",
      "61/61 - 0s - loss: 0.0012 - rmse: 0.0342 - val_loss: 0.0072 - val_rmse: 0.0851 - 107ms/epoch - 2ms/step\n",
      "Epoch 20/100\n",
      "61/61 - 0s - loss: 0.0011 - rmse: 0.0333 - val_loss: 0.0031 - val_rmse: 0.0554 - 127ms/epoch - 2ms/step\n",
      "Epoch 21/100\n",
      "61/61 - 0s - loss: 0.0012 - rmse: 0.0349 - val_loss: 0.0055 - val_rmse: 0.0744 - 109ms/epoch - 2ms/step\n",
      "Epoch 22/100\n",
      "61/61 - 0s - loss: 0.0010 - rmse: 0.0321 - val_loss: 0.0063 - val_rmse: 0.0792 - 130ms/epoch - 2ms/step\n",
      "Epoch 23/100\n",
      "61/61 - 0s - loss: 0.0011 - rmse: 0.0330 - val_loss: 0.0075 - val_rmse: 0.0868 - 110ms/epoch - 2ms/step\n",
      "Epoch 24/100\n",
      "61/61 - 0s - loss: 0.0011 - rmse: 0.0334 - val_loss: 0.0034 - val_rmse: 0.0585 - 108ms/epoch - 2ms/step\n",
      "Epoch 25/100\n",
      "61/61 - 0s - loss: 0.0011 - rmse: 0.0337 - val_loss: 0.0057 - val_rmse: 0.0753 - 108ms/epoch - 2ms/step\n",
      "Epoch 26/100\n",
      "61/61 - 0s - loss: 0.0011 - rmse: 0.0327 - val_loss: 0.0022 - val_rmse: 0.0471 - 114ms/epoch - 2ms/step\n",
      "Epoch 27/100\n",
      "61/61 - 0s - loss: 0.0012 - rmse: 0.0349 - val_loss: 0.0056 - val_rmse: 0.0751 - 135ms/epoch - 2ms/step\n",
      "Epoch 28/100\n",
      "61/61 - 0s - loss: 0.0011 - rmse: 0.0337 - val_loss: 0.0073 - val_rmse: 0.0852 - 127ms/epoch - 2ms/step\n",
      "Epoch 29/100\n",
      "61/61 - 0s - loss: 0.0013 - rmse: 0.0359 - val_loss: 0.0084 - val_rmse: 0.0915 - 126ms/epoch - 2ms/step\n",
      "Epoch 30/100\n",
      "61/61 - 0s - loss: 0.0011 - rmse: 0.0339 - val_loss: 0.0079 - val_rmse: 0.0891 - 128ms/epoch - 2ms/step\n",
      "Epoch 31/100\n",
      "61/61 - 0s - loss: 0.0011 - rmse: 0.0325 - val_loss: 0.0050 - val_rmse: 0.0710 - 116ms/epoch - 2ms/step\n",
      "Epoch 32/100\n",
      "61/61 - 0s - loss: 0.0012 - rmse: 0.0344 - val_loss: 0.0063 - val_rmse: 0.0792 - 138ms/epoch - 2ms/step\n",
      "Epoch 33/100\n",
      "61/61 - 0s - loss: 0.0011 - rmse: 0.0337 - val_loss: 0.0044 - val_rmse: 0.0660 - 134ms/epoch - 2ms/step\n",
      "Epoch 34/100\n",
      "61/61 - 0s - loss: 0.0011 - rmse: 0.0332 - val_loss: 0.0028 - val_rmse: 0.0532 - 126ms/epoch - 2ms/step\n",
      "Epoch 35/100\n",
      "61/61 - 0s - loss: 0.0011 - rmse: 0.0333 - val_loss: 0.0055 - val_rmse: 0.0741 - 125ms/epoch - 2ms/step\n",
      "Epoch 36/100\n",
      "61/61 - 0s - loss: 0.0011 - rmse: 0.0337 - val_loss: 0.0073 - val_rmse: 0.0852 - 115ms/epoch - 2ms/step\n",
      "Epoch 37/100\n",
      "61/61 - 0s - loss: 0.0011 - rmse: 0.0338 - val_loss: 0.0108 - val_rmse: 0.1040 - 111ms/epoch - 2ms/step\n",
      "Epoch 38/100\n",
      "61/61 - 0s - loss: 0.0012 - rmse: 0.0346 - val_loss: 0.0039 - val_rmse: 0.0626 - 122ms/epoch - 2ms/step\n",
      "Epoch 39/100\n",
      "61/61 - 0s - loss: 0.0012 - rmse: 0.0343 - val_loss: 0.0029 - val_rmse: 0.0541 - 174ms/epoch - 3ms/step\n",
      "Epoch 40/100\n",
      "61/61 - 0s - loss: 0.0012 - rmse: 0.0346 - val_loss: 0.0023 - val_rmse: 0.0484 - 137ms/epoch - 2ms/step\n",
      "Epoch 41/100\n",
      "61/61 - 0s - loss: 0.0011 - rmse: 0.0338 - val_loss: 0.0029 - val_rmse: 0.0537 - 136ms/epoch - 2ms/step\n",
      "Epoch 42/100\n",
      "61/61 - 0s - loss: 0.0011 - rmse: 0.0339 - val_loss: 0.0033 - val_rmse: 0.0575 - 128ms/epoch - 2ms/step\n",
      "Epoch 43/100\n",
      "61/61 - 0s - loss: 0.0011 - rmse: 0.0333 - val_loss: 0.0028 - val_rmse: 0.0525 - 151ms/epoch - 2ms/step\n",
      "Epoch 44/100\n",
      "61/61 - 0s - loss: 0.0012 - rmse: 0.0345 - val_loss: 0.0026 - val_rmse: 0.0508 - 144ms/epoch - 2ms/step\n",
      "Epoch 45/100\n",
      "61/61 - 0s - loss: 0.0011 - rmse: 0.0331 - val_loss: 0.0036 - val_rmse: 0.0599 - 140ms/epoch - 2ms/step\n",
      "Epoch 46/100\n",
      "61/61 - 0s - loss: 0.0010 - rmse: 0.0320 - val_loss: 0.0040 - val_rmse: 0.0631 - 191ms/epoch - 3ms/step\n",
      "Epoch 47/100\n",
      "61/61 - 0s - loss: 0.0012 - rmse: 0.0341 - val_loss: 0.0058 - val_rmse: 0.0762 - 140ms/epoch - 2ms/step\n",
      "Epoch 48/100\n",
      "61/61 - 0s - loss: 0.0012 - rmse: 0.0341 - val_loss: 0.0109 - val_rmse: 0.1045 - 123ms/epoch - 2ms/step\n",
      "Epoch 49/100\n",
      "61/61 - 0s - loss: 0.0012 - rmse: 0.0351 - val_loss: 0.0071 - val_rmse: 0.0843 - 119ms/epoch - 2ms/step\n",
      "Epoch 50/100\n",
      "61/61 - 0s - loss: 0.0012 - rmse: 0.0340 - val_loss: 0.0026 - val_rmse: 0.0508 - 114ms/epoch - 2ms/step\n",
      "Epoch 51/100\n",
      "61/61 - 0s - loss: 0.0011 - rmse: 0.0332 - val_loss: 0.0038 - val_rmse: 0.0614 - 126ms/epoch - 2ms/step\n",
      "Epoch 52/100\n",
      "61/61 - 0s - loss: 0.0013 - rmse: 0.0360 - val_loss: 0.0085 - val_rmse: 0.0919 - 119ms/epoch - 2ms/step\n",
      "Epoch 53/100\n",
      "61/61 - 0s - loss: 0.0012 - rmse: 0.0340 - val_loss: 0.0082 - val_rmse: 0.0907 - 133ms/epoch - 2ms/step\n",
      "Epoch 54/100\n",
      "61/61 - 0s - loss: 0.0012 - rmse: 0.0352 - val_loss: 0.0057 - val_rmse: 0.0754 - 121ms/epoch - 2ms/step\n",
      "Epoch 55/100\n",
      "61/61 - 0s - loss: 0.0012 - rmse: 0.0350 - val_loss: 0.0023 - val_rmse: 0.0480 - 154ms/epoch - 3ms/step\n",
      "Epoch 56/100\n",
      "61/61 - 0s - loss: 0.0011 - rmse: 0.0330 - val_loss: 0.0029 - val_rmse: 0.0542 - 147ms/epoch - 2ms/step\n",
      "Epoch 57/100\n",
      "61/61 - 0s - loss: 0.0011 - rmse: 0.0330 - val_loss: 0.0032 - val_rmse: 0.0565 - 145ms/epoch - 2ms/step\n",
      "Epoch 58/100\n",
      "61/61 - 0s - loss: 0.0011 - rmse: 0.0334 - val_loss: 0.0077 - val_rmse: 0.0877 - 147ms/epoch - 2ms/step\n",
      "Epoch 59/100\n",
      "61/61 - 0s - loss: 0.0011 - rmse: 0.0338 - val_loss: 0.0048 - val_rmse: 0.0690 - 129ms/epoch - 2ms/step\n",
      "Epoch 60/100\n",
      "61/61 - 0s - loss: 0.0011 - rmse: 0.0335 - val_loss: 0.0037 - val_rmse: 0.0606 - 120ms/epoch - 2ms/step\n",
      "Epoch 61/100\n",
      "61/61 - 0s - loss: 0.0012 - rmse: 0.0341 - val_loss: 0.0029 - val_rmse: 0.0536 - 122ms/epoch - 2ms/step\n",
      "Epoch 62/100\n",
      "61/61 - 0s - loss: 0.0013 - rmse: 0.0359 - val_loss: 0.0066 - val_rmse: 0.0815 - 139ms/epoch - 2ms/step\n",
      "Epoch 63/100\n",
      "61/61 - 0s - loss: 0.0011 - rmse: 0.0331 - val_loss: 0.0032 - val_rmse: 0.0563 - 117ms/epoch - 2ms/step\n",
      "Epoch 64/100\n",
      "61/61 - 0s - loss: 0.0011 - rmse: 0.0333 - val_loss: 0.0025 - val_rmse: 0.0501 - 122ms/epoch - 2ms/step\n",
      "Epoch 65/100\n",
      "61/61 - 0s - loss: 0.0013 - rmse: 0.0356 - val_loss: 0.0035 - val_rmse: 0.0591 - 119ms/epoch - 2ms/step\n",
      "Epoch 66/100\n",
      "61/61 - 0s - loss: 0.0011 - rmse: 0.0334 - val_loss: 0.0044 - val_rmse: 0.0660 - 121ms/epoch - 2ms/step\n",
      "Epoch 67/100\n",
      "61/61 - 0s - loss: 0.0011 - rmse: 0.0327 - val_loss: 0.0070 - val_rmse: 0.0834 - 160ms/epoch - 3ms/step\n",
      "Epoch 68/100\n",
      "61/61 - 0s - loss: 0.0012 - rmse: 0.0344 - val_loss: 0.0052 - val_rmse: 0.0718 - 158ms/epoch - 3ms/step\n",
      "Epoch 69/100\n",
      "61/61 - 0s - loss: 0.0011 - rmse: 0.0331 - val_loss: 0.0032 - val_rmse: 0.0563 - 136ms/epoch - 2ms/step\n",
      "Epoch 70/100\n",
      "61/61 - 0s - loss: 0.0012 - rmse: 0.0340 - val_loss: 0.0044 - val_rmse: 0.0665 - 132ms/epoch - 2ms/step\n",
      "Epoch 71/100\n",
      "61/61 - 0s - loss: 0.0011 - rmse: 0.0335 - val_loss: 0.0032 - val_rmse: 0.0568 - 128ms/epoch - 2ms/step\n",
      "Epoch 72/100\n",
      "61/61 - 0s - loss: 0.0011 - rmse: 0.0327 - val_loss: 0.0040 - val_rmse: 0.0629 - 171ms/epoch - 3ms/step\n",
      "Epoch 73/100\n",
      "61/61 - 0s - loss: 0.0011 - rmse: 0.0325 - val_loss: 0.0031 - val_rmse: 0.0558 - 147ms/epoch - 2ms/step\n",
      "Epoch 74/100\n",
      "61/61 - 0s - loss: 0.0012 - rmse: 0.0340 - val_loss: 0.0046 - val_rmse: 0.0677 - 138ms/epoch - 2ms/step\n",
      "Epoch 75/100\n",
      "61/61 - 0s - loss: 0.0012 - rmse: 0.0340 - val_loss: 0.0017 - val_rmse: 0.0416 - 172ms/epoch - 3ms/step\n",
      "Epoch 76/100\n",
      "61/61 - 0s - loss: 0.0011 - rmse: 0.0331 - val_loss: 0.0047 - val_rmse: 0.0683 - 197ms/epoch - 3ms/step\n",
      "Epoch 77/100\n",
      "61/61 - 0s - loss: 0.0011 - rmse: 0.0336 - val_loss: 0.0036 - val_rmse: 0.0598 - 183ms/epoch - 3ms/step\n",
      "Epoch 78/100\n",
      "61/61 - 0s - loss: 0.0011 - rmse: 0.0338 - val_loss: 0.0032 - val_rmse: 0.0564 - 229ms/epoch - 4ms/step\n",
      "Epoch 79/100\n",
      "61/61 - 0s - loss: 0.0012 - rmse: 0.0343 - val_loss: 0.0047 - val_rmse: 0.0687 - 194ms/epoch - 3ms/step\n",
      "Epoch 80/100\n",
      "61/61 - 0s - loss: 0.0012 - rmse: 0.0342 - val_loss: 0.0039 - val_rmse: 0.0624 - 180ms/epoch - 3ms/step\n",
      "Epoch 81/100\n",
      "61/61 - 0s - loss: 0.0012 - rmse: 0.0347 - val_loss: 0.0052 - val_rmse: 0.0724 - 185ms/epoch - 3ms/step\n",
      "Epoch 82/100\n",
      "61/61 - 0s - loss: 0.0010 - rmse: 0.0322 - val_loss: 0.0075 - val_rmse: 0.0864 - 241ms/epoch - 4ms/step\n",
      "Epoch 83/100\n",
      "61/61 - 0s - loss: 0.0012 - rmse: 0.0344 - val_loss: 0.0030 - val_rmse: 0.0551 - 185ms/epoch - 3ms/step\n",
      "Epoch 84/100\n",
      "61/61 - 0s - loss: 0.0011 - rmse: 0.0336 - val_loss: 0.0063 - val_rmse: 0.0794 - 189ms/epoch - 3ms/step\n",
      "Epoch 85/100\n",
      "61/61 - 0s - loss: 0.0012 - rmse: 0.0340 - val_loss: 0.0033 - val_rmse: 0.0576 - 181ms/epoch - 3ms/step\n",
      "Epoch 86/100\n",
      "61/61 - 0s - loss: 0.0013 - rmse: 0.0354 - val_loss: 0.0040 - val_rmse: 0.0632 - 243ms/epoch - 4ms/step\n",
      "Epoch 87/100\n",
      "61/61 - 0s - loss: 0.0011 - rmse: 0.0336 - val_loss: 0.0022 - val_rmse: 0.0469 - 284ms/epoch - 5ms/step\n",
      "Epoch 88/100\n",
      "61/61 - 0s - loss: 0.0012 - rmse: 0.0348 - val_loss: 0.0025 - val_rmse: 0.0496 - 264ms/epoch - 4ms/step\n",
      "Epoch 89/100\n",
      "61/61 - 0s - loss: 0.0011 - rmse: 0.0336 - val_loss: 0.0066 - val_rmse: 0.0815 - 249ms/epoch - 4ms/step\n",
      "Epoch 90/100\n",
      "61/61 - 0s - loss: 0.0012 - rmse: 0.0342 - val_loss: 0.0032 - val_rmse: 0.0570 - 200ms/epoch - 3ms/step\n",
      "Epoch 91/100\n",
      "61/61 - 0s - loss: 0.0011 - rmse: 0.0336 - val_loss: 0.0085 - val_rmse: 0.0920 - 218ms/epoch - 4ms/step\n",
      "Epoch 92/100\n",
      "61/61 - 0s - loss: 0.0012 - rmse: 0.0346 - val_loss: 0.0074 - val_rmse: 0.0863 - 174ms/epoch - 3ms/step\n",
      "Epoch 93/100\n",
      "61/61 - 0s - loss: 0.0012 - rmse: 0.0342 - val_loss: 0.0048 - val_rmse: 0.0690 - 204ms/epoch - 3ms/step\n",
      "Epoch 94/100\n",
      "61/61 - 0s - loss: 0.0012 - rmse: 0.0343 - val_loss: 0.0022 - val_rmse: 0.0469 - 269ms/epoch - 4ms/step\n",
      "Epoch 95/100\n",
      "61/61 - 0s - loss: 0.0011 - rmse: 0.0330 - val_loss: 0.0031 - val_rmse: 0.0552 - 264ms/epoch - 4ms/step\n",
      "Epoch 96/100\n",
      "61/61 - 0s - loss: 0.0011 - rmse: 0.0337 - val_loss: 0.0084 - val_rmse: 0.0916 - 192ms/epoch - 3ms/step\n",
      "Epoch 97/100\n",
      "61/61 - 0s - loss: 0.0010 - rmse: 0.0323 - val_loss: 0.0023 - val_rmse: 0.0478 - 209ms/epoch - 3ms/step\n",
      "Epoch 98/100\n",
      "61/61 - 0s - loss: 0.0011 - rmse: 0.0330 - val_loss: 0.0035 - val_rmse: 0.0588 - 259ms/epoch - 4ms/step\n",
      "Epoch 99/100\n",
      "61/61 - 0s - loss: 0.0012 - rmse: 0.0340 - val_loss: 0.0032 - val_rmse: 0.0565 - 188ms/epoch - 3ms/step\n",
      "Epoch 100/100\n",
      "61/61 - 0s - loss: 0.0011 - rmse: 0.0327 - val_loss: 0.0050 - val_rmse: 0.0708 - 198ms/epoch - 3ms/step\n"
     ]
    }
   ],
   "source": [
    "model1.compile(loss='mse', optimizer=opt, metrics=[tf.keras.metrics.RootMeanSquaredError(name='rmse')])\n",
    "\n",
    "rmseplot = model1.fit(x_train, y_train, epochs = 100, batch_size=64, verbose=2, validation_data=(x_test, y_test))"
   ]
  },
  {
   "cell_type": "code",
   "execution_count": 28,
   "id": "891decaf",
   "metadata": {
    "id": "891decaf",
    "outputId": "48cd46f8-a332-4750-8197-e9097980a84e"
   },
   "outputs": [
    {
     "name": "stdout",
     "output_type": "stream",
     "text": [
      "122/122 - 0s - loss: 5.7473e-05 - rmse: 0.0076 - 165ms/epoch - 1ms/step\n",
      "Akurasi Training: 0.007581106387078762\n"
     ]
    }
   ],
   "source": [
    "score = model1.evaluate(x_train, y_train, batch_size = 32, verbose = 2)\n",
    "print('Akurasi Training:', score[1])"
   ]
  },
  {
   "cell_type": "markdown",
   "id": "f56484d9",
   "metadata": {
    "id": "f56484d9"
   },
   "source": [
    "# Tuning Test"
   ]
  },
  {
   "cell_type": "markdown",
   "id": "ce261b15",
   "metadata": {
    "id": "ce261b15"
   },
   "source": [
    "Membuat tuning test dari hasil model yang telah dibuat dengan menggunakan perbandingan yang lainnya"
   ]
  },
  {
   "cell_type": "code",
   "execution_count": 29,
   "id": "5323a006",
   "metadata": {
    "id": "5323a006",
    "outputId": "c5c2f796-a524-462b-e35b-1e5864dcbaab"
   },
   "outputs": [
    {
     "name": "stdout",
     "output_type": "stream",
     "text": [
      "Shape x_train: (3882, 1, 15)\n",
      "Shape y_train: (3882,)\n",
      "Timesteps: 1\n",
      "Features: 15\n"
     ]
    }
   ],
   "source": [
    "print(\"Shape x_train:\", x_train.shape)\n",
    "# Output: (jumlah_sampel, timesteps, features)\n",
    "\n",
    "# Misalkan y_train adalah dataset target\n",
    "print(\"Shape y_train:\", y_train.shape)\n",
    "# Output: (jumlah_sampel,)\n",
    "\n",
    "# Ambil nilai timesteps dari x_train\n",
    "timesteps = x_train.shape[1]\n",
    "print(\"Timesteps:\", timesteps)\n",
    "\n",
    "# Ambil nilai features dari x_train\n",
    "features = x_train.shape[2]\n",
    "print(\"Features:\", features)"
   ]
  },
  {
   "cell_type": "code",
   "execution_count": 30,
   "id": "9d0c1641",
   "metadata": {
    "id": "9d0c1641",
    "outputId": "02b0da00-211c-4573-94d2-e732c2f52215"
   },
   "outputs": [
    {
     "name": "stderr",
     "output_type": "stream",
     "text": [
      "C:\\Users\\Alfaisal\\AppData\\Local\\Temp\\ipykernel_29568\\3761055048.py:20: DeprecationWarning: KerasClassifier is deprecated, use Sci-Keras (https://github.com/adriangb/scikeras) instead. See https://www.adriangb.com/scikeras/stable/migration.html for help migrating.\n",
      "  model = KerasClassifier(build_fn=create_model)\n"
     ]
    },
    {
     "name": "stdout",
     "output_type": "stream",
     "text": [
      "98/98 [==============================] - 3s 3ms/step - loss: 4240.4507 - accuracy: 6.4412e-04\n",
      "25/25 [==============================] - 1s 2ms/step - loss: 52.6275 - accuracy: 0.6847\n",
      "98/98 [==============================] - 3s 3ms/step - loss: 4590.5640 - accuracy: 0.0019\n",
      "25/25 [==============================] - 1s 2ms/step - loss: 2102.1804 - accuracy: 0.0000e+00\n",
      "98/98 [==============================] - 3s 3ms/step - loss: -1439.5701 - accuracy: 0.0019\n",
      "25/25 [==============================] - 1s 2ms/step - loss: -924.4297 - accuracy: 0.0000e+00\n",
      "98/98 [==============================] - 3s 3ms/step - loss: 4024.3616 - accuracy: 0.0019\n",
      "25/25 [==============================] - 1s 2ms/step - loss: 5091.7832 - accuracy: 0.0000e+00\n",
      "98/98 [==============================] - 3s 2ms/step - loss: 1180.7014 - accuracy: 0.0019\n",
      "25/25 [==============================] - 1s 4ms/step - loss: -186.0370 - accuracy: 0.0000e+00\n",
      "98/98 [==============================] - 3s 4ms/step - loss: -930.7019 - accuracy: 6.4412e-04\n",
      "25/25 [==============================] - 0s 2ms/step - loss: 3.9385 - accuracy: 0.6847\n",
      "98/98 [==============================] - 3s 4ms/step - loss: -1293.1554 - accuracy: 0.0019\n",
      "25/25 [==============================] - 1s 2ms/step - loss: 34.1150 - accuracy: 0.0000e+00\n",
      "98/98 [==============================] - 3s 4ms/step - loss: 614.0598 - accuracy: 0.0019\n",
      "25/25 [==============================] - 1s 2ms/step - loss: 530.2933 - accuracy: 0.0000e+00\n",
      "98/98 [==============================] - 3s 4ms/step - loss: -1231.1270 - accuracy: 0.0019\n",
      "25/25 [==============================] - 1s 3ms/step - loss: -577.2189 - accuracy: 0.0000e+00\n",
      "98/98 [==============================] - 3s 3ms/step - loss: 378.6764 - accuracy: 0.0019\n",
      "25/25 [==============================] - 1s 4ms/step - loss: -5773.4014 - accuracy: 0.0000e+00\n",
      "98/98 [==============================] - 3s 6ms/step - loss: -2365.6936 - accuracy: 6.4412e-04\n",
      "25/25 [==============================] - 1s 2ms/step - loss: 1.4759 - accuracy: 0.6847\n",
      "98/98 [==============================] - 3s 6ms/step - loss: -955.0845 - accuracy: 0.0019\n",
      "25/25 [==============================] - 1s 3ms/step - loss: 111.5091 - accuracy: 0.0000e+00\n",
      "98/98 [==============================] - 3s 6ms/step - loss: -1767.1014 - accuracy: 0.0019\n",
      "25/25 [==============================] - 1s 2ms/step - loss: -1600.4460 - accuracy: 0.0000e+00\n",
      "98/98 [==============================] - 3s 5ms/step - loss: -1729.9382 - accuracy: 0.0019\n",
      "25/25 [==============================] - 1s 2ms/step - loss: -5018.5327 - accuracy: 0.0000e+00\n",
      "98/98 [==============================] - 3s 6ms/step - loss: -749.6133 - accuracy: 0.0019\n",
      "25/25 [==============================] - 1s 3ms/step - loss: -7751.2695 - accuracy: 0.0000e+00\n",
      "98/98 [==============================] - 3s 2ms/step - loss: 4240.4497 - accuracy: 6.4412e-04\n",
      "25/25 [==============================] - 1s 1ms/step - loss: 52.6275 - accuracy: 0.6847\n",
      "98/98 [==============================] - 3s 2ms/step - loss: -1317.7532 - accuracy: 0.0019\n",
      "25/25 [==============================] - 1s 2ms/step - loss: 54.9141 - accuracy: 0.0000e+00\n",
      "98/98 [==============================] - 3s 2ms/step - loss: 4739.7158 - accuracy: 0.0019\n",
      "25/25 [==============================] - 1s 2ms/step - loss: 3859.7759 - accuracy: 0.0000e+00\n",
      "98/98 [==============================] - 2s 2ms/step - loss: -1055.5914 - accuracy: 0.0019\n",
      "25/25 [==============================] - 1s 2ms/step - loss: -4920.2393 - accuracy: 0.0000e+00\n",
      "98/98 [==============================] - 2s 1ms/step - loss: 3569.9724 - accuracy: 0.0019\n",
      "25/25 [==============================] - 0s 852us/step - loss: 7856.0088 - accuracy: 0.0000e+00\n",
      "98/98 [==============================] - 1s 2ms/step - loss: -966.3602 - accuracy: 6.4412e-04\n",
      "25/25 [==============================] - 0s 898us/step - loss: 1.5379 - accuracy: 0.6847\n",
      "98/98 [==============================] - 1s 2ms/step - loss: 4590.5645 - accuracy: 0.0019\n",
      "25/25 [==============================] - 0s 1ms/step - loss: 2102.1804 - accuracy: 0.0000e+00\n",
      "98/98 [==============================] - 2s 2ms/step - loss: 3609.4304 - accuracy: 0.0019\n",
      "25/25 [==============================] - 0s 999us/step - loss: 81.7352 - accuracy: 0.0000e+00\n",
      "98/98 [==============================] - 1s 2ms/step - loss: 1257.1228 - accuracy: 0.0019\n",
      "25/25 [==============================] - 0s 919us/step - loss: -367.1903 - accuracy: 0.0000e+00\n",
      "98/98 [==============================] - 1s 2ms/step - loss: 3569.9709 - accuracy: 0.0019\n",
      "25/25 [==============================] - 0s 938us/step - loss: 7856.0088 - accuracy: 0.0000e+00\n",
      "98/98 [==============================] - 1s 3ms/step - loss: -2612.6470 - accuracy: 3.2206e-04\n",
      "25/25 [==============================] - 0s 1ms/step - loss: -0.7218 - accuracy: 0.3308\n",
      "98/98 [==============================] - 1s 3ms/step - loss: -3014.4429 - accuracy: 0.0019\n",
      "25/25 [==============================] - 0s 1ms/step - loss: -417.6496 - accuracy: 0.0000e+00\n",
      "98/98 [==============================] - 2s 3ms/step - loss: -1019.2750 - accuracy: 0.0019\n",
      "25/25 [==============================] - 0s 1ms/step - loss: -1283.2745 - accuracy: 0.0000e+00\n",
      "98/98 [==============================] - 1s 3ms/step - loss: -2069.0391 - accuracy: 0.0019\n",
      "25/25 [==============================] - 0s 1ms/step - loss: -5018.5327 - accuracy: 0.0000e+00\n",
      "98/98 [==============================] - 1s 3ms/step - loss: -592.3310 - accuracy: 0.0019\n",
      "25/25 [==============================] - 0s 1ms/step - loss: -7751.2695 - accuracy: 0.0000e+00\n",
      "98/98 [==============================] - 1s 1ms/step - loss: -2622.3723 - accuracy: 6.4412e-04\n",
      "25/25 [==============================] - 0s 850us/step - loss: -36.7787 - accuracy: 0.0335\n",
      "98/98 [==============================] - 1s 2ms/step - loss: 23.8146 - accuracy: 0.0026\n",
      "25/25 [==============================] - 0s 1ms/step - loss: -144.7078 - accuracy: 0.0000e+00\n",
      "98/98 [==============================] - 1s 1ms/step - loss: 4739.7148 - accuracy: 0.0019\n",
      "25/25 [==============================] - 0s 996us/step - loss: 3859.7759 - accuracy: 0.0000e+00\n",
      "98/98 [==============================] - 1s 1ms/step - loss: 4024.3613 - accuracy: 0.0019\n",
      "25/25 [==============================] - 0s 876us/step - loss: 5091.7832 - accuracy: 0.0000e+00\n",
      "98/98 [==============================] - 2s 2ms/step - loss: -1872.5980 - accuracy: 0.0023\n",
      "25/25 [==============================] - 0s 1ms/step - loss: -7751.2695 - accuracy: 0.0000e+00\n",
      "98/98 [==============================] - 2s 3ms/step - loss: 4240.4502 - accuracy: 6.4412e-04\n",
      "25/25 [==============================] - 0s 3ms/step - loss: 52.6275 - accuracy: 0.6847\n",
      "98/98 [==============================] - 2s 3ms/step - loss: 4590.5649 - accuracy: 0.0019\n",
      "25/25 [==============================] - 0s 3ms/step - loss: 2102.1804 - accuracy: 0.0000e+00\n",
      "98/98 [==============================] - 2s 3ms/step - loss: -3548.6633 - accuracy: 0.0016\n",
      "25/25 [==============================] - 0s 4ms/step - loss: -3800.5583 - accuracy: 0.0000e+00\n",
      "98/98 [==============================] - 1s 2ms/step - loss: 4024.3628 - accuracy: 0.0019\n",
      "25/25 [==============================] - 0s 966us/step - loss: 5091.7832 - accuracy: 0.0000e+00\n",
      "98/98 [==============================] - 1s 2ms/step - loss: -2768.8271 - accuracy: 0.0023\n",
      "25/25 [==============================] - 0s 1ms/step - loss: -7751.2695 - accuracy: 0.0000e+00\n",
      "98/98 [==============================] - 1s 2ms/step - loss: -3420.5996 - accuracy: 3.2206e-04\n",
      "25/25 [==============================] - 0s 1ms/step - loss: -36.7787 - accuracy: 0.0335\n",
      "98/98 [==============================] - 1s 3ms/step - loss: 4590.5649 - accuracy: 0.0019\n",
      "25/25 [==============================] - 0s 1ms/step - loss: 2102.1804 - accuracy: 0.0000e+00\n",
      "98/98 [==============================] - 2s 4ms/step - loss: -1974.7388 - accuracy: 0.0016\n",
      "25/25 [==============================] - 0s 2ms/step - loss: -3800.5583 - accuracy: 0.0000e+00\n",
      "98/98 [==============================] - 3s 6ms/step - loss: 4024.3623 - accuracy: 0.0019\n",
      "25/25 [==============================] - 0s 2ms/step - loss: 5091.7832 - accuracy: 0.0000e+00\n",
      "98/98 [==============================] - 2s 7ms/step - loss: 3569.9709 - accuracy: 0.0019\n",
      "25/25 [==============================] - 0s 3ms/step - loss: 7856.0088 - accuracy: 0.0000e+00\n",
      "98/98 [==============================] - 2s 2ms/step - loss: -3785.6326 - accuracy: 3.2206e-04\n",
      "25/25 [==============================] - 0s 2ms/step - loss: -39.7652 - accuracy: 0.0335\n",
      "98/98 [==============================] - 2s 3ms/step - loss: -3869.3259 - accuracy: 0.0016\n",
      "25/25 [==============================] - 0s 2ms/step - loss: -2062.9846 - accuracy: 0.0000e+00\n",
      "98/98 [==============================] - 2s 3ms/step - loss: 4739.7148 - accuracy: 0.0019\n",
      "25/25 [==============================] - 0s 2ms/step - loss: 3859.7759 - accuracy: 0.0000e+00\n",
      "98/98 [==============================] - 2s 2ms/step - loss: -3332.5986 - accuracy: 0.0023\n",
      "25/25 [==============================] - 0s 2ms/step - loss: -5018.5327 - accuracy: 0.0000e+00\n",
      "98/98 [==============================] - 2s 2ms/step - loss: -3385.5325 - accuracy: 0.0019\n",
      "25/25 [==============================] - 0s 2ms/step - loss: -7751.2695 - accuracy: 0.0000e+00\n",
      "98/98 [==============================] - 2s 3ms/step - loss: -3451.4695 - accuracy: 3.2206e-04\n",
      "25/25 [==============================] - 0s 1ms/step - loss: -42.7977 - accuracy: 0.0335\n",
      "98/98 [==============================] - 2s 3ms/step - loss: -3144.8450 - accuracy: 0.0019\n",
      "25/25 [==============================] - 0s 3ms/step - loss: -2062.9846 - accuracy: 0.0000e+00\n",
      "98/98 [==============================] - 2s 3ms/step - loss: -4221.9219 - accuracy: 0.0016\n",
      "25/25 [==============================] - 0s 3ms/step - loss: -3800.5583 - accuracy: 0.0000e+00\n",
      "98/98 [==============================] - 2s 3ms/step - loss: 4024.3625 - accuracy: 0.0019\n",
      "25/25 [==============================] - 1s 4ms/step - loss: 5091.7832 - accuracy: 0.0000e+00\n",
      "98/98 [==============================] - 1s 2ms/step - loss: 3569.9717 - accuracy: 0.0019\n",
      "25/25 [==============================] - 0s 2ms/step - loss: 7856.0088 - accuracy: 0.0000e+00\n",
      "98/98 [==============================] - 1s 3ms/step - loss: -3786.7456 - accuracy: 6.4412e-04\n",
      "25/25 [==============================] - 0s 2ms/step - loss: -36.7787 - accuracy: 0.0335\n",
      "98/98 [==============================] - 1s 3ms/step - loss: 4590.5649 - accuracy: 0.0019\n",
      "25/25 [==============================] - 0s 1ms/step - loss: 2102.1804 - accuracy: 0.0000e+00\n",
      "98/98 [==============================] - 1s 3ms/step - loss: 4739.7158 - accuracy: 0.0019\n",
      "25/25 [==============================] - 0s 1ms/step - loss: 3859.7759 - accuracy: 0.0000e+00\n",
      "98/98 [==============================] - 1s 3ms/step - loss: 4024.3618 - accuracy: 0.0019\n",
      "25/25 [==============================] - 0s 1ms/step - loss: 5091.7832 - accuracy: 0.0000e+00\n",
      "98/98 [==============================] - 1s 3ms/step - loss: -3275.8230 - accuracy: 0.0019\n",
      "25/25 [==============================] - 0s 1ms/step - loss: -7751.2695 - accuracy: 0.0000e+00\n",
      "122/122 [==============================] - 1s 1ms/step - loss: 4984.1616 - accuracy: 0.0015\n",
      "Parameter terbaik: {'activation': 'tanh', 'optimizer': 'adam', 'units': 50}\n",
      "Skor akurasi terbaik: 0.1369369387626648\n"
     ]
    }
   ],
   "source": [
    "import numpy as np\n",
    "from sklearn.model_selection import GridSearchCV\n",
    "from keras.models import Sequential\n",
    "from keras.layers import LSTM, Dense\n",
    "from keras.wrappers.scikit_learn import KerasClassifier\n",
    "\n",
    "# Placeholder values for timesteps and features\n",
    "timesteps = 1\n",
    "features = 15\n",
    "\n",
    "# Fungsi untuk membuat model LSTM\n",
    "def create_model(units=50, activation='tanh', optimizer='opt'):\n",
    "    model = Sequential()\n",
    "    model.add(LSTM(units=units, activation=activation, input_shape=(timesteps, features)))\n",
    "    model.add(Dense(1))\n",
    "    model.compile(loss='binary_crossentropy', optimizer=optimizer, metrics=['accuracy'])\n",
    "    return model\n",
    "\n",
    "# Membuat objek KerasClassifier\n",
    "model = KerasClassifier(build_fn=create_model)\n",
    "\n",
    "# Mendefinisikan hyperparameter yang ingin diuji\n",
    "param_grid = {\n",
    "    'units': [50, 100, 200],\n",
    "    'activation': ['tanh', 'sigmoid'],\n",
    "    'optimizer': ['adam', 'rmsprop']\n",
    "}\n",
    "\n",
    "# Membuat objek GridSearchCV\n",
    "grid_search = GridSearchCV(estimator=model, param_grid=param_grid, cv=5)\n",
    "\n",
    "# Melakukan proses tuning dengan fit\n",
    "grid_search.fit(x_train, y_train)\n",
    "\n",
    "# Menampilkan parameter terbaik\n",
    "print(\"Parameter terbaik:\", grid_search.best_params_)\n",
    "\n",
    "# Menampilkan skor akurasi terbaik\n",
    "print(\"Skor akurasi terbaik:\", grid_search.best_score_)"
   ]
  },
  {
   "cell_type": "markdown",
   "id": "a6852ce5",
   "metadata": {
    "id": "a6852ce5"
   },
   "source": [
    "# Visualisasi Model LSTM"
   ]
  },
  {
   "cell_type": "code",
   "execution_count": 31,
   "id": "4f8b19c5",
   "metadata": {
    "id": "4f8b19c5",
    "outputId": "0465e7ca-def2-46ce-fec2-58785ccaa5e5"
   },
   "outputs": [
    {
     "name": "stdout",
     "output_type": "stream",
     "text": [
      "122/122 [==============================] - 0s 719us/step\n",
      "30/30 [==============================] - 0s 698us/step\n",
      "Skor Training: 0.20 RMSE\n",
      "Skor Testing: 0.05 RMSE\n",
      "Skor Training: 0.04 MSE\n",
      "Skor Testing: 0.00 MSE\n"
     ]
    }
   ],
   "source": [
    "train_predict = model1.predict(x_train)\n",
    "test_predict = model1.predict(x_test)\n",
    "\n",
    "\n",
    "# #invert prediksi\n",
    "\n",
    "train_predict = min_max_scaler.fit_transform(train_predict)\n",
    "y_train = min_max_scaler.inverse_transform([y_train])\n",
    "\n",
    "test_predict = min_max_scaler.inverse_transform(test_predict)\n",
    "y_test = min_max_scaler.inverse_transform([y_test])\n",
    "\n",
    "#kalkulasi untuk root mean squared error\n",
    "\n",
    "train_score = math.sqrt(mean_squared_error(y_train[0], train_predict[:,0]))\n",
    "print('Skor Training: %.2f RMSE' % (train_score))\n",
    "\n",
    "test_score = math.sqrt(mean_squared_error(y_test[0], test_predict[:,0]))\n",
    "print('Skor Testing: %.2f RMSE' % (test_score))\n",
    "\n",
    "#hitung MSE\n",
    "train_score1 = mean_squared_error(y_train[0], train_predict[:,0])\n",
    "print('Skor Training: %.2f MSE' % (train_score1))\n",
    "\n",
    "test_score1 = mean_squared_error(y_test[0], test_predict[:,0])\n",
    "print('Skor Testing: %.2f MSE' % (test_score1))"
   ]
  },
  {
   "cell_type": "code",
   "execution_count": 32,
   "id": "6095c982",
   "metadata": {
    "id": "6095c982",
    "outputId": "8908b857-b086-444b-9556-a07d56fb2e06"
   },
   "outputs": [
    {
     "data": {
      "image/png": "[encoded data removed]",
      "text/plain": [
       "<Figure size 1500x800 with 1 Axes>"
      ]
     },
     "metadata": {},
     "output_type": "display_data"
    }
   ],
   "source": [
    "#plotting untuk train prediction\n",
    "train_predict_plot = np.empty_like(dataset)\n",
    "train_predict_plot[:, :] = np.nan\n",
    "train_predict_plot[look_back:len(train_predict)+look_back, :] = train_predict\n",
    "\n",
    "# plotting untuk test prediction\n",
    "test_predict_plot = np.empty_like(dataset)\n",
    "test_predict_plot[:, :] = np.nan\n",
    "test_predict_plot[len(train_predict)+(look_back*2)+1:len(dataset)-1, :] = test_predict\n",
    "\n",
    "#plot\n",
    "plt.figure(figsize=(15, 8))\n",
    "plt.plot(min_max_scaler.inverse_transform(dataset), color='r', label='Real data')\n",
    "plt.plot(train_predict_plot, color='b', label='Predicted Train')\n",
    "plt.plot(test_predict_plot, color='black', label = 'Predicted Test')\n",
    "plt.xticks(size=15)\n",
    "plt.yticks(size=15)\n",
    "plt.xlabel(\"Jumlah per hari\", size=15)\n",
    "plt.ylabel(\"Jumlah total konfirmasi\", size=15)\n",
    "plt.legend(loc='best')\n",
    "plt.show()"
   ]
  },
  {
   "cell_type": "markdown",
   "id": "8a80bd50",
   "metadata": {
    "id": "8a80bd50"
   },
   "source": [
    "# Kesimpulan"
   ]
  },
  {
   "cell_type": "markdown",
   "id": "c449671e",
   "metadata": {
    "id": "c449671e"
   },
   "source": [
    "- Untuk memprediksi saham, kami menggunakan data BBCA.\n",
    "\n",
    "- Kami menggunakan algoritma LSTM (Long Short-Term Memory) untuk melakukan prediksi.\n",
    "\n",
    "- Pada awalnya, kami membuat visualisasi data dengan beberapa kolom: High, Open, Low, dan Close. Namun, kami hanya menggunakan kolom High karena kami ingin menggunakan algoritma ini.\n",
    "\n",
    "- Kemudian membuat visualisasi antara data latihan dan tes dari kolom High\n",
    "\n",
    "- Meningkatkan ukuran data dan mengubahnya ke matriks\n",
    "\n",
    "- Membangun model LSTM menggunakan fungsi Squential(), aktivasi: \"tanh\" dengan optimizer Adam. Selain itu, kami menggunakan epochs:100 dan menggunakan tes x dan y untuk validasi data.\n",
    "\n",
    "- Model dievaluasi dan diperoleh Accuracy Train: 0.007017217110842466. Walaupun masih rendah, kami juga melakukan pengaturan tes untuk menentukan parameter mana yang terbaik. Selain itu, setelah tes pengaturan, tunh adalah parameter yang paling cocok untuk digunakan.\n",
    "\n",
    "- Melakukan kalkulasi root mean squared error untuk membuat visualisasi model LSTM. Outputnya secara keseluruhan tidak mencapai 0, tetapi setidaknya menurut kami itu cukup baik karena perbedaannya tidak terlalu jauh dari 0.\n",
    "\n",
    "- Membuat plot yang menunjukkan visualisasi dari data asli dan data model LSTM yang telah dibuat; visualisasi ini menunjukkan bahwa data yang dihasilkan tidak terlalu overfitting.\n",
    "\n",
    "- Menciptakan visualisasi MSE dan epochsuntuKami menyimpulkan bahwa, walaupun LSTM menghasilkan data yang baik, masih terdapat beberapa output yang belum sempurna. Namun, dengan melakukan uji tuning, kita dapat mengevaluasi lebih tepat apakah model yang diterapkan sudah siap untuk digunakan atau tidak."
   ]
  }
 ],
 "metadata": {
  "colab": {
   "provenance": []
  },
  "kernelspec": {
   "display_name": "Python 3 (ipykernel)",
   "language": "python",
   "name": "python3"
  },
  "language_info": {
   "codemirror_mode": {
    "name": "ipython",
    "version": 3
   },
   "file_extension": ".py",
   "mimetype": "text/x-python",
   "name": "python",
   "nbconvert_exporter": "python",
   "pygments_lexer": "ipython3",
   "version": "3.11.7"
  }
 },
 "nbformat": 4,
 "nbformat_minor": 5
}
