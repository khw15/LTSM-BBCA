{
 "cells": [
  {
   "cell_type": "markdown",
   "id": "b3429897",
   "metadata": {
    "id": "b3429897"
   },
   "source": [
    "# Import Library"
   ]
  },
  {
   "cell_type": "markdown",
   "id": "7bf048e6",
   "metadata": {
    "id": "7bf048e6"
   },
   "source": [
    "Library yang digunakan pada proyek ini adalah sebagai berikut:"
   ]
  },
  {
   "cell_type": "code",
   "execution_count": 1,
   "id": "e6cc67a7",
   "metadata": {
    "id": "e6cc67a7",
    "outputId": "0d183141-49df-433e-deb3-b1b5cbf7fca8"
   },
   "outputs": [],
   "source": [
    "import pandas as pd\n",
    "import numpy as np\n",
    "import os\n",
    "import matplotlib.pyplot as plt\n",
    "import tensorflow as tf\n",
    "import datetime as dt\n",
    "from sklearn import preprocessing\n",
    "import math\n",
    "import time\n",
    "from pandas import to_datetime\n",
    "%matplotlib inline\n",
    "from sklearn.model_selection import train_test_split\n",
    "from sklearn.model_selection import train_test_split\n",
    "from sklearn.metrics import mean_squared_error\n",
    "from sklearn.preprocessing import StandardScaler\n",
    "from sklearn.preprocessing import MinMaxScaler\n",
    "from tensorflow.keras.models import Sequential\n",
    "from tensorflow.keras.layers import Dense, Dropout, LSTM, SimpleRNN\n",
    "from tensorflow import keras\n",
    "from tensorflow.keras import layers"
   ]
  },
  {
   "cell_type": "markdown",
   "id": "8dc0bd59",
   "metadata": {
    "id": "8dc0bd59"
   },
   "source": [
    "# Masuk Pada Dataset"
   ]
  },
  {
   "cell_type": "markdown",
   "id": "4a2684a4",
   "metadata": {
    "id": "4a2684a4"
   },
   "source": [
    "Menggunakan dataset"
   ]
  },
  {
   "cell_type": "code",
   "execution_count": 2,
   "id": "a6609086",
   "metadata": {
    "id": "a6609086",
    "outputId": "8c60afb0-ac18-4d60-9f6a-b4c6130663b0"
   },
   "outputs": [
    {
     "name": "stdout",
     "output_type": "stream",
     "text": [
      "Apakah terdapat nilai null di dataframe? False\n",
      "Apakah terdapat nilai null di kolom High? False\n"
     ]
    }
   ],
   "source": [
    "# Membaca dataset BBCA.csv ke dalam variabel data_bbca\n",
    "data_bbca = pd.read_csv(\"BBCA.csv\")\n",
    "\n",
    "# Mengecek apakah terdapat nilai null di dalam dataframe\n",
    "apakah_ada_nilai_null_df = data_bbca.isnull().values.any()\n",
    "\n",
    "# Mengecek apakah terdapat nilai null di kolom tertentu, contohnya kolom \"High\"\n",
    "apakah_ada_nilai_null_high = data_bbca[\"High\"].isnull().values.any()\n",
    "\n",
    "# Mencetak hasil pengecekan\n",
    "print(f\"Apakah terdapat nilai null di dataframe? {apakah_ada_nilai_null_df}\")\n",
    "print(f\"Apakah terdapat nilai null di kolom High? {apakah_ada_nilai_null_high}\")"
   ]
  },
  {
   "cell_type": "markdown",
   "id": "0be5b6ed",
   "metadata": {
    "id": "0be5b6ed"
   },
   "source": [
    "Menampilkan bagian atas dari dataset"
   ]
  },
  {
   "cell_type": "code",
   "execution_count": 3,
   "id": "bd1542d8",
   "metadata": {
    "id": "bd1542d8",
    "outputId": "8895c875-09ba-41fd-a423-a7a4fe1a848b"
   },
   "outputs": [
    {
     "data": {
      "text/html": [
       "<div>\n",
       "<style scoped>\n",
       "    .dataframe tbody tr th:only-of-type {\n",
       "        vertical-align: middle;\n",
       "    }\n",
       "\n",
       "    .dataframe tbody tr th {\n",
       "        vertical-align: top;\n",
       "    }\n",
       "\n",
       "    .dataframe thead th {\n",
       "        text-align: right;\n",
       "    }\n",
       "</style>\n",
       "<table border=\"1\" class=\"dataframe\">\n",
       "  <thead>\n",
       "    <tr style=\"text-align: right;\">\n",
       "      <th></th>\n",
       "      <th>Date</th>\n",
       "      <th>Open</th>\n",
       "      <th>High</th>\n",
       "      <th>Low</th>\n",
       "      <th>Close</th>\n",
       "      <th>Adj Close</th>\n",
       "      <th>Volume</th>\n",
       "    </tr>\n",
       "  </thead>\n",
       "  <tbody>\n",
       "    <tr>\n",
       "      <th>0</th>\n",
       "      <td>2004-06-08</td>\n",
       "      <td>175.0</td>\n",
       "      <td>180.0</td>\n",
       "      <td>175.0</td>\n",
       "      <td>177.5</td>\n",
       "      <td>105.656067</td>\n",
       "      <td>499150000</td>\n",
       "    </tr>\n",
       "    <tr>\n",
       "      <th>1</th>\n",
       "      <td>2004-06-09</td>\n",
       "      <td>177.5</td>\n",
       "      <td>182.5</td>\n",
       "      <td>175.0</td>\n",
       "      <td>180.0</td>\n",
       "      <td>107.144203</td>\n",
       "      <td>294290000</td>\n",
       "    </tr>\n",
       "    <tr>\n",
       "      <th>2</th>\n",
       "      <td>2004-06-10</td>\n",
       "      <td>180.0</td>\n",
       "      <td>180.0</td>\n",
       "      <td>177.5</td>\n",
       "      <td>180.0</td>\n",
       "      <td>107.144203</td>\n",
       "      <td>165590000</td>\n",
       "    </tr>\n",
       "    <tr>\n",
       "      <th>3</th>\n",
       "      <td>2004-06-11</td>\n",
       "      <td>177.5</td>\n",
       "      <td>180.0</td>\n",
       "      <td>177.5</td>\n",
       "      <td>180.0</td>\n",
       "      <td>107.144203</td>\n",
       "      <td>135830000</td>\n",
       "    </tr>\n",
       "    <tr>\n",
       "      <th>4</th>\n",
       "      <td>2004-06-14</td>\n",
       "      <td>180.0</td>\n",
       "      <td>180.0</td>\n",
       "      <td>175.0</td>\n",
       "      <td>177.5</td>\n",
       "      <td>105.656067</td>\n",
       "      <td>158540000</td>\n",
       "    </tr>\n",
       "  </tbody>\n",
       "</table>\n",
       "</div>"
      ],
      "text/plain": [
       "         Date   Open   High    Low  Close   Adj Close     Volume\n",
       "0  2004-06-08  175.0  180.0  175.0  177.5  105.656067  499150000\n",
       "1  2004-06-09  177.5  182.5  175.0  180.0  107.144203  294290000\n",
       "2  2004-06-10  180.0  180.0  177.5  180.0  107.144203  165590000\n",
       "3  2004-06-11  177.5  180.0  177.5  180.0  107.144203  135830000\n",
       "4  2004-06-14  180.0  180.0  175.0  177.5  105.656067  158540000"
      ]
     },
     "execution_count": 3,
     "metadata": {},
     "output_type": "execute_result"
    }
   ],
   "source": [
    "data_bbca.head()"
   ]
  },
  {
   "cell_type": "markdown",
   "id": "7d138d8f",
   "metadata": {
    "id": "7d138d8f"
   },
   "source": [
    "# Eksplorasi Data"
   ]
  },
  {
   "cell_type": "markdown",
   "id": "85de1ff2",
   "metadata": {
    "id": "85de1ff2"
   },
   "source": [
    "merujuk ke data_bbca, yang merupakan representasi dari objek pandas dataframe.\n"
   ]
  },
  {
   "cell_type": "code",
   "execution_count": 4,
   "id": "3136a508",
   "metadata": {
    "id": "3136a508",
    "outputId": "d8a1993c-094d-46d0-801e-f2bdb1dc19b2"
   },
   "outputs": [
    {
     "data": {
      "text/plain": [
       "pandas.core.frame.DataFrame"
      ]
     },
     "execution_count": 4,
     "metadata": {},
     "output_type": "execute_result"
    }
   ],
   "source": [
    "type(data_bbca)"
   ]
  },
  {
   "cell_type": "markdown",
   "id": "3d27b539",
   "metadata": {
    "id": "3d27b539"
   },
   "source": [
    "Mengecek dataset untuk data null.\n"
   ]
  },
  {
   "cell_type": "code",
   "execution_count": 5,
   "id": "f913ecbc",
   "metadata": {
    "id": "f913ecbc",
    "outputId": "6ee3ed87-8bd9-456f-af87-a461990941b8"
   },
   "outputs": [
    {
     "data": {
      "text/plain": [
       "Date         0\n",
       "Open         0\n",
       "High         0\n",
       "Low          0\n",
       "Close        0\n",
       "Adj Close    0\n",
       "Volume       0\n",
       "dtype: int64"
      ]
     },
     "execution_count": 5,
     "metadata": {},
     "output_type": "execute_result"
    }
   ],
   "source": [
    "data_bbca.isna().sum()"
   ]
  },
  {
   "cell_type": "markdown",
   "id": "b9bb3f03",
   "metadata": {
    "id": "b9bb3f03"
   },
   "source": [
    "Menghapus kolom yang tidak digunakan dengan menggunakan drop"
   ]
  },
  {
   "cell_type": "code",
   "execution_count": 6,
   "id": "f5d2255c",
   "metadata": {
    "id": "f5d2255c"
   },
   "outputs": [],
   "source": [
    "data_bbca = data_bbca.drop(['Adj Close', 'Volume'], axis='columns')"
   ]
  },
  {
   "cell_type": "code",
   "execution_count": 7,
   "id": "b28d0f77",
   "metadata": {
    "id": "b28d0f77",
    "outputId": "25d89e11-5886-4e2c-94db-9a8f62b66583"
   },
   "outputs": [
    {
     "data": {
      "text/html": [
       "<div>\n",
       "<style scoped>\n",
       "    .dataframe tbody tr th:only-of-type {\n",
       "        vertical-align: middle;\n",
       "    }\n",
       "\n",
       "    .dataframe tbody tr th {\n",
       "        vertical-align: top;\n",
       "    }\n",
       "\n",
       "    .dataframe thead th {\n",
       "        text-align: right;\n",
       "    }\n",
       "</style>\n",
       "<table border=\"1\" class=\"dataframe\">\n",
       "  <thead>\n",
       "    <tr style=\"text-align: right;\">\n",
       "      <th></th>\n",
       "      <th>Date</th>\n",
       "      <th>Open</th>\n",
       "      <th>High</th>\n",
       "      <th>Low</th>\n",
       "      <th>Close</th>\n",
       "    </tr>\n",
       "  </thead>\n",
       "  <tbody>\n",
       "    <tr>\n",
       "      <th>0</th>\n",
       "      <td>2004-06-08</td>\n",
       "      <td>175.0</td>\n",
       "      <td>180.0</td>\n",
       "      <td>175.0</td>\n",
       "      <td>177.5</td>\n",
       "    </tr>\n",
       "    <tr>\n",
       "      <th>1</th>\n",
       "      <td>2004-06-09</td>\n",
       "      <td>177.5</td>\n",
       "      <td>182.5</td>\n",
       "      <td>175.0</td>\n",
       "      <td>180.0</td>\n",
       "    </tr>\n",
       "    <tr>\n",
       "      <th>2</th>\n",
       "      <td>2004-06-10</td>\n",
       "      <td>180.0</td>\n",
       "      <td>180.0</td>\n",
       "      <td>177.5</td>\n",
       "      <td>180.0</td>\n",
       "    </tr>\n",
       "    <tr>\n",
       "      <th>3</th>\n",
       "      <td>2004-06-11</td>\n",
       "      <td>177.5</td>\n",
       "      <td>180.0</td>\n",
       "      <td>177.5</td>\n",
       "      <td>180.0</td>\n",
       "    </tr>\n",
       "    <tr>\n",
       "      <th>4</th>\n",
       "      <td>2004-06-14</td>\n",
       "      <td>180.0</td>\n",
       "      <td>180.0</td>\n",
       "      <td>175.0</td>\n",
       "      <td>177.5</td>\n",
       "    </tr>\n",
       "  </tbody>\n",
       "</table>\n",
       "</div>"
      ],
      "text/plain": [
       "         Date   Open   High    Low  Close\n",
       "0  2004-06-08  175.0  180.0  175.0  177.5\n",
       "1  2004-06-09  177.5  182.5  175.0  180.0\n",
       "2  2004-06-10  180.0  180.0  177.5  180.0\n",
       "3  2004-06-11  177.5  180.0  177.5  180.0\n",
       "4  2004-06-14  180.0  180.0  175.0  177.5"
      ]
     },
     "execution_count": 7,
     "metadata": {},
     "output_type": "execute_result"
    }
   ],
   "source": [
    "#Menampilkan head data setelah menghapus kolom 'Adj Close' dan 'Volume'\n",
    "data_bbca.head()"
   ]
  },
  {
   "cell_type": "markdown",
   "id": "5db9ca23",
   "metadata": {
    "id": "5db9ca23"
   },
   "source": [
    "Menampilkan tipe data dari sisa kolom dataset\n"
   ]
  },
  {
   "cell_type": "code",
   "execution_count": 8,
   "id": "117f18f7",
   "metadata": {
    "id": "117f18f7",
    "outputId": "7b9b6094-7d6d-4c78-9441-714e681a1f77"
   },
   "outputs": [
    {
     "name": "stdout",
     "output_type": "stream",
     "text": [
      "Date      object\n",
      "Open     float64\n",
      "High     float64\n",
      "Low      float64\n",
      "Close    float64\n",
      "dtype: object\n"
     ]
    }
   ],
   "source": [
    "print(data_bbca.dtypes)"
   ]
  },
  {
   "cell_type": "code",
   "execution_count": 9,
   "id": "40db4f93",
   "metadata": {
    "id": "40db4f93",
    "outputId": "0083a03c-66f9-4538-cd77-e9162975546d"
   },
   "outputs": [
    {
     "data": {
      "text/html": [
       "<div>\n",
       "<style scoped>\n",
       "    .dataframe tbody tr th:only-of-type {\n",
       "        vertical-align: middle;\n",
       "    }\n",
       "\n",
       "    .dataframe tbody tr th {\n",
       "        vertical-align: top;\n",
       "    }\n",
       "\n",
       "    .dataframe thead th {\n",
       "        text-align: right;\n",
       "    }\n",
       "</style>\n",
       "<table border=\"1\" class=\"dataframe\">\n",
       "  <thead>\n",
       "    <tr style=\"text-align: right;\">\n",
       "      <th></th>\n",
       "      <th>Date</th>\n",
       "      <th>Open</th>\n",
       "      <th>High</th>\n",
       "      <th>Low</th>\n",
       "      <th>Close</th>\n",
       "    </tr>\n",
       "  </thead>\n",
       "  <tbody>\n",
       "    <tr>\n",
       "      <th>0</th>\n",
       "      <td>2004-06-08</td>\n",
       "      <td>175.0</td>\n",
       "      <td>180.0</td>\n",
       "      <td>175.0</td>\n",
       "      <td>177.5</td>\n",
       "    </tr>\n",
       "    <tr>\n",
       "      <th>1</th>\n",
       "      <td>2004-06-09</td>\n",
       "      <td>177.5</td>\n",
       "      <td>182.5</td>\n",
       "      <td>175.0</td>\n",
       "      <td>180.0</td>\n",
       "    </tr>\n",
       "    <tr>\n",
       "      <th>2</th>\n",
       "      <td>2004-06-10</td>\n",
       "      <td>180.0</td>\n",
       "      <td>180.0</td>\n",
       "      <td>177.5</td>\n",
       "      <td>180.0</td>\n",
       "    </tr>\n",
       "    <tr>\n",
       "      <th>3</th>\n",
       "      <td>2004-06-11</td>\n",
       "      <td>177.5</td>\n",
       "      <td>180.0</td>\n",
       "      <td>177.5</td>\n",
       "      <td>180.0</td>\n",
       "    </tr>\n",
       "    <tr>\n",
       "      <th>4</th>\n",
       "      <td>2004-06-14</td>\n",
       "      <td>180.0</td>\n",
       "      <td>180.0</td>\n",
       "      <td>175.0</td>\n",
       "      <td>177.5</td>\n",
       "    </tr>\n",
       "    <tr>\n",
       "      <th>...</th>\n",
       "      <td>...</td>\n",
       "      <td>...</td>\n",
       "      <td>...</td>\n",
       "      <td>...</td>\n",
       "      <td>...</td>\n",
       "    </tr>\n",
       "    <tr>\n",
       "      <th>4868</th>\n",
       "      <td>2024-01-29</td>\n",
       "      <td>9400.0</td>\n",
       "      <td>9550.0</td>\n",
       "      <td>9375.0</td>\n",
       "      <td>9550.0</td>\n",
       "    </tr>\n",
       "    <tr>\n",
       "      <th>4869</th>\n",
       "      <td>2024-01-30</td>\n",
       "      <td>9500.0</td>\n",
       "      <td>9650.0</td>\n",
       "      <td>9475.0</td>\n",
       "      <td>9650.0</td>\n",
       "    </tr>\n",
       "    <tr>\n",
       "      <th>4870</th>\n",
       "      <td>2024-01-31</td>\n",
       "      <td>9700.0</td>\n",
       "      <td>9700.0</td>\n",
       "      <td>9550.0</td>\n",
       "      <td>9550.0</td>\n",
       "    </tr>\n",
       "    <tr>\n",
       "      <th>4871</th>\n",
       "      <td>2024-02-01</td>\n",
       "      <td>9650.0</td>\n",
       "      <td>9725.0</td>\n",
       "      <td>9575.0</td>\n",
       "      <td>9700.0</td>\n",
       "    </tr>\n",
       "    <tr>\n",
       "      <th>4872</th>\n",
       "      <td>2024-02-02</td>\n",
       "      <td>9775.0</td>\n",
       "      <td>9800.0</td>\n",
       "      <td>9625.0</td>\n",
       "      <td>9700.0</td>\n",
       "    </tr>\n",
       "  </tbody>\n",
       "</table>\n",
       "<p>4873 rows × 5 columns</p>\n",
       "</div>"
      ],
      "text/plain": [
       "            Date    Open    High     Low   Close\n",
       "0     2004-06-08   175.0   180.0   175.0   177.5\n",
       "1     2004-06-09   177.5   182.5   175.0   180.0\n",
       "2     2004-06-10   180.0   180.0   177.5   180.0\n",
       "3     2004-06-11   177.5   180.0   177.5   180.0\n",
       "4     2004-06-14   180.0   180.0   175.0   177.5\n",
       "...          ...     ...     ...     ...     ...\n",
       "4868  2024-01-29  9400.0  9550.0  9375.0  9550.0\n",
       "4869  2024-01-30  9500.0  9650.0  9475.0  9650.0\n",
       "4870  2024-01-31  9700.0  9700.0  9550.0  9550.0\n",
       "4871  2024-02-01  9650.0  9725.0  9575.0  9700.0\n",
       "4872  2024-02-02  9775.0  9800.0  9625.0  9700.0\n",
       "\n",
       "[4873 rows x 5 columns]"
      ]
     },
     "execution_count": 9,
     "metadata": {},
     "output_type": "execute_result"
    }
   ],
   "source": [
    "data_bbca"
   ]
  },
  {
   "cell_type": "markdown",
   "id": "989e95cd",
   "metadata": {
    "id": "989e95cd"
   },
   "source": [
    "Mengubah tanggal menjadi index"
   ]
  },
  {
   "cell_type": "code",
   "execution_count": 10,
   "id": "6580cdfb",
   "metadata": {
    "id": "6580cdfb",
    "outputId": "ccfbf539-a8cf-45ae-db93-bef009a0f706"
   },
   "outputs": [
    {
     "data": {
      "text/plain": [
       "DatetimeIndex(['2004-06-08', '2004-06-09', '2004-06-10', '2004-06-11',\n",
       "               '2004-06-14', '2004-06-15', '2004-06-16', '2004-06-17',\n",
       "               '2004-06-18', '2004-06-21',\n",
       "               ...\n",
       "               '2024-01-22', '2024-01-23', '2024-01-24', '2024-01-25',\n",
       "               '2024-01-26', '2024-01-29', '2024-01-30', '2024-01-31',\n",
       "               '2024-02-01', '2024-02-02'],\n",
       "              dtype='datetime64[ns]', name='Date', length=4873, freq=None)"
      ]
     },
     "execution_count": 10,
     "metadata": {},
     "output_type": "execute_result"
    }
   ],
   "source": [
    "con = data_bbca['Date']\n",
    "data_bbca['Date'] = pd.to_datetime(data_bbca['Date'])\n",
    "data_bbca.set_index('Date', inplace=True)\n",
    "\n",
    "#check datatype of index\n",
    "data_bbca.index"
   ]
  },
  {
   "cell_type": "code",
   "execution_count": 11,
   "id": "3c86b346",
   "metadata": {
    "id": "3c86b346",
    "outputId": "357a6219-00cf-47f4-aec4-b45d48ce8ee6"
   },
   "outputs": [
    {
     "data": {
      "text/html": [
       "<div>\n",
       "<style scoped>\n",
       "    .dataframe tbody tr th:only-of-type {\n",
       "        vertical-align: middle;\n",
       "    }\n",
       "\n",
       "    .dataframe tbody tr th {\n",
       "        vertical-align: top;\n",
       "    }\n",
       "\n",
       "    .dataframe thead th {\n",
       "        text-align: right;\n",
       "    }\n",
       "</style>\n",
       "<table border=\"1\" class=\"dataframe\">\n",
       "  <thead>\n",
       "    <tr style=\"text-align: right;\">\n",
       "      <th></th>\n",
       "      <th>Open</th>\n",
       "      <th>High</th>\n",
       "      <th>Low</th>\n",
       "      <th>Close</th>\n",
       "    </tr>\n",
       "    <tr>\n",
       "      <th>Date</th>\n",
       "      <th></th>\n",
       "      <th></th>\n",
       "      <th></th>\n",
       "      <th></th>\n",
       "    </tr>\n",
       "  </thead>\n",
       "  <tbody>\n",
       "    <tr>\n",
       "      <th>2004-06-08</th>\n",
       "      <td>175.0</td>\n",
       "      <td>180.0</td>\n",
       "      <td>175.0</td>\n",
       "      <td>177.5</td>\n",
       "    </tr>\n",
       "    <tr>\n",
       "      <th>2004-06-09</th>\n",
       "      <td>177.5</td>\n",
       "      <td>182.5</td>\n",
       "      <td>175.0</td>\n",
       "      <td>180.0</td>\n",
       "    </tr>\n",
       "    <tr>\n",
       "      <th>2004-06-10</th>\n",
       "      <td>180.0</td>\n",
       "      <td>180.0</td>\n",
       "      <td>177.5</td>\n",
       "      <td>180.0</td>\n",
       "    </tr>\n",
       "    <tr>\n",
       "      <th>2004-06-11</th>\n",
       "      <td>177.5</td>\n",
       "      <td>180.0</td>\n",
       "      <td>177.5</td>\n",
       "      <td>180.0</td>\n",
       "    </tr>\n",
       "    <tr>\n",
       "      <th>2004-06-14</th>\n",
       "      <td>180.0</td>\n",
       "      <td>180.0</td>\n",
       "      <td>175.0</td>\n",
       "      <td>177.5</td>\n",
       "    </tr>\n",
       "    <tr>\n",
       "      <th>...</th>\n",
       "      <td>...</td>\n",
       "      <td>...</td>\n",
       "      <td>...</td>\n",
       "      <td>...</td>\n",
       "    </tr>\n",
       "    <tr>\n",
       "      <th>2024-01-29</th>\n",
       "      <td>9400.0</td>\n",
       "      <td>9550.0</td>\n",
       "      <td>9375.0</td>\n",
       "      <td>9550.0</td>\n",
       "    </tr>\n",
       "    <tr>\n",
       "      <th>2024-01-30</th>\n",
       "      <td>9500.0</td>\n",
       "      <td>9650.0</td>\n",
       "      <td>9475.0</td>\n",
       "      <td>9650.0</td>\n",
       "    </tr>\n",
       "    <tr>\n",
       "      <th>2024-01-31</th>\n",
       "      <td>9700.0</td>\n",
       "      <td>9700.0</td>\n",
       "      <td>9550.0</td>\n",
       "      <td>9550.0</td>\n",
       "    </tr>\n",
       "    <tr>\n",
       "      <th>2024-02-01</th>\n",
       "      <td>9650.0</td>\n",
       "      <td>9725.0</td>\n",
       "      <td>9575.0</td>\n",
       "      <td>9700.0</td>\n",
       "    </tr>\n",
       "    <tr>\n",
       "      <th>2024-02-02</th>\n",
       "      <td>9775.0</td>\n",
       "      <td>9800.0</td>\n",
       "      <td>9625.0</td>\n",
       "      <td>9700.0</td>\n",
       "    </tr>\n",
       "  </tbody>\n",
       "</table>\n",
       "<p>4873 rows × 4 columns</p>\n",
       "</div>"
      ],
      "text/plain": [
       "              Open    High     Low   Close\n",
       "Date                                      \n",
       "2004-06-08   175.0   180.0   175.0   177.5\n",
       "2004-06-09   177.5   182.5   175.0   180.0\n",
       "2004-06-10   180.0   180.0   177.5   180.0\n",
       "2004-06-11   177.5   180.0   177.5   180.0\n",
       "2004-06-14   180.0   180.0   175.0   177.5\n",
       "...            ...     ...     ...     ...\n",
       "2024-01-29  9400.0  9550.0  9375.0  9550.0\n",
       "2024-01-30  9500.0  9650.0  9475.0  9650.0\n",
       "2024-01-31  9700.0  9700.0  9550.0  9550.0\n",
       "2024-02-01  9650.0  9725.0  9575.0  9700.0\n",
       "2024-02-02  9775.0  9800.0  9625.0  9700.0\n",
       "\n",
       "[4873 rows x 4 columns]"
      ]
     },
     "execution_count": 11,
     "metadata": {},
     "output_type": "execute_result"
    }
   ],
   "source": [
    "data_bbca"
   ]
  },
  {
   "cell_type": "markdown",
   "id": "d5c39492",
   "metadata": {
    "id": "d5c39492"
   },
   "source": [
    "Menginisialkan variable data time series"
   ]
  },
  {
   "cell_type": "code",
   "execution_count": 12,
   "id": "ec3ded99",
   "metadata": {
    "id": "ec3ded99"
   },
   "outputs": [],
   "source": [
    "high = pd.Series(data_bbca['High'])\n",
    "open = pd.Series(data_bbca['Open'])\n",
    "low = pd.Series(data_bbca['Low'])\n",
    "close = pd.Series(data_bbca['Close'])"
   ]
  },
  {
   "cell_type": "markdown",
   "id": "1b05c120",
   "metadata": {
    "id": "1b05c120"
   },
   "source": [
    "# Visualization Data"
   ]
  },
  {
   "cell_type": "markdown",
   "id": "36563e2c",
   "metadata": {
    "id": "36563e2c"
   },
   "source": [
    "Memvisualisasikan data dari kolom yang tidak didrop sebelumnya\n"
   ]
  },
  {
   "cell_type": "code",
   "execution_count": 13,
   "id": "080abe23",
   "metadata": {
    "id": "080abe23",
    "outputId": "df655c76-b715-4706-b7d5-0cd06a9f6eca"
   },
   "outputs": [
    {
     "data": {
      "image/png": "[encoded data removed]",
      "text/plain": [
       "<Figure size 1600x800 with 1 Axes>"
      ]
     },
     "metadata": {},
     "output_type": "display_data"
    }
   ],
   "source": [
    "#Visualisasi Dataset\n",
    "\n",
    "plt.figure(figsize=(16,8))\n",
    "plt.title('Pergerakan Harga')\n",
    "plt.plot(high, color = 'red', label = 'High')\n",
    "plt.plot(open, color = 'yellow', label = 'Open')\n",
    "plt.plot(low, color = 'green', label = 'Low')\n",
    "plt.plot(close, color = 'purple', label = 'Close')\n",
    "plt.xlabel('Tahun', fontsize=18)\n",
    "plt.ylabel('Harga dalam Rupiah', fontsize=18)\n",
    "plt.legend(loc='best')\n",
    "plt.show()"
   ]
  },
  {
   "cell_type": "markdown",
   "id": "8c7c2323",
   "metadata": {
    "id": "8c7c2323"
   },
   "source": [
    "Membuat data frame dari kolom 'High' dan membuat data train & test"
   ]
  },
  {
   "cell_type": "code",
   "execution_count": 14,
   "id": "757854d9",
   "metadata": {
    "id": "757854d9"
   },
   "outputs": [],
   "source": [
    "data = pd.DataFrame(data_bbca['High'])"
   ]
  },
  {
   "cell_type": "code",
   "execution_count": 15,
   "id": "7cb5828d",
   "metadata": {
    "id": "7cb5828d",
    "outputId": "24bd0a24-f96d-49ff-ace6-43e34ca3021b"
   },
   "outputs": [
    {
     "data": {
      "image/png": "[encoded data removed]",
      "text/plain": [
       "<Figure size 1600x800 with 1 Axes>"
      ]
     },
     "metadata": {},
     "output_type": "display_data"
    }
   ],
   "source": [
    "data_bbca_train = data[0:int(len(data)*0.8)]\n",
    "data_bbca_test = data[int(len(data)*0.8):]\n",
    "# plot the data\n",
    "# Visualisasi data\n",
    "plt.figure(figsize=(16,8))\n",
    "plt.title('Data Train dan Data Test')\n",
    "plt.ylabel('High Price', fontsize=18)\n",
    "plt.plot(data_bbca_train)\n",
    "plt.plot(data_bbca_test)\n",
    "plt.legend(['Data Train', 'Data Test'], loc='lower right')\n",
    "plt.show()"
   ]
  },
  {
   "cell_type": "markdown",
   "id": "9e95b825",
   "metadata": {
    "id": "9e95b825"
   },
   "source": [
    "# Preprocessing"
   ]
  },
  {
   "cell_type": "markdown",
   "id": "7e0955ce",
   "metadata": {
    "id": "7e0955ce"
   },
   "source": [
    "Melakukan scaling data dengan kolom High.\n"
   ]
  },
  {
   "cell_type": "code",
   "execution_count": 16,
   "id": "bfb077f8",
   "metadata": {
    "id": "bfb077f8"
   },
   "outputs": [],
   "source": [
    "min_max_scaler = preprocessing.MinMaxScaler(feature_range=(0, 1))\n",
    "dataset = min_max_scaler.fit_transform(data_bbca['High'].values.reshape(-1, 1))"
   ]
  },
  {
   "cell_type": "markdown",
   "id": "bc2aed11",
   "metadata": {
    "id": "bc2aed11"
   },
   "source": [
    "Memecah data menjadi data train dan data test"
   ]
  },
  {
   "cell_type": "code",
   "execution_count": 17,
   "id": "c1db88fc",
   "metadata": {
    "id": "c1db88fc",
    "outputId": "42053d70-6f4b-4941-c2e7-4b1c7adaaa44"
   },
   "outputs": [
    {
     "data": {
      "text/plain": [
       "array([[0.00025981],\n",
       "       [0.00051962],\n",
       "       [0.00025981],\n",
       "       [0.00025981],\n",
       "       [0.00025981],\n",
       "       [0.00051962],\n",
       "       [0.00051962],\n",
       "       [0.        ],\n",
       "       [0.        ],\n",
       "       [0.        ]])"
      ]
     },
     "execution_count": 17,
     "metadata": {},
     "output_type": "execute_result"
    }
   ],
   "source": [
    "dataset[0:10]"
   ]
  },
  {
   "cell_type": "code",
   "execution_count": 20,
   "id": "575e2588",
   "metadata": {
    "id": "575e2588",
    "outputId": "9816662c-ca06-4776-aeaf-ef622ac193d1"
   },
   "outputs": [
    {
     "name": "stdout",
     "output_type": "stream",
     "text": [
      "Ukuran training set: 3898\n",
      "Ukuran testing set: 975\n"
     ]
    }
   ],
   "source": [
    "train_size = int(len(dataset) * 0.8)\n",
    "test_size = len(dataset) - train_size\n",
    "train, test = dataset[0:train_size,:], dataset[train_size:len(dataset),:]\n",
    "print(\"Ukuran training set:\", len(train))\n",
    "print(\"Ukuran testing set:\", len(test))"
   ]
  },
  {
   "cell_type": "code",
   "execution_count": 21,
   "id": "378fe376",
   "metadata": {
    "id": "378fe376",
    "outputId": "c9148a6e-3ee9-4201-be39-cffed7c8f741"
   },
   "outputs": [
    {
     "name": "stdout",
     "output_type": "stream",
     "text": [
      "4873\n"
     ]
    }
   ],
   "source": [
    "#Menampilkan panjang/jumlah dataframe\n",
    "print(len(data_bbca))"
   ]
  },
  {
   "cell_type": "markdown",
   "id": "53a111a9",
   "metadata": {
    "id": "53a111a9"
   },
   "source": [
    "Konversi nilai array ke dalam kumpulan matriks\n"
   ]
  },
  {
   "cell_type": "code",
   "execution_count": 22,
   "id": "d2b04e3a",
   "metadata": {
    "id": "d2b04e3a"
   },
   "outputs": [],
   "source": [
    "def create_dataset(dataset, look_back=15):\n",
    "    x, y = [], []\n",
    "    for i in range(len(dataset)-look_back-1):\n",
    "        a = dataset[i:(i+look_back), 0]\n",
    "        x.append(a)\n",
    "        y.append(dataset[i + look_back, 0])\n",
    "    return np.array(x), np.array(y)"
   ]
  },
  {
   "cell_type": "code",
   "execution_count": 23,
   "id": "db646668",
   "metadata": {
    "id": "db646668"
   },
   "outputs": [],
   "source": [
    "look_back = 15\n",
    "x_train, y_train = create_dataset(train, look_back)\n",
    "x_test, y_test = create_dataset(test, look_back)"
   ]
  },
  {
   "cell_type": "code",
   "execution_count": 24,
   "id": "5952c643",
   "metadata": {
    "id": "5952c643",
    "outputId": "b165fa5e-0247-4719-b52b-790a50b0b1aa"
   },
   "outputs": [
    {
     "name": "stdout",
     "output_type": "stream",
     "text": [
      "(3882, 15)\n",
      "(3882,)\n",
      "(959, 15)\n",
      "(959,)\n"
     ]
    }
   ],
   "source": [
    "print(x_train.shape)\n",
    "print(y_train.shape)\n",
    "print(x_test.shape)\n",
    "print(y_test.shape)"
   ]
  },
  {
   "cell_type": "markdown",
   "id": "ef52d968",
   "metadata": {
    "id": "ef52d968"
   },
   "source": [
    "Reshape input menjadi 3D yaitu [samples, time step, dan feature]"
   ]
  },
  {
   "cell_type": "code",
   "execution_count": 25,
   "id": "7099cd73",
   "metadata": {
    "id": "7099cd73"
   },
   "outputs": [],
   "source": [
    "x_train = np.reshape(x_train, (x_train.shape[0], 1, x_train.shape[1]))\n",
    "x_test = np.reshape(x_test, (x_test.shape[0], 1, x_test.shape[1]))"
   ]
  },
  {
   "cell_type": "markdown",
   "id": "4a7c28a5",
   "metadata": {
    "id": "4a7c28a5"
   },
   "source": [
    "# Model\n",
    "\n",
    "Membuat model LSTM"
   ]
  },
  {
   "cell_type": "code",
   "execution_count": 26,
   "id": "043dfca2",
   "metadata": {
    "id": "043dfca2",
    "outputId": "1c232504-834c-41b1-fd55-48a87e06c09f"
   },
   "outputs": [
    {
     "name": "stdout",
     "output_type": "stream",
     "text": [
      "Epoch 1/100\n",
      "61/61 - 3s - loss: 0.4344 - accuracy: 0.0000e+00 - val_loss: 0.6088 - val_accuracy: 0.0000e+00 - 3s/epoch - 49ms/step\n",
      "Epoch 2/100\n",
      "61/61 - 0s - loss: 0.4104 - accuracy: 0.0000e+00 - val_loss: 0.5397 - val_accuracy: 0.0000e+00 - 199ms/epoch - 3ms/step\n",
      "Epoch 3/100\n",
      "61/61 - 0s - loss: 0.4065 - accuracy: 0.0000e+00 - val_loss: 0.5171 - val_accuracy: 0.0000e+00 - 209ms/epoch - 3ms/step\n",
      "Epoch 4/100\n",
      "61/61 - 0s - loss: 0.4042 - accuracy: 0.0000e+00 - val_loss: 0.5134 - val_accuracy: 0.0000e+00 - 256ms/epoch - 4ms/step\n",
      "Epoch 5/100\n",
      "61/61 - 0s - loss: 0.4039 - accuracy: 0.0000e+00 - val_loss: 0.5091 - val_accuracy: 0.0000e+00 - 235ms/epoch - 4ms/step\n",
      "Epoch 6/100\n",
      "61/61 - 0s - loss: 0.4036 - accuracy: 0.0000e+00 - val_loss: 0.5160 - val_accuracy: 0.0000e+00 - 204ms/epoch - 3ms/step\n",
      "Epoch 7/100\n",
      "61/61 - 0s - loss: 0.4058 - accuracy: 0.0000e+00 - val_loss: 0.5109 - val_accuracy: 0.0000e+00 - 205ms/epoch - 3ms/step\n",
      "Epoch 8/100\n",
      "61/61 - 0s - loss: 0.4031 - accuracy: 0.0000e+00 - val_loss: 0.5158 - val_accuracy: 0.0000e+00 - 206ms/epoch - 3ms/step\n",
      "Epoch 9/100\n",
      "61/61 - 0s - loss: 0.4029 - accuracy: 0.0000e+00 - val_loss: 0.5182 - val_accuracy: 0.0000e+00 - 194ms/epoch - 3ms/step\n",
      "Epoch 10/100\n",
      "61/61 - 0s - loss: 0.4027 - accuracy: 0.0000e+00 - val_loss: 0.5158 - val_accuracy: 0.0000e+00 - 200ms/epoch - 3ms/step\n",
      "Epoch 11/100\n",
      "61/61 - 0s - loss: 0.4027 - accuracy: 0.0000e+00 - val_loss: 0.5155 - val_accuracy: 0.0000e+00 - 178ms/epoch - 3ms/step\n",
      "Epoch 12/100\n",
      "61/61 - 0s - loss: 0.4025 - accuracy: 0.0000e+00 - val_loss: 0.5231 - val_accuracy: 0.0000e+00 - 172ms/epoch - 3ms/step\n",
      "Epoch 13/100\n",
      "61/61 - 0s - loss: 0.4026 - accuracy: 0.0000e+00 - val_loss: 0.5164 - val_accuracy: 0.0000e+00 - 202ms/epoch - 3ms/step\n",
      "Epoch 14/100\n",
      "61/61 - 0s - loss: 0.4025 - accuracy: 0.0000e+00 - val_loss: 0.5160 - val_accuracy: 0.0000e+00 - 221ms/epoch - 4ms/step\n",
      "Epoch 15/100\n",
      "61/61 - 0s - loss: 0.4025 - accuracy: 0.0000e+00 - val_loss: 0.5139 - val_accuracy: 0.0000e+00 - 184ms/epoch - 3ms/step\n",
      "Epoch 16/100\n",
      "61/61 - 0s - loss: 0.4023 - accuracy: 0.0000e+00 - val_loss: 0.5211 - val_accuracy: 0.0000e+00 - 166ms/epoch - 3ms/step\n",
      "Epoch 17/100\n",
      "61/61 - 0s - loss: 0.4023 - accuracy: 0.0000e+00 - val_loss: 0.5204 - val_accuracy: 0.0000e+00 - 205ms/epoch - 3ms/step\n",
      "Epoch 18/100\n",
      "61/61 - 0s - loss: 0.4028 - accuracy: 0.0000e+00 - val_loss: 0.5090 - val_accuracy: 0.0000e+00 - 204ms/epoch - 3ms/step\n",
      "Epoch 19/100\n",
      "61/61 - 0s - loss: 0.4027 - accuracy: 0.0000e+00 - val_loss: 0.5123 - val_accuracy: 0.0000e+00 - 152ms/epoch - 2ms/step\n",
      "Epoch 20/100\n",
      "61/61 - 0s - loss: 0.4028 - accuracy: 0.0000e+00 - val_loss: 0.5147 - val_accuracy: 0.0000e+00 - 166ms/epoch - 3ms/step\n",
      "Epoch 21/100\n",
      "61/61 - 0s - loss: 0.4022 - accuracy: 0.0000e+00 - val_loss: 0.5090 - val_accuracy: 0.0000e+00 - 195ms/epoch - 3ms/step\n",
      "Epoch 22/100\n",
      "61/61 - 0s - loss: 0.4023 - accuracy: 0.0000e+00 - val_loss: 0.5103 - val_accuracy: 0.0000e+00 - 170ms/epoch - 3ms/step\n",
      "Epoch 23/100\n",
      "61/61 - 0s - loss: 0.4023 - accuracy: 0.0000e+00 - val_loss: 0.5186 - val_accuracy: 0.0000e+00 - 121ms/epoch - 2ms/step\n",
      "Epoch 24/100\n",
      "61/61 - 0s - loss: 0.4022 - accuracy: 0.0000e+00 - val_loss: 0.5159 - val_accuracy: 0.0000e+00 - 207ms/epoch - 3ms/step\n",
      "Epoch 25/100\n",
      "61/61 - 0s - loss: 0.4021 - accuracy: 0.0000e+00 - val_loss: 0.5178 - val_accuracy: 0.0000e+00 - 190ms/epoch - 3ms/step\n",
      "Epoch 26/100\n",
      "61/61 - 0s - loss: 0.4019 - accuracy: 0.0000e+00 - val_loss: 0.5160 - val_accuracy: 0.0000e+00 - 194ms/epoch - 3ms/step\n",
      "Epoch 27/100\n",
      "61/61 - 0s - loss: 0.4023 - accuracy: 0.0000e+00 - val_loss: 0.5208 - val_accuracy: 0.0000e+00 - 197ms/epoch - 3ms/step\n",
      "Epoch 28/100\n",
      "61/61 - 0s - loss: 0.4024 - accuracy: 0.0000e+00 - val_loss: 0.5162 - val_accuracy: 0.0000e+00 - 202ms/epoch - 3ms/step\n",
      "Epoch 29/100\n",
      "61/61 - 0s - loss: 0.4020 - accuracy: 0.0000e+00 - val_loss: 0.5163 - val_accuracy: 0.0000e+00 - 200ms/epoch - 3ms/step\n",
      "Epoch 30/100\n",
      "61/61 - 0s - loss: 0.4023 - accuracy: 0.0000e+00 - val_loss: 0.5266 - val_accuracy: 0.0000e+00 - 204ms/epoch - 3ms/step\n",
      "Epoch 31/100\n",
      "61/61 - 0s - loss: 0.4034 - accuracy: 0.0000e+00 - val_loss: 0.5212 - val_accuracy: 0.0000e+00 - 180ms/epoch - 3ms/step\n",
      "Epoch 32/100\n",
      "61/61 - 0s - loss: 0.4025 - accuracy: 0.0000e+00 - val_loss: 0.5221 - val_accuracy: 0.0000e+00 - 168ms/epoch - 3ms/step\n",
      "Epoch 33/100\n",
      "61/61 - 0s - loss: 0.4020 - accuracy: 0.0000e+00 - val_loss: 0.5217 - val_accuracy: 0.0000e+00 - 209ms/epoch - 3ms/step\n",
      "Epoch 34/100\n",
      "61/61 - 0s - loss: 0.4023 - accuracy: 0.0000e+00 - val_loss: 0.5119 - val_accuracy: 0.0000e+00 - 268ms/epoch - 4ms/step\n",
      "Epoch 35/100\n",
      "61/61 - 0s - loss: 0.4020 - accuracy: 0.0000e+00 - val_loss: 0.5142 - val_accuracy: 0.0000e+00 - 247ms/epoch - 4ms/step\n",
      "Epoch 36/100\n",
      "61/61 - 0s - loss: 0.4019 - accuracy: 0.0000e+00 - val_loss: 0.5155 - val_accuracy: 0.0000e+00 - 146ms/epoch - 2ms/step\n",
      "Epoch 37/100\n",
      "61/61 - 0s - loss: 0.4020 - accuracy: 0.0000e+00 - val_loss: 0.5111 - val_accuracy: 0.0000e+00 - 139ms/epoch - 2ms/step\n",
      "Epoch 38/100\n",
      "61/61 - 0s - loss: 0.4021 - accuracy: 0.0000e+00 - val_loss: 0.5089 - val_accuracy: 0.0000e+00 - 257ms/epoch - 4ms/step\n",
      "Epoch 39/100\n",
      "61/61 - 0s - loss: 0.4021 - accuracy: 0.0000e+00 - val_loss: 0.5239 - val_accuracy: 0.0000e+00 - 205ms/epoch - 3ms/step\n",
      "Epoch 40/100\n",
      "61/61 - 0s - loss: 0.4020 - accuracy: 0.0000e+00 - val_loss: 0.5291 - val_accuracy: 0.0000e+00 - 175ms/epoch - 3ms/step\n",
      "Epoch 41/100\n",
      "61/61 - 0s - loss: 0.4022 - accuracy: 0.0000e+00 - val_loss: 0.5228 - val_accuracy: 0.0000e+00 - 146ms/epoch - 2ms/step\n",
      "Epoch 42/100\n",
      "61/61 - 0s - loss: 0.4033 - accuracy: 0.0000e+00 - val_loss: 0.5097 - val_accuracy: 0.0000e+00 - 164ms/epoch - 3ms/step\n",
      "Epoch 43/100\n",
      "61/61 - 0s - loss: 0.4031 - accuracy: 0.0000e+00 - val_loss: 0.5234 - val_accuracy: 0.0000e+00 - 184ms/epoch - 3ms/step\n",
      "Epoch 44/100\n",
      "61/61 - 0s - loss: 0.4022 - accuracy: 0.0000e+00 - val_loss: 0.5333 - val_accuracy: 0.0000e+00 - 178ms/epoch - 3ms/step\n",
      "Epoch 45/100\n",
      "61/61 - 0s - loss: 0.4024 - accuracy: 0.0000e+00 - val_loss: 0.5107 - val_accuracy: 0.0000e+00 - 157ms/epoch - 3ms/step\n",
      "Epoch 46/100\n",
      "61/61 - 0s - loss: 0.4021 - accuracy: 0.0000e+00 - val_loss: 0.5224 - val_accuracy: 0.0000e+00 - 190ms/epoch - 3ms/step\n",
      "Epoch 47/100\n",
      "61/61 - 0s - loss: 0.4020 - accuracy: 0.0000e+00 - val_loss: 0.5173 - val_accuracy: 0.0000e+00 - 133ms/epoch - 2ms/step\n",
      "Epoch 48/100\n",
      "61/61 - 0s - loss: 0.4024 - accuracy: 0.0000e+00 - val_loss: 0.5183 - val_accuracy: 0.0000e+00 - 155ms/epoch - 3ms/step\n",
      "Epoch 49/100\n",
      "61/61 - 0s - loss: 0.4023 - accuracy: 0.0000e+00 - val_loss: 0.5059 - val_accuracy: 0.0000e+00 - 244ms/epoch - 4ms/step\n",
      "Epoch 50/100\n",
      "61/61 - 0s - loss: 0.4024 - accuracy: 0.0000e+00 - val_loss: 0.5187 - val_accuracy: 0.0000e+00 - 149ms/epoch - 2ms/step\n",
      "Epoch 51/100\n",
      "61/61 - 0s - loss: 0.4020 - accuracy: 0.0000e+00 - val_loss: 0.5348 - val_accuracy: 0.0000e+00 - 199ms/epoch - 3ms/step\n",
      "Epoch 52/100\n",
      "61/61 - 0s - loss: 0.4020 - accuracy: 0.0000e+00 - val_loss: 0.5189 - val_accuracy: 0.0000e+00 - 174ms/epoch - 3ms/step\n",
      "Epoch 53/100\n",
      "61/61 - 0s - loss: 0.4022 - accuracy: 0.0000e+00 - val_loss: 0.5187 - val_accuracy: 0.0000e+00 - 192ms/epoch - 3ms/step\n",
      "Epoch 54/100\n",
      "61/61 - 0s - loss: 0.4021 - accuracy: 0.0000e+00 - val_loss: 0.5179 - val_accuracy: 0.0000e+00 - 194ms/epoch - 3ms/step\n",
      "Epoch 55/100\n",
      "61/61 - 0s - loss: 0.4022 - accuracy: 0.0000e+00 - val_loss: 0.5150 - val_accuracy: 0.0000e+00 - 165ms/epoch - 3ms/step\n",
      "Epoch 56/100\n",
      "61/61 - 0s - loss: 0.4128 - accuracy: 0.0000e+00 - val_loss: 0.6263 - val_accuracy: 0.0000e+00 - 188ms/epoch - 3ms/step\n",
      "Epoch 57/100\n",
      "61/61 - 0s - loss: 0.4283 - accuracy: 0.0000e+00 - val_loss: 0.6271 - val_accuracy: 0.0000e+00 - 169ms/epoch - 3ms/step\n",
      "Epoch 58/100\n",
      "61/61 - 0s - loss: 0.4409 - accuracy: 0.0000e+00 - val_loss: 0.6185 - val_accuracy: 0.0000e+00 - 179ms/epoch - 3ms/step\n",
      "Epoch 59/100\n",
      "61/61 - 0s - loss: 0.4389 - accuracy: 0.0000e+00 - val_loss: 0.7004 - val_accuracy: 0.0000e+00 - 173ms/epoch - 3ms/step\n",
      "Epoch 60/100\n",
      "61/61 - 0s - loss: 0.4283 - accuracy: 0.0000e+00 - val_loss: 0.5905 - val_accuracy: 0.0000e+00 - 191ms/epoch - 3ms/step\n",
      "Epoch 61/100\n",
      "61/61 - 0s - loss: 0.4606 - accuracy: 0.0000e+00 - val_loss: 0.6056 - val_accuracy: 0.0000e+00 - 155ms/epoch - 3ms/step\n",
      "Epoch 62/100\n",
      "61/61 - 0s - loss: 0.4457 - accuracy: 0.0000e+00 - val_loss: 0.5817 - val_accuracy: 0.0000e+00 - 153ms/epoch - 3ms/step\n",
      "Epoch 63/100\n",
      "61/61 - 0s - loss: 0.4341 - accuracy: 0.0000e+00 - val_loss: 0.6097 - val_accuracy: 0.0000e+00 - 157ms/epoch - 3ms/step\n",
      "Epoch 64/100\n",
      "61/61 - 0s - loss: 0.4249 - accuracy: 0.0000e+00 - val_loss: 0.6260 - val_accuracy: 0.0000e+00 - 201ms/epoch - 3ms/step\n",
      "Epoch 65/100\n",
      "61/61 - 0s - loss: 0.4218 - accuracy: 0.0000e+00 - val_loss: 0.5898 - val_accuracy: 0.0000e+00 - 174ms/epoch - 3ms/step\n",
      "Epoch 66/100\n",
      "61/61 - 0s - loss: 0.4177 - accuracy: 0.0000e+00 - val_loss: 0.5828 - val_accuracy: 0.0000e+00 - 146ms/epoch - 2ms/step\n",
      "Epoch 67/100\n",
      "61/61 - 0s - loss: 0.4184 - accuracy: 0.0000e+00 - val_loss: 0.5637 - val_accuracy: 0.0000e+00 - 244ms/epoch - 4ms/step\n",
      "Epoch 68/100\n",
      "61/61 - 0s - loss: 0.4163 - accuracy: 0.0000e+00 - val_loss: 0.5643 - val_accuracy: 0.0000e+00 - 202ms/epoch - 3ms/step\n",
      "Epoch 69/100\n",
      "61/61 - 0s - loss: 0.4149 - accuracy: 0.0000e+00 - val_loss: 0.5420 - val_accuracy: 0.0000e+00 - 203ms/epoch - 3ms/step\n",
      "Epoch 70/100\n",
      "61/61 - 0s - loss: 0.4127 - accuracy: 0.0000e+00 - val_loss: 0.5471 - val_accuracy: 0.0000e+00 - 171ms/epoch - 3ms/step\n",
      "Epoch 71/100\n",
      "61/61 - 0s - loss: 0.4149 - accuracy: 0.0000e+00 - val_loss: 0.5320 - val_accuracy: 0.0000e+00 - 172ms/epoch - 3ms/step\n",
      "Epoch 72/100\n",
      "61/61 - 0s - loss: 0.4129 - accuracy: 0.0000e+00 - val_loss: 0.5463 - val_accuracy: 0.0000e+00 - 161ms/epoch - 3ms/step\n",
      "Epoch 73/100\n",
      "61/61 - 0s - loss: 0.4117 - accuracy: 0.0000e+00 - val_loss: 0.5385 - val_accuracy: 0.0000e+00 - 199ms/epoch - 3ms/step\n",
      "Epoch 74/100\n",
      "61/61 - 0s - loss: 0.4113 - accuracy: 0.0000e+00 - val_loss: 0.5329 - val_accuracy: 0.0000e+00 - 171ms/epoch - 3ms/step\n",
      "Epoch 75/100\n",
      "61/61 - 0s - loss: 0.4103 - accuracy: 0.0000e+00 - val_loss: 0.5360 - val_accuracy: 0.0000e+00 - 194ms/epoch - 3ms/step\n",
      "Epoch 76/100\n",
      "61/61 - 0s - loss: 0.4126 - accuracy: 0.0000e+00 - val_loss: 0.5537 - val_accuracy: 0.0000e+00 - 199ms/epoch - 3ms/step\n",
      "Epoch 77/100\n",
      "61/61 - 0s - loss: 0.4110 - accuracy: 0.0000e+00 - val_loss: 0.5611 - val_accuracy: 0.0000e+00 - 170ms/epoch - 3ms/step\n",
      "Epoch 78/100\n",
      "61/61 - 0s - loss: 0.4193 - accuracy: 0.0000e+00 - val_loss: 0.5479 - val_accuracy: 0.0000e+00 - 183ms/epoch - 3ms/step\n",
      "Epoch 79/100\n",
      "61/61 - 0s - loss: 0.4128 - accuracy: 0.0000e+00 - val_loss: 0.5492 - val_accuracy: 0.0000e+00 - 189ms/epoch - 3ms/step\n",
      "Epoch 80/100\n",
      "61/61 - 0s - loss: 0.4124 - accuracy: 0.0000e+00 - val_loss: 0.5454 - val_accuracy: 0.0000e+00 - 193ms/epoch - 3ms/step\n",
      "Epoch 81/100\n",
      "61/61 - 0s - loss: 0.4112 - accuracy: 0.0000e+00 - val_loss: 0.5349 - val_accuracy: 0.0000e+00 - 181ms/epoch - 3ms/step\n",
      "Epoch 82/100\n",
      "61/61 - 0s - loss: 0.4235 - accuracy: 0.0000e+00 - val_loss: 0.5434 - val_accuracy: 0.0000e+00 - 213ms/epoch - 3ms/step\n",
      "Epoch 83/100\n",
      "61/61 - 0s - loss: 0.4139 - accuracy: 0.0000e+00 - val_loss: 0.5483 - val_accuracy: 0.0000e+00 - 197ms/epoch - 3ms/step\n",
      "Epoch 84/100\n",
      "61/61 - 0s - loss: 0.4124 - accuracy: 0.0000e+00 - val_loss: 0.5526 - val_accuracy: 0.0000e+00 - 152ms/epoch - 2ms/step\n",
      "Epoch 85/100\n",
      "61/61 - 0s - loss: 0.4121 - accuracy: 0.0000e+00 - val_loss: 0.5362 - val_accuracy: 0.0000e+00 - 196ms/epoch - 3ms/step\n",
      "Epoch 86/100\n",
      "61/61 - 0s - loss: 0.4153 - accuracy: 0.0000e+00 - val_loss: 0.5190 - val_accuracy: 0.0000e+00 - 147ms/epoch - 2ms/step\n",
      "Epoch 87/100\n",
      "61/61 - 0s - loss: 0.4134 - accuracy: 0.0000e+00 - val_loss: 0.5271 - val_accuracy: 0.0000e+00 - 199ms/epoch - 3ms/step\n",
      "Epoch 88/100\n",
      "61/61 - 0s - loss: 0.4108 - accuracy: 0.0000e+00 - val_loss: 0.5361 - val_accuracy: 0.0000e+00 - 219ms/epoch - 4ms/step\n",
      "Epoch 89/100\n",
      "61/61 - 0s - loss: 0.4106 - accuracy: 0.0000e+00 - val_loss: 0.5236 - val_accuracy: 0.0000e+00 - 198ms/epoch - 3ms/step\n",
      "Epoch 90/100\n",
      "61/61 - 0s - loss: 0.4099 - accuracy: 0.0000e+00 - val_loss: 0.5515 - val_accuracy: 0.0000e+00 - 186ms/epoch - 3ms/step\n",
      "Epoch 91/100\n",
      "61/61 - 0s - loss: 0.4099 - accuracy: 0.0000e+00 - val_loss: 0.5375 - val_accuracy: 0.0000e+00 - 179ms/epoch - 3ms/step\n",
      "Epoch 92/100\n",
      "61/61 - 0s - loss: 0.4092 - accuracy: 0.0000e+00 - val_loss: 0.5236 - val_accuracy: 0.0000e+00 - 181ms/epoch - 3ms/step\n",
      "Epoch 93/100\n",
      "61/61 - 0s - loss: 0.4095 - accuracy: 0.0000e+00 - val_loss: 0.5564 - val_accuracy: 0.0000e+00 - 159ms/epoch - 3ms/step\n",
      "Epoch 94/100\n",
      "61/61 - 0s - loss: 0.4093 - accuracy: 0.0000e+00 - val_loss: 0.5592 - val_accuracy: 0.0000e+00 - 205ms/epoch - 3ms/step\n",
      "Epoch 95/100\n",
      "61/61 - 0s - loss: 0.4091 - accuracy: 0.0000e+00 - val_loss: 0.5413 - val_accuracy: 0.0000e+00 - 245ms/epoch - 4ms/step\n",
      "Epoch 96/100\n",
      "61/61 - 0s - loss: 0.4094 - accuracy: 0.0000e+00 - val_loss: 0.5365 - val_accuracy: 0.0000e+00 - 174ms/epoch - 3ms/step\n",
      "Epoch 97/100\n",
      "61/61 - 0s - loss: 0.4090 - accuracy: 0.0000e+00 - val_loss: 0.5328 - val_accuracy: 0.0000e+00 - 204ms/epoch - 3ms/step\n",
      "Epoch 98/100\n",
      "61/61 - 0s - loss: 0.4089 - accuracy: 0.0000e+00 - val_loss: 0.5468 - val_accuracy: 0.0000e+00 - 127ms/epoch - 2ms/step\n",
      "Epoch 99/100\n",
      "61/61 - 0s - loss: 0.4096 - accuracy: 0.0000e+00 - val_loss: 0.5248 - val_accuracy: 0.0000e+00 - 198ms/epoch - 3ms/step\n",
      "Epoch 100/100\n",
      "61/61 - 0s - loss: 0.4247 - accuracy: 0.0000e+00 - val_loss: 0.5747 - val_accuracy: 0.0000e+00 - 193ms/epoch - 3ms/step\n"
     ]
    }
   ],
   "source": [
    "look_back = 15\n",
    "\n",
    "model1 = Sequential()\n",
    "\n",
    "model1.add(LSTM(50, input_shape=(1, look_back), return_sequences=False))\n",
    "\n",
    "# Dropout to prevent overfitting\n",
    "model1.add(Dropout(0.5))\n",
    "\n",
    "# Dense layer for classification output\n",
    "model1.add(Dense(units=1, activation='tanh'))\n",
    "\n",
    "# Optimizing the neural network weights\n",
    "opt = tf.keras.optimizers.Adam(learning_rate=0.01)\n",
    "\n",
    "# Compiling the model with the optimizer\n",
    "model1.compile(loss='binary_crossentropy', optimizer=opt, metrics=['accuracy'])\n",
    "\n",
    "history = model1.fit(x_train, y_train, epochs=100, batch_size=64, verbose=2, validation_data=(x_test, y_test))"
   ]
  },
  {
   "cell_type": "code",
   "execution_count": 27,
   "id": "4224cfa3",
   "metadata": {
    "id": "4224cfa3",
    "outputId": "b1e4c3d6-fac4-4487-9cdb-8700dfacd08e"
   },
   "outputs": [
    {
     "name": "stdout",
     "output_type": "stream",
     "text": [
      "Epoch 1/100\n",
      "61/61 - 3s - loss: 0.0029 - mse: 0.0029 - val_loss: 0.0137 - val_mse: 0.0137 - 3s/epoch - 45ms/step\n",
      "Epoch 2/100\n",
      "61/61 - 0s - loss: 0.0026 - mse: 0.0026 - val_loss: 0.0118 - val_mse: 0.0118 - 206ms/epoch - 3ms/step\n",
      "Epoch 3/100\n",
      "61/61 - 0s - loss: 0.0025 - mse: 0.0025 - val_loss: 0.0102 - val_mse: 0.0102 - 172ms/epoch - 3ms/step\n",
      "Epoch 4/100\n",
      "61/61 - 0s - loss: 0.0023 - mse: 0.0023 - val_loss: 0.0131 - val_mse: 0.0131 - 197ms/epoch - 3ms/step\n",
      "Epoch 5/100\n",
      "61/61 - 0s - loss: 0.0023 - mse: 0.0023 - val_loss: 0.0098 - val_mse: 0.0098 - 189ms/epoch - 3ms/step\n",
      "Epoch 6/100\n",
      "61/61 - 0s - loss: 0.0024 - mse: 0.0024 - val_loss: 0.0116 - val_mse: 0.0116 - 169ms/epoch - 3ms/step\n",
      "Epoch 7/100\n",
      "61/61 - 0s - loss: 0.0024 - mse: 0.0024 - val_loss: 0.0089 - val_mse: 0.0089 - 201ms/epoch - 3ms/step\n",
      "Epoch 8/100\n",
      "61/61 - 0s - loss: 0.0025 - mse: 0.0025 - val_loss: 0.0096 - val_mse: 0.0096 - 170ms/epoch - 3ms/step\n",
      "Epoch 9/100\n",
      "61/61 - 0s - loss: 0.0025 - mse: 0.0025 - val_loss: 0.0066 - val_mse: 0.0066 - 209ms/epoch - 3ms/step\n",
      "Epoch 10/100\n",
      "61/61 - 0s - loss: 0.0024 - mse: 0.0024 - val_loss: 0.0064 - val_mse: 0.0064 - 192ms/epoch - 3ms/step\n",
      "Epoch 11/100\n",
      "61/61 - 0s - loss: 0.0022 - mse: 0.0022 - val_loss: 0.0061 - val_mse: 0.0061 - 255ms/epoch - 4ms/step\n",
      "Epoch 12/100\n",
      "61/61 - 0s - loss: 0.0022 - mse: 0.0022 - val_loss: 0.0058 - val_mse: 0.0058 - 212ms/epoch - 3ms/step\n",
      "Epoch 13/100\n",
      "61/61 - 0s - loss: 0.0025 - mse: 0.0025 - val_loss: 0.0085 - val_mse: 0.0085 - 205ms/epoch - 3ms/step\n",
      "Epoch 14/100\n",
      "61/61 - 0s - loss: 0.0022 - mse: 0.0022 - val_loss: 0.0071 - val_mse: 0.0071 - 144ms/epoch - 2ms/step\n",
      "Epoch 15/100\n",
      "61/61 - 0s - loss: 0.0022 - mse: 0.0022 - val_loss: 0.0051 - val_mse: 0.0051 - 201ms/epoch - 3ms/step\n",
      "Epoch 16/100\n",
      "61/61 - 0s - loss: 0.0022 - mse: 0.0022 - val_loss: 0.0077 - val_mse: 0.0077 - 143ms/epoch - 2ms/step\n",
      "Epoch 17/100\n",
      "61/61 - 0s - loss: 0.0021 - mse: 0.0021 - val_loss: 0.0086 - val_mse: 0.0086 - 201ms/epoch - 3ms/step\n",
      "Epoch 18/100\n",
      "61/61 - 0s - loss: 0.0023 - mse: 0.0023 - val_loss: 0.0071 - val_mse: 0.0071 - 175ms/epoch - 3ms/step\n",
      "Epoch 19/100\n",
      "61/61 - 0s - loss: 0.0021 - mse: 0.0021 - val_loss: 0.0071 - val_mse: 0.0071 - 142ms/epoch - 2ms/step\n",
      "Epoch 20/100\n",
      "61/61 - 0s - loss: 0.0021 - mse: 0.0021 - val_loss: 0.0076 - val_mse: 0.0076 - 174ms/epoch - 3ms/step\n",
      "Epoch 21/100\n",
      "61/61 - 0s - loss: 0.0022 - mse: 0.0022 - val_loss: 0.0070 - val_mse: 0.0070 - 153ms/epoch - 3ms/step\n",
      "Epoch 22/100\n",
      "61/61 - 0s - loss: 0.0020 - mse: 0.0020 - val_loss: 0.0099 - val_mse: 0.0099 - 213ms/epoch - 3ms/step\n",
      "Epoch 23/100\n",
      "61/61 - 0s - loss: 0.0021 - mse: 0.0021 - val_loss: 0.0078 - val_mse: 0.0078 - 204ms/epoch - 3ms/step\n",
      "Epoch 24/100\n",
      "61/61 - 0s - loss: 0.0020 - mse: 0.0020 - val_loss: 0.0062 - val_mse: 0.0062 - 198ms/epoch - 3ms/step\n",
      "Epoch 25/100\n",
      "61/61 - 0s - loss: 0.0022 - mse: 0.0022 - val_loss: 0.0061 - val_mse: 0.0061 - 197ms/epoch - 3ms/step\n",
      "Epoch 26/100\n",
      "61/61 - 0s - loss: 0.0022 - mse: 0.0022 - val_loss: 0.0072 - val_mse: 0.0072 - 185ms/epoch - 3ms/step\n",
      "Epoch 27/100\n",
      "61/61 - 0s - loss: 0.0021 - mse: 0.0021 - val_loss: 0.0083 - val_mse: 0.0083 - 206ms/epoch - 3ms/step\n",
      "Epoch 28/100\n",
      "61/61 - 0s - loss: 0.0023 - mse: 0.0023 - val_loss: 0.0065 - val_mse: 0.0065 - 179ms/epoch - 3ms/step\n",
      "Epoch 29/100\n",
      "61/61 - 0s - loss: 0.0021 - mse: 0.0021 - val_loss: 0.0048 - val_mse: 0.0048 - 216ms/epoch - 4ms/step\n",
      "Epoch 30/100\n",
      "61/61 - 0s - loss: 0.0020 - mse: 0.0020 - val_loss: 0.0082 - val_mse: 0.0082 - 211ms/epoch - 3ms/step\n",
      "Epoch 31/100\n",
      "61/61 - 0s - loss: 0.0020 - mse: 0.0020 - val_loss: 0.0043 - val_mse: 0.0043 - 201ms/epoch - 3ms/step\n",
      "Epoch 32/100\n",
      "61/61 - 0s - loss: 0.0020 - mse: 0.0020 - val_loss: 0.0056 - val_mse: 0.0056 - 208ms/epoch - 3ms/step\n",
      "Epoch 33/100\n",
      "61/61 - 0s - loss: 0.0021 - mse: 0.0021 - val_loss: 0.0056 - val_mse: 0.0056 - 208ms/epoch - 3ms/step\n",
      "Epoch 34/100\n",
      "61/61 - 0s - loss: 0.0019 - mse: 0.0019 - val_loss: 0.0071 - val_mse: 0.0071 - 213ms/epoch - 3ms/step\n",
      "Epoch 35/100\n",
      "61/61 - 0s - loss: 0.0021 - mse: 0.0021 - val_loss: 0.0053 - val_mse: 0.0053 - 168ms/epoch - 3ms/step\n",
      "Epoch 36/100\n",
      "61/61 - 0s - loss: 0.0019 - mse: 0.0019 - val_loss: 0.0051 - val_mse: 0.0051 - 202ms/epoch - 3ms/step\n",
      "Epoch 37/100\n",
      "61/61 - 0s - loss: 0.0021 - mse: 0.0021 - val_loss: 0.0042 - val_mse: 0.0042 - 258ms/epoch - 4ms/step\n",
      "Epoch 38/100\n",
      "61/61 - 0s - loss: 0.0020 - mse: 0.0020 - val_loss: 0.0041 - val_mse: 0.0041 - 203ms/epoch - 3ms/step\n",
      "Epoch 39/100\n",
      "61/61 - 0s - loss: 0.0020 - mse: 0.0020 - val_loss: 0.0058 - val_mse: 0.0058 - 202ms/epoch - 3ms/step\n",
      "Epoch 40/100\n",
      "61/61 - 0s - loss: 0.0020 - mse: 0.0020 - val_loss: 0.0043 - val_mse: 0.0043 - 204ms/epoch - 3ms/step\n",
      "Epoch 41/100\n",
      "61/61 - 0s - loss: 0.0018 - mse: 0.0018 - val_loss: 0.0054 - val_mse: 0.0054 - 188ms/epoch - 3ms/step\n",
      "Epoch 42/100\n",
      "61/61 - 0s - loss: 0.0020 - mse: 0.0020 - val_loss: 0.0069 - val_mse: 0.0069 - 191ms/epoch - 3ms/step\n",
      "Epoch 43/100\n",
      "61/61 - 0s - loss: 0.0019 - mse: 0.0019 - val_loss: 0.0060 - val_mse: 0.0060 - 192ms/epoch - 3ms/step\n",
      "Epoch 44/100\n",
      "61/61 - 0s - loss: 0.0018 - mse: 0.0018 - val_loss: 0.0057 - val_mse: 0.0057 - 199ms/epoch - 3ms/step\n",
      "Epoch 45/100\n",
      "61/61 - 0s - loss: 0.0020 - mse: 0.0020 - val_loss: 0.0040 - val_mse: 0.0040 - 224ms/epoch - 4ms/step\n",
      "Epoch 46/100\n",
      "61/61 - 0s - loss: 0.0019 - mse: 0.0019 - val_loss: 0.0066 - val_mse: 0.0066 - 199ms/epoch - 3ms/step\n",
      "Epoch 47/100\n",
      "61/61 - 0s - loss: 0.0019 - mse: 0.0019 - val_loss: 0.0039 - val_mse: 0.0039 - 221ms/epoch - 4ms/step\n",
      "Epoch 48/100\n",
      "61/61 - 0s - loss: 0.0018 - mse: 0.0018 - val_loss: 0.0063 - val_mse: 0.0063 - 202ms/epoch - 3ms/step\n",
      "Epoch 49/100\n",
      "61/61 - 0s - loss: 0.0018 - mse: 0.0018 - val_loss: 0.0068 - val_mse: 0.0068 - 189ms/epoch - 3ms/step\n",
      "Epoch 50/100\n",
      "61/61 - 0s - loss: 0.0020 - mse: 0.0020 - val_loss: 0.0051 - val_mse: 0.0051 - 204ms/epoch - 3ms/step\n",
      "Epoch 51/100\n",
      "61/61 - 0s - loss: 0.0018 - mse: 0.0018 - val_loss: 0.0053 - val_mse: 0.0053 - 200ms/epoch - 3ms/step\n",
      "Epoch 52/100\n",
      "61/61 - 0s - loss: 0.0018 - mse: 0.0018 - val_loss: 0.0067 - val_mse: 0.0067 - 168ms/epoch - 3ms/step\n",
      "Epoch 53/100\n",
      "61/61 - 0s - loss: 0.0017 - mse: 0.0017 - val_loss: 0.0081 - val_mse: 0.0081 - 179ms/epoch - 3ms/step\n",
      "Epoch 54/100\n",
      "61/61 - 0s - loss: 0.0019 - mse: 0.0019 - val_loss: 0.0092 - val_mse: 0.0092 - 171ms/epoch - 3ms/step\n",
      "Epoch 55/100\n",
      "61/61 - 0s - loss: 0.0019 - mse: 0.0019 - val_loss: 0.0061 - val_mse: 0.0061 - 192ms/epoch - 3ms/step\n",
      "Epoch 56/100\n",
      "61/61 - 0s - loss: 0.0018 - mse: 0.0018 - val_loss: 0.0071 - val_mse: 0.0071 - 216ms/epoch - 4ms/step\n",
      "Epoch 57/100\n",
      "61/61 - 0s - loss: 0.0019 - mse: 0.0019 - val_loss: 0.0104 - val_mse: 0.0104 - 222ms/epoch - 4ms/step\n",
      "Epoch 58/100\n",
      "61/61 - 0s - loss: 0.0019 - mse: 0.0019 - val_loss: 0.0054 - val_mse: 0.0054 - 197ms/epoch - 3ms/step\n",
      "Epoch 59/100\n",
      "61/61 - 0s - loss: 0.0017 - mse: 0.0017 - val_loss: 0.0088 - val_mse: 0.0088 - 199ms/epoch - 3ms/step\n",
      "Epoch 60/100\n",
      "61/61 - 0s - loss: 0.0018 - mse: 0.0018 - val_loss: 0.0044 - val_mse: 0.0044 - 191ms/epoch - 3ms/step\n",
      "Epoch 61/100\n",
      "61/61 - 0s - loss: 0.0020 - mse: 0.0020 - val_loss: 0.0134 - val_mse: 0.0134 - 190ms/epoch - 3ms/step\n",
      "Epoch 62/100\n",
      "61/61 - 0s - loss: 0.0017 - mse: 0.0017 - val_loss: 0.0071 - val_mse: 0.0071 - 168ms/epoch - 3ms/step\n",
      "Epoch 63/100\n",
      "61/61 - 0s - loss: 0.0017 - mse: 0.0017 - val_loss: 0.0062 - val_mse: 0.0062 - 201ms/epoch - 3ms/step\n",
      "Epoch 64/100\n",
      "61/61 - 0s - loss: 0.0016 - mse: 0.0016 - val_loss: 0.0109 - val_mse: 0.0109 - 237ms/epoch - 4ms/step\n",
      "Epoch 65/100\n",
      "61/61 - 0s - loss: 0.0018 - mse: 0.0018 - val_loss: 0.0064 - val_mse: 0.0064 - 199ms/epoch - 3ms/step\n",
      "Epoch 66/100\n",
      "61/61 - 0s - loss: 0.0018 - mse: 0.0018 - val_loss: 0.0068 - val_mse: 0.0068 - 189ms/epoch - 3ms/step\n",
      "Epoch 67/100\n",
      "61/61 - 0s - loss: 0.0017 - mse: 0.0017 - val_loss: 0.0135 - val_mse: 0.0135 - 167ms/epoch - 3ms/step\n",
      "Epoch 68/100\n",
      "61/61 - 0s - loss: 0.0018 - mse: 0.0018 - val_loss: 0.0060 - val_mse: 0.0060 - 186ms/epoch - 3ms/step\n",
      "Epoch 69/100\n",
      "61/61 - 0s - loss: 0.0017 - mse: 0.0017 - val_loss: 0.0061 - val_mse: 0.0061 - 213ms/epoch - 3ms/step\n",
      "Epoch 70/100\n",
      "61/61 - 0s - loss: 0.0017 - mse: 0.0017 - val_loss: 0.0080 - val_mse: 0.0080 - 242ms/epoch - 4ms/step\n",
      "Epoch 71/100\n",
      "61/61 - 0s - loss: 0.0017 - mse: 0.0017 - val_loss: 0.0071 - val_mse: 0.0071 - 199ms/epoch - 3ms/step\n",
      "Epoch 72/100\n",
      "61/61 - 0s - loss: 0.0018 - mse: 0.0018 - val_loss: 0.0103 - val_mse: 0.0103 - 190ms/epoch - 3ms/step\n",
      "Epoch 73/100\n",
      "61/61 - 0s - loss: 0.0017 - mse: 0.0017 - val_loss: 0.0074 - val_mse: 0.0074 - 180ms/epoch - 3ms/step\n",
      "Epoch 74/100\n",
      "61/61 - 0s - loss: 0.0018 - mse: 0.0018 - val_loss: 0.0074 - val_mse: 0.0074 - 191ms/epoch - 3ms/step\n",
      "Epoch 75/100\n",
      "61/61 - 0s - loss: 0.0017 - mse: 0.0017 - val_loss: 0.0111 - val_mse: 0.0111 - 183ms/epoch - 3ms/step\n",
      "Epoch 76/100\n",
      "61/61 - 0s - loss: 0.0016 - mse: 0.0016 - val_loss: 0.0100 - val_mse: 0.0100 - 199ms/epoch - 3ms/step\n",
      "Epoch 77/100\n",
      "61/61 - 0s - loss: 0.0017 - mse: 0.0017 - val_loss: 0.0064 - val_mse: 0.0064 - 235ms/epoch - 4ms/step\n",
      "Epoch 78/100\n",
      "61/61 - 0s - loss: 0.0016 - mse: 0.0016 - val_loss: 0.0095 - val_mse: 0.0095 - 189ms/epoch - 3ms/step\n",
      "Epoch 79/100\n",
      "61/61 - 0s - loss: 0.0017 - mse: 0.0017 - val_loss: 0.0093 - val_mse: 0.0093 - 178ms/epoch - 3ms/step\n",
      "Epoch 80/100\n",
      "61/61 - 0s - loss: 0.0016 - mse: 0.0016 - val_loss: 0.0084 - val_mse: 0.0084 - 207ms/epoch - 3ms/step\n",
      "Epoch 81/100\n",
      "61/61 - 0s - loss: 0.0016 - mse: 0.0016 - val_loss: 0.0064 - val_mse: 0.0064 - 179ms/epoch - 3ms/step\n",
      "Epoch 82/100\n",
      "61/61 - 0s - loss: 0.0015 - mse: 0.0015 - val_loss: 0.0120 - val_mse: 0.0120 - 174ms/epoch - 3ms/step\n",
      "Epoch 83/100\n",
      "61/61 - 0s - loss: 0.0018 - mse: 0.0018 - val_loss: 0.0075 - val_mse: 0.0075 - 202ms/epoch - 3ms/step\n",
      "Epoch 84/100\n",
      "61/61 - 0s - loss: 0.0017 - mse: 0.0017 - val_loss: 0.0103 - val_mse: 0.0103 - 199ms/epoch - 3ms/step\n",
      "Epoch 85/100\n",
      "61/61 - 0s - loss: 0.0016 - mse: 0.0016 - val_loss: 0.0093 - val_mse: 0.0093 - 168ms/epoch - 3ms/step\n",
      "Epoch 86/100\n",
      "61/61 - 0s - loss: 0.0016 - mse: 0.0016 - val_loss: 0.0121 - val_mse: 0.0121 - 181ms/epoch - 3ms/step\n",
      "Epoch 87/100\n",
      "61/61 - 0s - loss: 0.0016 - mse: 0.0016 - val_loss: 0.0116 - val_mse: 0.0116 - 187ms/epoch - 3ms/step\n",
      "Epoch 88/100\n",
      "61/61 - 0s - loss: 0.0016 - mse: 0.0016 - val_loss: 0.0069 - val_mse: 0.0069 - 200ms/epoch - 3ms/step\n",
      "Epoch 89/100\n",
      "61/61 - 0s - loss: 0.0017 - mse: 0.0017 - val_loss: 0.0065 - val_mse: 0.0065 - 199ms/epoch - 3ms/step\n",
      "Epoch 90/100\n",
      "61/61 - 0s - loss: 0.0017 - mse: 0.0017 - val_loss: 0.0107 - val_mse: 0.0107 - 169ms/epoch - 3ms/step\n",
      "Epoch 91/100\n",
      "61/61 - 0s - loss: 0.0015 - mse: 0.0015 - val_loss: 0.0074 - val_mse: 0.0074 - 177ms/epoch - 3ms/step\n",
      "Epoch 92/100\n",
      "61/61 - 0s - loss: 0.0018 - mse: 0.0018 - val_loss: 0.0086 - val_mse: 0.0086 - 200ms/epoch - 3ms/step\n",
      "Epoch 93/100\n",
      "61/61 - 0s - loss: 0.0016 - mse: 0.0016 - val_loss: 0.0075 - val_mse: 0.0075 - 262ms/epoch - 4ms/step\n",
      "Epoch 94/100\n",
      "61/61 - 0s - loss: 0.0016 - mse: 0.0016 - val_loss: 0.0049 - val_mse: 0.0049 - 206ms/epoch - 3ms/step\n",
      "Epoch 95/100\n",
      "61/61 - 0s - loss: 0.0017 - mse: 0.0017 - val_loss: 0.0061 - val_mse: 0.0061 - 200ms/epoch - 3ms/step\n",
      "Epoch 96/100\n",
      "61/61 - 0s - loss: 0.0015 - mse: 0.0015 - val_loss: 0.0062 - val_mse: 0.0062 - 196ms/epoch - 3ms/step\n",
      "Epoch 97/100\n",
      "61/61 - 0s - loss: 0.0017 - mse: 0.0017 - val_loss: 0.0057 - val_mse: 0.0057 - 197ms/epoch - 3ms/step\n",
      "Epoch 98/100\n",
      "61/61 - 0s - loss: 0.0016 - mse: 0.0016 - val_loss: 0.0090 - val_mse: 0.0090 - 179ms/epoch - 3ms/step\n",
      "Epoch 99/100\n",
      "61/61 - 0s - loss: 0.0015 - mse: 0.0015 - val_loss: 0.0137 - val_mse: 0.0137 - 218ms/epoch - 4ms/step\n",
      "Epoch 100/100\n",
      "61/61 - 0s - loss: 0.0016 - mse: 0.0016 - val_loss: 0.0064 - val_mse: 0.0064 - 144ms/epoch - 2ms/step\n"
     ]
    }
   ],
   "source": [
    "mseplot = model1.compile(loss='mean_squared_error', optimizer=opt, metrics=['mse'])\n",
    "\n",
    "mseplot = model1.fit(x_train, y_train, epochs = 100, batch_size=64, verbose=2, validation_data=(x_test, y_test))"
   ]
  },
  {
   "cell_type": "code",
   "execution_count": 28,
   "id": "05a4cb49",
   "metadata": {
    "id": "05a4cb49",
    "outputId": "d9271c8b-290c-4d77-fff1-0cb79b166ba8"
   },
   "outputs": [
    {
     "name": "stdout",
     "output_type": "stream",
     "text": [
      "Epoch 1/100\n",
      "61/61 - 2s - loss: 0.0017 - rmse: 0.0406 - val_loss: 0.0092 - val_rmse: 0.0957 - 2s/epoch - 28ms/step\n",
      "Epoch 2/100\n",
      "61/61 - 0s - loss: 0.0015 - rmse: 0.0389 - val_loss: 0.0101 - val_rmse: 0.1005 - 222ms/epoch - 4ms/step\n",
      "Epoch 3/100\n",
      "61/61 - 0s - loss: 0.0016 - rmse: 0.0400 - val_loss: 0.0085 - val_rmse: 0.0923 - 245ms/epoch - 4ms/step\n",
      "Epoch 4/100\n",
      "61/61 - 0s - loss: 0.0016 - rmse: 0.0404 - val_loss: 0.0088 - val_rmse: 0.0939 - 205ms/epoch - 3ms/step\n",
      "Epoch 5/100\n",
      "61/61 - 0s - loss: 0.0016 - rmse: 0.0402 - val_loss: 0.0063 - val_rmse: 0.0793 - 207ms/epoch - 3ms/step\n",
      "Epoch 6/100\n",
      "61/61 - 0s - loss: 0.0016 - rmse: 0.0401 - val_loss: 0.0106 - val_rmse: 0.1028 - 159ms/epoch - 3ms/step\n",
      "Epoch 7/100\n",
      "61/61 - 0s - loss: 0.0016 - rmse: 0.0397 - val_loss: 0.0093 - val_rmse: 0.0963 - 163ms/epoch - 3ms/step\n",
      "Epoch 8/100\n",
      "61/61 - 0s - loss: 0.0017 - rmse: 0.0413 - val_loss: 0.0072 - val_rmse: 0.0851 - 213ms/epoch - 3ms/step\n",
      "Epoch 9/100\n",
      "61/61 - 0s - loss: 0.0016 - rmse: 0.0400 - val_loss: 0.0072 - val_rmse: 0.0846 - 180ms/epoch - 3ms/step\n",
      "Epoch 10/100\n",
      "61/61 - 0s - loss: 0.0015 - rmse: 0.0391 - val_loss: 0.0088 - val_rmse: 0.0939 - 197ms/epoch - 3ms/step\n",
      "Epoch 11/100\n",
      "61/61 - 0s - loss: 0.0016 - rmse: 0.0404 - val_loss: 0.0067 - val_rmse: 0.0818 - 205ms/epoch - 3ms/step\n",
      "Epoch 12/100\n",
      "61/61 - 0s - loss: 0.0016 - rmse: 0.0405 - val_loss: 0.0073 - val_rmse: 0.0854 - 180ms/epoch - 3ms/step\n",
      "Epoch 13/100\n",
      "61/61 - 0s - loss: 0.0016 - rmse: 0.0403 - val_loss: 0.0116 - val_rmse: 0.1078 - 152ms/epoch - 2ms/step\n",
      "Epoch 14/100\n",
      "61/61 - 0s - loss: 0.0016 - rmse: 0.0405 - val_loss: 0.0078 - val_rmse: 0.0882 - 204ms/epoch - 3ms/step\n",
      "Epoch 15/100\n",
      "61/61 - 0s - loss: 0.0015 - rmse: 0.0388 - val_loss: 0.0054 - val_rmse: 0.0735 - 200ms/epoch - 3ms/step\n",
      "Epoch 16/100\n",
      "61/61 - 0s - loss: 0.0016 - rmse: 0.0398 - val_loss: 0.0059 - val_rmse: 0.0767 - 199ms/epoch - 3ms/step\n",
      "Epoch 17/100\n",
      "61/61 - 0s - loss: 0.0016 - rmse: 0.0396 - val_loss: 0.0105 - val_rmse: 0.1023 - 152ms/epoch - 2ms/step\n",
      "Epoch 18/100\n",
      "61/61 - 0s - loss: 0.0016 - rmse: 0.0404 - val_loss: 0.0124 - val_rmse: 0.1112 - 202ms/epoch - 3ms/step\n",
      "Epoch 19/100\n",
      "61/61 - 0s - loss: 0.0018 - rmse: 0.0420 - val_loss: 0.0048 - val_rmse: 0.0692 - 143ms/epoch - 2ms/step\n",
      "Epoch 20/100\n",
      "61/61 - 0s - loss: 0.0016 - rmse: 0.0405 - val_loss: 0.0049 - val_rmse: 0.0700 - 194ms/epoch - 3ms/step\n",
      "Epoch 21/100\n",
      "61/61 - 0s - loss: 0.0016 - rmse: 0.0395 - val_loss: 0.0056 - val_rmse: 0.0748 - 127ms/epoch - 2ms/step\n",
      "Epoch 22/100\n",
      "61/61 - 0s - loss: 0.0017 - rmse: 0.0410 - val_loss: 0.0099 - val_rmse: 0.0993 - 214ms/epoch - 4ms/step\n",
      "Epoch 23/100\n",
      "61/61 - 0s - loss: 0.0016 - rmse: 0.0404 - val_loss: 0.0087 - val_rmse: 0.0935 - 192ms/epoch - 3ms/step\n",
      "Epoch 24/100\n",
      "61/61 - 0s - loss: 0.0016 - rmse: 0.0403 - val_loss: 0.0074 - val_rmse: 0.0860 - 207ms/epoch - 3ms/step\n",
      "Epoch 25/100\n",
      "61/61 - 0s - loss: 0.0017 - rmse: 0.0409 - val_loss: 0.0082 - val_rmse: 0.0905 - 195ms/epoch - 3ms/step\n",
      "Epoch 26/100\n",
      "61/61 - 0s - loss: 0.0017 - rmse: 0.0407 - val_loss: 0.0056 - val_rmse: 0.0750 - 174ms/epoch - 3ms/step\n",
      "Epoch 27/100\n",
      "61/61 - 0s - loss: 0.0017 - rmse: 0.0408 - val_loss: 0.0064 - val_rmse: 0.0798 - 163ms/epoch - 3ms/step\n",
      "Epoch 28/100\n",
      "61/61 - 0s - loss: 0.0017 - rmse: 0.0413 - val_loss: 0.0070 - val_rmse: 0.0839 - 150ms/epoch - 2ms/step\n",
      "Epoch 29/100\n",
      "61/61 - 0s - loss: 0.0016 - rmse: 0.0406 - val_loss: 0.0066 - val_rmse: 0.0813 - 200ms/epoch - 3ms/step\n",
      "Epoch 30/100\n",
      "61/61 - 0s - loss: 0.0016 - rmse: 0.0401 - val_loss: 0.0065 - val_rmse: 0.0806 - 202ms/epoch - 3ms/step\n",
      "Epoch 31/100\n",
      "61/61 - 0s - loss: 0.0016 - rmse: 0.0402 - val_loss: 0.0105 - val_rmse: 0.1026 - 199ms/epoch - 3ms/step\n",
      "Epoch 32/100\n",
      "61/61 - 0s - loss: 0.0016 - rmse: 0.0404 - val_loss: 0.0066 - val_rmse: 0.0811 - 197ms/epoch - 3ms/step\n",
      "Epoch 33/100\n",
      "61/61 - 0s - loss: 0.0015 - rmse: 0.0389 - val_loss: 0.0071 - val_rmse: 0.0841 - 197ms/epoch - 3ms/step\n",
      "Epoch 34/100\n",
      "61/61 - 0s - loss: 0.0018 - rmse: 0.0428 - val_loss: 0.0121 - val_rmse: 0.1101 - 194ms/epoch - 3ms/step\n",
      "Epoch 35/100\n",
      "61/61 - 0s - loss: 0.0016 - rmse: 0.0406 - val_loss: 0.0052 - val_rmse: 0.0724 - 193ms/epoch - 3ms/step\n",
      "Epoch 36/100\n",
      "61/61 - 0s - loss: 0.0016 - rmse: 0.0400 - val_loss: 0.0049 - val_rmse: 0.0700 - 245ms/epoch - 4ms/step\n",
      "Epoch 37/100\n",
      "61/61 - 0s - loss: 0.0016 - rmse: 0.0406 - val_loss: 0.0105 - val_rmse: 0.1024 - 251ms/epoch - 4ms/step\n",
      "Epoch 38/100\n",
      "61/61 - 0s - loss: 0.0017 - rmse: 0.0417 - val_loss: 0.0118 - val_rmse: 0.1084 - 192ms/epoch - 3ms/step\n",
      "Epoch 39/100\n",
      "61/61 - 0s - loss: 0.0016 - rmse: 0.0402 - val_loss: 0.0060 - val_rmse: 0.0772 - 199ms/epoch - 3ms/step\n",
      "Epoch 40/100\n",
      "61/61 - 0s - loss: 0.0018 - rmse: 0.0423 - val_loss: 0.0094 - val_rmse: 0.0971 - 202ms/epoch - 3ms/step\n",
      "Epoch 41/100\n",
      "61/61 - 0s - loss: 0.0018 - rmse: 0.0420 - val_loss: 0.0082 - val_rmse: 0.0905 - 199ms/epoch - 3ms/step\n",
      "Epoch 42/100\n",
      "61/61 - 0s - loss: 0.0016 - rmse: 0.0402 - val_loss: 0.0073 - val_rmse: 0.0854 - 193ms/epoch - 3ms/step\n",
      "Epoch 43/100\n",
      "61/61 - 0s - loss: 0.0017 - rmse: 0.0409 - val_loss: 0.0061 - val_rmse: 0.0780 - 200ms/epoch - 3ms/step\n",
      "Epoch 44/100\n",
      "61/61 - 0s - loss: 0.0018 - rmse: 0.0426 - val_loss: 0.0054 - val_rmse: 0.0733 - 195ms/epoch - 3ms/step\n",
      "Epoch 45/100\n",
      "61/61 - 0s - loss: 0.0016 - rmse: 0.0400 - val_loss: 0.0073 - val_rmse: 0.0854 - 199ms/epoch - 3ms/step\n",
      "Epoch 46/100\n",
      "61/61 - 0s - loss: 0.0017 - rmse: 0.0417 - val_loss: 0.0078 - val_rmse: 0.0883 - 198ms/epoch - 3ms/step\n",
      "Epoch 47/100\n",
      "61/61 - 0s - loss: 0.0016 - rmse: 0.0402 - val_loss: 0.0081 - val_rmse: 0.0898 - 214ms/epoch - 4ms/step\n",
      "Epoch 48/100\n",
      "61/61 - 0s - loss: 0.0016 - rmse: 0.0403 - val_loss: 0.0052 - val_rmse: 0.0724 - 161ms/epoch - 3ms/step\n",
      "Epoch 49/100\n",
      "61/61 - 0s - loss: 0.0017 - rmse: 0.0406 - val_loss: 0.0088 - val_rmse: 0.0941 - 205ms/epoch - 3ms/step\n",
      "Epoch 50/100\n",
      "61/61 - 0s - loss: 0.0015 - rmse: 0.0393 - val_loss: 0.0072 - val_rmse: 0.0851 - 188ms/epoch - 3ms/step\n",
      "Epoch 51/100\n",
      "61/61 - 0s - loss: 0.0016 - rmse: 0.0397 - val_loss: 0.0053 - val_rmse: 0.0729 - 158ms/epoch - 3ms/step\n",
      "Epoch 52/100\n",
      "61/61 - 0s - loss: 0.0017 - rmse: 0.0407 - val_loss: 0.0058 - val_rmse: 0.0759 - 195ms/epoch - 3ms/step\n",
      "Epoch 53/100\n",
      "61/61 - 0s - loss: 0.0017 - rmse: 0.0407 - val_loss: 0.0081 - val_rmse: 0.0898 - 180ms/epoch - 3ms/step\n",
      "Epoch 54/100\n",
      "61/61 - 0s - loss: 0.0017 - rmse: 0.0418 - val_loss: 0.0105 - val_rmse: 0.1025 - 215ms/epoch - 4ms/step\n",
      "Epoch 55/100\n",
      "61/61 - 0s - loss: 0.0017 - rmse: 0.0415 - val_loss: 0.0044 - val_rmse: 0.0661 - 248ms/epoch - 4ms/step\n",
      "Epoch 56/100\n",
      "61/61 - 0s - loss: 0.0017 - rmse: 0.0412 - val_loss: 0.0101 - val_rmse: 0.1006 - 219ms/epoch - 4ms/step\n",
      "Epoch 57/100\n",
      "61/61 - 0s - loss: 0.0016 - rmse: 0.0399 - val_loss: 0.0106 - val_rmse: 0.1029 - 204ms/epoch - 3ms/step\n",
      "Epoch 58/100\n",
      "61/61 - 0s - loss: 0.0016 - rmse: 0.0403 - val_loss: 0.0073 - val_rmse: 0.0855 - 198ms/epoch - 3ms/step\n",
      "Epoch 59/100\n",
      "61/61 - 0s - loss: 0.0016 - rmse: 0.0405 - val_loss: 0.0060 - val_rmse: 0.0777 - 190ms/epoch - 3ms/step\n",
      "Epoch 60/100\n",
      "61/61 - 0s - loss: 0.0016 - rmse: 0.0397 - val_loss: 0.0055 - val_rmse: 0.0743 - 169ms/epoch - 3ms/step\n",
      "Epoch 61/100\n",
      "61/61 - 0s - loss: 0.0016 - rmse: 0.0400 - val_loss: 0.0083 - val_rmse: 0.0910 - 179ms/epoch - 3ms/step\n",
      "Epoch 62/100\n",
      "61/61 - 0s - loss: 0.0018 - rmse: 0.0421 - val_loss: 0.0057 - val_rmse: 0.0756 - 191ms/epoch - 3ms/step\n",
      "Epoch 63/100\n",
      "61/61 - 0s - loss: 0.0016 - rmse: 0.0395 - val_loss: 0.0117 - val_rmse: 0.1081 - 176ms/epoch - 3ms/step\n",
      "Epoch 64/100\n",
      "61/61 - 0s - loss: 0.0016 - rmse: 0.0403 - val_loss: 0.0043 - val_rmse: 0.0658 - 175ms/epoch - 3ms/step\n",
      "Epoch 65/100\n",
      "61/61 - 0s - loss: 0.0017 - rmse: 0.0407 - val_loss: 0.0044 - val_rmse: 0.0665 - 199ms/epoch - 3ms/step\n",
      "Epoch 66/100\n",
      "61/61 - 0s - loss: 0.0015 - rmse: 0.0392 - val_loss: 0.0083 - val_rmse: 0.0911 - 183ms/epoch - 3ms/step\n",
      "Epoch 67/100\n",
      "61/61 - 0s - loss: 0.0018 - rmse: 0.0430 - val_loss: 0.0079 - val_rmse: 0.0887 - 202ms/epoch - 3ms/step\n",
      "Epoch 68/100\n",
      "61/61 - 0s - loss: 0.0016 - rmse: 0.0397 - val_loss: 0.0066 - val_rmse: 0.0812 - 237ms/epoch - 4ms/step\n",
      "Epoch 69/100\n",
      "61/61 - 0s - loss: 0.0016 - rmse: 0.0401 - val_loss: 0.0057 - val_rmse: 0.0752 - 205ms/epoch - 3ms/step\n",
      "Epoch 70/100\n",
      "61/61 - 0s - loss: 0.0016 - rmse: 0.0404 - val_loss: 0.0055 - val_rmse: 0.0744 - 167ms/epoch - 3ms/step\n",
      "Epoch 71/100\n",
      "61/61 - 0s - loss: 0.0017 - rmse: 0.0413 - val_loss: 0.0105 - val_rmse: 0.1024 - 190ms/epoch - 3ms/step\n",
      "Epoch 72/100\n",
      "61/61 - 0s - loss: 0.0017 - rmse: 0.0407 - val_loss: 0.0068 - val_rmse: 0.0823 - 182ms/epoch - 3ms/step\n",
      "Epoch 73/100\n",
      "61/61 - 0s - loss: 0.0017 - rmse: 0.0410 - val_loss: 0.0056 - val_rmse: 0.0749 - 195ms/epoch - 3ms/step\n",
      "Epoch 74/100\n",
      "61/61 - 0s - loss: 0.0016 - rmse: 0.0404 - val_loss: 0.0073 - val_rmse: 0.0854 - 183ms/epoch - 3ms/step\n",
      "Epoch 75/100\n",
      "61/61 - 0s - loss: 0.0015 - rmse: 0.0389 - val_loss: 0.0059 - val_rmse: 0.0768 - 194ms/epoch - 3ms/step\n",
      "Epoch 76/100\n",
      "61/61 - 0s - loss: 0.0015 - rmse: 0.0393 - val_loss: 0.0068 - val_rmse: 0.0824 - 191ms/epoch - 3ms/step\n",
      "Epoch 77/100\n",
      "61/61 - 0s - loss: 0.0018 - rmse: 0.0421 - val_loss: 0.0076 - val_rmse: 0.0871 - 219ms/epoch - 4ms/step\n",
      "Epoch 78/100\n",
      "61/61 - 0s - loss: 0.0016 - rmse: 0.0405 - val_loss: 0.0043 - val_rmse: 0.0655 - 187ms/epoch - 3ms/step\n",
      "Epoch 79/100\n",
      "61/61 - 0s - loss: 0.0017 - rmse: 0.0408 - val_loss: 0.0042 - val_rmse: 0.0648 - 188ms/epoch - 3ms/step\n",
      "Epoch 80/100\n",
      "61/61 - 0s - loss: 0.0017 - rmse: 0.0411 - val_loss: 0.0088 - val_rmse: 0.0937 - 141ms/epoch - 2ms/step\n",
      "Epoch 81/100\n",
      "61/61 - 0s - loss: 0.0016 - rmse: 0.0404 - val_loss: 0.0082 - val_rmse: 0.0905 - 210ms/epoch - 3ms/step\n",
      "Epoch 82/100\n",
      "61/61 - 0s - loss: 0.0016 - rmse: 0.0405 - val_loss: 0.0050 - val_rmse: 0.0709 - 209ms/epoch - 3ms/step\n",
      "Epoch 83/100\n",
      "61/61 - 0s - loss: 0.0016 - rmse: 0.0403 - val_loss: 0.0063 - val_rmse: 0.0796 - 212ms/epoch - 3ms/step\n",
      "Epoch 84/100\n",
      "61/61 - 0s - loss: 0.0017 - rmse: 0.0410 - val_loss: 0.0057 - val_rmse: 0.0757 - 171ms/epoch - 3ms/step\n",
      "Epoch 85/100\n",
      "61/61 - 0s - loss: 0.0017 - rmse: 0.0410 - val_loss: 0.0061 - val_rmse: 0.0780 - 199ms/epoch - 3ms/step\n",
      "Epoch 86/100\n",
      "61/61 - 0s - loss: 0.0017 - rmse: 0.0406 - val_loss: 0.0055 - val_rmse: 0.0744 - 215ms/epoch - 4ms/step\n",
      "Epoch 87/100\n",
      "61/61 - 0s - loss: 0.0016 - rmse: 0.0397 - val_loss: 0.0040 - val_rmse: 0.0634 - 195ms/epoch - 3ms/step\n",
      "Epoch 88/100\n",
      "61/61 - 0s - loss: 0.0016 - rmse: 0.0395 - val_loss: 0.0092 - val_rmse: 0.0960 - 201ms/epoch - 3ms/step\n",
      "Epoch 89/100\n",
      "61/61 - 0s - loss: 0.0016 - rmse: 0.0404 - val_loss: 0.0031 - val_rmse: 0.0559 - 185ms/epoch - 3ms/step\n",
      "Epoch 90/100\n",
      "61/61 - 0s - loss: 0.0017 - rmse: 0.0417 - val_loss: 0.0086 - val_rmse: 0.0925 - 261ms/epoch - 4ms/step\n",
      "Epoch 91/100\n",
      "61/61 - 0s - loss: 0.0016 - rmse: 0.0405 - val_loss: 0.0057 - val_rmse: 0.0754 - 171ms/epoch - 3ms/step\n",
      "Epoch 92/100\n",
      "61/61 - 0s - loss: 0.0018 - rmse: 0.0423 - val_loss: 0.0037 - val_rmse: 0.0605 - 201ms/epoch - 3ms/step\n",
      "Epoch 93/100\n",
      "61/61 - 0s - loss: 0.0015 - rmse: 0.0390 - val_loss: 0.0032 - val_rmse: 0.0565 - 181ms/epoch - 3ms/step\n",
      "Epoch 94/100\n",
      "61/61 - 0s - loss: 0.0017 - rmse: 0.0412 - val_loss: 0.0045 - val_rmse: 0.0667 - 194ms/epoch - 3ms/step\n",
      "Epoch 95/100\n",
      "61/61 - 0s - loss: 0.0017 - rmse: 0.0418 - val_loss: 0.0071 - val_rmse: 0.0840 - 177ms/epoch - 3ms/step\n",
      "Epoch 96/100\n",
      "61/61 - 0s - loss: 0.0017 - rmse: 0.0411 - val_loss: 0.0046 - val_rmse: 0.0677 - 180ms/epoch - 3ms/step\n",
      "Epoch 97/100\n",
      "61/61 - 0s - loss: 0.0017 - rmse: 0.0408 - val_loss: 0.0063 - val_rmse: 0.0794 - 170ms/epoch - 3ms/step\n",
      "Epoch 98/100\n",
      "61/61 - 0s - loss: 0.0017 - rmse: 0.0416 - val_loss: 0.0054 - val_rmse: 0.0736 - 196ms/epoch - 3ms/step\n",
      "Epoch 99/100\n",
      "61/61 - 0s - loss: 0.0016 - rmse: 0.0405 - val_loss: 0.0058 - val_rmse: 0.0762 - 188ms/epoch - 3ms/step\n",
      "Epoch 100/100\n",
      "61/61 - 0s - loss: 0.0017 - rmse: 0.0407 - val_loss: 0.0062 - val_rmse: 0.0784 - 211ms/epoch - 3ms/step\n"
     ]
    }
   ],
   "source": [
    "model1.compile(loss='mse', optimizer=opt, metrics=[tf.keras.metrics.RootMeanSquaredError(name='rmse')])\n",
    "\n",
    "rmseplot = model1.fit(x_train, y_train, epochs = 100, batch_size=64, verbose=2, validation_data=(x_test, y_test))"
   ]
  },
  {
   "cell_type": "code",
   "execution_count": 30,
   "id": "891decaf",
   "metadata": {
    "id": "891decaf",
    "outputId": "48cd46f8-a332-4750-8197-e9097980a84e"
   },
   "outputs": [
    {
     "name": "stdout",
     "output_type": "stream",
     "text": [
      "122/122 - 0s - loss: 1.8591e-04 - rmse: 0.0136 - 159ms/epoch - 1ms/step\n",
      "Akurasi Training: 0.013634967617690563\n"
     ]
    }
   ],
   "source": [
    "score = model1.evaluate(x_train, y_train, batch_size = 32, verbose = 2)\n",
    "print('Akurasi Training:', score[1])"
   ]
  },
  {
   "cell_type": "markdown",
   "id": "f56484d9",
   "metadata": {
    "id": "f56484d9"
   },
   "source": [
    "# Tuning Test"
   ]
  },
  {
   "cell_type": "markdown",
   "id": "ce261b15",
   "metadata": {
    "id": "ce261b15"
   },
   "source": [
    "Membuat tuning test dari hasil model yang telah dibuat dengan menggunakan perbandingan yang lainnya"
   ]
  },
  {
   "cell_type": "code",
   "execution_count": 31,
   "id": "5323a006",
   "metadata": {
    "id": "5323a006",
    "outputId": "c5c2f796-a524-462b-e35b-1e5864dcbaab"
   },
   "outputs": [
    {
     "name": "stdout",
     "output_type": "stream",
     "text": [
      "Shape x_train: (3882, 1, 15)\n",
      "Shape y_train: (3882,)\n",
      "Timesteps: 1\n",
      "Features: 15\n"
     ]
    }
   ],
   "source": [
    "print(\"Shape x_train:\", x_train.shape)\n",
    "# Output: (jumlah_sampel, timesteps, features)\n",
    "\n",
    "# Misalkan y_train adalah dataset target\n",
    "print(\"Shape y_train:\", y_train.shape)\n",
    "# Output: (jumlah_sampel,)\n",
    "\n",
    "# Ambil nilai timesteps dari x_train\n",
    "timesteps = x_train.shape[1]\n",
    "print(\"Timesteps:\", timesteps)\n",
    "\n",
    "# Ambil nilai features dari x_train\n",
    "features = x_train.shape[2]\n",
    "print(\"Features:\", features)"
   ]
  },
  {
   "cell_type": "code",
   "execution_count": 32,
   "id": "9d0c1641",
   "metadata": {
    "id": "9d0c1641",
    "outputId": "02b0da00-211c-4573-94d2-e732c2f52215"
   },
   "outputs": [
    {
     "name": "stderr",
     "output_type": "stream",
     "text": [
      "C:\\Users\\Alfaisal\\AppData\\Local\\Temp\\ipykernel_28156\\3761055048.py:20: DeprecationWarning: KerasClassifier is deprecated, use Sci-Keras (https://github.com/adriangb/scikeras) instead. See https://www.adriangb.com/scikeras/stable/migration.html for help migrating.\n",
      "  model = KerasClassifier(build_fn=create_model)\n"
     ]
    },
    {
     "name": "stdout",
     "output_type": "stream",
     "text": [
      "98/98 [==============================] - 3s 3ms/step - loss: 49.6047 - accuracy: 6.4412e-04\n",
      "25/25 [==============================] - 0s 2ms/step - loss: 6.0272 - accuracy: 0.6847\n",
      "98/98 [==============================] - 2s 3ms/step - loss: -624.4813 - accuracy: 0.0019\n",
      "25/25 [==============================] - 1s 2ms/step - loss: 91.7485 - accuracy: 0.0000e+00\n",
      "98/98 [==============================] - 2s 3ms/step - loss: 4739.7148 - accuracy: 0.0019\n",
      "25/25 [==============================] - 0s 2ms/step - loss: 3859.7759 - accuracy: 0.0000e+00\n",
      "98/98 [==============================] - 2s 3ms/step - loss: 481.0383 - accuracy: 0.0019\n",
      "25/25 [==============================] - 1s 2ms/step - loss: 304.9867 - accuracy: 0.0000e+00\n",
      "98/98 [==============================] - 2s 2ms/step - loss: 1900.2249 - accuracy: 0.0019\n",
      "25/25 [==============================] - 1s 2ms/step - loss: 369.6241 - accuracy: 0.0000e+00\n",
      "98/98 [==============================] - 3s 3ms/step - loss: 138.9405 - accuracy: 6.4412e-04\n",
      "25/25 [==============================] - 1s 2ms/step - loss: 5.9827 - accuracy: 0.6847\n",
      "98/98 [==============================] - 3s 3ms/step - loss: 248.1326 - accuracy: 0.0019\n",
      "25/25 [==============================] - 0s 2ms/step - loss: 189.3176 - accuracy: 0.0000e+00\n",
      "98/98 [==============================] - 3s 3ms/step - loss: 295.1918 - accuracy: 0.0019\n",
      "25/25 [==============================] - 1s 2ms/step - loss: -654.1652 - accuracy: 0.0000e+00\n",
      "98/98 [==============================] - 3s 3ms/step - loss: -750.5873 - accuracy: 0.0019\n",
      "25/25 [==============================] - 1s 2ms/step - loss: -2943.0364 - accuracy: 0.0000e+00\n",
      "98/98 [==============================] - 3s 3ms/step - loss: 3569.9717 - accuracy: 0.0019\n",
      "25/25 [==============================] - 1s 2ms/step - loss: 7856.0088 - accuracy: 0.0000e+00\n",
      "98/98 [==============================] - 2s 4ms/step - loss: 4240.4497 - accuracy: 6.4412e-04\n",
      "25/25 [==============================] - 1s 2ms/step - loss: 52.6275 - accuracy: 0.6847\n",
      "98/98 [==============================] - 3s 6ms/step - loss: -2557.2881 - accuracy: 0.0019\n",
      "25/25 [==============================] - 1s 3ms/step - loss: -152.8181 - accuracy: 0.0000e+00\n",
      "98/98 [==============================] - 3s 6ms/step - loss: 957.8917 - accuracy: 0.0019\n",
      "25/25 [==============================] - 1s 3ms/step - loss: 570.8265 - accuracy: 0.0000e+00\n",
      "98/98 [==============================] - 3s 7ms/step - loss: 4024.3628 - accuracy: 0.0019\n",
      "25/25 [==============================] - 0s 2ms/step - loss: 5091.7832 - accuracy: 0.0000e+00\n",
      "98/98 [==============================] - 3s 5ms/step - loss: 3569.9719 - accuracy: 0.0019\n",
      "25/25 [==============================] - 1s 2ms/step - loss: 7856.0088 - accuracy: 0.0000e+00\n",
      "98/98 [==============================] - 3s 2ms/step - loss: -1521.9158 - accuracy: 6.4412e-04\n",
      "25/25 [==============================] - 1s 1ms/step - loss: 2.4215 - accuracy: 0.6847\n",
      "98/98 [==============================] - 2s 2ms/step - loss: -1445.9111 - accuracy: 0.0019\n",
      "25/25 [==============================] - 1s 1ms/step - loss: 134.2421 - accuracy: 0.0000e+00\n",
      "98/98 [==============================] - 2s 3ms/step - loss: 4739.7153 - accuracy: 0.0019\n",
      "25/25 [==============================] - 1s 2ms/step - loss: 3859.7759 - accuracy: 0.0000e+00\n",
      "98/98 [==============================] - 2s 2ms/step - loss: -730.8041 - accuracy: 0.0019\n",
      "25/25 [==============================] - 1s 2ms/step - loss: -1517.8204 - accuracy: 0.0000e+00\n",
      "98/98 [==============================] - 2s 2ms/step - loss: -442.3176 - accuracy: 0.0019\n",
      "25/25 [==============================] - 1s 1ms/step - loss: -7751.2695 - accuracy: 0.0000e+00\n",
      "98/98 [==============================] - 2s 3ms/step - loss: -2593.2686 - accuracy: 0.0000e+00\n",
      "25/25 [==============================] - 1s 2ms/step - loss: -0.3957 - accuracy: 0.5946\n",
      "98/98 [==============================] - 2s 3ms/step - loss: 4590.5640 - accuracy: 0.0019\n",
      "25/25 [==============================] - 1s 2ms/step - loss: 2102.1804 - accuracy: 0.0000e+00\n",
      "98/98 [==============================] - 2s 3ms/step - loss: -2016.3591 - accuracy: 0.0019\n",
      "25/25 [==============================] - 1s 2ms/step - loss: -1701.6190 - accuracy: 0.0000e+00\n",
      "98/98 [==============================] - 2s 4ms/step - loss: -1640.0000 - accuracy: 0.0019\n",
      "25/25 [==============================] - 1s 2ms/step - loss: -5018.5327 - accuracy: 0.0000e+00\n",
      "98/98 [==============================] - 3s 4ms/step - loss: -684.2274 - accuracy: 0.0019\n",
      "25/25 [==============================] - 1s 2ms/step - loss: -7751.2695 - accuracy: 0.0000e+00\n",
      "98/98 [==============================] - 3s 5ms/step - loss: 4240.4502 - accuracy: 6.4412e-04\n",
      "25/25 [==============================] - 1s 3ms/step - loss: 52.6275 - accuracy: 0.6847\n",
      "98/98 [==============================] - 3s 6ms/step - loss: 4590.5635 - accuracy: 0.0019\n",
      "25/25 [==============================] - 1s 2ms/step - loss: 2102.1804 - accuracy: 0.0000e+00\n",
      "98/98 [==============================] - 3s 5ms/step - loss: -1268.6455 - accuracy: 0.0019\n",
      "25/25 [==============================] - 0s 2ms/step - loss: -1238.6379 - accuracy: 0.0000e+00\n",
      "98/98 [==============================] - 2s 5ms/step - loss: 4024.3616 - accuracy: 0.0019\n",
      "25/25 [==============================] - 1s 2ms/step - loss: 5091.7832 - accuracy: 0.0000e+00\n",
      "98/98 [==============================] - 3s 5ms/step - loss: -584.8235 - accuracy: 0.0019\n",
      "25/25 [==============================] - 0s 2ms/step - loss: -7751.2695 - accuracy: 0.0000e+00\n",
      "98/98 [==============================] - 2s 2ms/step - loss: -3113.9221 - accuracy: 6.4412e-04\n",
      "25/25 [==============================] - 0s 2ms/step - loss: -36.7787 - accuracy: 0.0335\n",
      "98/98 [==============================] - 2s 2ms/step - loss: -2764.2534 - accuracy: 0.0026\n",
      "25/25 [==============================] - 0s 2ms/step - loss: -2062.9846 - accuracy: 0.0000e+00\n",
      "98/98 [==============================] - 2s 2ms/step - loss: 4739.7163 - accuracy: 0.0019\n",
      "25/25 [==============================] - 0s 1ms/step - loss: 3859.7759 - accuracy: 0.0000e+00\n",
      "98/98 [==============================] - 2s 2ms/step - loss: 4024.3613 - accuracy: 0.0019\n",
      "25/25 [==============================] - 0s 2ms/step - loss: 5091.7832 - accuracy: 0.0000e+00\n",
      "98/98 [==============================] - 2s 2ms/step - loss: -1775.8944 - accuracy: 0.0023\n",
      "25/25 [==============================] - 0s 2ms/step - loss: -7751.2695 - accuracy: 0.0000e+00\n",
      "98/98 [==============================] - 2s 3ms/step - loss: 4240.4492 - accuracy: 6.4412e-04\n",
      "25/25 [==============================] - 0s 2ms/step - loss: 52.6275 - accuracy: 0.6847\n",
      "98/98 [==============================] - 2s 3ms/step - loss: -3484.2690 - accuracy: 0.0019\n",
      "25/25 [==============================] - 0s 2ms/step - loss: -2062.9846 - accuracy: 0.0000e+00\n",
      "98/98 [==============================] - 2s 4ms/step - loss: 4739.7148 - accuracy: 0.0019\n",
      "25/25 [==============================] - 0s 2ms/step - loss: 3859.7759 - accuracy: 0.0000e+00\n",
      "98/98 [==============================] - 2s 4ms/step - loss: 4024.3623 - accuracy: 0.0019\n",
      "25/25 [==============================] - 0s 2ms/step - loss: 5091.7832 - accuracy: 0.0000e+00\n",
      "98/98 [==============================] - 2s 3ms/step - loss: 3569.9724 - accuracy: 0.0019\n",
      "25/25 [==============================] - 0s 2ms/step - loss: 7856.0088 - accuracy: 0.0000e+00\n",
      "98/98 [==============================] - 2s 6ms/step - loss: 4240.4492 - accuracy: 6.4412e-04\n",
      "25/25 [==============================] - 0s 3ms/step - loss: 52.6275 - accuracy: 0.6847\n",
      "98/98 [==============================] - 2s 5ms/step - loss: 4590.5654 - accuracy: 0.0019\n",
      "25/25 [==============================] - 0s 2ms/step - loss: 2102.1804 - accuracy: 0.0000e+00\n",
      "98/98 [==============================] - 2s 5ms/step - loss: -4112.4448 - accuracy: 0.0019\n",
      "25/25 [==============================] - 0s 3ms/step - loss: -3800.5583 - accuracy: 0.0000e+00\n",
      "98/98 [==============================] - 2s 5ms/step - loss: -3809.5728 - accuracy: 0.0019\n",
      "25/25 [==============================] - 0s 2ms/step - loss: -5018.5327 - accuracy: 0.0000e+00\n",
      "98/98 [==============================] - 2s 5ms/step - loss: 3569.9709 - accuracy: 0.0019\n",
      "25/25 [==============================] - 0s 2ms/step - loss: 7856.0088 - accuracy: 0.0000e+00\n",
      "98/98 [==============================] - 2s 2ms/step - loss: 4240.4497 - accuracy: 6.4412e-04\n",
      "25/25 [==============================] - 0s 1ms/step - loss: 52.6275 - accuracy: 0.6847\n",
      "98/98 [==============================] - 2s 2ms/step - loss: 4590.5640 - accuracy: 0.0019\n",
      "25/25 [==============================] - 0s 1ms/step - loss: 2102.1804 - accuracy: 0.0000e+00\n",
      "98/98 [==============================] - 2s 2ms/step - loss: -3667.3728 - accuracy: 0.0019\n",
      "25/25 [==============================] - 0s 1ms/step - loss: -3800.5583 - accuracy: 0.0000e+00\n",
      "98/98 [==============================] - 2s 2ms/step - loss: 4024.3623 - accuracy: 0.0019\n",
      "25/25 [==============================] - 0s 2ms/step - loss: 5091.7832 - accuracy: 0.0000e+00\n",
      "98/98 [==============================] - 2s 2ms/step - loss: -2943.7905 - accuracy: 0.0019\n",
      "25/25 [==============================] - 0s 1ms/step - loss: -7751.2695 - accuracy: 0.0000e+00\n",
      "98/98 [==============================] - 2s 4ms/step - loss: 4240.4507 - accuracy: 6.4412e-04\n",
      "25/25 [==============================] - 0s 2ms/step - loss: 52.6275 - accuracy: 0.6847\n",
      "98/98 [==============================] - 2s 3ms/step - loss: 4590.5645 - accuracy: 0.0019\n",
      "25/25 [==============================] - 0s 2ms/step - loss: 2102.1804 - accuracy: 0.0000e+00\n",
      "98/98 [==============================] - 2s 3ms/step - loss: -4112.0791 - accuracy: 0.0019\n",
      "25/25 [==============================] - 0s 2ms/step - loss: -3800.5583 - accuracy: 0.0000e+00\n",
      "98/98 [==============================] - 2s 3ms/step - loss: -3019.8931 - accuracy: 0.0026\n",
      "25/25 [==============================] - 0s 2ms/step - loss: -5018.5327 - accuracy: 0.0000e+00\n",
      "98/98 [==============================] - 2s 4ms/step - loss: 3569.9719 - accuracy: 0.0019\n",
      "25/25 [==============================] - 0s 2ms/step - loss: 7856.0088 - accuracy: 0.0000e+00\n",
      "98/98 [==============================] - 2s 6ms/step - loss: 4240.4497 - accuracy: 6.4412e-04\n",
      "25/25 [==============================] - 0s 3ms/step - loss: 52.6275 - accuracy: 0.6847\n",
      "98/98 [==============================] - 2s 4ms/step - loss: 4590.5654 - accuracy: 0.0019\n",
      "25/25 [==============================] - 0s 2ms/step - loss: 2102.1804 - accuracy: 0.0000e+00\n",
      "98/98 [==============================] - 2s 6ms/step - loss: -4627.0620 - accuracy: 0.0019\n",
      "25/25 [==============================] - 0s 2ms/step - loss: -3800.5583 - accuracy: 0.0000e+00\n",
      "98/98 [==============================] - 2s 5ms/step - loss: -3815.2444 - accuracy: 0.0023\n",
      "25/25 [==============================] - 0s 2ms/step - loss: -5018.5327 - accuracy: 0.0000e+00\n",
      "98/98 [==============================] - 2s 6ms/step - loss: -3369.0637 - accuracy: 0.0019\n",
      "25/25 [==============================] - 0s 2ms/step - loss: -7751.2695 - accuracy: 0.0000e+00\n",
      "122/122 [==============================] - 2s 2ms/step - loss: -1781.1985 - accuracy: 0.0015\n",
      "Parameter terbaik: {'activation': 'tanh', 'optimizer': 'adam', 'units': 50}\n",
      "Skor akurasi terbaik: 0.1369369387626648\n"
     ]
    }
   ],
   "source": [
    "import numpy as np\n",
    "from sklearn.model_selection import GridSearchCV\n",
    "from keras.models import Sequential\n",
    "from keras.layers import LSTM, Dense\n",
    "from keras.wrappers.scikit_learn import KerasClassifier\n",
    "\n",
    "# Placeholder values for timesteps and features\n",
    "timesteps = 1\n",
    "features = 15\n",
    "\n",
    "# Fungsi untuk membuat model LSTM\n",
    "def create_model(units=50, activation='tanh', optimizer='opt'):\n",
    "    model = Sequential()\n",
    "    model.add(LSTM(units=units, activation=activation, input_shape=(timesteps, features)))\n",
    "    model.add(Dense(1))\n",
    "    model.compile(loss='binary_crossentropy', optimizer=optimizer, metrics=['accuracy'])\n",
    "    return model\n",
    "\n",
    "# Membuat objek KerasClassifier\n",
    "model = KerasClassifier(build_fn=create_model)\n",
    "\n",
    "# Mendefinisikan hyperparameter yang ingin diuji\n",
    "param_grid = {\n",
    "    'units': [50, 100, 200],\n",
    "    'activation': ['tanh', 'sigmoid'],\n",
    "    'optimizer': ['adam', 'rmsprop']\n",
    "}\n",
    "\n",
    "# Membuat objek GridSearchCV\n",
    "grid_search = GridSearchCV(estimator=model, param_grid=param_grid, cv=5)\n",
    "\n",
    "# Melakukan proses tuning dengan fit\n",
    "grid_search.fit(x_train, y_train)\n",
    "\n",
    "# Menampilkan parameter terbaik\n",
    "print(\"Parameter terbaik:\", grid_search.best_params_)\n",
    "\n",
    "# Menampilkan skor akurasi terbaik\n",
    "print(\"Skor akurasi terbaik:\", grid_search.best_score_)"
   ]
  },
  {
   "cell_type": "markdown",
   "id": "a6852ce5",
   "metadata": {
    "id": "a6852ce5"
   },
   "source": [
    "# Visualisasi Model LSTM"
   ]
  },
  {
   "cell_type": "code",
   "execution_count": 33,
   "id": "4f8b19c5",
   "metadata": {
    "id": "4f8b19c5",
    "outputId": "0465e7ca-def2-46ce-fec2-58785ccaa5e5"
   },
   "outputs": [
    {
     "name": "stdout",
     "output_type": "stream",
     "text": [
      "122/122 [==============================] - 1s 1ms/step\n",
      "30/30 [==============================] - 0s 1ms/step\n",
      "Skor Training: 0.19 RMSE\n",
      "Skor Testing: 0.05 RMSE\n",
      "Skor Training: 0.03 MSE\n",
      "Skor Training: 0.00 MSE\n"
     ]
    }
   ],
   "source": [
    "train_predict = model1.predict(x_train)\n",
    "test_predict = model1.predict(x_test)\n",
    "\n",
    "\n",
    "# #invert prediksi\n",
    "\n",
    "train_predict = min_max_scaler.fit_transform(train_predict)\n",
    "y_train = min_max_scaler.inverse_transform([y_train])\n",
    "\n",
    "test_predict = min_max_scaler.inverse_transform(test_predict)\n",
    "y_test = min_max_scaler.inverse_transform([y_test])\n",
    "\n",
    "#kalkulasi untuk root mean squared error\n",
    "\n",
    "train_score = math.sqrt(mean_squared_error(y_train[0], train_predict[:,0]))\n",
    "print('Skor Training: %.2f RMSE' % (train_score))\n",
    "\n",
    "test_score = math.sqrt(mean_squared_error(y_test[0], test_predict[:,0]))\n",
    "print('Skor Testing: %.2f RMSE' % (test_score))\n",
    "\n",
    "#hitung MSE\n",
    "train_score1 = mean_squared_error(y_train[0], train_predict[:,0])\n",
    "print('Skor Training: %.2f MSE' % (train_score1))\n",
    "\n",
    "test_score1 = mean_squared_error(y_test[0], test_predict[:,0])\n",
    "print('Skor Training: %.2f MSE' % (test_score1))"
   ]
  },
  {
   "cell_type": "code",
   "execution_count": 34,
   "id": "6095c982",
   "metadata": {
    "id": "6095c982",
    "outputId": "8908b857-b086-444b-9556-a07d56fb2e06"
   },
   "outputs": [
    {
     "data": {
      "image/png": "[encoded data removed]",
      "text/plain": [
       "<Figure size 1500x800 with 1 Axes>"
      ]
     },
     "metadata": {},
     "output_type": "display_data"
    }
   ],
   "source": [
    "#plotting untuk train prediction\n",
    "train_predict_plot = np.empty_like(dataset)\n",
    "train_predict_plot[:, :] = np.nan\n",
    "train_predict_plot[look_back:len(train_predict)+look_back, :] = train_predict\n",
    "\n",
    "# plotting untuk test prediction\n",
    "test_predict_plot = np.empty_like(dataset)\n",
    "test_predict_plot[:, :] = np.nan\n",
    "test_predict_plot[len(train_predict)+(look_back*2)+1:len(dataset)-1, :] = test_predict\n",
    "\n",
    "#plot\n",
    "plt.figure(figsize=(15, 8))\n",
    "plt.plot(min_max_scaler.inverse_transform(dataset), color='r', label='Real data')\n",
    "plt.plot(train_predict_plot, color='b', label='Predicted Train')\n",
    "plt.plot(test_predict_plot, color='black', label = 'Predicted Test')\n",
    "plt.xticks(size=15)\n",
    "plt.yticks(size=15)\n",
    "plt.xlabel(\"Jumlah per hari\", size=15)\n",
    "plt.ylabel(\"Jumlah total konfirmasi\", size=15)\n",
    "plt.legend(loc='best')\n",
    "plt.show()"
   ]
  },
  {
   "cell_type": "markdown",
   "id": "8a80bd50",
   "metadata": {
    "id": "8a80bd50"
   },
   "source": [
    "# Kesimpulan"
   ]
  },
  {
   "cell_type": "markdown",
   "id": "c449671e",
   "metadata": {
    "id": "c449671e"
   },
   "source": [
    "- Untuk memprediksi saham, kami menggunakan data BBCA.\r\n",
    "\r\n",
    "- Kami menggunakan algoritma LSTM (Long Short-Term Memory) untuk melakukan prediksi.\r\n",
    "\r\n",
    "- Pada awalnya, kami membuat visualisasi data dengan beberapa kolom: High, Open, Low, dan Close. Namun, kami hanya menggunakan kolom High karena kami ingin menggunakan algoritma ini.\r\n",
    "\r\n",
    "- Kemudian membuat visualisasi antara data latihan dan tes dari kolom High\r\n",
    "\r\n",
    "- Meningkatkan ukuran data dan mengubahnya ke matriks\r\n",
    "\r\n",
    "- Membangun model LSTM menggunakan fungsi Squential(), aktivasi: \"tanh\" dengan optimizer Adam. Selain itu, kami menggunakan epochs:100 dan menggunakan tes x dan y untuk validasi data.\r\n",
    "\r\n",
    "- Model dievaluasi dan diperoleh Accuracy Train: 0.007017217110842466. Walaupun masih rendah, kami juga melakukan pengaturan tes untuk menentukan parameter mana yang terbaik. Selain itu, setelah tes pengaturan, tunh adalah parameter yang paling cocok untuk digunakan.\r\n",
    "\r\n",
    "- Melakukan kalkulasi root mean squared error untuk membuat visualisasi model LSTM. Outputnya secara keseluruhan tidak mencapai 0, tetapi setidaknya menurut kami itu cukup baik karena perbedaannya tidak terlalu jauh dari 0.\r\n",
    "\r\n",
    "- Membuat plot yang menunjukkan visualisasi dari data asli dan data model LSTM yang telah dibuat; visualisasi ini menunjukkan bahwa data yang dihasilkan tidak terlalu overfitting.\r\n",
    "\r\n",
    "- Menciptakan visualisasi MSE dan epochsuntuKami menyimpulkan bahwa, walaupun LSTM menghasilkan data yang baik, masih terdapat beberapa output yang belum sempurna. Namun, dengan melakukan uji tuning, kita dapat mengevaluasi lebih tepat apakah model yang diterapkan sudah siap untuk digunakan atau tidak."
   ]
  }
 ],
 "metadata": {
  "colab": {
   "provenance": []
  },
  "kernelspec": {
   "display_name": "Python 3 (ipykernel)",
   "language": "python",
   "name": "python3"
  },
  "language_info": {
   "codemirror_mode": {
    "name": "ipython",
    "version": 3
   },
   "file_extension": ".py",
   "mimetype": "text/x-python",
   "name": "python",
   "nbconvert_exporter": "python",
   "pygments_lexer": "ipython3",
   "version": "3.11.7"
  }
 },
 "nbformat": 4,
 "nbformat_minor": 5
}
