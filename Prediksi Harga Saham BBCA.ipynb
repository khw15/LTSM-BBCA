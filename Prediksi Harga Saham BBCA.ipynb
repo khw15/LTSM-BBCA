{
 "cells": [
  {
   "cell_type": "markdown",
   "id": "b3429897",
   "metadata": {
    "id": "b3429897"
   },
   "source": [
    "# Import Library"
   ]
  },
  {
   "cell_type": "markdown",
   "id": "7bf048e6",
   "metadata": {
    "id": "7bf048e6"
   },
   "source": [
    "Library yang digunakan pada proyek ini adalah sebagai berikut:"
   ]
  },
  {
   "cell_type": "code",
   "execution_count": 1,
   "id": "e6cc67a7",
   "metadata": {
    "id": "e6cc67a7",
    "outputId": "0d183141-49df-433e-deb3-b1b5cbf7fca8"
   },
   "outputs": [],
   "source": [
    "import pandas as pd\n",
    "import numpy as np\n",
    "import os\n",
    "import matplotlib.pyplot as plt\n",
    "import tensorflow as tf\n",
    "import datetime as dt\n",
    "from sklearn import preprocessing\n",
    "import math\n",
    "import time\n",
    "from pandas import to_datetime\n",
    "%matplotlib inline\n",
    "from sklearn.model_selection import train_test_split\n",
    "from sklearn.model_selection import train_test_split\n",
    "from sklearn.metrics import mean_squared_error\n",
    "from sklearn.preprocessing import StandardScaler\n",
    "from sklearn.preprocessing import MinMaxScaler\n",
    "from tensorflow.keras.models import Sequential\n",
    "from tensorflow.keras.layers import Dense, Dropout, LSTM, SimpleRNN\n",
    "from tensorflow import keras\n",
    "from tensorflow.keras import layers"
   ]
  },
  {
   "cell_type": "markdown",
   "id": "8dc0bd59",
   "metadata": {
    "id": "8dc0bd59"
   },
   "source": [
    "# Masuk Pada Dataset"
   ]
  },
  {
   "cell_type": "markdown",
   "id": "4a2684a4",
   "metadata": {
    "id": "4a2684a4"
   },
   "source": [
    "Menggunakan dataset"
   ]
  },
  {
   "cell_type": "code",
   "execution_count": 2,
   "id": "a6609086",
   "metadata": {
    "id": "a6609086",
    "outputId": "8c60afb0-ac18-4d60-9f6a-b4c6130663b0"
   },
   "outputs": [
    {
     "data": {
      "text/plain": [
       "False"
      ]
     },
     "execution_count": 2,
     "metadata": {},
     "output_type": "execute_result"
    }
   ],
   "source": [
    "#Menginisialisasi dataset ke dalam variabel df\n",
    "df = pd.read_csv(\"BBCA.csv\")\n",
    "\n",
    "#Untuk mengetahui values dari dataset\n",
    "df.isnull().values.any()"
   ]
  },
  {
   "cell_type": "markdown",
   "id": "0be5b6ed",
   "metadata": {
    "id": "0be5b6ed"
   },
   "source": [
    "Menampilkan bagian atas dari dataset"
   ]
  },
  {
   "cell_type": "code",
   "execution_count": 3,
   "id": "bd1542d8",
   "metadata": {
    "id": "bd1542d8",
    "outputId": "8895c875-09ba-41fd-a423-a7a4fe1a848b"
   },
   "outputs": [
    {
     "data": {
      "text/html": [
       "<div>\n",
       "<style scoped>\n",
       "    .dataframe tbody tr th:only-of-type {\n",
       "        vertical-align: middle;\n",
       "    }\n",
       "\n",
       "    .dataframe tbody tr th {\n",
       "        vertical-align: top;\n",
       "    }\n",
       "\n",
       "    .dataframe thead th {\n",
       "        text-align: right;\n",
       "    }\n",
       "</style>\n",
       "<table border=\"1\" class=\"dataframe\">\n",
       "  <thead>\n",
       "    <tr style=\"text-align: right;\">\n",
       "      <th></th>\n",
       "      <th>Date</th>\n",
       "      <th>Open</th>\n",
       "      <th>High</th>\n",
       "      <th>Low</th>\n",
       "      <th>Close</th>\n",
       "      <th>Adj Close</th>\n",
       "      <th>Volume</th>\n",
       "    </tr>\n",
       "  </thead>\n",
       "  <tbody>\n",
       "    <tr>\n",
       "      <th>0</th>\n",
       "      <td>2004-06-08</td>\n",
       "      <td>175.0</td>\n",
       "      <td>180.0</td>\n",
       "      <td>175.0</td>\n",
       "      <td>177.5</td>\n",
       "      <td>105.656067</td>\n",
       "      <td>499150000</td>\n",
       "    </tr>\n",
       "    <tr>\n",
       "      <th>1</th>\n",
       "      <td>2004-06-09</td>\n",
       "      <td>177.5</td>\n",
       "      <td>182.5</td>\n",
       "      <td>175.0</td>\n",
       "      <td>180.0</td>\n",
       "      <td>107.144203</td>\n",
       "      <td>294290000</td>\n",
       "    </tr>\n",
       "    <tr>\n",
       "      <th>2</th>\n",
       "      <td>2004-06-10</td>\n",
       "      <td>180.0</td>\n",
       "      <td>180.0</td>\n",
       "      <td>177.5</td>\n",
       "      <td>180.0</td>\n",
       "      <td>107.144203</td>\n",
       "      <td>165590000</td>\n",
       "    </tr>\n",
       "    <tr>\n",
       "      <th>3</th>\n",
       "      <td>2004-06-11</td>\n",
       "      <td>177.5</td>\n",
       "      <td>180.0</td>\n",
       "      <td>177.5</td>\n",
       "      <td>180.0</td>\n",
       "      <td>107.144203</td>\n",
       "      <td>135830000</td>\n",
       "    </tr>\n",
       "    <tr>\n",
       "      <th>4</th>\n",
       "      <td>2004-06-14</td>\n",
       "      <td>180.0</td>\n",
       "      <td>180.0</td>\n",
       "      <td>175.0</td>\n",
       "      <td>177.5</td>\n",
       "      <td>105.656067</td>\n",
       "      <td>158540000</td>\n",
       "    </tr>\n",
       "  </tbody>\n",
       "</table>\n",
       "</div>"
      ],
      "text/plain": [
       "         Date   Open   High    Low  Close   Adj Close     Volume\n",
       "0  2004-06-08  175.0  180.0  175.0  177.5  105.656067  499150000\n",
       "1  2004-06-09  177.5  182.5  175.0  180.0  107.144203  294290000\n",
       "2  2004-06-10  180.0  180.0  177.5  180.0  107.144203  165590000\n",
       "3  2004-06-11  177.5  180.0  177.5  180.0  107.144203  135830000\n",
       "4  2004-06-14  180.0  180.0  175.0  177.5  105.656067  158540000"
      ]
     },
     "execution_count": 3,
     "metadata": {},
     "output_type": "execute_result"
    }
   ],
   "source": [
    "df.head()"
   ]
  },
  {
   "cell_type": "markdown",
   "id": "7d138d8f",
   "metadata": {
    "id": "7d138d8f"
   },
   "source": [
    "# Eksplorasi Data"
   ]
  },
  {
   "cell_type": "markdown",
   "id": "85de1ff2",
   "metadata": {
    "id": "85de1ff2"
   },
   "source": [
    "merujuk ke df, yang merupakan representasi dari objek pandas dataframe.\n"
   ]
  },
  {
   "cell_type": "code",
   "execution_count": 4,
   "id": "3136a508",
   "metadata": {
    "id": "3136a508",
    "outputId": "d8a1993c-094d-46d0-801e-f2bdb1dc19b2"
   },
   "outputs": [
    {
     "data": {
      "text/plain": [
       "pandas.core.frame.DataFrame"
      ]
     },
     "execution_count": 4,
     "metadata": {},
     "output_type": "execute_result"
    }
   ],
   "source": [
    "type(df)"
   ]
  },
  {
   "cell_type": "markdown",
   "id": "3d27b539",
   "metadata": {
    "id": "3d27b539"
   },
   "source": [
    "Mengecek dataset untuk data null.\n"
   ]
  },
  {
   "cell_type": "code",
   "execution_count": 5,
   "id": "f913ecbc",
   "metadata": {
    "id": "f913ecbc",
    "outputId": "6ee3ed87-8bd9-456f-af87-a461990941b8"
   },
   "outputs": [
    {
     "data": {
      "text/plain": [
       "Date         0\n",
       "Open         0\n",
       "High         0\n",
       "Low          0\n",
       "Close        0\n",
       "Adj Close    0\n",
       "Volume       0\n",
       "dtype: int64"
      ]
     },
     "execution_count": 5,
     "metadata": {},
     "output_type": "execute_result"
    }
   ],
   "source": [
    "df.isna().sum()"
   ]
  },
  {
   "cell_type": "markdown",
   "id": "b9bb3f03",
   "metadata": {
    "id": "b9bb3f03"
   },
   "source": [
    "Menghapus kolom yang tidak digunakan dengan menggunakan drop"
   ]
  },
  {
   "cell_type": "code",
   "execution_count": 6,
   "id": "f5d2255c",
   "metadata": {
    "id": "f5d2255c"
   },
   "outputs": [],
   "source": [
    "df = df.drop(['Adj Close', 'Volume'], axis='columns')"
   ]
  },
  {
   "cell_type": "code",
   "execution_count": 7,
   "id": "b28d0f77",
   "metadata": {
    "id": "b28d0f77",
    "outputId": "25d89e11-5886-4e2c-94db-9a8f62b66583"
   },
   "outputs": [
    {
     "data": {
      "text/html": [
       "<div>\n",
       "<style scoped>\n",
       "    .dataframe tbody tr th:only-of-type {\n",
       "        vertical-align: middle;\n",
       "    }\n",
       "\n",
       "    .dataframe tbody tr th {\n",
       "        vertical-align: top;\n",
       "    }\n",
       "\n",
       "    .dataframe thead th {\n",
       "        text-align: right;\n",
       "    }\n",
       "</style>\n",
       "<table border=\"1\" class=\"dataframe\">\n",
       "  <thead>\n",
       "    <tr style=\"text-align: right;\">\n",
       "      <th></th>\n",
       "      <th>Date</th>\n",
       "      <th>Open</th>\n",
       "      <th>High</th>\n",
       "      <th>Low</th>\n",
       "      <th>Close</th>\n",
       "    </tr>\n",
       "  </thead>\n",
       "  <tbody>\n",
       "    <tr>\n",
       "      <th>0</th>\n",
       "      <td>2004-06-08</td>\n",
       "      <td>175.0</td>\n",
       "      <td>180.0</td>\n",
       "      <td>175.0</td>\n",
       "      <td>177.5</td>\n",
       "    </tr>\n",
       "    <tr>\n",
       "      <th>1</th>\n",
       "      <td>2004-06-09</td>\n",
       "      <td>177.5</td>\n",
       "      <td>182.5</td>\n",
       "      <td>175.0</td>\n",
       "      <td>180.0</td>\n",
       "    </tr>\n",
       "    <tr>\n",
       "      <th>2</th>\n",
       "      <td>2004-06-10</td>\n",
       "      <td>180.0</td>\n",
       "      <td>180.0</td>\n",
       "      <td>177.5</td>\n",
       "      <td>180.0</td>\n",
       "    </tr>\n",
       "    <tr>\n",
       "      <th>3</th>\n",
       "      <td>2004-06-11</td>\n",
       "      <td>177.5</td>\n",
       "      <td>180.0</td>\n",
       "      <td>177.5</td>\n",
       "      <td>180.0</td>\n",
       "    </tr>\n",
       "    <tr>\n",
       "      <th>4</th>\n",
       "      <td>2004-06-14</td>\n",
       "      <td>180.0</td>\n",
       "      <td>180.0</td>\n",
       "      <td>175.0</td>\n",
       "      <td>177.5</td>\n",
       "    </tr>\n",
       "  </tbody>\n",
       "</table>\n",
       "</div>"
      ],
      "text/plain": [
       "         Date   Open   High    Low  Close\n",
       "0  2004-06-08  175.0  180.0  175.0  177.5\n",
       "1  2004-06-09  177.5  182.5  175.0  180.0\n",
       "2  2004-06-10  180.0  180.0  177.5  180.0\n",
       "3  2004-06-11  177.5  180.0  177.5  180.0\n",
       "4  2004-06-14  180.0  180.0  175.0  177.5"
      ]
     },
     "execution_count": 7,
     "metadata": {},
     "output_type": "execute_result"
    }
   ],
   "source": [
    "#Menampilkan head data setelah menghapus kolom 'Adj Close' dan 'Volume'\n",
    "df.head()"
   ]
  },
  {
   "cell_type": "markdown",
   "id": "5db9ca23",
   "metadata": {
    "id": "5db9ca23"
   },
   "source": [
    "Menampilkan tipe data dari sisa kolom dataset\n"
   ]
  },
  {
   "cell_type": "code",
   "execution_count": 8,
   "id": "117f18f7",
   "metadata": {
    "id": "117f18f7",
    "outputId": "7b9b6094-7d6d-4c78-9441-714e681a1f77"
   },
   "outputs": [
    {
     "name": "stdout",
     "output_type": "stream",
     "text": [
      "Date      object\n",
      "Open     float64\n",
      "High     float64\n",
      "Low      float64\n",
      "Close    float64\n",
      "dtype: object\n"
     ]
    }
   ],
   "source": [
    "print(df.dtypes)"
   ]
  },
  {
   "cell_type": "code",
   "execution_count": 9,
   "id": "40db4f93",
   "metadata": {
    "id": "40db4f93",
    "outputId": "0083a03c-66f9-4538-cd77-e9162975546d"
   },
   "outputs": [
    {
     "data": {
      "text/html": [
       "<div>\n",
       "<style scoped>\n",
       "    .dataframe tbody tr th:only-of-type {\n",
       "        vertical-align: middle;\n",
       "    }\n",
       "\n",
       "    .dataframe tbody tr th {\n",
       "        vertical-align: top;\n",
       "    }\n",
       "\n",
       "    .dataframe thead th {\n",
       "        text-align: right;\n",
       "    }\n",
       "</style>\n",
       "<table border=\"1\" class=\"dataframe\">\n",
       "  <thead>\n",
       "    <tr style=\"text-align: right;\">\n",
       "      <th></th>\n",
       "      <th>Date</th>\n",
       "      <th>Open</th>\n",
       "      <th>High</th>\n",
       "      <th>Low</th>\n",
       "      <th>Close</th>\n",
       "    </tr>\n",
       "  </thead>\n",
       "  <tbody>\n",
       "    <tr>\n",
       "      <th>0</th>\n",
       "      <td>2004-06-08</td>\n",
       "      <td>175.0</td>\n",
       "      <td>180.0</td>\n",
       "      <td>175.0</td>\n",
       "      <td>177.5</td>\n",
       "    </tr>\n",
       "    <tr>\n",
       "      <th>1</th>\n",
       "      <td>2004-06-09</td>\n",
       "      <td>177.5</td>\n",
       "      <td>182.5</td>\n",
       "      <td>175.0</td>\n",
       "      <td>180.0</td>\n",
       "    </tr>\n",
       "    <tr>\n",
       "      <th>2</th>\n",
       "      <td>2004-06-10</td>\n",
       "      <td>180.0</td>\n",
       "      <td>180.0</td>\n",
       "      <td>177.5</td>\n",
       "      <td>180.0</td>\n",
       "    </tr>\n",
       "    <tr>\n",
       "      <th>3</th>\n",
       "      <td>2004-06-11</td>\n",
       "      <td>177.5</td>\n",
       "      <td>180.0</td>\n",
       "      <td>177.5</td>\n",
       "      <td>180.0</td>\n",
       "    </tr>\n",
       "    <tr>\n",
       "      <th>4</th>\n",
       "      <td>2004-06-14</td>\n",
       "      <td>180.0</td>\n",
       "      <td>180.0</td>\n",
       "      <td>175.0</td>\n",
       "      <td>177.5</td>\n",
       "    </tr>\n",
       "    <tr>\n",
       "      <th>...</th>\n",
       "      <td>...</td>\n",
       "      <td>...</td>\n",
       "      <td>...</td>\n",
       "      <td>...</td>\n",
       "      <td>...</td>\n",
       "    </tr>\n",
       "    <tr>\n",
       "      <th>4868</th>\n",
       "      <td>2024-01-29</td>\n",
       "      <td>9400.0</td>\n",
       "      <td>9550.0</td>\n",
       "      <td>9375.0</td>\n",
       "      <td>9550.0</td>\n",
       "    </tr>\n",
       "    <tr>\n",
       "      <th>4869</th>\n",
       "      <td>2024-01-30</td>\n",
       "      <td>9500.0</td>\n",
       "      <td>9650.0</td>\n",
       "      <td>9475.0</td>\n",
       "      <td>9650.0</td>\n",
       "    </tr>\n",
       "    <tr>\n",
       "      <th>4870</th>\n",
       "      <td>2024-01-31</td>\n",
       "      <td>9700.0</td>\n",
       "      <td>9700.0</td>\n",
       "      <td>9550.0</td>\n",
       "      <td>9550.0</td>\n",
       "    </tr>\n",
       "    <tr>\n",
       "      <th>4871</th>\n",
       "      <td>2024-02-01</td>\n",
       "      <td>9650.0</td>\n",
       "      <td>9725.0</td>\n",
       "      <td>9575.0</td>\n",
       "      <td>9700.0</td>\n",
       "    </tr>\n",
       "    <tr>\n",
       "      <th>4872</th>\n",
       "      <td>2024-02-02</td>\n",
       "      <td>9775.0</td>\n",
       "      <td>9800.0</td>\n",
       "      <td>9625.0</td>\n",
       "      <td>9700.0</td>\n",
       "    </tr>\n",
       "  </tbody>\n",
       "</table>\n",
       "<p>4873 rows × 5 columns</p>\n",
       "</div>"
      ],
      "text/plain": [
       "            Date    Open    High     Low   Close\n",
       "0     2004-06-08   175.0   180.0   175.0   177.5\n",
       "1     2004-06-09   177.5   182.5   175.0   180.0\n",
       "2     2004-06-10   180.0   180.0   177.5   180.0\n",
       "3     2004-06-11   177.5   180.0   177.5   180.0\n",
       "4     2004-06-14   180.0   180.0   175.0   177.5\n",
       "...          ...     ...     ...     ...     ...\n",
       "4868  2024-01-29  9400.0  9550.0  9375.0  9550.0\n",
       "4869  2024-01-30  9500.0  9650.0  9475.0  9650.0\n",
       "4870  2024-01-31  9700.0  9700.0  9550.0  9550.0\n",
       "4871  2024-02-01  9650.0  9725.0  9575.0  9700.0\n",
       "4872  2024-02-02  9775.0  9800.0  9625.0  9700.0\n",
       "\n",
       "[4873 rows x 5 columns]"
      ]
     },
     "execution_count": 9,
     "metadata": {},
     "output_type": "execute_result"
    }
   ],
   "source": [
    "df"
   ]
  },
  {
   "cell_type": "markdown",
   "id": "989e95cd",
   "metadata": {
    "id": "989e95cd"
   },
   "source": [
    "Mengubah tanggal menjadi index"
   ]
  },
  {
   "cell_type": "code",
   "execution_count": 10,
   "id": "6580cdfb",
   "metadata": {
    "id": "6580cdfb",
    "outputId": "ccfbf539-a8cf-45ae-db93-bef009a0f706"
   },
   "outputs": [
    {
     "data": {
      "text/plain": [
       "DatetimeIndex(['2004-06-08', '2004-06-09', '2004-06-10', '2004-06-11',\n",
       "               '2004-06-14', '2004-06-15', '2004-06-16', '2004-06-17',\n",
       "               '2004-06-18', '2004-06-21',\n",
       "               ...\n",
       "               '2024-01-22', '2024-01-23', '2024-01-24', '2024-01-25',\n",
       "               '2024-01-26', '2024-01-29', '2024-01-30', '2024-01-31',\n",
       "               '2024-02-01', '2024-02-02'],\n",
       "              dtype='datetime64[ns]', name='Date', length=4873, freq=None)"
      ]
     },
     "execution_count": 10,
     "metadata": {},
     "output_type": "execute_result"
    }
   ],
   "source": [
    "con = df['Date']\n",
    "df['Date'] = pd.to_datetime(df['Date'])\n",
    "df.set_index('Date', inplace=True)\n",
    "\n",
    "#check datatype of index\n",
    "df.index"
   ]
  },
  {
   "cell_type": "code",
   "execution_count": 11,
   "id": "3c86b346",
   "metadata": {
    "id": "3c86b346",
    "outputId": "357a6219-00cf-47f4-aec4-b45d48ce8ee6"
   },
   "outputs": [
    {
     "data": {
      "text/html": [
       "<div>\n",
       "<style scoped>\n",
       "    .dataframe tbody tr th:only-of-type {\n",
       "        vertical-align: middle;\n",
       "    }\n",
       "\n",
       "    .dataframe tbody tr th {\n",
       "        vertical-align: top;\n",
       "    }\n",
       "\n",
       "    .dataframe thead th {\n",
       "        text-align: right;\n",
       "    }\n",
       "</style>\n",
       "<table border=\"1\" class=\"dataframe\">\n",
       "  <thead>\n",
       "    <tr style=\"text-align: right;\">\n",
       "      <th></th>\n",
       "      <th>Open</th>\n",
       "      <th>High</th>\n",
       "      <th>Low</th>\n",
       "      <th>Close</th>\n",
       "    </tr>\n",
       "    <tr>\n",
       "      <th>Date</th>\n",
       "      <th></th>\n",
       "      <th></th>\n",
       "      <th></th>\n",
       "      <th></th>\n",
       "    </tr>\n",
       "  </thead>\n",
       "  <tbody>\n",
       "    <tr>\n",
       "      <th>2004-06-08</th>\n",
       "      <td>175.0</td>\n",
       "      <td>180.0</td>\n",
       "      <td>175.0</td>\n",
       "      <td>177.5</td>\n",
       "    </tr>\n",
       "    <tr>\n",
       "      <th>2004-06-09</th>\n",
       "      <td>177.5</td>\n",
       "      <td>182.5</td>\n",
       "      <td>175.0</td>\n",
       "      <td>180.0</td>\n",
       "    </tr>\n",
       "    <tr>\n",
       "      <th>2004-06-10</th>\n",
       "      <td>180.0</td>\n",
       "      <td>180.0</td>\n",
       "      <td>177.5</td>\n",
       "      <td>180.0</td>\n",
       "    </tr>\n",
       "    <tr>\n",
       "      <th>2004-06-11</th>\n",
       "      <td>177.5</td>\n",
       "      <td>180.0</td>\n",
       "      <td>177.5</td>\n",
       "      <td>180.0</td>\n",
       "    </tr>\n",
       "    <tr>\n",
       "      <th>2004-06-14</th>\n",
       "      <td>180.0</td>\n",
       "      <td>180.0</td>\n",
       "      <td>175.0</td>\n",
       "      <td>177.5</td>\n",
       "    </tr>\n",
       "    <tr>\n",
       "      <th>...</th>\n",
       "      <td>...</td>\n",
       "      <td>...</td>\n",
       "      <td>...</td>\n",
       "      <td>...</td>\n",
       "    </tr>\n",
       "    <tr>\n",
       "      <th>2024-01-29</th>\n",
       "      <td>9400.0</td>\n",
       "      <td>9550.0</td>\n",
       "      <td>9375.0</td>\n",
       "      <td>9550.0</td>\n",
       "    </tr>\n",
       "    <tr>\n",
       "      <th>2024-01-30</th>\n",
       "      <td>9500.0</td>\n",
       "      <td>9650.0</td>\n",
       "      <td>9475.0</td>\n",
       "      <td>9650.0</td>\n",
       "    </tr>\n",
       "    <tr>\n",
       "      <th>2024-01-31</th>\n",
       "      <td>9700.0</td>\n",
       "      <td>9700.0</td>\n",
       "      <td>9550.0</td>\n",
       "      <td>9550.0</td>\n",
       "    </tr>\n",
       "    <tr>\n",
       "      <th>2024-02-01</th>\n",
       "      <td>9650.0</td>\n",
       "      <td>9725.0</td>\n",
       "      <td>9575.0</td>\n",
       "      <td>9700.0</td>\n",
       "    </tr>\n",
       "    <tr>\n",
       "      <th>2024-02-02</th>\n",
       "      <td>9775.0</td>\n",
       "      <td>9800.0</td>\n",
       "      <td>9625.0</td>\n",
       "      <td>9700.0</td>\n",
       "    </tr>\n",
       "  </tbody>\n",
       "</table>\n",
       "<p>4873 rows × 4 columns</p>\n",
       "</div>"
      ],
      "text/plain": [
       "              Open    High     Low   Close\n",
       "Date                                      \n",
       "2004-06-08   175.0   180.0   175.0   177.5\n",
       "2004-06-09   177.5   182.5   175.0   180.0\n",
       "2004-06-10   180.0   180.0   177.5   180.0\n",
       "2004-06-11   177.5   180.0   177.5   180.0\n",
       "2004-06-14   180.0   180.0   175.0   177.5\n",
       "...            ...     ...     ...     ...\n",
       "2024-01-29  9400.0  9550.0  9375.0  9550.0\n",
       "2024-01-30  9500.0  9650.0  9475.0  9650.0\n",
       "2024-01-31  9700.0  9700.0  9550.0  9550.0\n",
       "2024-02-01  9650.0  9725.0  9575.0  9700.0\n",
       "2024-02-02  9775.0  9800.0  9625.0  9700.0\n",
       "\n",
       "[4873 rows x 4 columns]"
      ]
     },
     "execution_count": 11,
     "metadata": {},
     "output_type": "execute_result"
    }
   ],
   "source": [
    "df"
   ]
  },
  {
   "cell_type": "markdown",
   "id": "d5c39492",
   "metadata": {
    "id": "d5c39492"
   },
   "source": [
    "Menginisialkan variable data time series"
   ]
  },
  {
   "cell_type": "code",
   "execution_count": 12,
   "id": "ec3ded99",
   "metadata": {
    "id": "ec3ded99"
   },
   "outputs": [],
   "source": [
    "hg = pd.Series(df['High'])\n",
    "op = pd.Series(df['Open'])\n",
    "lw = pd.Series(df['Low'])\n",
    "cl = pd.Series(df['Close'])"
   ]
  },
  {
   "cell_type": "markdown",
   "id": "1b05c120",
   "metadata": {
    "id": "1b05c120"
   },
   "source": [
    "# Visualization Data"
   ]
  },
  {
   "cell_type": "markdown",
   "id": "36563e2c",
   "metadata": {
    "id": "36563e2c"
   },
   "source": [
    "Memvisualisasikan data dari kolom yang tidak didrop sebelumnya\n"
   ]
  },
  {
   "cell_type": "code",
   "execution_count": 13,
   "id": "080abe23",
   "metadata": {
    "id": "080abe23",
    "outputId": "df655c76-b715-4706-b7d5-0cd06a9f6eca"
   },
   "outputs": [
    {
     "data": {
      "image/png": "[encoded data removed]",
      "text/plain": [
       "<Figure size 1600x800 with 1 Axes>"
      ]
     },
     "metadata": {},
     "output_type": "display_data"
    }
   ],
   "source": [
    "#Visualisasi Dataset\n",
    "\n",
    "plt.figure(figsize=(16,8))\n",
    "plt.title('Pergerakan Harga')\n",
    "plt.plot(hg, color = 'red', label = 'High')\n",
    "plt.plot(op, color = 'yellow', label = 'Open')\n",
    "plt.plot(lw, color = 'green', label = 'Low')\n",
    "plt.plot(cl, color = 'purple', label = 'Close')\n",
    "plt.xlabel('Tahun', fontsize=18)\n",
    "plt.ylabel('Harga dalam Rupiah', fontsize=18)\n",
    "plt.legend(loc='best')\n",
    "plt.show()"
   ]
  },
  {
   "cell_type": "markdown",
   "id": "8c7c2323",
   "metadata": {
    "id": "8c7c2323"
   },
   "source": [
    "Membuat data frame dari kolom 'High' dan membuat data train & test"
   ]
  },
  {
   "cell_type": "code",
   "execution_count": 14,
   "id": "757854d9",
   "metadata": {
    "id": "757854d9"
   },
   "outputs": [],
   "source": [
    "data = pd.DataFrame(df['High'])"
   ]
  },
  {
   "cell_type": "code",
   "execution_count": 15,
   "id": "7cb5828d",
   "metadata": {
    "id": "7cb5828d",
    "outputId": "24bd0a24-f96d-49ff-ace6-43e34ca3021b"
   },
   "outputs": [
    {
     "data": {
      "image/png": "[encoded data removed]",
      "text/plain": [
       "<Figure size 1600x800 with 1 Axes>"
      ]
     },
     "metadata": {},
     "output_type": "display_data"
    }
   ],
   "source": [
    "df_train = data[0:int(len(data)*0.8)]\n",
    "df_test = data[int(len(data)*0.8):]\n",
    "# plot the data\n",
    "# Visualisasi data\n",
    "plt.figure(figsize=(16,8))\n",
    "plt.title('Data Train dan Data Test')\n",
    "plt.ylabel('High Price', fontsize=18)\n",
    "plt.plot(df_train)\n",
    "plt.plot(df_test)\n",
    "plt.legend(['Data Train', 'Data Test'], loc='lower right')\n",
    "plt.show()"
   ]
  },
  {
   "cell_type": "markdown",
   "id": "9e95b825",
   "metadata": {
    "id": "9e95b825"
   },
   "source": [
    "# Preprocessing"
   ]
  },
  {
   "cell_type": "markdown",
   "id": "7e0955ce",
   "metadata": {
    "id": "7e0955ce"
   },
   "source": [
    "Melakukan scaling data dengan kolom High.\n"
   ]
  },
  {
   "cell_type": "code",
   "execution_count": 16,
   "id": "bfb077f8",
   "metadata": {
    "id": "bfb077f8"
   },
   "outputs": [],
   "source": [
    "min_max_scaler = preprocessing.MinMaxScaler(feature_range=(0, 1))\n",
    "dataset = min_max_scaler.fit_transform(df['High'].values.reshape(-1, 1))"
   ]
  },
  {
   "cell_type": "markdown",
   "id": "bc2aed11",
   "metadata": {
    "id": "bc2aed11"
   },
   "source": [
    "Memecah data menjadi data train dan data test"
   ]
  },
  {
   "cell_type": "code",
   "execution_count": 17,
   "id": "c1db88fc",
   "metadata": {
    "id": "c1db88fc",
    "outputId": "42053d70-6f4b-4941-c2e7-4b1c7adaaa44"
   },
   "outputs": [
    {
     "data": {
      "text/plain": [
       "array([[0.00025981],\n",
       "       [0.00051962],\n",
       "       [0.00025981],\n",
       "       [0.00025981],\n",
       "       [0.00025981],\n",
       "       [0.00051962],\n",
       "       [0.00051962],\n",
       "       [0.        ],\n",
       "       [0.        ],\n",
       "       [0.        ]])"
      ]
     },
     "execution_count": 17,
     "metadata": {},
     "output_type": "execute_result"
    }
   ],
   "source": [
    "dataset[0:10]"
   ]
  },
  {
   "cell_type": "code",
   "execution_count": 18,
   "id": "575e2588",
   "metadata": {
    "id": "575e2588",
    "outputId": "9816662c-ca06-4776-aeaf-ef622ac193d1"
   },
   "outputs": [
    {
     "name": "stdout",
     "output_type": "stream",
     "text": [
      "3898 975\n"
     ]
    }
   ],
   "source": [
    "train_size = int(len(dataset) * 0.8)\n",
    "test_size = len(dataset) - train_size\n",
    "train, test = dataset[0:train_size,:], dataset[train_size:len(dataset),:]\n",
    "print(len(train), len(test))"
   ]
  },
  {
   "cell_type": "code",
   "execution_count": 19,
   "id": "378fe376",
   "metadata": {
    "id": "378fe376",
    "outputId": "c9148a6e-3ee9-4201-be39-cffed7c8f741"
   },
   "outputs": [
    {
     "name": "stdout",
     "output_type": "stream",
     "text": [
      "4873\n"
     ]
    }
   ],
   "source": [
    "#Menampilkan panjang/jumlah dataframe\n",
    "print(len(df))"
   ]
  },
  {
   "cell_type": "markdown",
   "id": "53a111a9",
   "metadata": {
    "id": "53a111a9"
   },
   "source": [
    "Konversi nilai array ke dalam kumpulan matriks\n"
   ]
  },
  {
   "cell_type": "code",
   "execution_count": 20,
   "id": "d2b04e3a",
   "metadata": {
    "id": "d2b04e3a"
   },
   "outputs": [],
   "source": [
    "def create_dataset(dataset, look_back=15):\n",
    "    x, y = [], []\n",
    "    for i in range(len(dataset)-look_back-1):\n",
    "        a = dataset[i:(i+look_back), 0]\n",
    "        x.append(a)\n",
    "        y.append(dataset[i + look_back, 0])\n",
    "    return np.array(x), np.array(y)"
   ]
  },
  {
   "cell_type": "code",
   "execution_count": 21,
   "id": "db646668",
   "metadata": {
    "id": "db646668"
   },
   "outputs": [],
   "source": [
    "look_back = 15\n",
    "x_train, y_train = create_dataset(train, look_back)\n",
    "x_test, y_test = create_dataset(test, look_back)"
   ]
  },
  {
   "cell_type": "code",
   "execution_count": 22,
   "id": "5952c643",
   "metadata": {
    "id": "5952c643",
    "outputId": "b165fa5e-0247-4719-b52b-790a50b0b1aa"
   },
   "outputs": [
    {
     "name": "stdout",
     "output_type": "stream",
     "text": [
      "(3882, 15)\n",
      "(3882,)\n",
      "(959, 15)\n",
      "(959,)\n"
     ]
    }
   ],
   "source": [
    "print(x_train.shape)\n",
    "print(y_train.shape)\n",
    "print(x_test.shape)\n",
    "print(y_test.shape)"
   ]
  },
  {
   "cell_type": "markdown",
   "id": "ef52d968",
   "metadata": {
    "id": "ef52d968"
   },
   "source": [
    "Reshape input menjadi 3D yaitu [samples, time step, dan feature]"
   ]
  },
  {
   "cell_type": "code",
   "execution_count": 23,
   "id": "7099cd73",
   "metadata": {
    "id": "7099cd73"
   },
   "outputs": [],
   "source": [
    "x_train = np.reshape(x_train, (x_train.shape[0], 1, x_train.shape[1]))\n",
    "x_test = np.reshape(x_test, (x_test.shape[0], 1, x_test.shape[1]))"
   ]
  },
  {
   "cell_type": "markdown",
   "id": "4a7c28a5",
   "metadata": {
    "id": "4a7c28a5"
   },
   "source": [
    "# Model\n",
    "\n",
    "Membuat model LSTM"
   ]
  },
  {
   "cell_type": "code",
   "execution_count": 24,
   "id": "043dfca2",
   "metadata": {
    "id": "043dfca2",
    "outputId": "1c232504-834c-41b1-fd55-48a87e06c09f"
   },
   "outputs": [
    {
     "name": "stdout",
     "output_type": "stream",
     "text": [
      "Epoch 1/100\n",
      "61/61 - 3s - loss: 0.4381 - accuracy: 0.0000e+00 - val_loss: 0.5249 - val_accuracy: 0.0000e+00 - 3s/epoch - 50ms/step\n",
      "Epoch 2/100\n",
      "61/61 - 0s - loss: 0.4054 - accuracy: 0.0000e+00 - val_loss: 0.5242 - val_accuracy: 0.0000e+00 - 202ms/epoch - 3ms/step\n",
      "Epoch 3/100\n",
      "61/61 - 0s - loss: 0.4041 - accuracy: 0.0000e+00 - val_loss: 0.5204 - val_accuracy: 0.0000e+00 - 165ms/epoch - 3ms/step\n",
      "Epoch 4/100\n",
      "61/61 - 0s - loss: 0.4030 - accuracy: 0.0000e+00 - val_loss: 0.5124 - val_accuracy: 0.0000e+00 - 254ms/epoch - 4ms/step\n",
      "Epoch 5/100\n",
      "61/61 - 0s - loss: 0.4027 - accuracy: 0.0000e+00 - val_loss: 0.5111 - val_accuracy: 0.0000e+00 - 139ms/epoch - 2ms/step\n",
      "Epoch 6/100\n",
      "61/61 - 0s - loss: 0.4024 - accuracy: 0.0000e+00 - val_loss: 0.5127 - val_accuracy: 0.0000e+00 - 206ms/epoch - 3ms/step\n",
      "Epoch 7/100\n",
      "61/61 - 0s - loss: 0.4022 - accuracy: 0.0000e+00 - val_loss: 0.5132 - val_accuracy: 0.0000e+00 - 164ms/epoch - 3ms/step\n",
      "Epoch 8/100\n",
      "61/61 - 0s - loss: 0.4023 - accuracy: 0.0000e+00 - val_loss: 0.5103 - val_accuracy: 0.0000e+00 - 179ms/epoch - 3ms/step\n",
      "Epoch 9/100\n",
      "61/61 - 0s - loss: 0.4169 - accuracy: 0.0000e+00 - val_loss: 0.5146 - val_accuracy: 0.0000e+00 - 198ms/epoch - 3ms/step\n",
      "Epoch 10/100\n",
      "61/61 - 0s - loss: 0.4072 - accuracy: 0.0000e+00 - val_loss: 0.5083 - val_accuracy: 0.0000e+00 - 223ms/epoch - 4ms/step\n",
      "Epoch 11/100\n",
      "61/61 - 0s - loss: 0.4066 - accuracy: 0.0000e+00 - val_loss: 0.5127 - val_accuracy: 0.0000e+00 - 231ms/epoch - 4ms/step\n",
      "Epoch 12/100\n",
      "61/61 - 0s - loss: 0.4053 - accuracy: 0.0000e+00 - val_loss: 0.5223 - val_accuracy: 0.0000e+00 - 145ms/epoch - 2ms/step\n",
      "Epoch 13/100\n",
      "61/61 - 0s - loss: 0.4043 - accuracy: 0.0000e+00 - val_loss: 0.5165 - val_accuracy: 0.0000e+00 - 201ms/epoch - 3ms/step\n",
      "Epoch 14/100\n",
      "61/61 - 0s - loss: 0.4056 - accuracy: 0.0000e+00 - val_loss: 0.5092 - val_accuracy: 0.0000e+00 - 148ms/epoch - 2ms/step\n",
      "Epoch 15/100\n",
      "61/61 - 0s - loss: 0.4039 - accuracy: 0.0000e+00 - val_loss: 0.5160 - val_accuracy: 0.0000e+00 - 251ms/epoch - 4ms/step\n",
      "Epoch 16/100\n",
      "61/61 - 0s - loss: 0.4039 - accuracy: 0.0000e+00 - val_loss: 0.5127 - val_accuracy: 0.0000e+00 - 204ms/epoch - 3ms/step\n",
      "Epoch 17/100\n",
      "61/61 - 0s - loss: 0.4034 - accuracy: 0.0000e+00 - val_loss: 0.5056 - val_accuracy: 0.0000e+00 - 191ms/epoch - 3ms/step\n",
      "Epoch 18/100\n",
      "61/61 - 0s - loss: 0.4036 - accuracy: 0.0000e+00 - val_loss: 0.5102 - val_accuracy: 0.0000e+00 - 181ms/epoch - 3ms/step\n",
      "Epoch 19/100\n",
      "61/61 - 0s - loss: 0.4031 - accuracy: 0.0000e+00 - val_loss: 0.5131 - val_accuracy: 0.0000e+00 - 187ms/epoch - 3ms/step\n",
      "Epoch 20/100\n",
      "61/61 - 0s - loss: 0.4036 - accuracy: 0.0000e+00 - val_loss: 0.5165 - val_accuracy: 0.0000e+00 - 206ms/epoch - 3ms/step\n",
      "Epoch 21/100\n",
      "61/61 - 0s - loss: 0.4031 - accuracy: 0.0000e+00 - val_loss: 0.5123 - val_accuracy: 0.0000e+00 - 200ms/epoch - 3ms/step\n",
      "Epoch 22/100\n",
      "61/61 - 0s - loss: 0.4030 - accuracy: 0.0000e+00 - val_loss: 0.5135 - val_accuracy: 0.0000e+00 - 205ms/epoch - 3ms/step\n",
      "Epoch 23/100\n",
      "61/61 - 0s - loss: 0.4026 - accuracy: 0.0000e+00 - val_loss: 0.5129 - val_accuracy: 0.0000e+00 - 213ms/epoch - 3ms/step\n",
      "Epoch 24/100\n",
      "61/61 - 0s - loss: 0.4027 - accuracy: 0.0000e+00 - val_loss: 0.5149 - val_accuracy: 0.0000e+00 - 215ms/epoch - 4ms/step\n",
      "Epoch 25/100\n",
      "61/61 - 0s - loss: 0.4123 - accuracy: 0.0000e+00 - val_loss: 0.9309 - val_accuracy: 0.0000e+00 - 216ms/epoch - 4ms/step\n",
      "Epoch 26/100\n",
      "61/61 - 0s - loss: 0.4489 - accuracy: 0.0000e+00 - val_loss: 0.5520 - val_accuracy: 0.0000e+00 - 204ms/epoch - 3ms/step\n",
      "Epoch 27/100\n",
      "61/61 - 0s - loss: 0.4243 - accuracy: 0.0000e+00 - val_loss: 0.5031 - val_accuracy: 0.0000e+00 - 138ms/epoch - 2ms/step\n",
      "Epoch 28/100\n",
      "61/61 - 0s - loss: 0.4213 - accuracy: 0.0000e+00 - val_loss: 0.5100 - val_accuracy: 0.0000e+00 - 199ms/epoch - 3ms/step\n",
      "Epoch 29/100\n",
      "61/61 - 0s - loss: 0.4251 - accuracy: 0.0000e+00 - val_loss: 0.5261 - val_accuracy: 0.0000e+00 - 203ms/epoch - 3ms/step\n",
      "Epoch 30/100\n",
      "61/61 - 0s - loss: 0.4190 - accuracy: 0.0000e+00 - val_loss: 0.5304 - val_accuracy: 0.0000e+00 - 243ms/epoch - 4ms/step\n",
      "Epoch 31/100\n",
      "61/61 - 0s - loss: 0.4182 - accuracy: 0.0000e+00 - val_loss: 0.5106 - val_accuracy: 0.0000e+00 - 188ms/epoch - 3ms/step\n",
      "Epoch 32/100\n",
      "61/61 - 0s - loss: 0.4201 - accuracy: 0.0000e+00 - val_loss: 0.5124 - val_accuracy: 0.0000e+00 - 218ms/epoch - 4ms/step\n",
      "Epoch 33/100\n",
      "61/61 - 0s - loss: 0.4111 - accuracy: 0.0000e+00 - val_loss: 0.5151 - val_accuracy: 0.0000e+00 - 155ms/epoch - 3ms/step\n",
      "Epoch 34/100\n",
      "61/61 - 0s - loss: 0.4079 - accuracy: 0.0000e+00 - val_loss: 0.5089 - val_accuracy: 0.0000e+00 - 214ms/epoch - 4ms/step\n",
      "Epoch 35/100\n",
      "61/61 - 0s - loss: 0.4272 - accuracy: 0.0000e+00 - val_loss: 0.7218 - val_accuracy: 0.0000e+00 - 206ms/epoch - 3ms/step\n",
      "Epoch 36/100\n",
      "61/61 - 0s - loss: 0.4690 - accuracy: 0.0000e+00 - val_loss: 0.5596 - val_accuracy: 0.0000e+00 - 200ms/epoch - 3ms/step\n",
      "Epoch 37/100\n",
      "61/61 - 0s - loss: 0.4551 - accuracy: 0.0000e+00 - val_loss: 0.6417 - val_accuracy: 0.0000e+00 - 180ms/epoch - 3ms/step\n",
      "Epoch 38/100\n",
      "61/61 - 0s - loss: 0.4435 - accuracy: 0.0000e+00 - val_loss: 0.6213 - val_accuracy: 0.0000e+00 - 188ms/epoch - 3ms/step\n",
      "Epoch 39/100\n",
      "61/61 - 0s - loss: 0.4442 - accuracy: 0.0000e+00 - val_loss: 0.8097 - val_accuracy: 0.0000e+00 - 219ms/epoch - 4ms/step\n",
      "Epoch 40/100\n",
      "61/61 - 0s - loss: 0.4613 - accuracy: 0.0000e+00 - val_loss: 0.6248 - val_accuracy: 0.0000e+00 - 197ms/epoch - 3ms/step\n",
      "Epoch 41/100\n",
      "61/61 - 0s - loss: 0.4591 - accuracy: 0.0000e+00 - val_loss: 0.7621 - val_accuracy: 0.0000e+00 - 205ms/epoch - 3ms/step\n",
      "Epoch 42/100\n",
      "61/61 - 0s - loss: 0.4578 - accuracy: 0.0000e+00 - val_loss: 0.7342 - val_accuracy: 0.0000e+00 - 194ms/epoch - 3ms/step\n",
      "Epoch 43/100\n",
      "61/61 - 0s - loss: 0.4577 - accuracy: 0.0000e+00 - val_loss: 0.6973 - val_accuracy: 0.0000e+00 - 173ms/epoch - 3ms/step\n",
      "Epoch 44/100\n",
      "61/61 - 0s - loss: 0.4474 - accuracy: 0.0000e+00 - val_loss: 0.7043 - val_accuracy: 0.0000e+00 - 161ms/epoch - 3ms/step\n",
      "Epoch 45/100\n",
      "61/61 - 0s - loss: 0.4490 - accuracy: 0.0000e+00 - val_loss: 0.6480 - val_accuracy: 0.0000e+00 - 202ms/epoch - 3ms/step\n",
      "Epoch 46/100\n",
      "61/61 - 0s - loss: 0.4425 - accuracy: 0.0000e+00 - val_loss: 0.6525 - val_accuracy: 0.0000e+00 - 207ms/epoch - 3ms/step\n",
      "Epoch 47/100\n",
      "61/61 - 0s - loss: 0.4373 - accuracy: 0.0000e+00 - val_loss: 0.6464 - val_accuracy: 0.0000e+00 - 215ms/epoch - 4ms/step\n",
      "Epoch 48/100\n",
      "61/61 - 0s - loss: 0.4404 - accuracy: 0.0000e+00 - val_loss: 0.6774 - val_accuracy: 0.0000e+00 - 254ms/epoch - 4ms/step\n",
      "Epoch 49/100\n",
      "61/61 - 0s - loss: 0.4370 - accuracy: 0.0000e+00 - val_loss: 0.6604 - val_accuracy: 0.0000e+00 - 222ms/epoch - 4ms/step\n",
      "Epoch 50/100\n",
      "61/61 - 0s - loss: 0.4356 - accuracy: 0.0000e+00 - val_loss: 0.6792 - val_accuracy: 0.0000e+00 - 202ms/epoch - 3ms/step\n",
      "Epoch 51/100\n",
      "61/61 - 0s - loss: 0.4333 - accuracy: 0.0000e+00 - val_loss: 0.6620 - val_accuracy: 0.0000e+00 - 211ms/epoch - 3ms/step\n",
      "Epoch 52/100\n",
      "61/61 - 0s - loss: 0.4437 - accuracy: 0.0000e+00 - val_loss: 0.7885 - val_accuracy: 0.0000e+00 - 197ms/epoch - 3ms/step\n",
      "Epoch 53/100\n",
      "61/61 - 0s - loss: 0.4592 - accuracy: 0.0000e+00 - val_loss: 0.7634 - val_accuracy: 0.0000e+00 - 197ms/epoch - 3ms/step\n",
      "Epoch 54/100\n",
      "61/61 - 0s - loss: 0.4709 - accuracy: 0.0000e+00 - val_loss: 0.7584 - val_accuracy: 0.0000e+00 - 173ms/epoch - 3ms/step\n",
      "Epoch 55/100\n",
      "61/61 - 0s - loss: 0.4581 - accuracy: 0.0000e+00 - val_loss: 0.7367 - val_accuracy: 0.0000e+00 - 203ms/epoch - 3ms/step\n",
      "Epoch 56/100\n",
      "61/61 - 0s - loss: 0.4507 - accuracy: 0.0000e+00 - val_loss: 0.7170 - val_accuracy: 0.0000e+00 - 186ms/epoch - 3ms/step\n",
      "Epoch 57/100\n",
      "61/61 - 0s - loss: 0.4496 - accuracy: 0.0000e+00 - val_loss: 0.7087 - val_accuracy: 0.0000e+00 - 179ms/epoch - 3ms/step\n",
      "Epoch 58/100\n",
      "61/61 - 0s - loss: 0.4475 - accuracy: 0.0000e+00 - val_loss: 0.7041 - val_accuracy: 0.0000e+00 - 199ms/epoch - 3ms/step\n",
      "Epoch 59/100\n",
      "61/61 - 0s - loss: 0.4383 - accuracy: 0.0000e+00 - val_loss: 0.6903 - val_accuracy: 0.0000e+00 - 214ms/epoch - 4ms/step\n",
      "Epoch 60/100\n",
      "61/61 - 0s - loss: 0.4335 - accuracy: 0.0000e+00 - val_loss: 0.6663 - val_accuracy: 0.0000e+00 - 224ms/epoch - 4ms/step\n",
      "Epoch 61/100\n",
      "61/61 - 0s - loss: 0.4345 - accuracy: 0.0000e+00 - val_loss: 0.6528 - val_accuracy: 0.0000e+00 - 160ms/epoch - 3ms/step\n",
      "Epoch 62/100\n",
      "61/61 - 0s - loss: 0.4329 - accuracy: 0.0000e+00 - val_loss: 0.6618 - val_accuracy: 0.0000e+00 - 215ms/epoch - 4ms/step\n",
      "Epoch 63/100\n",
      "61/61 - 0s - loss: 0.4335 - accuracy: 0.0000e+00 - val_loss: 0.6566 - val_accuracy: 0.0000e+00 - 212ms/epoch - 3ms/step\n",
      "Epoch 64/100\n",
      "61/61 - 0s - loss: 0.4316 - accuracy: 0.0000e+00 - val_loss: 0.6544 - val_accuracy: 0.0000e+00 - 229ms/epoch - 4ms/step\n",
      "Epoch 65/100\n",
      "61/61 - 0s - loss: 0.4312 - accuracy: 0.0000e+00 - val_loss: 0.6569 - val_accuracy: 0.0000e+00 - 229ms/epoch - 4ms/step\n",
      "Epoch 66/100\n",
      "61/61 - 0s - loss: 0.4286 - accuracy: 0.0000e+00 - val_loss: 0.6544 - val_accuracy: 0.0000e+00 - 202ms/epoch - 3ms/step\n",
      "Epoch 67/100\n",
      "61/61 - 0s - loss: 0.4288 - accuracy: 0.0000e+00 - val_loss: 0.6609 - val_accuracy: 0.0000e+00 - 213ms/epoch - 3ms/step\n",
      "Epoch 68/100\n",
      "61/61 - 0s - loss: 0.4310 - accuracy: 0.0000e+00 - val_loss: 0.6629 - val_accuracy: 0.0000e+00 - 207ms/epoch - 3ms/step\n",
      "Epoch 69/100\n",
      "61/61 - 0s - loss: 0.4443 - accuracy: 0.0000e+00 - val_loss: 0.6225 - val_accuracy: 0.0000e+00 - 185ms/epoch - 3ms/step\n",
      "Epoch 70/100\n",
      "61/61 - 0s - loss: 0.4391 - accuracy: 0.0000e+00 - val_loss: 0.6427 - val_accuracy: 0.0000e+00 - 191ms/epoch - 3ms/step\n",
      "Epoch 71/100\n",
      "61/61 - 0s - loss: 0.4369 - accuracy: 0.0000e+00 - val_loss: 0.6451 - val_accuracy: 0.0000e+00 - 215ms/epoch - 4ms/step\n",
      "Epoch 72/100\n",
      "61/61 - 0s - loss: 0.4563 - accuracy: 0.0000e+00 - val_loss: 0.7029 - val_accuracy: 0.0000e+00 - 207ms/epoch - 3ms/step\n",
      "Epoch 73/100\n",
      "61/61 - 0s - loss: 0.4494 - accuracy: 0.0000e+00 - val_loss: 0.6733 - val_accuracy: 0.0000e+00 - 237ms/epoch - 4ms/step\n",
      "Epoch 74/100\n",
      "61/61 - 0s - loss: 0.4353 - accuracy: 0.0000e+00 - val_loss: 0.6631 - val_accuracy: 0.0000e+00 - 220ms/epoch - 4ms/step\n",
      "Epoch 75/100\n",
      "61/61 - 0s - loss: 0.4414 - accuracy: 0.0000e+00 - val_loss: 0.6375 - val_accuracy: 0.0000e+00 - 183ms/epoch - 3ms/step\n",
      "Epoch 76/100\n",
      "61/61 - 0s - loss: 0.4303 - accuracy: 0.0000e+00 - val_loss: 0.6629 - val_accuracy: 0.0000e+00 - 217ms/epoch - 4ms/step\n",
      "Epoch 77/100\n",
      "61/61 - 0s - loss: 0.4304 - accuracy: 0.0000e+00 - val_loss: 0.7109 - val_accuracy: 0.0000e+00 - 195ms/epoch - 3ms/step\n",
      "Epoch 78/100\n",
      "61/61 - 0s - loss: 0.4298 - accuracy: 0.0000e+00 - val_loss: 0.6707 - val_accuracy: 0.0000e+00 - 215ms/epoch - 4ms/step\n",
      "Epoch 79/100\n",
      "61/61 - 0s - loss: 0.4279 - accuracy: 0.0000e+00 - val_loss: 0.6774 - val_accuracy: 0.0000e+00 - 219ms/epoch - 4ms/step\n",
      "Epoch 80/100\n",
      "61/61 - 0s - loss: 0.4363 - accuracy: 0.0000e+00 - val_loss: 0.7336 - val_accuracy: 0.0000e+00 - 192ms/epoch - 3ms/step\n",
      "Epoch 81/100\n",
      "61/61 - 0s - loss: 0.4265 - accuracy: 0.0000e+00 - val_loss: 0.6941 - val_accuracy: 0.0000e+00 - 205ms/epoch - 3ms/step\n",
      "Epoch 82/100\n",
      "61/61 - 0s - loss: 0.4538 - accuracy: 0.0000e+00 - val_loss: 0.6630 - val_accuracy: 0.0000e+00 - 214ms/epoch - 4ms/step\n",
      "Epoch 83/100\n",
      "61/61 - 0s - loss: 0.4557 - accuracy: 0.0000e+00 - val_loss: 0.6337 - val_accuracy: 0.0000e+00 - 200ms/epoch - 3ms/step\n",
      "Epoch 84/100\n",
      "61/61 - 0s - loss: 0.4387 - accuracy: 0.0000e+00 - val_loss: 0.6469 - val_accuracy: 0.0000e+00 - 205ms/epoch - 3ms/step\n",
      "Epoch 85/100\n",
      "61/61 - 0s - loss: 0.4350 - accuracy: 0.0000e+00 - val_loss: 0.7061 - val_accuracy: 0.0000e+00 - 199ms/epoch - 3ms/step\n",
      "Epoch 86/100\n",
      "61/61 - 0s - loss: 0.4585 - accuracy: 0.0000e+00 - val_loss: 0.7239 - val_accuracy: 0.0000e+00 - 209ms/epoch - 3ms/step\n",
      "Epoch 87/100\n",
      "61/61 - 0s - loss: 0.4414 - accuracy: 0.0000e+00 - val_loss: 0.7151 - val_accuracy: 0.0000e+00 - 203ms/epoch - 3ms/step\n",
      "Epoch 88/100\n",
      "61/61 - 0s - loss: 0.4379 - accuracy: 0.0000e+00 - val_loss: 0.7100 - val_accuracy: 0.0000e+00 - 143ms/epoch - 2ms/step\n",
      "Epoch 89/100\n",
      "61/61 - 0s - loss: 0.4357 - accuracy: 0.0000e+00 - val_loss: 0.6964 - val_accuracy: 0.0000e+00 - 214ms/epoch - 4ms/step\n",
      "Epoch 90/100\n",
      "61/61 - 0s - loss: 0.4710 - accuracy: 0.0000e+00 - val_loss: 0.7710 - val_accuracy: 0.0000e+00 - 186ms/epoch - 3ms/step\n",
      "Epoch 91/100\n",
      "61/61 - 0s - loss: 0.4986 - accuracy: 0.0000e+00 - val_loss: 0.7783 - val_accuracy: 0.0000e+00 - 145ms/epoch - 2ms/step\n",
      "Epoch 92/100\n",
      "61/61 - 0s - loss: 0.4600 - accuracy: 0.0000e+00 - val_loss: 0.7922 - val_accuracy: 0.0000e+00 - 238ms/epoch - 4ms/step\n",
      "Epoch 93/100\n",
      "61/61 - 0s - loss: 0.4463 - accuracy: 0.0000e+00 - val_loss: 0.7758 - val_accuracy: 0.0000e+00 - 212ms/epoch - 3ms/step\n",
      "Epoch 94/100\n",
      "61/61 - 0s - loss: 0.4407 - accuracy: 0.0000e+00 - val_loss: 0.7657 - val_accuracy: 0.0000e+00 - 171ms/epoch - 3ms/step\n",
      "Epoch 95/100\n",
      "61/61 - 0s - loss: 0.4374 - accuracy: 0.0000e+00 - val_loss: 0.7478 - val_accuracy: 0.0000e+00 - 176ms/epoch - 3ms/step\n",
      "Epoch 96/100\n",
      "61/61 - 0s - loss: 0.4353 - accuracy: 0.0000e+00 - val_loss: 0.7470 - val_accuracy: 0.0000e+00 - 212ms/epoch - 3ms/step\n",
      "Epoch 97/100\n",
      "61/61 - 0s - loss: 0.4321 - accuracy: 0.0000e+00 - val_loss: 0.7324 - val_accuracy: 0.0000e+00 - 177ms/epoch - 3ms/step\n",
      "Epoch 98/100\n",
      "61/61 - 0s - loss: 0.4396 - accuracy: 0.0000e+00 - val_loss: 0.7092 - val_accuracy: 0.0000e+00 - 208ms/epoch - 3ms/step\n",
      "Epoch 99/100\n",
      "61/61 - 0s - loss: 0.4377 - accuracy: 0.0000e+00 - val_loss: 0.6952 - val_accuracy: 0.0000e+00 - 208ms/epoch - 3ms/step\n",
      "Epoch 100/100\n",
      "61/61 - 0s - loss: 0.4301 - accuracy: 0.0000e+00 - val_loss: 0.7034 - val_accuracy: 0.0000e+00 - 182ms/epoch - 3ms/step\n"
     ]
    }
   ],
   "source": [
    "look_back = 15\n",
    "\n",
    "model1 = Sequential()\n",
    "\n",
    "model1.add(LSTM(50, input_shape=(1, look_back), return_sequences=False))\n",
    "\n",
    "# Dropout to prevent overfitting\n",
    "model1.add(Dropout(0.5))\n",
    "\n",
    "# Dense layer for classification output\n",
    "model1.add(Dense(units=1, activation='tanh'))\n",
    "\n",
    "# Optimizing the neural network weights\n",
    "opt = tf.keras.optimizers.Adam(learning_rate=0.01)\n",
    "\n",
    "# Compiling the model with the optimizer\n",
    "model1.compile(loss='binary_crossentropy', optimizer=opt, metrics=['accuracy'])\n",
    "\n",
    "history = model1.fit(x_train, y_train, epochs=100, batch_size=64, verbose=2, validation_data=(x_test, y_test))\n"
   ]
  },
  {
   "cell_type": "code",
   "execution_count": 25,
   "id": "4224cfa3",
   "metadata": {
    "id": "4224cfa3",
    "outputId": "b1e4c3d6-fac4-4487-9cdb-8700dfacd08e"
   },
   "outputs": [
    {
     "name": "stdout",
     "output_type": "stream",
     "text": [
      "Epoch 1/100\n",
      "61/61 - 3s - loss: 0.0081 - mse: 0.0081 - val_loss: 0.0928 - val_mse: 0.0928 - 3s/epoch - 46ms/step\n",
      "Epoch 2/100\n",
      "61/61 - 0s - loss: 0.0085 - mse: 0.0085 - val_loss: 0.0909 - val_mse: 0.0909 - 211ms/epoch - 3ms/step\n",
      "Epoch 3/100\n",
      "61/61 - 0s - loss: 0.0087 - mse: 0.0087 - val_loss: 0.0897 - val_mse: 0.0897 - 148ms/epoch - 2ms/step\n",
      "Epoch 4/100\n",
      "61/61 - 0s - loss: 0.0075 - mse: 0.0075 - val_loss: 0.0888 - val_mse: 0.0888 - 189ms/epoch - 3ms/step\n",
      "Epoch 5/100\n",
      "61/61 - 0s - loss: 0.0075 - mse: 0.0075 - val_loss: 0.0879 - val_mse: 0.0879 - 203ms/epoch - 3ms/step\n",
      "Epoch 6/100\n",
      "61/61 - 0s - loss: 0.0072 - mse: 0.0072 - val_loss: 0.0855 - val_mse: 0.0855 - 207ms/epoch - 3ms/step\n",
      "Epoch 7/100\n",
      "61/61 - 0s - loss: 0.0078 - mse: 0.0078 - val_loss: 0.0868 - val_mse: 0.0868 - 215ms/epoch - 4ms/step\n",
      "Epoch 8/100\n",
      "61/61 - 0s - loss: 0.0075 - mse: 0.0075 - val_loss: 0.0853 - val_mse: 0.0853 - 236ms/epoch - 4ms/step\n",
      "Epoch 9/100\n",
      "61/61 - 0s - loss: 0.0073 - mse: 0.0073 - val_loss: 0.0833 - val_mse: 0.0833 - 225ms/epoch - 4ms/step\n",
      "Epoch 10/100\n",
      "61/61 - 0s - loss: 0.0067 - mse: 0.0067 - val_loss: 0.0813 - val_mse: 0.0813 - 211ms/epoch - 3ms/step\n",
      "Epoch 11/100\n",
      "61/61 - 0s - loss: 0.0074 - mse: 0.0074 - val_loss: 0.0814 - val_mse: 0.0814 - 199ms/epoch - 3ms/step\n",
      "Epoch 12/100\n",
      "61/61 - 0s - loss: 0.0068 - mse: 0.0068 - val_loss: 0.0801 - val_mse: 0.0801 - 212ms/epoch - 3ms/step\n",
      "Epoch 13/100\n",
      "61/61 - 0s - loss: 0.0065 - mse: 0.0065 - val_loss: 0.0803 - val_mse: 0.0803 - 186ms/epoch - 3ms/step\n",
      "Epoch 14/100\n",
      "61/61 - 0s - loss: 0.0066 - mse: 0.0066 - val_loss: 0.0781 - val_mse: 0.0781 - 201ms/epoch - 3ms/step\n",
      "Epoch 15/100\n",
      "61/61 - 0s - loss: 0.0065 - mse: 0.0065 - val_loss: 0.0759 - val_mse: 0.0759 - 192ms/epoch - 3ms/step\n",
      "Epoch 16/100\n",
      "61/61 - 0s - loss: 0.0069 - mse: 0.0069 - val_loss: 0.0767 - val_mse: 0.0767 - 164ms/epoch - 3ms/step\n",
      "Epoch 17/100\n",
      "61/61 - 0s - loss: 0.0069 - mse: 0.0069 - val_loss: 0.0776 - val_mse: 0.0776 - 185ms/epoch - 3ms/step\n",
      "Epoch 18/100\n",
      "61/61 - 0s - loss: 0.0063 - mse: 0.0063 - val_loss: 0.0751 - val_mse: 0.0751 - 189ms/epoch - 3ms/step\n",
      "Epoch 19/100\n",
      "61/61 - 0s - loss: 0.0062 - mse: 0.0062 - val_loss: 0.0748 - val_mse: 0.0748 - 178ms/epoch - 3ms/step\n",
      "Epoch 20/100\n",
      "61/61 - 0s - loss: 0.0058 - mse: 0.0058 - val_loss: 0.0738 - val_mse: 0.0738 - 156ms/epoch - 3ms/step\n",
      "Epoch 21/100\n",
      "61/61 - 0s - loss: 0.0062 - mse: 0.0062 - val_loss: 0.0709 - val_mse: 0.0709 - 195ms/epoch - 3ms/step\n",
      "Epoch 22/100\n",
      "61/61 - 0s - loss: 0.0055 - mse: 0.0055 - val_loss: 0.0706 - val_mse: 0.0706 - 142ms/epoch - 2ms/step\n",
      "Epoch 23/100\n",
      "61/61 - 0s - loss: 0.0058 - mse: 0.0058 - val_loss: 0.0690 - val_mse: 0.0690 - 188ms/epoch - 3ms/step\n",
      "Epoch 24/100\n",
      "61/61 - 0s - loss: 0.0057 - mse: 0.0057 - val_loss: 0.0704 - val_mse: 0.0704 - 205ms/epoch - 3ms/step\n",
      "Epoch 25/100\n",
      "61/61 - 0s - loss: 0.0060 - mse: 0.0060 - val_loss: 0.0698 - val_mse: 0.0698 - 193ms/epoch - 3ms/step\n",
      "Epoch 26/100\n",
      "61/61 - 0s - loss: 0.0056 - mse: 0.0056 - val_loss: 0.0706 - val_mse: 0.0706 - 188ms/epoch - 3ms/step\n",
      "Epoch 27/100\n",
      "61/61 - 0s - loss: 0.0058 - mse: 0.0058 - val_loss: 0.0665 - val_mse: 0.0665 - 189ms/epoch - 3ms/step\n",
      "Epoch 28/100\n",
      "61/61 - 0s - loss: 0.0055 - mse: 0.0055 - val_loss: 0.0674 - val_mse: 0.0674 - 183ms/epoch - 3ms/step\n",
      "Epoch 29/100\n",
      "61/61 - 0s - loss: 0.0054 - mse: 0.0054 - val_loss: 0.0665 - val_mse: 0.0665 - 191ms/epoch - 3ms/step\n",
      "Epoch 30/100\n",
      "61/61 - 0s - loss: 0.0054 - mse: 0.0054 - val_loss: 0.0644 - val_mse: 0.0644 - 213ms/epoch - 3ms/step\n",
      "Epoch 31/100\n",
      "61/61 - 0s - loss: 0.0057 - mse: 0.0057 - val_loss: 0.0637 - val_mse: 0.0637 - 174ms/epoch - 3ms/step\n",
      "Epoch 32/100\n",
      "61/61 - 0s - loss: 0.0052 - mse: 0.0052 - val_loss: 0.0641 - val_mse: 0.0641 - 174ms/epoch - 3ms/step\n",
      "Epoch 33/100\n",
      "61/61 - 0s - loss: 0.0054 - mse: 0.0054 - val_loss: 0.0642 - val_mse: 0.0642 - 239ms/epoch - 4ms/step\n",
      "Epoch 34/100\n",
      "61/61 - 0s - loss: 0.0050 - mse: 0.0050 - val_loss: 0.0616 - val_mse: 0.0616 - 186ms/epoch - 3ms/step\n",
      "Epoch 35/100\n",
      "61/61 - 0s - loss: 0.0055 - mse: 0.0055 - val_loss: 0.0628 - val_mse: 0.0628 - 206ms/epoch - 3ms/step\n",
      "Epoch 36/100\n",
      "61/61 - 0s - loss: 0.0051 - mse: 0.0051 - val_loss: 0.0630 - val_mse: 0.0630 - 158ms/epoch - 3ms/step\n",
      "Epoch 37/100\n",
      "61/61 - 0s - loss: 0.0052 - mse: 0.0052 - val_loss: 0.0617 - val_mse: 0.0617 - 149ms/epoch - 2ms/step\n",
      "Epoch 38/100\n",
      "61/61 - 0s - loss: 0.0050 - mse: 0.0050 - val_loss: 0.0609 - val_mse: 0.0609 - 204ms/epoch - 3ms/step\n",
      "Epoch 39/100\n",
      "61/61 - 0s - loss: 0.0053 - mse: 0.0053 - val_loss: 0.0624 - val_mse: 0.0624 - 196ms/epoch - 3ms/step\n",
      "Epoch 40/100\n",
      "61/61 - 0s - loss: 0.0049 - mse: 0.0049 - val_loss: 0.0581 - val_mse: 0.0581 - 181ms/epoch - 3ms/step\n",
      "Epoch 41/100\n",
      "61/61 - 0s - loss: 0.0051 - mse: 0.0051 - val_loss: 0.0575 - val_mse: 0.0575 - 175ms/epoch - 3ms/step\n",
      "Epoch 42/100\n",
      "61/61 - 0s - loss: 0.0049 - mse: 0.0049 - val_loss: 0.0591 - val_mse: 0.0591 - 200ms/epoch - 3ms/step\n",
      "Epoch 43/100\n",
      "61/61 - 0s - loss: 0.0048 - mse: 0.0048 - val_loss: 0.0573 - val_mse: 0.0573 - 214ms/epoch - 4ms/step\n",
      "Epoch 44/100\n",
      "61/61 - 0s - loss: 0.0051 - mse: 0.0051 - val_loss: 0.0570 - val_mse: 0.0570 - 208ms/epoch - 3ms/step\n",
      "Epoch 45/100\n",
      "61/61 - 0s - loss: 0.0049 - mse: 0.0049 - val_loss: 0.0554 - val_mse: 0.0554 - 168ms/epoch - 3ms/step\n",
      "Epoch 46/100\n",
      "61/61 - 0s - loss: 0.0047 - mse: 0.0047 - val_loss: 0.0564 - val_mse: 0.0564 - 173ms/epoch - 3ms/step\n",
      "Epoch 47/100\n",
      "61/61 - 0s - loss: 0.0047 - mse: 0.0047 - val_loss: 0.0534 - val_mse: 0.0534 - 213ms/epoch - 3ms/step\n",
      "Epoch 48/100\n",
      "61/61 - 0s - loss: 0.0048 - mse: 0.0048 - val_loss: 0.0550 - val_mse: 0.0550 - 203ms/epoch - 3ms/step\n",
      "Epoch 49/100\n",
      "61/61 - 0s - loss: 0.0046 - mse: 0.0046 - val_loss: 0.0522 - val_mse: 0.0522 - 184ms/epoch - 3ms/step\n",
      "Epoch 50/100\n",
      "61/61 - 0s - loss: 0.0047 - mse: 0.0047 - val_loss: 0.0541 - val_mse: 0.0541 - 201ms/epoch - 3ms/step\n",
      "Epoch 51/100\n",
      "61/61 - 0s - loss: 0.0045 - mse: 0.0045 - val_loss: 0.0522 - val_mse: 0.0522 - 168ms/epoch - 3ms/step\n",
      "Epoch 52/100\n",
      "61/61 - 0s - loss: 0.0047 - mse: 0.0047 - val_loss: 0.0517 - val_mse: 0.0517 - 161ms/epoch - 3ms/step\n",
      "Epoch 53/100\n",
      "61/61 - 0s - loss: 0.0043 - mse: 0.0043 - val_loss: 0.0509 - val_mse: 0.0509 - 187ms/epoch - 3ms/step\n",
      "Epoch 54/100\n",
      "61/61 - 0s - loss: 0.0044 - mse: 0.0044 - val_loss: 0.0483 - val_mse: 0.0483 - 168ms/epoch - 3ms/step\n",
      "Epoch 55/100\n",
      "61/61 - 0s - loss: 0.0044 - mse: 0.0044 - val_loss: 0.0507 - val_mse: 0.0507 - 153ms/epoch - 3ms/step\n",
      "Epoch 56/100\n",
      "61/61 - 0s - loss: 0.0045 - mse: 0.0045 - val_loss: 0.0501 - val_mse: 0.0501 - 204ms/epoch - 3ms/step\n",
      "Epoch 57/100\n",
      "61/61 - 0s - loss: 0.0043 - mse: 0.0043 - val_loss: 0.0530 - val_mse: 0.0530 - 164ms/epoch - 3ms/step\n",
      "Epoch 58/100\n",
      "61/61 - 0s - loss: 0.0043 - mse: 0.0043 - val_loss: 0.0507 - val_mse: 0.0507 - 195ms/epoch - 3ms/step\n",
      "Epoch 59/100\n",
      "61/61 - 0s - loss: 0.0041 - mse: 0.0041 - val_loss: 0.0489 - val_mse: 0.0489 - 197ms/epoch - 3ms/step\n",
      "Epoch 60/100\n",
      "61/61 - 0s - loss: 0.0044 - mse: 0.0044 - val_loss: 0.0494 - val_mse: 0.0494 - 176ms/epoch - 3ms/step\n",
      "Epoch 61/100\n",
      "61/61 - 0s - loss: 0.0040 - mse: 0.0040 - val_loss: 0.0471 - val_mse: 0.0471 - 174ms/epoch - 3ms/step\n",
      "Epoch 62/100\n",
      "61/61 - 0s - loss: 0.0042 - mse: 0.0042 - val_loss: 0.0506 - val_mse: 0.0506 - 138ms/epoch - 2ms/step\n",
      "Epoch 63/100\n",
      "61/61 - 0s - loss: 0.0041 - mse: 0.0041 - val_loss: 0.0474 - val_mse: 0.0474 - 236ms/epoch - 4ms/step\n",
      "Epoch 64/100\n",
      "61/61 - 0s - loss: 0.0043 - mse: 0.0043 - val_loss: 0.0468 - val_mse: 0.0468 - 233ms/epoch - 4ms/step\n",
      "Epoch 65/100\n",
      "61/61 - 0s - loss: 0.0041 - mse: 0.0041 - val_loss: 0.0469 - val_mse: 0.0469 - 233ms/epoch - 4ms/step\n",
      "Epoch 66/100\n",
      "61/61 - 0s - loss: 0.0041 - mse: 0.0041 - val_loss: 0.0466 - val_mse: 0.0466 - 218ms/epoch - 4ms/step\n",
      "Epoch 67/100\n",
      "61/61 - 0s - loss: 0.0041 - mse: 0.0041 - val_loss: 0.0447 - val_mse: 0.0447 - 192ms/epoch - 3ms/step\n",
      "Epoch 68/100\n",
      "61/61 - 0s - loss: 0.0040 - mse: 0.0040 - val_loss: 0.0451 - val_mse: 0.0451 - 198ms/epoch - 3ms/step\n",
      "Epoch 69/100\n",
      "61/61 - 0s - loss: 0.0040 - mse: 0.0040 - val_loss: 0.0463 - val_mse: 0.0463 - 198ms/epoch - 3ms/step\n",
      "Epoch 70/100\n",
      "61/61 - 0s - loss: 0.0042 - mse: 0.0042 - val_loss: 0.0440 - val_mse: 0.0440 - 200ms/epoch - 3ms/step\n",
      "Epoch 71/100\n",
      "61/61 - 0s - loss: 0.0042 - mse: 0.0042 - val_loss: 0.0463 - val_mse: 0.0463 - 190ms/epoch - 3ms/step\n",
      "Epoch 72/100\n",
      "61/61 - 0s - loss: 0.0040 - mse: 0.0040 - val_loss: 0.0431 - val_mse: 0.0431 - 172ms/epoch - 3ms/step\n",
      "Epoch 73/100\n",
      "61/61 - 0s - loss: 0.0040 - mse: 0.0040 - val_loss: 0.0452 - val_mse: 0.0452 - 172ms/epoch - 3ms/step\n",
      "Epoch 74/100\n",
      "61/61 - 0s - loss: 0.0040 - mse: 0.0040 - val_loss: 0.0454 - val_mse: 0.0454 - 217ms/epoch - 4ms/step\n",
      "Epoch 75/100\n",
      "61/61 - 0s - loss: 0.0037 - mse: 0.0037 - val_loss: 0.0412 - val_mse: 0.0412 - 175ms/epoch - 3ms/step\n",
      "Epoch 76/100\n",
      "61/61 - 0s - loss: 0.0039 - mse: 0.0039 - val_loss: 0.0438 - val_mse: 0.0438 - 156ms/epoch - 3ms/step\n",
      "Epoch 77/100\n",
      "61/61 - 0s - loss: 0.0038 - mse: 0.0038 - val_loss: 0.0427 - val_mse: 0.0427 - 177ms/epoch - 3ms/step\n",
      "Epoch 78/100\n",
      "61/61 - 0s - loss: 0.0039 - mse: 0.0039 - val_loss: 0.0444 - val_mse: 0.0444 - 161ms/epoch - 3ms/step\n",
      "Epoch 79/100\n",
      "61/61 - 0s - loss: 0.0038 - mse: 0.0038 - val_loss: 0.0428 - val_mse: 0.0428 - 205ms/epoch - 3ms/step\n",
      "Epoch 80/100\n",
      "61/61 - 0s - loss: 0.0038 - mse: 0.0038 - val_loss: 0.0438 - val_mse: 0.0438 - 179ms/epoch - 3ms/step\n",
      "Epoch 81/100\n",
      "61/61 - 0s - loss: 0.0038 - mse: 0.0038 - val_loss: 0.0429 - val_mse: 0.0429 - 194ms/epoch - 3ms/step\n",
      "Epoch 82/100\n",
      "61/61 - 0s - loss: 0.0039 - mse: 0.0039 - val_loss: 0.0430 - val_mse: 0.0430 - 136ms/epoch - 2ms/step\n",
      "Epoch 83/100\n",
      "61/61 - 0s - loss: 0.0038 - mse: 0.0038 - val_loss: 0.0405 - val_mse: 0.0405 - 179ms/epoch - 3ms/step\n",
      "Epoch 84/100\n",
      "61/61 - 0s - loss: 0.0038 - mse: 0.0038 - val_loss: 0.0402 - val_mse: 0.0402 - 207ms/epoch - 3ms/step\n",
      "Epoch 85/100\n",
      "61/61 - 0s - loss: 0.0038 - mse: 0.0038 - val_loss: 0.0410 - val_mse: 0.0410 - 187ms/epoch - 3ms/step\n",
      "Epoch 86/100\n",
      "61/61 - 0s - loss: 0.0039 - mse: 0.0039 - val_loss: 0.0422 - val_mse: 0.0422 - 151ms/epoch - 2ms/step\n",
      "Epoch 87/100\n",
      "61/61 - 0s - loss: 0.0037 - mse: 0.0037 - val_loss: 0.0448 - val_mse: 0.0448 - 174ms/epoch - 3ms/step\n",
      "Epoch 88/100\n",
      "61/61 - 0s - loss: 0.0038 - mse: 0.0038 - val_loss: 0.0447 - val_mse: 0.0447 - 178ms/epoch - 3ms/step\n",
      "Epoch 89/100\n",
      "61/61 - 0s - loss: 0.0038 - mse: 0.0038 - val_loss: 0.0420 - val_mse: 0.0420 - 169ms/epoch - 3ms/step\n",
      "Epoch 90/100\n",
      "61/61 - 0s - loss: 0.0038 - mse: 0.0038 - val_loss: 0.0412 - val_mse: 0.0412 - 196ms/epoch - 3ms/step\n",
      "Epoch 91/100\n",
      "61/61 - 0s - loss: 0.0036 - mse: 0.0036 - val_loss: 0.0409 - val_mse: 0.0409 - 193ms/epoch - 3ms/step\n",
      "Epoch 92/100\n",
      "61/61 - 0s - loss: 0.0038 - mse: 0.0038 - val_loss: 0.0377 - val_mse: 0.0377 - 197ms/epoch - 3ms/step\n",
      "Epoch 93/100\n",
      "61/61 - 0s - loss: 0.0037 - mse: 0.0037 - val_loss: 0.0413 - val_mse: 0.0413 - 175ms/epoch - 3ms/step\n",
      "Epoch 94/100\n",
      "61/61 - 0s - loss: 0.0037 - mse: 0.0037 - val_loss: 0.0400 - val_mse: 0.0400 - 170ms/epoch - 3ms/step\n",
      "Epoch 95/100\n",
      "61/61 - 0s - loss: 0.0037 - mse: 0.0037 - val_loss: 0.0375 - val_mse: 0.0375 - 212ms/epoch - 3ms/step\n",
      "Epoch 96/100\n",
      "61/61 - 0s - loss: 0.0038 - mse: 0.0038 - val_loss: 0.0411 - val_mse: 0.0411 - 302ms/epoch - 5ms/step\n",
      "Epoch 97/100\n",
      "61/61 - 0s - loss: 0.0038 - mse: 0.0038 - val_loss: 0.0393 - val_mse: 0.0393 - 211ms/epoch - 3ms/step\n",
      "Epoch 98/100\n",
      "61/61 - 0s - loss: 0.0036 - mse: 0.0036 - val_loss: 0.0418 - val_mse: 0.0418 - 244ms/epoch - 4ms/step\n",
      "Epoch 99/100\n",
      "61/61 - 0s - loss: 0.0037 - mse: 0.0037 - val_loss: 0.0403 - val_mse: 0.0403 - 251ms/epoch - 4ms/step\n",
      "Epoch 100/100\n",
      "61/61 - 0s - loss: 0.0037 - mse: 0.0037 - val_loss: 0.0387 - val_mse: 0.0387 - 218ms/epoch - 4ms/step\n"
     ]
    }
   ],
   "source": [
    "mseplot = model1.compile(loss='mean_squared_error', optimizer=opt, metrics=['mse'])\n",
    "\n",
    "mseplot = model1.fit(x_train, y_train, epochs = 100, batch_size=64, verbose=2, validation_data=(x_test, y_test))"
   ]
  },
  {
   "cell_type": "code",
   "execution_count": 26,
   "id": "05a4cb49",
   "metadata": {
    "id": "05a4cb49",
    "outputId": "d9271c8b-290c-4d77-fff1-0cb79b166ba8"
   },
   "outputs": [
    {
     "name": "stdout",
     "output_type": "stream",
     "text": [
      "Epoch 1/100\n",
      "61/61 - 2s - loss: 0.0035 - rmse: 0.0594 - val_loss: 0.0407 - val_rmse: 0.2017 - 2s/epoch - 32ms/step\n",
      "Epoch 2/100\n",
      "61/61 - 0s - loss: 0.0038 - rmse: 0.0616 - val_loss: 0.0394 - val_rmse: 0.1986 - 181ms/epoch - 3ms/step\n",
      "Epoch 3/100\n",
      "61/61 - 0s - loss: 0.0037 - rmse: 0.0611 - val_loss: 0.0373 - val_rmse: 0.1931 - 206ms/epoch - 3ms/step\n",
      "Epoch 4/100\n",
      "61/61 - 0s - loss: 0.0038 - rmse: 0.0619 - val_loss: 0.0386 - val_rmse: 0.1965 - 204ms/epoch - 3ms/step\n",
      "Epoch 5/100\n",
      "61/61 - 0s - loss: 0.0037 - rmse: 0.0610 - val_loss: 0.0367 - val_rmse: 0.1915 - 254ms/epoch - 4ms/step\n",
      "Epoch 6/100\n",
      "61/61 - 0s - loss: 0.0039 - rmse: 0.0622 - val_loss: 0.0428 - val_rmse: 0.2069 - 233ms/epoch - 4ms/step\n",
      "Epoch 7/100\n",
      "61/61 - 0s - loss: 0.0037 - rmse: 0.0611 - val_loss: 0.0366 - val_rmse: 0.1912 - 209ms/epoch - 3ms/step\n",
      "Epoch 8/100\n",
      "61/61 - 0s - loss: 0.0037 - rmse: 0.0608 - val_loss: 0.0389 - val_rmse: 0.1974 - 206ms/epoch - 3ms/step\n",
      "Epoch 9/100\n",
      "61/61 - 0s - loss: 0.0037 - rmse: 0.0605 - val_loss: 0.0391 - val_rmse: 0.1978 - 198ms/epoch - 3ms/step\n",
      "Epoch 10/100\n",
      "61/61 - 0s - loss: 0.0037 - rmse: 0.0608 - val_loss: 0.0395 - val_rmse: 0.1988 - 211ms/epoch - 3ms/step\n",
      "Epoch 11/100\n",
      "61/61 - 0s - loss: 0.0035 - rmse: 0.0595 - val_loss: 0.0382 - val_rmse: 0.1955 - 198ms/epoch - 3ms/step\n",
      "Epoch 12/100\n",
      "61/61 - 0s - loss: 0.0037 - rmse: 0.0611 - val_loss: 0.0399 - val_rmse: 0.1998 - 164ms/epoch - 3ms/step\n",
      "Epoch 13/100\n",
      "61/61 - 0s - loss: 0.0036 - rmse: 0.0602 - val_loss: 0.0374 - val_rmse: 0.1935 - 249ms/epoch - 4ms/step\n",
      "Epoch 14/100\n",
      "61/61 - 0s - loss: 0.0036 - rmse: 0.0604 - val_loss: 0.0397 - val_rmse: 0.1992 - 202ms/epoch - 3ms/step\n",
      "Epoch 15/100\n",
      "61/61 - 0s - loss: 0.0037 - rmse: 0.0609 - val_loss: 0.0439 - val_rmse: 0.2095 - 197ms/epoch - 3ms/step\n",
      "Epoch 16/100\n",
      "61/61 - 0s - loss: 0.0038 - rmse: 0.0613 - val_loss: 0.0403 - val_rmse: 0.2007 - 200ms/epoch - 3ms/step\n",
      "Epoch 17/100\n",
      "61/61 - 0s - loss: 0.0036 - rmse: 0.0602 - val_loss: 0.0385 - val_rmse: 0.1963 - 202ms/epoch - 3ms/step\n",
      "Epoch 18/100\n",
      "61/61 - 0s - loss: 0.0036 - rmse: 0.0601 - val_loss: 0.0367 - val_rmse: 0.1917 - 145ms/epoch - 2ms/step\n",
      "Epoch 19/100\n",
      "61/61 - 0s - loss: 0.0036 - rmse: 0.0601 - val_loss: 0.0388 - val_rmse: 0.1969 - 209ms/epoch - 3ms/step\n",
      "Epoch 20/100\n",
      "61/61 - 0s - loss: 0.0037 - rmse: 0.0606 - val_loss: 0.0392 - val_rmse: 0.1981 - 281ms/epoch - 5ms/step\n",
      "Epoch 21/100\n",
      "61/61 - 0s - loss: 0.0037 - rmse: 0.0611 - val_loss: 0.0395 - val_rmse: 0.1988 - 209ms/epoch - 3ms/step\n",
      "Epoch 22/100\n",
      "61/61 - 0s - loss: 0.0036 - rmse: 0.0603 - val_loss: 0.0365 - val_rmse: 0.1911 - 246ms/epoch - 4ms/step\n",
      "Epoch 23/100\n",
      "61/61 - 0s - loss: 0.0037 - rmse: 0.0605 - val_loss: 0.0377 - val_rmse: 0.1940 - 233ms/epoch - 4ms/step\n",
      "Epoch 24/100\n",
      "61/61 - 0s - loss: 0.0038 - rmse: 0.0613 - val_loss: 0.0360 - val_rmse: 0.1897 - 229ms/epoch - 4ms/step\n",
      "Epoch 25/100\n",
      "61/61 - 0s - loss: 0.0038 - rmse: 0.0619 - val_loss: 0.0375 - val_rmse: 0.1937 - 146ms/epoch - 2ms/step\n",
      "Epoch 26/100\n",
      "61/61 - 0s - loss: 0.0037 - rmse: 0.0608 - val_loss: 0.0385 - val_rmse: 0.1961 - 248ms/epoch - 4ms/step\n",
      "Epoch 27/100\n",
      "61/61 - 0s - loss: 0.0035 - rmse: 0.0591 - val_loss: 0.0355 - val_rmse: 0.1884 - 204ms/epoch - 3ms/step\n",
      "Epoch 28/100\n",
      "61/61 - 0s - loss: 0.0036 - rmse: 0.0601 - val_loss: 0.0396 - val_rmse: 0.1990 - 208ms/epoch - 3ms/step\n",
      "Epoch 29/100\n",
      "61/61 - 0s - loss: 0.0036 - rmse: 0.0599 - val_loss: 0.0400 - val_rmse: 0.2000 - 194ms/epoch - 3ms/step\n",
      "Epoch 30/100\n",
      "61/61 - 0s - loss: 0.0037 - rmse: 0.0610 - val_loss: 0.0386 - val_rmse: 0.1965 - 230ms/epoch - 4ms/step\n",
      "Epoch 31/100\n",
      "61/61 - 0s - loss: 0.0036 - rmse: 0.0601 - val_loss: 0.0377 - val_rmse: 0.1941 - 219ms/epoch - 4ms/step\n",
      "Epoch 32/100\n",
      "61/61 - 0s - loss: 0.0036 - rmse: 0.0597 - val_loss: 0.0359 - val_rmse: 0.1895 - 226ms/epoch - 4ms/step\n",
      "Epoch 33/100\n",
      "61/61 - 0s - loss: 0.0036 - rmse: 0.0599 - val_loss: 0.0349 - val_rmse: 0.1868 - 185ms/epoch - 3ms/step\n",
      "Epoch 34/100\n",
      "61/61 - 0s - loss: 0.0037 - rmse: 0.0604 - val_loss: 0.0360 - val_rmse: 0.1897 - 203ms/epoch - 3ms/step\n",
      "Epoch 35/100\n",
      "61/61 - 0s - loss: 0.0037 - rmse: 0.0605 - val_loss: 0.0384 - val_rmse: 0.1958 - 201ms/epoch - 3ms/step\n",
      "Epoch 36/100\n",
      "61/61 - 0s - loss: 0.0035 - rmse: 0.0595 - val_loss: 0.0362 - val_rmse: 0.1902 - 198ms/epoch - 3ms/step\n",
      "Epoch 37/100\n",
      "61/61 - 0s - loss: 0.0035 - rmse: 0.0593 - val_loss: 0.0376 - val_rmse: 0.1938 - 203ms/epoch - 3ms/step\n",
      "Epoch 38/100\n",
      "61/61 - 0s - loss: 0.0037 - rmse: 0.0605 - val_loss: 0.0372 - val_rmse: 0.1930 - 206ms/epoch - 3ms/step\n",
      "Epoch 39/100\n",
      "61/61 - 0s - loss: 0.0035 - rmse: 0.0592 - val_loss: 0.0411 - val_rmse: 0.2027 - 216ms/epoch - 4ms/step\n",
      "Epoch 40/100\n",
      "61/61 - 0s - loss: 0.0036 - rmse: 0.0601 - val_loss: 0.0406 - val_rmse: 0.2014 - 214ms/epoch - 4ms/step\n",
      "Epoch 41/100\n",
      "61/61 - 0s - loss: 0.0036 - rmse: 0.0598 - val_loss: 0.0395 - val_rmse: 0.1988 - 200ms/epoch - 3ms/step\n",
      "Epoch 42/100\n",
      "61/61 - 0s - loss: 0.0036 - rmse: 0.0596 - val_loss: 0.0398 - val_rmse: 0.1996 - 224ms/epoch - 4ms/step\n",
      "Epoch 43/100\n",
      "61/61 - 0s - loss: 0.0035 - rmse: 0.0589 - val_loss: 0.0394 - val_rmse: 0.1984 - 248ms/epoch - 4ms/step\n",
      "Epoch 44/100\n",
      "61/61 - 0s - loss: 0.0036 - rmse: 0.0596 - val_loss: 0.0392 - val_rmse: 0.1979 - 237ms/epoch - 4ms/step\n",
      "Epoch 45/100\n",
      "61/61 - 0s - loss: 0.0037 - rmse: 0.0610 - val_loss: 0.0360 - val_rmse: 0.1897 - 204ms/epoch - 3ms/step\n",
      "Epoch 46/100\n",
      "61/61 - 0s - loss: 0.0035 - rmse: 0.0591 - val_loss: 0.0348 - val_rmse: 0.1866 - 145ms/epoch - 2ms/step\n",
      "Epoch 47/100\n",
      "61/61 - 0s - loss: 0.0034 - rmse: 0.0586 - val_loss: 0.0373 - val_rmse: 0.1932 - 194ms/epoch - 3ms/step\n",
      "Epoch 48/100\n",
      "61/61 - 0s - loss: 0.0036 - rmse: 0.0599 - val_loss: 0.0377 - val_rmse: 0.1942 - 174ms/epoch - 3ms/step\n",
      "Epoch 49/100\n",
      "61/61 - 0s - loss: 0.0035 - rmse: 0.0591 - val_loss: 0.0378 - val_rmse: 0.1943 - 202ms/epoch - 3ms/step\n",
      "Epoch 50/100\n",
      "61/61 - 0s - loss: 0.0038 - rmse: 0.0617 - val_loss: 0.0347 - val_rmse: 0.1862 - 151ms/epoch - 2ms/step\n",
      "Epoch 51/100\n",
      "61/61 - 0s - loss: 0.0038 - rmse: 0.0614 - val_loss: 0.0366 - val_rmse: 0.1912 - 199ms/epoch - 3ms/step\n",
      "Epoch 52/100\n",
      "61/61 - 0s - loss: 0.0036 - rmse: 0.0603 - val_loss: 0.0395 - val_rmse: 0.1989 - 202ms/epoch - 3ms/step\n",
      "Epoch 53/100\n",
      "61/61 - 0s - loss: 0.0037 - rmse: 0.0605 - val_loss: 0.0417 - val_rmse: 0.2042 - 229ms/epoch - 4ms/step\n",
      "Epoch 54/100\n",
      "61/61 - 0s - loss: 0.0035 - rmse: 0.0593 - val_loss: 0.0401 - val_rmse: 0.2003 - 208ms/epoch - 3ms/step\n",
      "Epoch 55/100\n",
      "61/61 - 0s - loss: 0.0037 - rmse: 0.0608 - val_loss: 0.0373 - val_rmse: 0.1931 - 228ms/epoch - 4ms/step\n",
      "Epoch 56/100\n",
      "61/61 - 0s - loss: 0.0038 - rmse: 0.0614 - val_loss: 0.0327 - val_rmse: 0.1808 - 178ms/epoch - 3ms/step\n",
      "Epoch 57/100\n",
      "61/61 - 0s - loss: 0.0036 - rmse: 0.0601 - val_loss: 0.0407 - val_rmse: 0.2017 - 221ms/epoch - 4ms/step\n",
      "Epoch 58/100\n",
      "61/61 - 0s - loss: 0.0036 - rmse: 0.0597 - val_loss: 0.0411 - val_rmse: 0.2028 - 186ms/epoch - 3ms/step\n",
      "Epoch 59/100\n",
      "61/61 - 0s - loss: 0.0037 - rmse: 0.0610 - val_loss: 0.0402 - val_rmse: 0.2004 - 236ms/epoch - 4ms/step\n",
      "Epoch 60/100\n",
      "61/61 - 0s - loss: 0.0037 - rmse: 0.0607 - val_loss: 0.0419 - val_rmse: 0.2047 - 216ms/epoch - 4ms/step\n",
      "Epoch 61/100\n",
      "61/61 - 0s - loss: 0.0035 - rmse: 0.0593 - val_loss: 0.0455 - val_rmse: 0.2133 - 232ms/epoch - 4ms/step\n",
      "Epoch 62/100\n",
      "61/61 - 0s - loss: 0.0036 - rmse: 0.0603 - val_loss: 0.0428 - val_rmse: 0.2068 - 167ms/epoch - 3ms/step\n",
      "Epoch 63/100\n",
      "61/61 - 0s - loss: 0.0038 - rmse: 0.0617 - val_loss: 0.0366 - val_rmse: 0.1913 - 207ms/epoch - 3ms/step\n",
      "Epoch 64/100\n",
      "61/61 - 0s - loss: 0.0038 - rmse: 0.0619 - val_loss: 0.0397 - val_rmse: 0.1994 - 218ms/epoch - 4ms/step\n",
      "Epoch 65/100\n",
      "61/61 - 0s - loss: 0.0038 - rmse: 0.0614 - val_loss: 0.0381 - val_rmse: 0.1951 - 251ms/epoch - 4ms/step\n",
      "Epoch 66/100\n",
      "61/61 - 0s - loss: 0.0032 - rmse: 0.0567 - val_loss: 0.0423 - val_rmse: 0.2056 - 175ms/epoch - 3ms/step\n",
      "Epoch 67/100\n",
      "61/61 - 0s - loss: 0.0035 - rmse: 0.0592 - val_loss: 0.0422 - val_rmse: 0.2055 - 184ms/epoch - 3ms/step\n",
      "Epoch 68/100\n",
      "61/61 - 0s - loss: 0.0035 - rmse: 0.0595 - val_loss: 0.0388 - val_rmse: 0.1970 - 211ms/epoch - 3ms/step\n",
      "Epoch 69/100\n",
      "61/61 - 0s - loss: 0.0037 - rmse: 0.0611 - val_loss: 0.0405 - val_rmse: 0.2012 - 256ms/epoch - 4ms/step\n",
      "Epoch 70/100\n",
      "61/61 - 0s - loss: 0.0037 - rmse: 0.0605 - val_loss: 0.0448 - val_rmse: 0.2117 - 204ms/epoch - 3ms/step\n",
      "Epoch 71/100\n",
      "61/61 - 0s - loss: 0.0036 - rmse: 0.0596 - val_loss: 0.0393 - val_rmse: 0.1982 - 204ms/epoch - 3ms/step\n",
      "Epoch 72/100\n",
      "61/61 - 0s - loss: 0.0037 - rmse: 0.0610 - val_loss: 0.0390 - val_rmse: 0.1974 - 201ms/epoch - 3ms/step\n",
      "Epoch 73/100\n",
      "61/61 - 0s - loss: 0.0038 - rmse: 0.0618 - val_loss: 0.0396 - val_rmse: 0.1990 - 205ms/epoch - 3ms/step\n",
      "Epoch 74/100\n",
      "61/61 - 0s - loss: 0.0035 - rmse: 0.0596 - val_loss: 0.0363 - val_rmse: 0.1905 - 204ms/epoch - 3ms/step\n",
      "Epoch 75/100\n",
      "61/61 - 0s - loss: 0.0037 - rmse: 0.0610 - val_loss: 0.0412 - val_rmse: 0.2030 - 211ms/epoch - 3ms/step\n",
      "Epoch 76/100\n",
      "61/61 - 0s - loss: 0.0036 - rmse: 0.0599 - val_loss: 0.0398 - val_rmse: 0.1994 - 201ms/epoch - 3ms/step\n",
      "Epoch 77/100\n",
      "61/61 - 0s - loss: 0.0037 - rmse: 0.0607 - val_loss: 0.0365 - val_rmse: 0.1910 - 115ms/epoch - 2ms/step\n",
      "Epoch 78/100\n",
      "61/61 - 0s - loss: 0.0035 - rmse: 0.0594 - val_loss: 0.0426 - val_rmse: 0.2064 - 208ms/epoch - 3ms/step\n",
      "Epoch 79/100\n",
      "61/61 - 0s - loss: 0.0038 - rmse: 0.0618 - val_loss: 0.0402 - val_rmse: 0.2006 - 157ms/epoch - 3ms/step\n",
      "Epoch 80/100\n",
      "61/61 - 0s - loss: 0.0038 - rmse: 0.0613 - val_loss: 0.0405 - val_rmse: 0.2011 - 216ms/epoch - 4ms/step\n",
      "Epoch 81/100\n",
      "61/61 - 0s - loss: 0.0038 - rmse: 0.0616 - val_loss: 0.0400 - val_rmse: 0.1999 - 202ms/epoch - 3ms/step\n",
      "Epoch 82/100\n",
      "61/61 - 0s - loss: 0.0036 - rmse: 0.0601 - val_loss: 0.0422 - val_rmse: 0.2054 - 191ms/epoch - 3ms/step\n",
      "Epoch 83/100\n",
      "61/61 - 0s - loss: 0.0034 - rmse: 0.0584 - val_loss: 0.0399 - val_rmse: 0.1996 - 205ms/epoch - 3ms/step\n",
      "Epoch 84/100\n",
      "61/61 - 0s - loss: 0.0036 - rmse: 0.0604 - val_loss: 0.0390 - val_rmse: 0.1974 - 259ms/epoch - 4ms/step\n",
      "Epoch 85/100\n",
      "61/61 - 0s - loss: 0.0037 - rmse: 0.0611 - val_loss: 0.0383 - val_rmse: 0.1957 - 202ms/epoch - 3ms/step\n",
      "Epoch 86/100\n",
      "61/61 - 0s - loss: 0.0038 - rmse: 0.0613 - val_loss: 0.0428 - val_rmse: 0.2069 - 199ms/epoch - 3ms/step\n",
      "Epoch 87/100\n",
      "61/61 - 0s - loss: 0.0036 - rmse: 0.0601 - val_loss: 0.0408 - val_rmse: 0.2020 - 203ms/epoch - 3ms/step\n",
      "Epoch 88/100\n",
      "61/61 - 0s - loss: 0.0037 - rmse: 0.0608 - val_loss: 0.0413 - val_rmse: 0.2032 - 196ms/epoch - 3ms/step\n",
      "Epoch 89/100\n",
      "61/61 - 0s - loss: 0.0037 - rmse: 0.0605 - val_loss: 0.0398 - val_rmse: 0.1995 - 190ms/epoch - 3ms/step\n",
      "Epoch 90/100\n",
      "61/61 - 0s - loss: 0.0034 - rmse: 0.0586 - val_loss: 0.0457 - val_rmse: 0.2138 - 200ms/epoch - 3ms/step\n",
      "Epoch 91/100\n",
      "61/61 - 0s - loss: 0.0036 - rmse: 0.0599 - val_loss: 0.0448 - val_rmse: 0.2117 - 203ms/epoch - 3ms/step\n",
      "Epoch 92/100\n",
      "61/61 - 0s - loss: 0.0035 - rmse: 0.0591 - val_loss: 0.0420 - val_rmse: 0.2049 - 217ms/epoch - 4ms/step\n",
      "Epoch 93/100\n",
      "61/61 - 0s - loss: 0.0037 - rmse: 0.0612 - val_loss: 0.0465 - val_rmse: 0.2156 - 209ms/epoch - 3ms/step\n",
      "Epoch 94/100\n",
      "61/61 - 0s - loss: 0.0036 - rmse: 0.0597 - val_loss: 0.0456 - val_rmse: 0.2135 - 191ms/epoch - 3ms/step\n",
      "Epoch 95/100\n",
      "61/61 - 0s - loss: 0.0037 - rmse: 0.0609 - val_loss: 0.0421 - val_rmse: 0.2052 - 168ms/epoch - 3ms/step\n",
      "Epoch 96/100\n",
      "61/61 - 0s - loss: 0.0035 - rmse: 0.0594 - val_loss: 0.0451 - val_rmse: 0.2125 - 178ms/epoch - 3ms/step\n",
      "Epoch 97/100\n",
      "61/61 - 0s - loss: 0.0036 - rmse: 0.0601 - val_loss: 0.0450 - val_rmse: 0.2122 - 214ms/epoch - 4ms/step\n",
      "Epoch 98/100\n",
      "61/61 - 0s - loss: 0.0035 - rmse: 0.0593 - val_loss: 0.0420 - val_rmse: 0.2049 - 199ms/epoch - 3ms/step\n",
      "Epoch 99/100\n",
      "61/61 - 0s - loss: 0.0036 - rmse: 0.0599 - val_loss: 0.0385 - val_rmse: 0.1962 - 197ms/epoch - 3ms/step\n",
      "Epoch 100/100\n",
      "61/61 - 0s - loss: 0.0038 - rmse: 0.0617 - val_loss: 0.0429 - val_rmse: 0.2072 - 210ms/epoch - 3ms/step\n"
     ]
    }
   ],
   "source": [
    "model1.compile(loss='mse', optimizer=opt, metrics=[tf.keras.metrics.RootMeanSquaredError(name='rmse')])\n",
    "\n",
    "rmseplot = model1.fit(x_train, y_train, epochs = 100, batch_size=64, verbose=2, validation_data=(x_test, y_test))"
   ]
  },
  {
   "cell_type": "code",
   "execution_count": 27,
   "id": "891decaf",
   "metadata": {
    "id": "891decaf",
    "outputId": "48cd46f8-a332-4750-8197-e9097980a84e"
   },
   "outputs": [
    {
     "name": "stdout",
     "output_type": "stream",
     "text": [
      "122/122 - 0s - loss: 9.5639e-04 - rmse: 0.0309 - 171ms/epoch - 1ms/step\n",
      "Train Accuracy: 0.030925557017326355\n"
     ]
    }
   ],
   "source": [
    "score = model1.evaluate(x_train, y_train, batch_size = 32, verbose = 2)\n",
    "print('Train Accuracy:', score[1])"
   ]
  },
  {
   "cell_type": "markdown",
   "id": "f56484d9",
   "metadata": {
    "id": "f56484d9"
   },
   "source": [
    "# Tuning Test"
   ]
  },
  {
   "cell_type": "markdown",
   "id": "ce261b15",
   "metadata": {
    "id": "ce261b15"
   },
   "source": [
    "Membuat tuning test dari hasil model yang telah dibuat dengan menggunakan perbandingan yang lainnya"
   ]
  },
  {
   "cell_type": "code",
   "execution_count": 28,
   "id": "5323a006",
   "metadata": {
    "id": "5323a006",
    "outputId": "c5c2f796-a524-462b-e35b-1e5864dcbaab"
   },
   "outputs": [
    {
     "name": "stdout",
     "output_type": "stream",
     "text": [
      "Shape x_train: (3882, 1, 15)\n",
      "Shape y_train: (3882,)\n",
      "Timesteps: 1\n",
      "Features: 15\n"
     ]
    }
   ],
   "source": [
    "print(\"Shape x_train:\", x_train.shape)\n",
    "# Output: (jumlah_sampel, timesteps, features)\n",
    "\n",
    "# Misalkan y_train adalah dataset target\n",
    "print(\"Shape y_train:\", y_train.shape)\n",
    "# Output: (jumlah_sampel,)\n",
    "\n",
    "# Ambil nilai timesteps dari x_train\n",
    "timesteps = x_train.shape[1]\n",
    "print(\"Timesteps:\", timesteps)\n",
    "\n",
    "# Ambil nilai features dari x_train\n",
    "features = x_train.shape[2]\n",
    "print(\"Features:\", features)\n"
   ]
  },
  {
   "cell_type": "code",
   "execution_count": 29,
   "id": "9d0c1641",
   "metadata": {
    "id": "9d0c1641",
    "outputId": "02b0da00-211c-4573-94d2-e732c2f52215"
   },
   "outputs": [
    {
     "name": "stderr",
     "output_type": "stream",
     "text": [
      "C:\\Users\\Alfaisal\\AppData\\Local\\Temp\\ipykernel_15684\\3761055048.py:20: DeprecationWarning: KerasClassifier is deprecated, use Sci-Keras (https://github.com/adriangb/scikeras) instead. See https://www.adriangb.com/scikeras/stable/migration.html for help migrating.\n",
      "  model = KerasClassifier(build_fn=create_model)\n"
     ]
    },
    {
     "name": "stdout",
     "output_type": "stream",
     "text": [
      "98/98 [==============================] - 3s 3ms/step - loss: 4240.4497 - accuracy: 6.4412e-04\n",
      "25/25 [==============================] - 1s 2ms/step - loss: 52.6275 - accuracy: 0.6847\n",
      "98/98 [==============================] - 3s 2ms/step - loss: 4590.5645 - accuracy: 0.0019\n",
      "25/25 [==============================] - 1s 2ms/step - loss: 2102.1804 - accuracy: 0.0000e+00\n",
      "98/98 [==============================] - 3s 2ms/step - loss: -1938.9158 - accuracy: 0.0019\n",
      "25/25 [==============================] - 1s 2ms/step - loss: -1569.1714 - accuracy: 0.0000e+00\n",
      "98/98 [==============================] - 3s 2ms/step - loss: 4024.3613 - accuracy: 0.0019\n",
      "25/25 [==============================] - 1s 2ms/step - loss: 5091.7832 - accuracy: 0.0000e+00\n",
      "98/98 [==============================] - 2s 2ms/step - loss: 623.3331 - accuracy: 0.0019\n",
      "25/25 [==============================] - 1s 1ms/step - loss: -2016.5720 - accuracy: 0.0000e+00\n",
      "98/98 [==============================] - 3s 4ms/step - loss: -1896.6583 - accuracy: 6.4412e-04\n",
      "25/25 [==============================] - 1s 1ms/step - loss: 1.3348 - accuracy: 0.6847\n",
      "98/98 [==============================] - 3s 4ms/step - loss: -22.5812 - accuracy: 0.0019\n",
      "25/25 [==============================] - 1s 2ms/step - loss: 121.7959 - accuracy: 0.0000e+00\n",
      "98/98 [==============================] - 3s 3ms/step - loss: -1993.2561 - accuracy: 0.0019\n",
      "25/25 [==============================] - 1s 2ms/step - loss: -1618.6919 - accuracy: 0.0000e+00\n",
      "98/98 [==============================] - 3s 3ms/step - loss: 4024.3616 - accuracy: 0.0019\n",
      "25/25 [==============================] - 1s 2ms/step - loss: 5091.7832 - accuracy: 0.0000e+00\n",
      "98/98 [==============================] - 2s 2ms/step - loss: 1077.6044 - accuracy: 0.0019\n",
      "25/25 [==============================] - 1s 2ms/step - loss: -2493.7505 - accuracy: 0.0000e+00\n",
      "98/98 [==============================] - 3s 7ms/step - loss: -2405.7468 - accuracy: 0.0000e+00\n",
      "25/25 [==============================] - 0s 2ms/step - loss: -0.6202 - accuracy: 0.5946\n",
      "98/98 [==============================] - 3s 5ms/step - loss: 4590.5645 - accuracy: 0.0019\n",
      "25/25 [==============================] - 1s 3ms/step - loss: 2102.1804 - accuracy: 0.0000e+00\n",
      "98/98 [==============================] - 3s 6ms/step - loss: 4739.7168 - accuracy: 0.0019\n",
      "25/25 [==============================] - 1s 2ms/step - loss: 3859.7759 - accuracy: 0.0000e+00\n",
      "98/98 [==============================] - 3s 6ms/step - loss: -1112.5107 - accuracy: 0.0019\n",
      "25/25 [==============================] - 1s 2ms/step - loss: -4122.2305 - accuracy: 0.0000e+00\n",
      "98/98 [==============================] - 3s 6ms/step - loss: -920.1307 - accuracy: 0.0019\n",
      "25/25 [==============================] - 1s 2ms/step - loss: -7751.2695 - accuracy: 0.0000e+00\n",
      "98/98 [==============================] - 2s 2ms/step - loss: 4240.4497 - accuracy: 6.4412e-04\n",
      "25/25 [==============================] - 1s 1ms/step - loss: 52.6275 - accuracy: 0.6847\n",
      "98/98 [==============================] - 2s 2ms/step - loss: -1769.4531 - accuracy: 0.0019\n",
      "25/25 [==============================] - 1s 2ms/step - loss: -11.8006 - accuracy: 0.0000e+00\n",
      "98/98 [==============================] - 3s 2ms/step - loss: -1693.2924 - accuracy: 0.0019\n",
      "25/25 [==============================] - 0s 1ms/step - loss: -551.4132 - accuracy: 0.0000e+00\n",
      "98/98 [==============================] - 2s 3ms/step - loss: 4024.3618 - accuracy: 0.0019\n",
      "25/25 [==============================] - 1s 1ms/step - loss: 5091.7832 - accuracy: 0.0000e+00\n",
      "98/98 [==============================] - 2s 2ms/step - loss: -73.4556 - accuracy: 0.0019\n",
      "25/25 [==============================] - 0s 2ms/step - loss: -7751.2695 - accuracy: 0.0000e+00\n",
      "98/98 [==============================] - 2s 3ms/step - loss: 4240.4497 - accuracy: 6.4412e-04\n",
      "25/25 [==============================] - 1s 2ms/step - loss: 52.6275 - accuracy: 0.6847\n",
      "98/98 [==============================] - 3s 3ms/step - loss: 4590.5640 - accuracy: 0.0019\n",
      "25/25 [==============================] - 1s 2ms/step - loss: 2102.1804 - accuracy: 0.0000e+00\n",
      "98/98 [==============================] - 3s 3ms/step - loss: -1957.7328 - accuracy: 0.0019\n",
      "25/25 [==============================] - 1s 2ms/step - loss: -1690.7893 - accuracy: 0.0000e+00\n",
      "98/98 [==============================] - 2s 3ms/step - loss: -1358.7051 - accuracy: 0.0019\n",
      "25/25 [==============================] - 1s 2ms/step - loss: -5018.5327 - accuracy: 0.0000e+00\n",
      "98/98 [==============================] - 3s 4ms/step - loss: -478.4245 - accuracy: 0.0019\n",
      "25/25 [==============================] - 1s 2ms/step - loss: -7751.2695 - accuracy: 0.0000e+00\n",
      "98/98 [==============================] - 3s 7ms/step - loss: -1725.4456 - accuracy: 6.4412e-04\n",
      "25/25 [==============================] - 1s 3ms/step - loss: 4.0763 - accuracy: 0.6847\n",
      "98/98 [==============================] - 3s 6ms/step - loss: -2537.2803 - accuracy: 0.0019\n",
      "25/25 [==============================] - 1s 3ms/step - loss: -334.7618 - accuracy: 0.0000e+00\n",
      "98/98 [==============================] - 3s 5ms/step - loss: -709.7411 - accuracy: 0.0019\n",
      "25/25 [==============================] - 1s 2ms/step - loss: -407.1344 - accuracy: 0.0000e+00\n",
      "98/98 [==============================] - 3s 6ms/step - loss: -1919.4135 - accuracy: 0.0026\n",
      "25/25 [==============================] - 1s 2ms/step - loss: -5018.5327 - accuracy: 0.0000e+00\n",
      "98/98 [==============================] - 3s 6ms/step - loss: -1304.8512 - accuracy: 0.0019\n",
      "25/25 [==============================] - 1s 2ms/step - loss: -7751.2695 - accuracy: 0.0000e+00\n",
      "98/98 [==============================] - 2s 2ms/step - loss: -3183.4473 - accuracy: 6.4412e-04\n",
      "25/25 [==============================] - 0s 2ms/step - loss: -36.7787 - accuracy: 0.0335\n",
      "98/98 [==============================] - 2s 2ms/step - loss: 4590.5645 - accuracy: 0.0019\n",
      "25/25 [==============================] - 0s 1ms/step - loss: 2102.1804 - accuracy: 0.0000e+00\n",
      "98/98 [==============================] - 2s 2ms/step - loss: 4739.7153 - accuracy: 0.0019\n",
      "25/25 [==============================] - 0s 2ms/step - loss: 3859.7759 - accuracy: 0.0000e+00\n",
      "98/98 [==============================] - 1s 2ms/step - loss: 4024.3628 - accuracy: 0.0019\n",
      "25/25 [==============================] - 0s 2ms/step - loss: 5091.7832 - accuracy: 0.0000e+00\n",
      "98/98 [==============================] - 2s 2ms/step - loss: 3569.9719 - accuracy: 0.0019\n",
      "25/25 [==============================] - 0s 1ms/step - loss: 7856.0088 - accuracy: 0.0000e+00\n",
      "98/98 [==============================] - 2s 3ms/step - loss: -3529.5623 - accuracy: 3.2206e-04\n",
      "25/25 [==============================] - 0s 2ms/step - loss: -36.7787 - accuracy: 0.0335\n",
      "98/98 [==============================] - 2s 3ms/step - loss: -3629.3281 - accuracy: 0.0013\n",
      "25/25 [==============================] - 0s 2ms/step - loss: -2062.9846 - accuracy: 0.0000e+00\n",
      "98/98 [==============================] - 2s 3ms/step - loss: -4202.2236 - accuracy: 0.0019\n",
      "25/25 [==============================] - 0s 2ms/step - loss: -3800.5583 - accuracy: 0.0000e+00\n",
      "98/98 [==============================] - 2s 4ms/step - loss: -3170.6882 - accuracy: 0.0026\n",
      "25/25 [==============================] - 0s 2ms/step - loss: -5018.5327 - accuracy: 0.0000e+00\n",
      "98/98 [==============================] - 2s 4ms/step - loss: -2662.5110 - accuracy: 0.0019\n",
      "25/25 [==============================] - 0s 2ms/step - loss: -7751.2695 - accuracy: 0.0000e+00\n",
      "98/98 [==============================] - 2s 7ms/step - loss: 4240.4497 - accuracy: 6.4412e-04\n",
      "25/25 [==============================] - 0s 3ms/step - loss: 52.6275 - accuracy: 0.6847\n",
      "98/98 [==============================] - 2s 8ms/step - loss: 4590.5640 - accuracy: 0.0019\n",
      "25/25 [==============================] - 0s 3ms/step - loss: 2102.1804 - accuracy: 0.0000e+00\n",
      "98/98 [==============================] - 2s 6ms/step - loss: 4739.7139 - accuracy: 0.0019\n",
      "25/25 [==============================] - 0s 2ms/step - loss: 3859.7759 - accuracy: 0.0000e+00\n",
      "98/98 [==============================] - 2s 6ms/step - loss: 4024.3618 - accuracy: 0.0019\n",
      "25/25 [==============================] - 0s 2ms/step - loss: 5091.7832 - accuracy: 0.0000e+00\n",
      "98/98 [==============================] - 2s 5ms/step - loss: -3190.6523 - accuracy: 0.0019\n",
      "25/25 [==============================] - 1s 2ms/step - loss: -7751.2695 - accuracy: 0.0000e+00\n",
      "98/98 [==============================] - 2s 2ms/step - loss: -3522.9919 - accuracy: 3.2206e-04\n",
      "25/25 [==============================] - 0s 1ms/step - loss: -36.7787 - accuracy: 0.0335\n",
      "98/98 [==============================] - 2s 2ms/step - loss: -3539.4822 - accuracy: 0.0013\n",
      "25/25 [==============================] - 0s 2ms/step - loss: -2062.9846 - accuracy: 0.0000e+00\n",
      "98/98 [==============================] - 2s 3ms/step - loss: 4739.7148 - accuracy: 0.0019\n",
      "25/25 [==============================] - 0s 2ms/step - loss: 3859.7759 - accuracy: 0.0000e+00\n",
      "98/98 [==============================] - 2s 2ms/step - loss: -3963.2698 - accuracy: 0.0019\n",
      "25/25 [==============================] - 0s 1ms/step - loss: -5018.5327 - accuracy: 0.0000e+00\n",
      "98/98 [==============================] - 2s 2ms/step - loss: 3569.9724 - accuracy: 0.0019\n",
      "25/25 [==============================] - 0s 1ms/step - loss: 7856.0088 - accuracy: 0.0000e+00\n",
      "98/98 [==============================] - 2s 4ms/step - loss: -3972.2803 - accuracy: 3.2206e-04\n",
      "25/25 [==============================] - 0s 2ms/step - loss: -36.7787 - accuracy: 0.0335\n",
      "98/98 [==============================] - 2s 3ms/step - loss: -3622.3271 - accuracy: 0.0019\n",
      "25/25 [==============================] - 0s 2ms/step - loss: -2062.9846 - accuracy: 0.0000e+00\n",
      "98/98 [==============================] - 2s 3ms/step - loss: -4421.0684 - accuracy: 0.0019\n",
      "25/25 [==============================] - 0s 2ms/step - loss: -3800.5583 - accuracy: 0.0000e+00\n",
      "98/98 [==============================] - 2s 3ms/step - loss: 4024.3628 - accuracy: 0.0019\n",
      "25/25 [==============================] - 1s 2ms/step - loss: 5091.7832 - accuracy: 0.0000e+00\n",
      "98/98 [==============================] - 2s 3ms/step - loss: 3569.9714 - accuracy: 0.0019\n",
      "25/25 [==============================] - 0s 2ms/step - loss: 7856.0088 - accuracy: 0.0000e+00\n",
      "98/98 [==============================] - 2s 8ms/step - loss: 4240.4497 - accuracy: 6.4412e-04\n",
      "25/25 [==============================] - 0s 3ms/step - loss: 52.6275 - accuracy: 0.6847\n",
      "98/98 [==============================] - 2s 6ms/step - loss: 4590.5640 - accuracy: 0.0019\n",
      "25/25 [==============================] - 0s 3ms/step - loss: 2102.1804 - accuracy: 0.0000e+00\n",
      "98/98 [==============================] - 2s 7ms/step - loss: -4383.1304 - accuracy: 0.0019\n",
      "25/25 [==============================] - 0s 2ms/step - loss: -3800.5583 - accuracy: 0.0000e+00\n",
      "98/98 [==============================] - 2s 7ms/step - loss: 4024.3623 - accuracy: 0.0019\n",
      "25/25 [==============================] - 0s 3ms/step - loss: 5091.7832 - accuracy: 0.0000e+00\n",
      "98/98 [==============================] - 2s 6ms/step - loss: -3420.1604 - accuracy: 0.0019\n",
      "25/25 [==============================] - 0s 3ms/step - loss: -7751.2695 - accuracy: 0.0000e+00\n",
      "122/122 [==============================] - 2s 3ms/step - loss: -1847.3347 - accuracy: 0.0015\n",
      "Parameter terbaik: {'activation': 'tanh', 'optimizer': 'adam', 'units': 50}\n",
      "Skor akurasi terbaik: 0.1369369387626648\n"
     ]
    }
   ],
   "source": [
    "import numpy as np\n",
    "from sklearn.model_selection import GridSearchCV\n",
    "from keras.models import Sequential\n",
    "from keras.layers import LSTM, Dense\n",
    "from keras.wrappers.scikit_learn import KerasClassifier\n",
    "\n",
    "# Placeholder values for timesteps and features\n",
    "timesteps = 1\n",
    "features = 15\n",
    "\n",
    "# Fungsi untuk membuat model LSTM\n",
    "def create_model(units=50, activation='tanh', optimizer='opt'):\n",
    "    model = Sequential()\n",
    "    model.add(LSTM(units=units, activation=activation, input_shape=(timesteps, features)))\n",
    "    model.add(Dense(1))\n",
    "    model.compile(loss='binary_crossentropy', optimizer=optimizer, metrics=['accuracy'])\n",
    "    return model\n",
    "\n",
    "# Membuat objek KerasClassifier\n",
    "model = KerasClassifier(build_fn=create_model)\n",
    "\n",
    "# Mendefinisikan hyperparameter yang ingin diuji\n",
    "param_grid = {\n",
    "    'units': [50, 100, 200],\n",
    "    'activation': ['tanh', 'sigmoid'],\n",
    "    'optimizer': ['adam', 'rmsprop']\n",
    "}\n",
    "\n",
    "# Membuat objek GridSearchCV\n",
    "grid_search = GridSearchCV(estimator=model, param_grid=param_grid, cv=5)\n",
    "\n",
    "# Melakukan proses tuning dengan fit\n",
    "grid_search.fit(x_train, y_train)\n",
    "\n",
    "# Menampilkan parameter terbaik\n",
    "print(\"Parameter terbaik:\", grid_search.best_params_)\n",
    "\n",
    "# Menampilkan skor akurasi terbaik\n",
    "print(\"Skor akurasi terbaik:\", grid_search.best_score_)"
   ]
  },
  {
   "cell_type": "markdown",
   "id": "a6852ce5",
   "metadata": {
    "id": "a6852ce5"
   },
   "source": [
    "# Visualisasi Model LSTM"
   ]
  },
  {
   "cell_type": "code",
   "execution_count": 30,
   "id": "4f8b19c5",
   "metadata": {
    "id": "4f8b19c5",
    "outputId": "0465e7ca-def2-46ce-fec2-58785ccaa5e5"
   },
   "outputs": [
    {
     "name": "stdout",
     "output_type": "stream",
     "text": [
      "122/122 [==============================] - 1s 1ms/step\n",
      "30/30 [==============================] - 0s 1ms/step\n",
      "Train score: 0.26 RMSE\n",
      "Test score: 0.11 RMSE\n",
      "Train score: 0.07 MSE\n",
      "Train score: 0.01 MSE\n"
     ]
    }
   ],
   "source": [
    "train_predict = model1.predict(x_train)\n",
    "test_predict = model1.predict(x_test)\n",
    "\n",
    "\n",
    "# #invert prediksi\n",
    "\n",
    "train_predict = min_max_scaler.fit_transform(train_predict)\n",
    "y_train = min_max_scaler.inverse_transform([y_train])\n",
    "\n",
    "test_predict = min_max_scaler.inverse_transform(test_predict)\n",
    "y_test = min_max_scaler.inverse_transform([y_test])\n",
    "\n",
    "#kalkulasi untuk root mean squared error\n",
    "\n",
    "train_score = math.sqrt(mean_squared_error(y_train[0], train_predict[:,0]))\n",
    "print('Train score: %.2f RMSE' % (train_score))\n",
    "\n",
    "test_score = math.sqrt(mean_squared_error(y_test[0], test_predict[:,0]))\n",
    "print('Test score: %.2f RMSE' % (test_score))\n",
    "\n",
    "#hitung MSE\n",
    "train_score1 = mean_squared_error(y_train[0], train_predict[:,0])\n",
    "print('Train score: %.2f MSE' % (train_score1))\n",
    "\n",
    "test_score1 = mean_squared_error(y_test[0], test_predict[:,0])\n",
    "print('Train score: %.2f MSE' % (test_score1))"
   ]
  },
  {
   "cell_type": "code",
   "execution_count": 31,
   "id": "6095c982",
   "metadata": {
    "id": "6095c982",
    "outputId": "8908b857-b086-444b-9556-a07d56fb2e06"
   },
   "outputs": [
    {
     "data": {
      "image/png": "[encoded data removed]",
      "text/plain": [
       "<Figure size 1500x800 with 1 Axes>"
      ]
     },
     "metadata": {},
     "output_type": "display_data"
    }
   ],
   "source": [
    "#plotting untuk train prediction\n",
    "train_predict_plot = np.empty_like(dataset)\n",
    "train_predict_plot[:, :] = np.nan\n",
    "train_predict_plot[look_back:len(train_predict)+look_back, :] = train_predict\n",
    "\n",
    "# plotting untuk test prediction\n",
    "test_predict_plot = np.empty_like(dataset)\n",
    "test_predict_plot[:, :] = np.nan\n",
    "test_predict_plot[len(train_predict)+(look_back*2)+1:len(dataset)-1, :] = test_predict\n",
    "\n",
    "#plot\n",
    "plt.figure(figsize=(15, 8))\n",
    "plt.plot(min_max_scaler.inverse_transform(dataset), color='r', label='Real data')\n",
    "plt.plot(train_predict_plot, color='b', label='Predicted Train')\n",
    "plt.plot(test_predict_plot, color='black', label = 'Predicted Test')\n",
    "plt.xticks(size=15)\n",
    "plt.yticks(size=15)\n",
    "plt.xlabel(\"Jumlah per hari\", size=15)\n",
    "plt.ylabel(\"Jumlah total konfirmasi\", size=15)\n",
    "plt.legend(loc='best')\n",
    "plt.show()"
   ]
  },
  {
   "cell_type": "markdown",
   "id": "8a80bd50",
   "metadata": {
    "id": "8a80bd50"
   },
   "source": [
    "# Kesimpulan"
   ]
  },
  {
   "cell_type": "markdown",
   "id": "c449671e",
   "metadata": {
    "id": "c449671e"
   },
   "source": [
    "Untuk memprediksi saham, kami menggunakan dataset saham BBCA dari Yahoo Finance. Kami menggunakan algoritma LSTM untuk melakukan prediksi ini. Pada bagian awal, kami membuat visualisasi data dengan beberapa kolom, yaitu High, Open, Low, dan Close, tetapi kami hanya menggunakan kolom High. Setelah itu, kami membuat visualisasi antara data train dan test dari kolom High, dan kami melakukan scaling. Selain itu, kami menggunakan epochs:100 dan validasi datanya menggunakan tes X dan Y. Evaluasi model menghasilkan akurasi pelatihan sebesar 0.007017217110842466. Kami juga melakukan tuning test untuk menentukan parameter mana yang terbaik, meskipun masih rendah. Dan setelah tuning test selesai, parameter yang paling cocok untuk digunakan adalah tunh. Anda dapat membuat visualisasi model lstm dengan melakukan kalkulasi kesalahan rata-rata sederhana. Membuat plot untuk melihat visualisasi dari data asli dan data model lstm yang telah dibuat; secara keseluruhan, outputnya tidak mencapai 0, tetapi setidaknya menurut kami itu cukup baik karena perbedaannya tidak terlalu jauh untuk mendekati nol. Kami menemukan bahwa visualisasi tersebut membuat visualisasi MSE dan RMSE pada setiap waktu, yang berarti bahwa data yang dihasilkan tidak terlalu overfitting. Kami percaya bahwa, karena menghasilkan data yang baik, LSTM juga cukup baik digunakan untuk penerapan. Melakukan tuning test juga dapat digunakan untuk menentukan apakah model yang digunakan sesuai untuk digunakan, meskipun masih ada beberapa output yang belum sepenuhnya memenuhi."
   ]
  }
 ],
 "metadata": {
  "colab": {
   "provenance": []
  },
  "kernelspec": {
   "display_name": "Python 3 (ipykernel)",
   "language": "python",
   "name": "python3"
  },
  "language_info": {
   "codemirror_mode": {
    "name": "ipython",
    "version": 3
   },
   "file_extension": ".py",
   "mimetype": "text/x-python",
   "name": "python",
   "nbconvert_exporter": "python",
   "pygments_lexer": "ipython3",
   "version": "3.11.7"
  }
 },
 "nbformat": 4,
 "nbformat_minor": 5
}
